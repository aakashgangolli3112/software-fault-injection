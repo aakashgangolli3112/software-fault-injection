{
 "cells": [
  {
   "cell_type": "markdown",
   "id": "35767d7a",
   "metadata": {},
   "source": [
    "# Stage 1:"
   ]
  },
  {
   "cell_type": "markdown",
   "id": "006d6dcf",
   "metadata": {},
   "source": [
    "## Unsupervised clustering to create a model that labels the output logs:\n",
    "\n",
    "Uses the data with software fault injection - FLP and NOP"
   ]
  },
  {
   "cell_type": "code",
   "execution_count": 147,
   "id": "a866c8cb",
   "metadata": {},
   "outputs": [],
   "source": [
    "from time import time\n",
    "import os, random, math\n",
    "from itertools import permutations\n",
    "\n",
    "import numpy as np\n",
    "\n",
    "import pandas as pd\n",
    "\n",
    "import scipy as sp\n",
    "import scipy.stats as stats\n",
    "from scipy.stats import spearmanr\n",
    "\n",
    "from pypair.association import binary_continuous\n",
    "\n",
    "from gensim import utils\n",
    "import gensim.parsing.preprocessing as gsp\n",
    "\n",
    "from sklearn.inspection import permutation_importance\n",
    "from sklearn.feature_selection import SelectKBest\n",
    "from sklearn.feature_selection import chi2\n",
    "from sklearn.feature_selection import mutual_info_classif\n",
    "from sklearn.preprocessing import StandardScaler\n",
    "from sklearn.preprocessing import LabelEncoder\n",
    "from sklearn.model_selection import train_test_split\n",
    "from sklearn.model_selection import RandomizedSearchCV\n",
    "from sklearn.model_selection import GridSearchCV\n",
    "from sklearn.model_selection import KFold\n",
    "from sklearn.model_selection import StratifiedKFold\n",
    "from sklearn.model_selection import cross_val_score\n",
    "from sklearn.model_selection import cross_validate\n",
    "from sklearn.model_selection import cross_val_predict\n",
    "from sklearn.dummy import DummyClassifier\n",
    "from sklearn import metrics\n",
    "from sklearn.metrics import accuracy_score\n",
    "from sklearn.metrics import precision_score\n",
    "from sklearn.metrics import recall_score\n",
    "from sklearn.metrics import f1_score\n",
    "from sklearn.metrics import confusion_matrix\n",
    "from sklearn.metrics import classification_report\n",
    "from sklearn.metrics import make_scorer\n",
    "from sklearn.feature_extraction.text import TfidfVectorizer\n",
    "from sklearn.cluster import KMeans\n",
    "from sklearn.pipeline import make_pipeline\n",
    "from sklearn.neighbors import KNeighborsClassifier\n",
    "from sklearn.ensemble import RandomForestClassifier\n",
    "from sklearn.linear_model import LogisticRegression\n",
    "from mixed_naive_bayes import MixedNB\n",
    "\n",
    "from xgboost import XGBClassifier\n",
    "\n",
    "import matplotlib.pyplot as plt\n",
    "\n",
    "import seaborn as sns\n",
    "\n",
    "import pickle\n",
    "import json"
   ]
  },
  {
   "cell_type": "code",
   "execution_count": 148,
   "id": "429c6f9b",
   "metadata": {},
   "outputs": [],
   "source": [
    "path = \"Sklearn Models/\""
   ]
  },
  {
   "cell_type": "code",
   "execution_count": 149,
   "id": "477b62bb",
   "metadata": {},
   "outputs": [],
   "source": [
    "filters = [\n",
    "           gsp.strip_tags, \n",
    "           #gsp.strip_punctuation,\n",
    "           gsp.strip_multiple_whitespaces,\n",
    "           gsp.strip_numeric,\n",
    "           gsp.remove_stopwords, \n",
    "           gsp.strip_short, \n",
    "           gsp.stem_text\n",
    "          ]"
   ]
  },
  {
   "cell_type": "code",
   "execution_count": 150,
   "id": "2804218a",
   "metadata": {},
   "outputs": [],
   "source": [
    "def clean_text(s):\n",
    "    s = s.lower()\n",
    "    s = utils.to_unicode(s)\n",
    "    s = s.replace(\"\\\\n\", \"\")\n",
    "    for f in filters:\n",
    "        s = f(s)\n",
    "    return s"
   ]
  },
  {
   "cell_type": "code",
   "execution_count": 152,
   "id": "4a011320",
   "metadata": {},
   "outputs": [],
   "source": [
    "nop_fault_data = pd.read_csv(\"NovaHomeDaemon_nop_run_all_faulty_executables_random_input.csv\")\n",
    "flp_fault_data = pd.read_csv(\"NovaHomeDaemon_flp_run_all_faulty_executables_random_input.csv\")\n",
    "none_fault_data = pd.read_csv(\"NovaHomeDaemon_none.csv\")"
   ]
  },
  {
   "cell_type": "code",
   "execution_count": 153,
   "id": "678aebf3",
   "metadata": {},
   "outputs": [],
   "source": [
    "frames = [nop_fault_data, flp_fault_data[0:50000], none_fault_data[0:50000]]\n",
    "total_data = pd.concat(frames, ignore_index=True)"
   ]
  },
  {
   "cell_type": "code",
   "execution_count": 154,
   "id": "421107d1",
   "metadata": {},
   "outputs": [
    {
     "name": "stdout",
     "output_type": "stream",
     "text": [
      "Size of total data: 116902\n",
      "Size of FLP data: 50000 with 42.771%\n",
      "Size of NOP data: 16902 with 14.458%\n",
      "Size of NONE data: 50000 with 42.771%\n"
     ]
    }
   ],
   "source": [
    "total_size = total_data.shape[0]\n",
    "print(\"Size of total data: %i\" %(total_size))\n",
    "\n",
    "flp_size = total_data[total_data[\"Fault_Type\"] == \"FLP\"].shape[0]\n",
    "print(\"Size of FLP data: %i with %.3f%%\" \n",
    "      %(flp_size, flp_size/total_size * 100))\n",
    "\n",
    "nop_size = total_data[total_data[\"Fault_Type\"] == \"NOP\"].shape[0]\n",
    "print(\"Size of NOP data: %i with %.3f%%\" \n",
    "      %(nop_size, nop_size/total_size * 100))\n",
    "\n",
    "none_size = total_data[total_data[\"Fault_Type\"] == \"NONE\"].shape[0]\n",
    "print(\"Size of NONE data: %i with %.3f%%\" \n",
    "      %(none_size, none_size/total_size * 100))"
   ]
  },
  {
   "cell_type": "code",
   "execution_count": 155,
   "id": "5c316861",
   "metadata": {},
   "outputs": [],
   "source": [
    "X_train_label, X_test_label = train_test_split(total_data, random_state = 0)"
   ]
  },
  {
   "cell_type": "code",
   "execution_count": null,
   "id": "037ab944",
   "metadata": {},
   "outputs": [],
   "source": [
    "X_train_label['Output'] = X_train_label['Output'].map(lambda x: clean_text(x))"
   ]
  },
  {
   "cell_type": "code",
   "execution_count": 624,
   "id": "06758836",
   "metadata": {},
   "outputs": [],
   "source": [
    "vectorizer_output = TfidfVectorizer()\n",
    "X_train_vec_output = vectorizer_output.fit_transform(X_train_label['Output'])"
   ]
  },
  {
   "cell_type": "code",
   "execution_count": 625,
   "id": "933c071f",
   "metadata": {},
   "outputs": [
    {
     "data": {
      "text/plain": [
       "KMeans(init='random', max_iter=100, n_clusters=4, n_init=5)"
      ]
     },
     "execution_count": 625,
     "metadata": {},
     "output_type": "execute_result"
    }
   ],
   "source": [
    "true_k = 8\n",
    "model_log = KMeans(n_clusters=true_k, init='random', max_iter=100, n_init=5)\n",
    "model_log.fit(X_train_vec_output)"
   ]
  },
  {
   "cell_type": "code",
   "execution_count": 628,
   "id": "0e57757c",
   "metadata": {},
   "outputs": [],
   "source": [
    "predicted_log_label = model_log.predict(vectorizer_output.transform(total_data['Output'].map(lambda x: clean_text(x))))\n",
    "total_data['Label_Log'] = predicted_log_label\n",
    "total_data.to_csv('clusters.csv')"
   ]
  },
  {
   "cell_type": "markdown",
   "id": "ff09a779",
   "metadata": {},
   "source": [
    "## Unsupervised clustering to create a model that labels the error logs:\n",
    "\n",
    "Uses the data with software fault injection - FLP and NOP"
   ]
  },
  {
   "cell_type": "code",
   "execution_count": 159,
   "id": "eeb0d4f3",
   "metadata": {},
   "outputs": [],
   "source": [
    "X_train_label['Error'] = X_train_label['Error'].map(lambda x: clean_text(x))"
   ]
  },
  {
   "cell_type": "code",
   "execution_count": 160,
   "id": "9a9a182f",
   "metadata": {},
   "outputs": [],
   "source": [
    "vectorizer_error = TfidfVectorizer()\n",
    "X_train_vec_error = vectorizer_error.fit_transform(X_train_label['Error'])"
   ]
  },
  {
   "cell_type": "code",
   "execution_count": 161,
   "id": "db336143",
   "metadata": {},
   "outputs": [
    {
     "data": {
      "text/plain": [
       "KMeans(init='random', max_iter=100, n_clusters=4, n_init=5)"
      ]
     },
     "execution_count": 161,
     "metadata": {},
     "output_type": "execute_result"
    }
   ],
   "source": [
    "true_k = 4\n",
    "model_error = KMeans(n_clusters=true_k, init='random', max_iter=100, n_init=5)\n",
    "model_error.fit(X_train_vec_error)"
   ]
  },
  {
   "cell_type": "code",
   "execution_count": 162,
   "id": "dcbda19c",
   "metadata": {},
   "outputs": [],
   "source": [
    "for index, row in total_data.iterrows():\n",
    "    if row[\"Time_Out\"] == True:\n",
    "        total_data.at[index, \"Time_Out\"] = 1\n",
    "    else:\n",
    "        total_data.at[index, \"Time_Out\"] = 0"
   ]
  },
  {
   "cell_type": "code",
   "execution_count": 163,
   "id": "8c9fd61d",
   "metadata": {},
   "outputs": [],
   "source": [
    "predicted_error_label = model_error.predict(vectorizer_error.transform(total_data['Error'].map(lambda x: clean_text(x))))\n",
    "total_data['Label_Error'] = predicted_error_label\n",
    "total_data.to_csv('clusters.csv')"
   ]
  },
  {
   "cell_type": "markdown",
   "id": "9da5e4c1",
   "metadata": {},
   "source": [
    "## Loading data and splitting into train and test"
   ]
  },
  {
   "cell_type": "code",
   "execution_count": 188,
   "id": "df3a16f6",
   "metadata": {},
   "outputs": [],
   "source": [
    "df = pd.read_csv(\"clusters.csv\")\n",
    "input_data = df[['Temperature', 'Light', 'Exit_Code', 'Time_Out', 'Label_Log', 'Label_Error', 'Fault_Type']]"
   ]
  },
  {
   "cell_type": "code",
   "execution_count": 189,
   "id": "60b5913a",
   "metadata": {},
   "outputs": [
    {
     "name": "stderr",
     "output_type": "stream",
     "text": [
      "C:\\Users\\aakas\\AppData\\Local\\Temp\\ipykernel_39076\\2356245332.py:7: SettingWithCopyWarning: \n",
      "A value is trying to be set on a copy of a slice from a DataFrame.\n",
      "Try using .loc[row_indexer,col_indexer] = value instead\n",
      "\n",
      "See the caveats in the documentation: https://pandas.pydata.org/pandas-docs/stable/user_guide/indexing.html#returning-a-view-versus-a-copy\n",
      "  X['Exit_Code'] = X['Exit_Code'].astype(\"category\")\n",
      "C:\\Users\\aakas\\AppData\\Local\\Temp\\ipykernel_39076\\2356245332.py:8: SettingWithCopyWarning: \n",
      "A value is trying to be set on a copy of a slice from a DataFrame.\n",
      "Try using .loc[row_indexer,col_indexer] = value instead\n",
      "\n",
      "See the caveats in the documentation: https://pandas.pydata.org/pandas-docs/stable/user_guide/indexing.html#returning-a-view-versus-a-copy\n",
      "  X['Time_Out'] = X['Time_Out'].astype(\"category\")\n",
      "C:\\Users\\aakas\\AppData\\Local\\Temp\\ipykernel_39076\\2356245332.py:9: SettingWithCopyWarning: \n",
      "A value is trying to be set on a copy of a slice from a DataFrame.\n",
      "Try using .loc[row_indexer,col_indexer] = value instead\n",
      "\n",
      "See the caveats in the documentation: https://pandas.pydata.org/pandas-docs/stable/user_guide/indexing.html#returning-a-view-versus-a-copy\n",
      "  X['Label_Log'] = X['Label_Log'].astype(\"category\")\n",
      "C:\\Users\\aakas\\AppData\\Local\\Temp\\ipykernel_39076\\2356245332.py:10: SettingWithCopyWarning: \n",
      "A value is trying to be set on a copy of a slice from a DataFrame.\n",
      "Try using .loc[row_indexer,col_indexer] = value instead\n",
      "\n",
      "See the caveats in the documentation: https://pandas.pydata.org/pandas-docs/stable/user_guide/indexing.html#returning-a-view-versus-a-copy\n",
      "  X['Label_Error'] = X['Label_Error'].astype(\"category\")\n"
     ]
    }
   ],
   "source": [
    "X = input_data[['Temperature', 'Light', 'Exit_Code', 'Time_Out', 'Label_Log', 'Label_Error']]\n",
    "y = input_data[['Fault_Type']]\n",
    "\n",
    "X['Exit_Code'] = X['Exit_Code'].astype(\"category\")\n",
    "X['Time_Out'] = X['Time_Out'].astype(\"category\")\n",
    "X['Label_Log'] = X['Label_Log'].astype(\"category\")\n",
    "X['Label_Error'] = X['Label_Error'].astype(\"category\")"
   ]
  },
  {
   "cell_type": "code",
   "execution_count": 190,
   "id": "5c129282",
   "metadata": {},
   "outputs": [],
   "source": [
    "X_train, X_test, y_train, y_test = train_test_split(X, y, stratify=y, train_size = 0.5, random_state = 1)"
   ]
  },
  {
   "cell_type": "markdown",
   "id": "c6c81fc0",
   "metadata": {},
   "source": [
    "### Separate train and test data for application data and software properties "
   ]
  },
  {
   "cell_type": "code",
   "execution_count": 193,
   "id": "b8779573",
   "metadata": {},
   "outputs": [],
   "source": [
    "X_train_sep, X_test_sep, y_train_sep, y_test_sep = train_test_split(X, y, stratify=y, random_state = 1)"
   ]
  },
  {
   "cell_type": "code",
   "execution_count": 194,
   "id": "8315aabb",
   "metadata": {},
   "outputs": [],
   "source": [
    "X_train_app = X_train_sep[['Temperature', 'Light']]\n",
    "y_train_app = y_train_sep.copy()\n",
    "X_test_app = X_test_sep[['Temperature', 'Light']]\n",
    "y_test_app = y_test_sep.copy()"
   ]
  },
  {
   "cell_type": "code",
   "execution_count": 195,
   "id": "14d0ded6",
   "metadata": {},
   "outputs": [],
   "source": [
    "X_train_swp = X_train_sep[['Exit_Code', 'Time_Out', 'Label_Log', 'Label_Error']]\n",
    "y_train_swp = y_train_sep.copy()\n",
    "X_test_swp = X_test_sep[['Exit_Code', 'Time_Out', 'Label_Log', 'Label_Error']]\n",
    "y_test_swp = y_test_sep.copy()"
   ]
  },
  {
   "cell_type": "markdown",
   "id": "b53a1c27",
   "metadata": {},
   "source": [
    "## Feature Selection and correlation with output label"
   ]
  },
  {
   "cell_type": "markdown",
   "id": "83d363c5",
   "metadata": {},
   "source": [
    "### SelectKBest based on Mutual Information"
   ]
  },
  {
   "cell_type": "code",
   "execution_count": 260,
   "id": "71a80ae5",
   "metadata": {},
   "outputs": [
    {
     "data": {
      "text/plain": [
       "SelectKBest(k='all',\n",
       "            score_func=<function mutual_info_classif at 0x000001BF6CF1B9A0>)"
      ]
     },
     "execution_count": 260,
     "metadata": {},
     "output_type": "execute_result"
    }
   ],
   "source": [
    "fs = SelectKBest(score_func=mutual_info_classif, k='all')\n",
    "fs.fit(X_train, y_train.values.flatten())"
   ]
  },
  {
   "cell_type": "code",
   "execution_count": 261,
   "id": "ec7115ae",
   "metadata": {},
   "outputs": [
    {
     "name": "stdout",
     "output_type": "stream",
     "text": [
      "Feature 0: 0.35\n",
      "Feature 1: 0.47\n",
      "Feature 2: 0.28\n",
      "Feature 3: 0.18\n",
      "Feature 4: 0.40\n",
      "Feature 5: 0.22\n"
     ]
    }
   ],
   "source": [
    "for i in range(len(fs.scores_)):\n",
    "    print('Feature %d: %.2f' % (i, fs.scores_[i]))"
   ]
  },
  {
   "cell_type": "code",
   "execution_count": 278,
   "id": "c87b7c79",
   "metadata": {},
   "outputs": [
    {
     "data": {
      "image/png": "[encoded data removed]",
      "text/plain": [
       "<Figure size 453.6x360 with 1 Axes>"
      ]
     },
     "metadata": {
      "needs_background": "light"
     },
     "output_type": "display_data"
    }
   ],
   "source": [
    "fig, ax1 = plt.subplots(figsize=(6.3, 5))\n",
    "\n",
    "ax1.bar(['Temperature', 'Light', 'Exit_Code', 'Time_Out', 'Label_Log', 'Label_Error'], fs.scores_)\n",
    "\n",
    "for container in ax1.containers:\n",
    "    ax1.bar_label(container)\n",
    "    \n",
    "ax1.set_xlabel(\"Features\", labelpad=10)\n",
    "ax1.set_ylabel(\"Mutual Information Scores\", labelpad=10)\n",
    "\n",
    "plt.show()"
   ]
  },
  {
   "cell_type": "markdown",
   "id": "f84d2b24",
   "metadata": {},
   "source": [
    "### Cramer's V for Categorical vs Categorical data"
   ]
  },
  {
   "cell_type": "code",
   "execution_count": 269,
   "id": "72555524",
   "metadata": {},
   "outputs": [],
   "source": [
    "def cramers_v(var1, var2):\n",
    "    data = pd.crosstab(var1, var2).values\n",
    "    chi_2 = stats.chi2_contingency(data)[0]\n",
    "    n = data.sum()\n",
    "    phi_2 = chi_2 / n\n",
    "    r, k = data.shape\n",
    "    return np.sqrt(phi_2 / min((k-1), (r-1)))"
   ]
  },
  {
   "cell_type": "code",
   "execution_count": 270,
   "id": "09e01185",
   "metadata": {},
   "outputs": [
    {
     "data": {
      "text/plain": [
       "0.37"
      ]
     },
     "execution_count": 270,
     "metadata": {},
     "output_type": "execute_result"
    }
   ],
   "source": [
    "cramers_v_label_log = cramers_v(X_train['Label_Log'].values.flatten(), y_train.values.flatten())\n",
    "cramers_v_label_log"
   ]
  },
  {
   "cell_type": "code",
   "execution_count": 271,
   "id": "f4fc85e9",
   "metadata": {},
   "outputs": [
    {
     "data": {
      "text/plain": [
       "0.21"
      ]
     },
     "execution_count": 271,
     "metadata": {},
     "output_type": "execute_result"
    }
   ],
   "source": [
    "cramers_v_label_error = cramers_v(X_train['Label_Error'].values.flatten(), y_train.values.flatten())\n",
    "cramers_v_label_error"
   ]
  },
  {
   "cell_type": "code",
   "execution_count": 272,
   "id": "d4290431",
   "metadata": {},
   "outputs": [
    {
     "data": {
      "text/plain": [
       "0.17"
      ]
     },
     "execution_count": 272,
     "metadata": {},
     "output_type": "execute_result"
    }
   ],
   "source": [
    "cramers_v_time_out = cramers_v(X_train['Time_Out'].values.flatten(), y_train.values.flatten())\n",
    "cramers_v_time_out"
   ]
  },
  {
   "cell_type": "code",
   "execution_count": 273,
   "id": "afc253fa",
   "metadata": {},
   "outputs": [
    {
     "data": {
      "text/plain": [
       "0.26"
      ]
     },
     "execution_count": 273,
     "metadata": {},
     "output_type": "execute_result"
    }
   ],
   "source": [
    "cramers_v_exit_code = cramers_v(X_train['Exit_Code'].values.flatten(), y_train.values.flatten())\n",
    "cramers_v_exit_code"
   ]
  },
  {
   "cell_type": "code",
   "execution_count": 275,
   "id": "d1876cd3",
   "metadata": {},
   "outputs": [
    {
     "data": {
      "image/png": "[encoded data removed]",
      "text/plain": [
       "<Figure size 432x360 with 1 Axes>"
      ]
     },
     "metadata": {
      "needs_background": "light"
     },
     "output_type": "display_data"
    }
   ],
   "source": [
    "fig, ax1 = plt.subplots(figsize=(6, 5))\n",
    "\n",
    "ax1.bar(['Exit_Code', 'Time_Out', 'Label_Log', 'Label_Error'], \n",
    "        [cramers_v_exit_code, cramers_v_time_out, cramers_v_label_log, cramers_v_label_error])\n",
    "\n",
    "for container in ax1.containers:\n",
    "    ax1.bar_label(container)\n",
    "    \n",
    "ax1.set_xlabel(\"Features\", labelpad=10)\n",
    "ax1.set_ylabel(\"Cramer's V Scores\", labelpad=10)\n",
    "\n",
    "plt.show()"
   ]
  },
  {
   "cell_type": "markdown",
   "id": "5910b862",
   "metadata": {},
   "source": [
    "### Kruskal Wallis test for Numerical vs Categorical Data"
   ]
  },
  {
   "cell_type": "code",
   "execution_count": 221,
   "id": "fb0ea64f",
   "metadata": {},
   "outputs": [
    {
     "data": {
      "text/plain": [
       "KruskalResult(statistic=35610.267361997525, pvalue=0.04)"
      ]
     },
     "execution_count": 221,
     "metadata": {},
     "output_type": "execute_result"
    }
   ],
   "source": [
    "p_value_temp_flp = stats.kruskal(X_train['Temperature'], y_train['Fault_Type'] == 'FLP')\n",
    "stats.kruskal(X_train['Temperature'], y_train['Fault_Type'] == 'FLP')"
   ]
  },
  {
   "cell_type": "code",
   "execution_count": 222,
   "id": "f74cb4bd",
   "metadata": {},
   "outputs": [
    {
     "data": {
      "text/plain": [
       "KruskalResult(statistic=35277.06479856109, pvalue=0.1)"
      ]
     },
     "execution_count": 222,
     "metadata": {},
     "output_type": "execute_result"
    }
   ],
   "source": [
    "p_value_temp_none = stats.kruskal(X_train['Temperature'], y_train['Fault_Type'] == 'NONE')\n",
    "stats.kruskal(X_train['Temperature'], y_train['Fault_Type'] == 'NONE')"
   ]
  },
  {
   "cell_type": "code",
   "execution_count": 223,
   "id": "2db3f397",
   "metadata": {},
   "outputs": [
    {
     "data": {
      "text/plain": [
       "KruskalResult(statistic=35290.3470271417, pvalue=0.02)"
      ]
     },
     "execution_count": 223,
     "metadata": {},
     "output_type": "execute_result"
    }
   ],
   "source": [
    "p_value_temp_nop = stats.kruskal(X_train['Temperature'], y_train['Fault_Type'] == 'NOP')\n",
    "stats.kruskal(X_train['Temperature'], y_train['Fault_Type'] == 'NOP')"
   ]
  },
  {
   "cell_type": "code",
   "execution_count": 224,
   "id": "04214c3b",
   "metadata": {},
   "outputs": [
    {
     "data": {
      "text/plain": [
       "KruskalResult(statistic=23377.12318159441, pvalue=0.01)"
      ]
     },
     "execution_count": 224,
     "metadata": {},
     "output_type": "execute_result"
    }
   ],
   "source": [
    "p_value_light_flp = stats.kruskal(X_train['Light'], y_train['Fault_Type'] == 'FLP')\n",
    "stats.kruskal(X_train['Light'], y_train['Fault_Type'] == 'FLP')"
   ]
  },
  {
   "cell_type": "code",
   "execution_count": 225,
   "id": "a8f61e70",
   "metadata": {},
   "outputs": [
    {
     "data": {
      "text/plain": [
       "KruskalResult(statistic=23189.316420025716, pvalue=0.08)"
      ]
     },
     "execution_count": 225,
     "metadata": {},
     "output_type": "execute_result"
    }
   ],
   "source": [
    "p_value_light_none = stats.kruskal(X_train['Light'], y_train['Fault_Type'] == 'NONE')\n",
    "stats.kruskal(X_train['Light'], y_train['Fault_Type'] == 'NONE')"
   ]
  },
  {
   "cell_type": "code",
   "execution_count": 226,
   "id": "4d39751a",
   "metadata": {},
   "outputs": [
    {
     "data": {
      "text/plain": [
       "KruskalResult(statistic=23196.751878518233, pvalue=0.05)"
      ]
     },
     "execution_count": 226,
     "metadata": {},
     "output_type": "execute_result"
    }
   ],
   "source": [
    "p_value_light_nop = stats.kruskal(X_train['Light'], y_train['Fault_Type'] == 'NOP')\n",
    "stats.kruskal(X_train['Light'], y_train['Fault_Type'] == 'NOP')"
   ]
  },
  {
   "cell_type": "code",
   "execution_count": 279,
   "id": "fc49c11b",
   "metadata": {},
   "outputs": [
    {
     "data": {
      "image/png": "[encoded data removed]",
      "text/plain": [
       "<Figure size 360x288 with 1 Axes>"
      ]
     },
     "metadata": {
      "needs_background": "light"
     },
     "output_type": "display_data"
    }
   ],
   "source": [
    "df = pd.DataFrame({\n",
    "    'Features': ['Temperature', 'Light'],\n",
    "    'NONE': [p_value_temp_none, p_value_light_none],\n",
    "    'FLP': [p_value_temp_flp, p_value_light_flp],\n",
    "    'NOP': [p_value_temp_nop, p_value_light_nop]\n",
    "})\n",
    "xlabel = 'Features'\n",
    "ylabel = 'Kruskal p-values'\n",
    "fig, ax1 = plt.subplots(figsize=(5, 4))\n",
    "tidy = df.melt(id_vars=xlabel).rename(columns=str.title)\n",
    "tidy = tidy.rename(columns={\"Value\": ylabel, \"Variable\": \"Fault Type\"})\n",
    "sns.barplot(x=xlabel, y=ylabel, hue='Fault Type', data=tidy, ax=ax1)\n",
    "ax1.set(ylim=(0, 0.12))\n",
    "\n",
    "for container in ax1.containers:\n",
    "    ax1.bar_label(container)\n",
    "    \n",
    "plt.legend(bbox_to_anchor=(1.05, 1), loc='upper left', borderaxespad=0)\n",
    "ax1.set_xlabel(xlabel, labelpad=10)\n",
    "ax1.set_ylabel(ylabel, labelpad=10)\n",
    "\n",
    "sns.despine(fig)"
   ]
  },
  {
   "cell_type": "markdown",
   "id": "fa586530",
   "metadata": {},
   "source": [
    "## Training supervised model for fault type predicition - Naive Classifier"
   ]
  },
  {
   "cell_type": "code",
   "execution_count": 338,
   "id": "26475366",
   "metadata": {},
   "outputs": [],
   "source": [
    "naive_model = DummyClassifier(strategy='most_frequent').fit(X_train, y_train.values.flatten())\n",
    "\n",
    "filePath = \"%s/Naive Models/naive_model.sav\" %(path)\n",
    "os.makedirs(os.path.dirname(filePath), exist_ok=True)\n",
    "fileObj = open(filePath, 'wb')\n",
    "pickle.dump(naive_model, fileObj)\n",
    "fileObj.close()"
   ]
  },
  {
   "cell_type": "code",
   "execution_count": 339,
   "id": "d0e6c7e7",
   "metadata": {},
   "outputs": [],
   "source": [
    "naive_model_nop = DummyClassifier(strategy='constant', constant='NOP').fit(X_train, y_train.values.flatten())\n",
    "\n",
    "filePath = \"%s/Naive Models/naive_model_nop.sav\" %(path)\n",
    "os.makedirs(os.path.dirname(filePath), exist_ok=True)\n",
    "fileObj = open(filePath, 'wb')\n",
    "pickle.dump(naive_model_nop, fileObj)\n",
    "fileObj.close()"
   ]
  },
  {
   "cell_type": "code",
   "execution_count": 340,
   "id": "ff762461",
   "metadata": {},
   "outputs": [],
   "source": [
    "naive_model_flp = DummyClassifier(strategy='constant', constant='FLP').fit(X_train, y_train.values.flatten())\n",
    "\n",
    "filePath = \"%s/Naive Models/naive_model_flp.sav\" %(path)\n",
    "os.makedirs(os.path.dirname(filePath), exist_ok=True)\n",
    "fileObj = open(filePath, 'wb')\n",
    "pickle.dump(naive_model_flp, fileObj)\n",
    "fileObj.close()"
   ]
  },
  {
   "cell_type": "code",
   "execution_count": 341,
   "id": "2dacb304",
   "metadata": {},
   "outputs": [],
   "source": [
    "naive_model_none = DummyClassifier(strategy='constant', constant='NONE').fit(X_train, y_train.values.flatten())\n",
    "\n",
    "filePath = \"%s/Naive Models/naive_model_none.sav\" %(path)\n",
    "os.makedirs(os.path.dirname(filePath), exist_ok=True)\n",
    "fileObj = open(filePath, 'wb')\n",
    "pickle.dump(naive_model_none, fileObj)\n",
    "fileObj.close()"
   ]
  },
  {
   "cell_type": "markdown",
   "id": "e047fc40",
   "metadata": {},
   "source": [
    "## Training supervised model for fault type predicition - KNN"
   ]
  },
  {
   "cell_type": "code",
   "execution_count": 10,
   "id": "7632c1f4",
   "metadata": {},
   "outputs": [],
   "source": [
    "t0 = time()\n",
    "knn = KNeighborsClassifier(algorithm='auto', leaf_size=60, n_neighbors=554, \n",
    "                           weights='distance', n_jobs=1).fit(X_train, y_train.values.flatten())\n",
    "knn_fit_time = time() - t0"
   ]
  },
  {
   "cell_type": "code",
   "execution_count": 11,
   "id": "8ca65e9a",
   "metadata": {},
   "outputs": [
    {
     "name": "stdout",
     "output_type": "stream",
     "text": [
      "knn_fit_time: 0\n"
     ]
    }
   ],
   "source": [
    "print(\"knn_fit_time: %d\" %(knn_fit_time))"
   ]
  },
  {
   "cell_type": "markdown",
   "id": "1cbcf34f",
   "metadata": {},
   "source": [
    "### KNN - Nested CV"
   ]
  },
  {
   "cell_type": "code",
   "execution_count": 122,
   "id": "f6777f56",
   "metadata": {},
   "outputs": [],
   "source": [
    "cv_outer_knn = StratifiedKFold(n_splits=10, random_state=1, shuffle=True)"
   ]
  },
  {
   "cell_type": "code",
   "execution_count": 123,
   "id": "fadcacfa",
   "metadata": {},
   "outputs": [],
   "source": [
    "accuracy_scores_knn=[]\n",
    "precision_scores_knn=[]\n",
    "recall_scores_knn=[]\n",
    "f1_scores_knn=[]"
   ]
  },
  {
   "cell_type": "code",
   "execution_count": 124,
   "id": "57171f49",
   "metadata": {},
   "outputs": [
    {
     "name": "stdout",
     "output_type": "stream",
     "text": [
      "[     0      1      2 ... 116898 116899 116900]\n",
      "[    17     47     53 ... 116880 116888 116901]\n",
      "Fitting 5 folds for each of 5 candidates, totalling 25 fits\n",
      "[CV] END algorithm=auto, leaf_size=90, n_neighbors=409, weights=uniform; total time=   9.7s\n",
      "[CV] END algorithm=auto, leaf_size=90, n_neighbors=409, weights=uniform; total time=   4.8s\n",
      "[CV] END algorithm=auto, leaf_size=90, n_neighbors=409, weights=uniform; total time=   4.9s\n",
      "[CV] END algorithm=auto, leaf_size=90, n_neighbors=409, weights=uniform; total time=   4.4s\n",
      "[CV] END algorithm=auto, leaf_size=90, n_neighbors=409, weights=uniform; total time=   4.5s\n",
      "[CV] END algorithm=kd_tree, leaf_size=30, n_neighbors=627, weights=distance; total time=   8.1s\n",
      "[CV] END algorithm=kd_tree, leaf_size=30, n_neighbors=627, weights=distance; total time=   6.1s\n",
      "[CV] END algorithm=kd_tree, leaf_size=30, n_neighbors=627, weights=distance; total time=   6.0s\n",
      "[CV] END algorithm=kd_tree, leaf_size=30, n_neighbors=627, weights=distance; total time=   5.6s\n",
      "[CV] END algorithm=kd_tree, leaf_size=30, n_neighbors=627, weights=distance; total time=   5.8s\n",
      "[CV] END algorithm=ball_tree, leaf_size=60, n_neighbors=554, weights=uniform; total time=   5.9s\n",
      "[CV] END algorithm=ball_tree, leaf_size=60, n_neighbors=554, weights=uniform; total time=   5.9s\n",
      "[CV] END algorithm=ball_tree, leaf_size=60, n_neighbors=554, weights=uniform; total time=   5.8s\n",
      "[CV] END algorithm=ball_tree, leaf_size=60, n_neighbors=554, weights=uniform; total time=   6.3s\n",
      "[CV] END algorithm=ball_tree, leaf_size=60, n_neighbors=554, weights=uniform; total time=   5.5s\n",
      "[CV] END algorithm=auto, leaf_size=90, n_neighbors=482, weights=uniform; total time=   5.1s\n",
      "[CV] END algorithm=auto, leaf_size=90, n_neighbors=482, weights=uniform; total time=   5.1s\n",
      "[CV] END algorithm=auto, leaf_size=90, n_neighbors=482, weights=uniform; total time=   5.0s\n",
      "[CV] END algorithm=auto, leaf_size=90, n_neighbors=482, weights=uniform; total time=   5.2s\n",
      "[CV] END algorithm=auto, leaf_size=90, n_neighbors=482, weights=uniform; total time=   5.0s\n",
      "[CV] END algorithm=auto, leaf_size=60, n_neighbors=554, weights=distance; total time=   6.0s\n",
      "[CV] END algorithm=auto, leaf_size=60, n_neighbors=554, weights=distance; total time=   5.2s\n",
      "[CV] END algorithm=auto, leaf_size=60, n_neighbors=554, weights=distance; total time=   5.1s\n",
      "[CV] END algorithm=auto, leaf_size=60, n_neighbors=554, weights=distance; total time=   5.1s\n",
      "[CV] END algorithm=auto, leaf_size=60, n_neighbors=554, weights=distance; total time=   5.2s\n",
      "Best Score: 0.622, with parameters: {'weights': 'distance', 'n_neighbors': 554, 'leaf_size': 60, 'algorithm': 'auto'}\n",
      "Accuracy: 0.622\n",
      "Precision: 0.808\n",
      "Recall: 0.622\n",
      "F1 Score: 0.600\n",
      "-------------------------------------------------------------------------------------------------------------------\n",
      "[     0      1      3 ... 116899 116900 116901]\n",
      "[     2     19     21 ... 116882 116883 116897]\n",
      "Fitting 5 folds for each of 5 candidates, totalling 25 fits\n",
      "[CV] END algorithm=auto, leaf_size=90, n_neighbors=409, weights=uniform; total time=   5.3s\n",
      "[CV] END algorithm=auto, leaf_size=90, n_neighbors=409, weights=uniform; total time=   5.0s\n",
      "[CV] END algorithm=auto, leaf_size=90, n_neighbors=409, weights=uniform; total time=   4.8s\n",
      "[CV] END algorithm=auto, leaf_size=90, n_neighbors=409, weights=uniform; total time=   4.8s\n",
      "[CV] END algorithm=auto, leaf_size=90, n_neighbors=409, weights=uniform; total time=   4.8s\n",
      "[CV] END algorithm=kd_tree, leaf_size=30, n_neighbors=627, weights=distance; total time=   5.9s\n",
      "[CV] END algorithm=kd_tree, leaf_size=30, n_neighbors=627, weights=distance; total time=   6.2s\n",
      "[CV] END algorithm=kd_tree, leaf_size=30, n_neighbors=627, weights=distance; total time=   6.4s\n",
      "[CV] END algorithm=kd_tree, leaf_size=30, n_neighbors=627, weights=distance; total time=   6.4s\n",
      "[CV] END algorithm=kd_tree, leaf_size=30, n_neighbors=627, weights=distance; total time=   6.0s\n",
      "[CV] END algorithm=ball_tree, leaf_size=60, n_neighbors=554, weights=uniform; total time=   6.5s\n",
      "[CV] END algorithm=ball_tree, leaf_size=60, n_neighbors=554, weights=uniform; total time=   5.9s\n",
      "[CV] END algorithm=ball_tree, leaf_size=60, n_neighbors=554, weights=uniform; total time=   5.8s\n",
      "[CV] END algorithm=ball_tree, leaf_size=60, n_neighbors=554, weights=uniform; total time=   5.7s\n",
      "[CV] END algorithm=ball_tree, leaf_size=60, n_neighbors=554, weights=uniform; total time=   6.1s\n",
      "[CV] END algorithm=auto, leaf_size=90, n_neighbors=482, weights=uniform; total time=   5.0s\n",
      "[CV] END algorithm=auto, leaf_size=90, n_neighbors=482, weights=uniform; total time=   5.0s\n",
      "[CV] END algorithm=auto, leaf_size=90, n_neighbors=482, weights=uniform; total time=   5.0s\n",
      "[CV] END algorithm=auto, leaf_size=90, n_neighbors=482, weights=uniform; total time=   4.9s\n",
      "[CV] END algorithm=auto, leaf_size=90, n_neighbors=482, weights=uniform; total time=   5.1s\n",
      "[CV] END algorithm=auto, leaf_size=60, n_neighbors=554, weights=distance; total time=   5.2s\n",
      "[CV] END algorithm=auto, leaf_size=60, n_neighbors=554, weights=distance; total time=   4.9s\n",
      "[CV] END algorithm=auto, leaf_size=60, n_neighbors=554, weights=distance; total time=   5.3s\n",
      "[CV] END algorithm=auto, leaf_size=60, n_neighbors=554, weights=distance; total time=   5.2s\n",
      "[CV] END algorithm=auto, leaf_size=60, n_neighbors=554, weights=distance; total time=   4.6s\n",
      "Best Score: 0.622, with parameters: {'weights': 'distance', 'n_neighbors': 554, 'leaf_size': 60, 'algorithm': 'auto'}\n",
      "Accuracy: 0.623\n",
      "Precision: 0.810\n",
      "Recall: 0.623\n",
      "F1 Score: 0.601\n",
      "-------------------------------------------------------------------------------------------------------------------\n",
      "[     0      2      3 ... 116899 116900 116901]\n",
      "[     1     31     46 ... 116854 116864 116881]\n",
      "Fitting 5 folds for each of 5 candidates, totalling 25 fits\n",
      "[CV] END algorithm=auto, leaf_size=90, n_neighbors=409, weights=uniform; total time=   4.1s\n",
      "[CV] END algorithm=auto, leaf_size=90, n_neighbors=409, weights=uniform; total time=   6.3s\n",
      "[CV] END algorithm=auto, leaf_size=90, n_neighbors=409, weights=uniform; total time=   5.3s\n",
      "[CV] END algorithm=auto, leaf_size=90, n_neighbors=409, weights=uniform; total time=   5.1s\n",
      "[CV] END algorithm=auto, leaf_size=90, n_neighbors=409, weights=uniform; total time=   4.7s\n",
      "[CV] END algorithm=kd_tree, leaf_size=30, n_neighbors=627, weights=distance; total time=   7.2s\n",
      "[CV] END algorithm=kd_tree, leaf_size=30, n_neighbors=627, weights=distance; total time=   7.7s\n",
      "[CV] END algorithm=kd_tree, leaf_size=30, n_neighbors=627, weights=distance; total time=   7.0s\n",
      "[CV] END algorithm=kd_tree, leaf_size=30, n_neighbors=627, weights=distance; total time=   6.5s\n",
      "[CV] END algorithm=kd_tree, leaf_size=30, n_neighbors=627, weights=distance; total time=   6.8s\n",
      "[CV] END algorithm=ball_tree, leaf_size=60, n_neighbors=554, weights=uniform; total time=   6.5s\n",
      "[CV] END algorithm=ball_tree, leaf_size=60, n_neighbors=554, weights=uniform; total time=   6.6s\n",
      "[CV] END algorithm=ball_tree, leaf_size=60, n_neighbors=554, weights=uniform; total time=   5.9s\n",
      "[CV] END algorithm=ball_tree, leaf_size=60, n_neighbors=554, weights=uniform; total time=   6.6s\n",
      "[CV] END algorithm=ball_tree, leaf_size=60, n_neighbors=554, weights=uniform; total time=   6.3s\n",
      "[CV] END algorithm=auto, leaf_size=90, n_neighbors=482, weights=uniform; total time=   5.4s\n",
      "[CV] END algorithm=auto, leaf_size=90, n_neighbors=482, weights=uniform; total time=   5.5s\n",
      "[CV] END algorithm=auto, leaf_size=90, n_neighbors=482, weights=uniform; total time=   5.8s\n",
      "[CV] END algorithm=auto, leaf_size=90, n_neighbors=482, weights=uniform; total time=   5.8s\n",
      "[CV] END algorithm=auto, leaf_size=90, n_neighbors=482, weights=uniform; total time=   5.8s\n",
      "[CV] END algorithm=auto, leaf_size=60, n_neighbors=554, weights=distance; total time=   6.3s\n",
      "[CV] END algorithm=auto, leaf_size=60, n_neighbors=554, weights=distance; total time=   6.4s\n",
      "[CV] END algorithm=auto, leaf_size=60, n_neighbors=554, weights=distance; total time=   6.9s\n",
      "[CV] END algorithm=auto, leaf_size=60, n_neighbors=554, weights=distance; total time=   6.6s\n",
      "[CV] END algorithm=auto, leaf_size=60, n_neighbors=554, weights=distance; total time=   5.7s\n",
      "Best Score: 0.621, with parameters: {'weights': 'distance', 'n_neighbors': 554, 'leaf_size': 60, 'algorithm': 'auto'}\n",
      "Accuracy: 0.625\n",
      "Precision: 0.807\n",
      "Recall: 0.625\n",
      "F1 Score: 0.608\n",
      "-------------------------------------------------------------------------------------------------------------------\n",
      "[     0      1      2 ... 116899 116900 116901]\n",
      "[     6     12     25 ... 116892 116893 116894]\n",
      "Fitting 5 folds for each of 5 candidates, totalling 25 fits\n"
     ]
    },
    {
     "name": "stdout",
     "output_type": "stream",
     "text": [
      "[CV] END algorithm=auto, leaf_size=90, n_neighbors=409, weights=uniform; total time=   5.3s\n",
      "[CV] END algorithm=auto, leaf_size=90, n_neighbors=409, weights=uniform; total time=   5.3s\n",
      "[CV] END algorithm=auto, leaf_size=90, n_neighbors=409, weights=uniform; total time=   5.3s\n",
      "[CV] END algorithm=auto, leaf_size=90, n_neighbors=409, weights=uniform; total time=   5.4s\n",
      "[CV] END algorithm=auto, leaf_size=90, n_neighbors=409, weights=uniform; total time=   5.3s\n",
      "[CV] END algorithm=kd_tree, leaf_size=30, n_neighbors=627, weights=distance; total time=   6.9s\n",
      "[CV] END algorithm=kd_tree, leaf_size=30, n_neighbors=627, weights=distance; total time=   6.8s\n",
      "[CV] END algorithm=kd_tree, leaf_size=30, n_neighbors=627, weights=distance; total time=   6.8s\n",
      "[CV] END algorithm=kd_tree, leaf_size=30, n_neighbors=627, weights=distance; total time=   6.3s\n",
      "[CV] END algorithm=kd_tree, leaf_size=30, n_neighbors=627, weights=distance; total time=   6.2s\n",
      "[CV] END algorithm=ball_tree, leaf_size=60, n_neighbors=554, weights=uniform; total time=   6.3s\n",
      "[CV] END algorithm=ball_tree, leaf_size=60, n_neighbors=554, weights=uniform; total time=   6.7s\n",
      "[CV] END algorithm=ball_tree, leaf_size=60, n_neighbors=554, weights=uniform; total time=   6.5s\n",
      "[CV] END algorithm=ball_tree, leaf_size=60, n_neighbors=554, weights=uniform; total time=   6.3s\n",
      "[CV] END algorithm=ball_tree, leaf_size=60, n_neighbors=554, weights=uniform; total time=   6.4s\n",
      "[CV] END algorithm=auto, leaf_size=90, n_neighbors=482, weights=uniform; total time=   5.4s\n",
      "[CV] END algorithm=auto, leaf_size=90, n_neighbors=482, weights=uniform; total time=   5.8s\n",
      "[CV] END algorithm=auto, leaf_size=90, n_neighbors=482, weights=uniform; total time=   5.7s\n",
      "[CV] END algorithm=auto, leaf_size=90, n_neighbors=482, weights=uniform; total time=   5.4s\n",
      "[CV] END algorithm=auto, leaf_size=90, n_neighbors=482, weights=uniform; total time=   5.3s\n",
      "[CV] END algorithm=auto, leaf_size=60, n_neighbors=554, weights=distance; total time=   5.7s\n",
      "[CV] END algorithm=auto, leaf_size=60, n_neighbors=554, weights=distance; total time=   5.7s\n",
      "[CV] END algorithm=auto, leaf_size=60, n_neighbors=554, weights=distance; total time=   5.9s\n",
      "[CV] END algorithm=auto, leaf_size=60, n_neighbors=554, weights=distance; total time=   5.5s\n",
      "[CV] END algorithm=auto, leaf_size=60, n_neighbors=554, weights=distance; total time=   5.5s\n",
      "Best Score: 0.621, with parameters: {'weights': 'distance', 'n_neighbors': 554, 'leaf_size': 60, 'algorithm': 'auto'}\n",
      "Accuracy: 0.625\n",
      "Precision: 0.817\n",
      "Recall: 0.625\n",
      "F1 Score: 0.604\n",
      "-------------------------------------------------------------------------------------------------------------------\n",
      "[     0      1      2 ... 116899 116900 116901]\n",
      "[    16     20     32 ... 116876 116878 116898]\n",
      "Fitting 5 folds for each of 5 candidates, totalling 25 fits\n",
      "[CV] END algorithm=auto, leaf_size=90, n_neighbors=409, weights=uniform; total time=   5.3s\n",
      "[CV] END algorithm=auto, leaf_size=90, n_neighbors=409, weights=uniform; total time=   5.2s\n",
      "[CV] END algorithm=auto, leaf_size=90, n_neighbors=409, weights=uniform; total time=   4.9s\n",
      "[CV] END algorithm=auto, leaf_size=90, n_neighbors=409, weights=uniform; total time=   4.9s\n",
      "[CV] END algorithm=auto, leaf_size=90, n_neighbors=409, weights=uniform; total time=   5.1s\n",
      "[CV] END algorithm=kd_tree, leaf_size=30, n_neighbors=627, weights=distance; total time=   6.9s\n",
      "[CV] END algorithm=kd_tree, leaf_size=30, n_neighbors=627, weights=distance; total time=   6.1s\n",
      "[CV] END algorithm=kd_tree, leaf_size=30, n_neighbors=627, weights=distance; total time=   6.3s\n",
      "[CV] END algorithm=kd_tree, leaf_size=30, n_neighbors=627, weights=distance; total time=   6.4s\n",
      "[CV] END algorithm=kd_tree, leaf_size=30, n_neighbors=627, weights=distance; total time=   6.3s\n",
      "[CV] END algorithm=ball_tree, leaf_size=60, n_neighbors=554, weights=uniform; total time=   6.1s\n",
      "[CV] END algorithm=ball_tree, leaf_size=60, n_neighbors=554, weights=uniform; total time=   6.2s\n",
      "[CV] END algorithm=ball_tree, leaf_size=60, n_neighbors=554, weights=uniform; total time=   6.2s\n",
      "[CV] END algorithm=ball_tree, leaf_size=60, n_neighbors=554, weights=uniform; total time=   6.3s\n",
      "[CV] END algorithm=ball_tree, leaf_size=60, n_neighbors=554, weights=uniform; total time=   6.6s\n",
      "[CV] END algorithm=auto, leaf_size=90, n_neighbors=482, weights=uniform; total time=   5.8s\n",
      "[CV] END algorithm=auto, leaf_size=90, n_neighbors=482, weights=uniform; total time=   5.3s\n",
      "[CV] END algorithm=auto, leaf_size=90, n_neighbors=482, weights=uniform; total time=   5.7s\n",
      "[CV] END algorithm=auto, leaf_size=90, n_neighbors=482, weights=uniform; total time=   5.2s\n",
      "[CV] END algorithm=auto, leaf_size=90, n_neighbors=482, weights=uniform; total time=   5.3s\n",
      "[CV] END algorithm=auto, leaf_size=60, n_neighbors=554, weights=distance; total time=   5.7s\n",
      "[CV] END algorithm=auto, leaf_size=60, n_neighbors=554, weights=distance; total time=   5.8s\n",
      "[CV] END algorithm=auto, leaf_size=60, n_neighbors=554, weights=distance; total time=   5.9s\n",
      "[CV] END algorithm=auto, leaf_size=60, n_neighbors=554, weights=distance; total time=   5.4s\n",
      "[CV] END algorithm=auto, leaf_size=60, n_neighbors=554, weights=distance; total time=   5.5s\n",
      "Best Score: 0.621, with parameters: {'weights': 'distance', 'n_neighbors': 554, 'leaf_size': 60, 'algorithm': 'auto'}\n",
      "Accuracy: 0.627\n",
      "Precision: 0.811\n",
      "Recall: 0.627\n",
      "F1 Score: 0.609\n",
      "-------------------------------------------------------------------------------------------------------------------\n",
      "[     0      1      2 ... 116898 116899 116901]\n",
      "[     4     13     15 ... 116870 116871 116900]\n",
      "Fitting 5 folds for each of 5 candidates, totalling 25 fits\n",
      "[CV] END algorithm=auto, leaf_size=90, n_neighbors=409, weights=uniform; total time=   5.0s\n",
      "[CV] END algorithm=auto, leaf_size=90, n_neighbors=409, weights=uniform; total time=   5.6s\n",
      "[CV] END algorithm=auto, leaf_size=90, n_neighbors=409, weights=uniform; total time=   4.9s\n",
      "[CV] END algorithm=auto, leaf_size=90, n_neighbors=409, weights=uniform; total time=   5.0s\n",
      "[CV] END algorithm=auto, leaf_size=90, n_neighbors=409, weights=uniform; total time=   4.8s\n",
      "[CV] END algorithm=kd_tree, leaf_size=30, n_neighbors=627, weights=distance; total time=   6.9s\n",
      "[CV] END algorithm=kd_tree, leaf_size=30, n_neighbors=627, weights=distance; total time=   6.4s\n",
      "[CV] END algorithm=kd_tree, leaf_size=30, n_neighbors=627, weights=distance; total time=   7.5s\n",
      "[CV] END algorithm=kd_tree, leaf_size=30, n_neighbors=627, weights=distance; total time=   6.9s\n",
      "[CV] END algorithm=kd_tree, leaf_size=30, n_neighbors=627, weights=distance; total time=   6.2s\n",
      "[CV] END algorithm=ball_tree, leaf_size=60, n_neighbors=554, weights=uniform; total time=   6.4s\n",
      "[CV] END algorithm=ball_tree, leaf_size=60, n_neighbors=554, weights=uniform; total time=   6.5s\n",
      "[CV] END algorithm=ball_tree, leaf_size=60, n_neighbors=554, weights=uniform; total time=   6.3s\n",
      "[CV] END algorithm=ball_tree, leaf_size=60, n_neighbors=554, weights=uniform; total time=   6.4s\n",
      "[CV] END algorithm=ball_tree, leaf_size=60, n_neighbors=554, weights=uniform; total time=   6.7s\n",
      "[CV] END algorithm=auto, leaf_size=90, n_neighbors=482, weights=uniform; total time=   5.5s\n",
      "[CV] END algorithm=auto, leaf_size=90, n_neighbors=482, weights=uniform; total time=   5.3s\n",
      "[CV] END algorithm=auto, leaf_size=90, n_neighbors=482, weights=uniform; total time=   5.2s\n",
      "[CV] END algorithm=auto, leaf_size=90, n_neighbors=482, weights=uniform; total time=   5.2s\n",
      "[CV] END algorithm=auto, leaf_size=90, n_neighbors=482, weights=uniform; total time=   5.4s\n",
      "[CV] END algorithm=auto, leaf_size=60, n_neighbors=554, weights=distance; total time=   5.9s\n",
      "[CV] END algorithm=auto, leaf_size=60, n_neighbors=554, weights=distance; total time=   5.3s\n",
      "[CV] END algorithm=auto, leaf_size=60, n_neighbors=554, weights=distance; total time=   4.8s\n",
      "[CV] END algorithm=auto, leaf_size=60, n_neighbors=554, weights=distance; total time=   5.0s\n",
      "[CV] END algorithm=auto, leaf_size=60, n_neighbors=554, weights=distance; total time=   5.3s\n",
      "Best Score: 0.622, with parameters: {'weights': 'distance', 'n_neighbors': 554, 'leaf_size': 60, 'algorithm': 'auto'}\n",
      "Accuracy: 0.621\n",
      "Precision: 0.804\n",
      "Recall: 0.621\n",
      "F1 Score: 0.601\n",
      "-------------------------------------------------------------------------------------------------------------------\n",
      "[     0      1      2 ... 116899 116900 116901]\n",
      "[     8     11     24 ... 116846 116847 116873]\n",
      "Fitting 5 folds for each of 5 candidates, totalling 25 fits\n"
     ]
    },
    {
     "name": "stdout",
     "output_type": "stream",
     "text": [
      "[CV] END algorithm=auto, leaf_size=90, n_neighbors=409, weights=uniform; total time=   4.4s\n",
      "[CV] END algorithm=auto, leaf_size=90, n_neighbors=409, weights=uniform; total time=   5.2s\n",
      "[CV] END algorithm=auto, leaf_size=90, n_neighbors=409, weights=uniform; total time=   5.1s\n",
      "[CV] END algorithm=auto, leaf_size=90, n_neighbors=409, weights=uniform; total time=   4.7s\n",
      "[CV] END algorithm=auto, leaf_size=90, n_neighbors=409, weights=uniform; total time=   5.1s\n",
      "[CV] END algorithm=kd_tree, leaf_size=30, n_neighbors=627, weights=distance; total time=   6.4s\n",
      "[CV] END algorithm=kd_tree, leaf_size=30, n_neighbors=627, weights=distance; total time=   6.4s\n",
      "[CV] END algorithm=kd_tree, leaf_size=30, n_neighbors=627, weights=distance; total time=   6.3s\n",
      "[CV] END algorithm=kd_tree, leaf_size=30, n_neighbors=627, weights=distance; total time=   6.2s\n",
      "[CV] END algorithm=kd_tree, leaf_size=30, n_neighbors=627, weights=distance; total time=   6.4s\n",
      "[CV] END algorithm=ball_tree, leaf_size=60, n_neighbors=554, weights=uniform; total time=   6.1s\n",
      "[CV] END algorithm=ball_tree, leaf_size=60, n_neighbors=554, weights=uniform; total time=   6.2s\n",
      "[CV] END algorithm=ball_tree, leaf_size=60, n_neighbors=554, weights=uniform; total time=   6.1s\n",
      "[CV] END algorithm=ball_tree, leaf_size=60, n_neighbors=554, weights=uniform; total time=   6.1s\n",
      "[CV] END algorithm=ball_tree, leaf_size=60, n_neighbors=554, weights=uniform; total time=   6.1s\n",
      "[CV] END algorithm=auto, leaf_size=90, n_neighbors=482, weights=uniform; total time=   5.2s\n",
      "[CV] END algorithm=auto, leaf_size=90, n_neighbors=482, weights=uniform; total time=   5.6s\n",
      "[CV] END algorithm=auto, leaf_size=90, n_neighbors=482, weights=uniform; total time=   5.6s\n",
      "[CV] END algorithm=auto, leaf_size=90, n_neighbors=482, weights=uniform; total time=   5.4s\n",
      "[CV] END algorithm=auto, leaf_size=90, n_neighbors=482, weights=uniform; total time=   5.6s\n",
      "[CV] END algorithm=auto, leaf_size=60, n_neighbors=554, weights=distance; total time=   6.5s\n",
      "[CV] END algorithm=auto, leaf_size=60, n_neighbors=554, weights=distance; total time=   6.0s\n",
      "[CV] END algorithm=auto, leaf_size=60, n_neighbors=554, weights=distance; total time=   5.9s\n",
      "[CV] END algorithm=auto, leaf_size=60, n_neighbors=554, weights=distance; total time=   6.5s\n",
      "[CV] END algorithm=auto, leaf_size=60, n_neighbors=554, weights=distance; total time=   5.4s\n",
      "Best Score: 0.622, with parameters: {'weights': 'distance', 'n_neighbors': 554, 'leaf_size': 60, 'algorithm': 'auto'}\n",
      "Accuracy: 0.622\n",
      "Precision: 0.808\n",
      "Recall: 0.622\n",
      "F1 Score: 0.601\n",
      "-------------------------------------------------------------------------------------------------------------------\n",
      "[     1      2      3 ... 116899 116900 116901]\n",
      "[     0      9     14 ... 116886 116891 116895]\n",
      "Fitting 5 folds for each of 5 candidates, totalling 25 fits\n",
      "[CV] END algorithm=auto, leaf_size=90, n_neighbors=409, weights=uniform; total time=   5.6s\n",
      "[CV] END algorithm=auto, leaf_size=90, n_neighbors=409, weights=uniform; total time=   5.5s\n",
      "[CV] END algorithm=auto, leaf_size=90, n_neighbors=409, weights=uniform; total time=   5.2s\n",
      "[CV] END algorithm=auto, leaf_size=90, n_neighbors=409, weights=uniform; total time=   5.0s\n",
      "[CV] END algorithm=auto, leaf_size=90, n_neighbors=409, weights=uniform; total time=   4.9s\n",
      "[CV] END algorithm=kd_tree, leaf_size=30, n_neighbors=627, weights=distance; total time=   6.8s\n",
      "[CV] END algorithm=kd_tree, leaf_size=30, n_neighbors=627, weights=distance; total time=   6.8s\n",
      "[CV] END algorithm=kd_tree, leaf_size=30, n_neighbors=627, weights=distance; total time=   6.3s\n",
      "[CV] END algorithm=kd_tree, leaf_size=30, n_neighbors=627, weights=distance; total time=   6.9s\n",
      "[CV] END algorithm=kd_tree, leaf_size=30, n_neighbors=627, weights=distance; total time=   7.3s\n",
      "[CV] END algorithm=ball_tree, leaf_size=60, n_neighbors=554, weights=uniform; total time=   6.2s\n",
      "[CV] END algorithm=ball_tree, leaf_size=60, n_neighbors=554, weights=uniform; total time=   6.3s\n",
      "[CV] END algorithm=ball_tree, leaf_size=60, n_neighbors=554, weights=uniform; total time=   6.6s\n",
      "[CV] END algorithm=ball_tree, leaf_size=60, n_neighbors=554, weights=uniform; total time=   6.1s\n",
      "[CV] END algorithm=ball_tree, leaf_size=60, n_neighbors=554, weights=uniform; total time=   6.5s\n",
      "[CV] END algorithm=auto, leaf_size=90, n_neighbors=482, weights=uniform; total time=   5.5s\n",
      "[CV] END algorithm=auto, leaf_size=90, n_neighbors=482, weights=uniform; total time=   5.4s\n",
      "[CV] END algorithm=auto, leaf_size=90, n_neighbors=482, weights=uniform; total time=   5.5s\n",
      "[CV] END algorithm=auto, leaf_size=90, n_neighbors=482, weights=uniform; total time=   5.3s\n",
      "[CV] END algorithm=auto, leaf_size=90, n_neighbors=482, weights=uniform; total time=   5.2s\n",
      "[CV] END algorithm=auto, leaf_size=60, n_neighbors=554, weights=distance; total time=   5.4s\n",
      "[CV] END algorithm=auto, leaf_size=60, n_neighbors=554, weights=distance; total time=   5.6s\n",
      "[CV] END algorithm=auto, leaf_size=60, n_neighbors=554, weights=distance; total time=   5.5s\n",
      "[CV] END algorithm=auto, leaf_size=60, n_neighbors=554, weights=distance; total time=   5.7s\n",
      "[CV] END algorithm=auto, leaf_size=60, n_neighbors=554, weights=distance; total time=   5.5s\n",
      "Best Score: 0.622, with parameters: {'weights': 'distance', 'n_neighbors': 554, 'leaf_size': 60, 'algorithm': 'auto'}\n",
      "Accuracy: 0.623\n",
      "Precision: 0.804\n",
      "Recall: 0.623\n",
      "F1 Score: 0.603\n",
      "-------------------------------------------------------------------------------------------------------------------\n",
      "[     0      1      2 ... 116898 116900 116901]\n",
      "[     3      5      7 ... 116887 116896 116899]\n",
      "Fitting 5 folds for each of 5 candidates, totalling 25 fits\n",
      "[CV] END algorithm=auto, leaf_size=90, n_neighbors=409, weights=uniform; total time=   4.7s\n",
      "[CV] END algorithm=auto, leaf_size=90, n_neighbors=409, weights=uniform; total time=   5.0s\n",
      "[CV] END algorithm=auto, leaf_size=90, n_neighbors=409, weights=uniform; total time=   4.9s\n",
      "[CV] END algorithm=auto, leaf_size=90, n_neighbors=409, weights=uniform; total time=   4.9s\n",
      "[CV] END algorithm=auto, leaf_size=90, n_neighbors=409, weights=uniform; total time=   4.9s\n",
      "[CV] END algorithm=kd_tree, leaf_size=30, n_neighbors=627, weights=distance; total time=   6.4s\n",
      "[CV] END algorithm=kd_tree, leaf_size=30, n_neighbors=627, weights=distance; total time=   6.4s\n",
      "[CV] END algorithm=kd_tree, leaf_size=30, n_neighbors=627, weights=distance; total time=   6.1s\n",
      "[CV] END algorithm=kd_tree, leaf_size=30, n_neighbors=627, weights=distance; total time=   6.4s\n",
      "[CV] END algorithm=kd_tree, leaf_size=30, n_neighbors=627, weights=distance; total time=   6.1s\n",
      "[CV] END algorithm=ball_tree, leaf_size=60, n_neighbors=554, weights=uniform; total time=   6.6s\n",
      "[CV] END algorithm=ball_tree, leaf_size=60, n_neighbors=554, weights=uniform; total time=   6.1s\n",
      "[CV] END algorithm=ball_tree, leaf_size=60, n_neighbors=554, weights=uniform; total time=   6.1s\n",
      "[CV] END algorithm=ball_tree, leaf_size=60, n_neighbors=554, weights=uniform; total time=   6.6s\n",
      "[CV] END algorithm=ball_tree, leaf_size=60, n_neighbors=554, weights=uniform; total time=   6.2s\n",
      "[CV] END algorithm=auto, leaf_size=90, n_neighbors=482, weights=uniform; total time=   5.3s\n",
      "[CV] END algorithm=auto, leaf_size=90, n_neighbors=482, weights=uniform; total time=   5.3s\n",
      "[CV] END algorithm=auto, leaf_size=90, n_neighbors=482, weights=uniform; total time=   5.0s\n",
      "[CV] END algorithm=auto, leaf_size=90, n_neighbors=482, weights=uniform; total time=   5.2s\n",
      "[CV] END algorithm=auto, leaf_size=90, n_neighbors=482, weights=uniform; total time=   5.2s\n",
      "[CV] END algorithm=auto, leaf_size=60, n_neighbors=554, weights=distance; total time=   5.6s\n",
      "[CV] END algorithm=auto, leaf_size=60, n_neighbors=554, weights=distance; total time=   5.7s\n",
      "[CV] END algorithm=auto, leaf_size=60, n_neighbors=554, weights=distance; total time=   5.3s\n",
      "[CV] END algorithm=auto, leaf_size=60, n_neighbors=554, weights=distance; total time=   5.8s\n",
      "[CV] END algorithm=auto, leaf_size=60, n_neighbors=554, weights=distance; total time=   5.6s\n",
      "Best Score: 0.621, with parameters: {'weights': 'distance', 'n_neighbors': 554, 'leaf_size': 60, 'algorithm': 'auto'}\n",
      "Accuracy: 0.624\n",
      "Precision: 0.812\n",
      "Recall: 0.624\n",
      "F1 Score: 0.604\n",
      "-------------------------------------------------------------------------------------------------------------------\n",
      "[     0      1      2 ... 116899 116900 116901]\n",
      "[    10     23     38 ... 116885 116889 116890]\n",
      "Fitting 5 folds for each of 5 candidates, totalling 25 fits\n"
     ]
    },
    {
     "name": "stdout",
     "output_type": "stream",
     "text": [
      "[CV] END algorithm=auto, leaf_size=90, n_neighbors=409, weights=uniform; total time=   5.1s\n",
      "[CV] END algorithm=auto, leaf_size=90, n_neighbors=409, weights=uniform; total time=   5.0s\n",
      "[CV] END algorithm=auto, leaf_size=90, n_neighbors=409, weights=uniform; total time=   4.7s\n",
      "[CV] END algorithm=auto, leaf_size=90, n_neighbors=409, weights=uniform; total time=   4.6s\n",
      "[CV] END algorithm=auto, leaf_size=90, n_neighbors=409, weights=uniform; total time=   4.5s\n",
      "[CV] END algorithm=kd_tree, leaf_size=30, n_neighbors=627, weights=distance; total time=   6.9s\n",
      "[CV] END algorithm=kd_tree, leaf_size=30, n_neighbors=627, weights=distance; total time=   6.2s\n",
      "[CV] END algorithm=kd_tree, leaf_size=30, n_neighbors=627, weights=distance; total time=   6.2s\n",
      "[CV] END algorithm=kd_tree, leaf_size=30, n_neighbors=627, weights=distance; total time=   6.6s\n",
      "[CV] END algorithm=kd_tree, leaf_size=30, n_neighbors=627, weights=distance; total time=   5.9s\n",
      "[CV] END algorithm=ball_tree, leaf_size=60, n_neighbors=554, weights=uniform; total time=   6.7s\n",
      "[CV] END algorithm=ball_tree, leaf_size=60, n_neighbors=554, weights=uniform; total time=   6.1s\n",
      "[CV] END algorithm=ball_tree, leaf_size=60, n_neighbors=554, weights=uniform; total time=   5.9s\n",
      "[CV] END algorithm=ball_tree, leaf_size=60, n_neighbors=554, weights=uniform; total time=   6.2s\n",
      "[CV] END algorithm=ball_tree, leaf_size=60, n_neighbors=554, weights=uniform; total time=   6.3s\n",
      "[CV] END algorithm=auto, leaf_size=90, n_neighbors=482, weights=uniform; total time=   5.2s\n",
      "[CV] END algorithm=auto, leaf_size=90, n_neighbors=482, weights=uniform; total time=   5.2s\n",
      "[CV] END algorithm=auto, leaf_size=90, n_neighbors=482, weights=uniform; total time=   5.2s\n",
      "[CV] END algorithm=auto, leaf_size=90, n_neighbors=482, weights=uniform; total time=   5.3s\n",
      "[CV] END algorithm=auto, leaf_size=90, n_neighbors=482, weights=uniform; total time=   5.0s\n",
      "[CV] END algorithm=auto, leaf_size=60, n_neighbors=554, weights=distance; total time=   4.8s\n",
      "[CV] END algorithm=auto, leaf_size=60, n_neighbors=554, weights=distance; total time=   5.1s\n",
      "[CV] END algorithm=auto, leaf_size=60, n_neighbors=554, weights=distance; total time=   6.2s\n",
      "[CV] END algorithm=auto, leaf_size=60, n_neighbors=554, weights=distance; total time=   7.0s\n",
      "[CV] END algorithm=auto, leaf_size=60, n_neighbors=554, weights=distance; total time=   6.3s\n",
      "Best Score: 0.622, with parameters: {'weights': 'distance', 'n_neighbors': 554, 'leaf_size': 60, 'algorithm': 'auto'}\n",
      "Accuracy: 0.622\n",
      "Precision: 0.808\n",
      "Recall: 0.622\n",
      "F1 Score: 0.601\n",
      "-------------------------------------------------------------------------------------------------------------------\n"
     ]
    }
   ],
   "source": [
    "t0 = time()\n",
    "count = 0\n",
    "for train_ix, test_ix in cv_outer_knn.split(X, y):\n",
    "    print(train_ix)\n",
    "    print(test_ix)\n",
    "    X_train_cv_knn, X_test_cv_knn = X.iloc[train_ix, :], X.iloc[test_ix, :]\n",
    "    y_train_cv_knn, y_test_cv_knn = y.iloc[train_ix], y.iloc[test_ix]\n",
    "    \n",
    "    cv_inner_knn = KFold(n_splits=5, shuffle=True, random_state=1)\n",
    "    \n",
    "    knn_kfold = KNeighborsClassifier(n_jobs=1)\n",
    "    \n",
    "    n_neighbors = [int(x) for x in np.linspace(start = 10, stop = 700, num = 20)]\n",
    "    \n",
    "    weights = ['uniform', 'distance']\n",
    "    \n",
    "    algorithms = ['auto', 'ball_tree', 'kd_tree', 'brute']\n",
    "    \n",
    "    leaf_sizes = [30, 60, 90, 150, 200]\n",
    "    \n",
    "    random_grid = {'n_neighbors': n_neighbors,\n",
    "                   'weights': weights,\n",
    "                   'algorithm': algorithms,\n",
    "                   'leaf_size': leaf_sizes}\n",
    "    \n",
    "    knn_random_kfold = RandomizedSearchCV(estimator=knn_kfold, param_distributions=random_grid, n_iter=5, cv=cv_inner_knn, \n",
    "                                   verbose=2, random_state=42, n_jobs = 2)\n",
    "    \n",
    "    result_knn = knn_random_kfold.fit(X_train_cv_knn, y_train_cv_knn.values.flatten())\n",
    "    \n",
    "    knn_random_kfold_best = knn_random_kfold.best_estimator_\n",
    "    \n",
    "    filePath = \"%s/KNN Models/KFold Models/kfold_model_%s.sav\" %(path, count)\n",
    "    os.makedirs(os.path.dirname(filePath), exist_ok=True)\n",
    "    fileObj = open(filePath, 'wb')\n",
    "    pickle.dump(knn_random_kfold_best, fileObj)\n",
    "    fileObj.close()\n",
    "    \n",
    "    ypred_knn_random_kfold = knn_random_kfold_best.predict(X_test_cv_knn)\n",
    "    accuracy_this_fold_knn = accuracy_score(y_test_cv_knn, ypred_knn_random_kfold)\n",
    "    precision_this_fold_knn = precision_score(y_test_cv_knn, ypred_knn_random_kfold, average='weighted')\n",
    "    recall_this_fold_knn = recall_score(y_test_cv_knn, ypred_knn_random_kfold, average='weighted')\n",
    "    f1_score_this_fold_knn = f1_score(y_test_cv_knn, ypred_knn_random_kfold, average='weighted')\n",
    "    \n",
    "    print(\"Best Score: %.3f, with parameters: %s\" %(result_knn.best_score_, result_knn.best_params_))    \n",
    "    \n",
    "    print(\"Accuracy: %.3f\" %(accuracy_this_fold_knn))\n",
    "    print(\"Precision: %.3f\" %(precision_this_fold_knn))\n",
    "    print(\"Recall: %.3f\" %(recall_this_fold_knn))\n",
    "    print(\"F1 Score: %.3f\" %(f1_score_this_fold_knn))\n",
    "    \n",
    "    accuracy_scores_knn.append(accuracy_this_fold_knn)\n",
    "    precision_scores_knn.append(precision_this_fold_knn)\n",
    "    recall_scores_knn.append(recall_this_fold_knn)\n",
    "    f1_scores_knn.append(f1_score_this_fold_knn)\n",
    "    \n",
    "    count = count + 1\n",
    "    print(\"-------------------------------------------------------------------------------------------------------------------\")\n",
    "\n",
    "nested_cv_time_knn = time() - t0"
   ]
  },
  {
   "cell_type": "code",
   "execution_count": 513,
   "id": "660514b6",
   "metadata": {},
   "outputs": [
    {
     "data": {
      "text/plain": [
       "{'weights': 'distance',\n",
       " 'n_neighbors': 554,\n",
       " 'leaf_size': 60,\n",
       " 'algorithm': 'auto'}"
      ]
     },
     "execution_count": 513,
     "metadata": {},
     "output_type": "execute_result"
    }
   ],
   "source": [
    "knn_random_kfold.best_params_"
   ]
  },
  {
   "cell_type": "code",
   "execution_count": 514,
   "id": "7552091a",
   "metadata": {},
   "outputs": [
    {
     "name": "stdout",
     "output_type": "stream",
     "text": [
      "nested_cv_time_knn: 779\n"
     ]
    }
   ],
   "source": [
    "print(\"nested_cv_time_knn: %d\" %(nested_cv_time_knn))"
   ]
  },
  {
   "cell_type": "code",
   "execution_count": 148,
   "id": "0fc77272",
   "metadata": {},
   "outputs": [],
   "source": [
    "filePathAcc = \"%s/KNN Models/KFold Models/kfold_accuracy_scores.txt\" %(path)\n",
    "os.makedirs(os.path.dirname(filePathAcc), exist_ok=True)\n",
    "\n",
    "filePathPrec = \"%s/KNN Models/KFold Models/kfold_precision_scores.txt\" %(path)\n",
    "os.makedirs(os.path.dirname(filePathPrec), exist_ok=True)\n",
    "\n",
    "filePathRecall = \"%s/KNN Models/KFold Models/kfold_recall_scores.txt\" %(path)\n",
    "os.makedirs(os.path.dirname(filePathRecall), exist_ok=True)\n",
    "\n",
    "filePathF1 = \"%s/KNN Models/KFold Models/kfold_f1_scores.txt\" %(path)\n",
    "os.makedirs(os.path.dirname(filePathF1), exist_ok=True)\n",
    "\n",
    "with open(filePathAcc, 'w') as filehandle:\n",
    "    json.dump(accuracy_scores_knn, filehandle)\n",
    "    \n",
    "with open(filePathPrec, 'w') as filehandle:\n",
    "    json.dump(precision_scores_knn, filehandle)\n",
    "    \n",
    "with open(filePathRecall, 'w') as filehandle:\n",
    "    json.dump(recall_scores_knn, filehandle)\n",
    "    \n",
    "with open(filePathF1, 'w') as filehandle:\n",
    "    json.dump(f1_scores_knn, filehandle)"
   ]
  },
  {
   "cell_type": "code",
   "execution_count": 71,
   "id": "cdaeb4ca",
   "metadata": {},
   "outputs": [],
   "source": [
    "filePathAcc = \"%s/KNN Models/KFold Models/kfold_accuracy_scores.txt\" %(path)\n",
    "\n",
    "filePathPrec = \"%s/KNN Models/KFold Models/kfold_precision_scores.txt\" %(path)\n",
    "\n",
    "filePathRecall = \"%s/KNN Models/KFold Models/kfold_recall_scores.txt\" %(path)\n",
    "\n",
    "filePathF1 = \"%s/KNN Models/KFold Models/kfold_f1_scores.txt\" %(path)\n",
    "\n",
    "with open(filePathAcc) as filehandle:\n",
    "    data = json.load(filehandle)\n",
    "    accuracy_scores_knn = data\n",
    "    \n",
    "with open(filePathPrec) as filehandle:\n",
    "    data = json.load(filehandle)\n",
    "    precision_scores_knn = data\n",
    "    \n",
    "with open(filePathRecall) as filehandle:\n",
    "    data = json.load(filehandle)\n",
    "    recall_scores_knn = data\n",
    "    \n",
    "with open(filePathF1) as filehandle:\n",
    "    data = json.load(filehandle)\n",
    "    f1_scores_knn = data"
   ]
  },
  {
   "cell_type": "code",
   "execution_count": 72,
   "id": "3d523ce4",
   "metadata": {},
   "outputs": [
    {
     "name": "stdout",
     "output_type": "stream",
     "text": [
      "K-NN K-fold Mean Accuracy: 0.623, with deviation of: 0.002\n",
      "K-NN K-fold Mean Precision: 0.809, with deviation of: 0.004\n",
      "K-NN K-fold Mean Recall: 0.623, with deviation of: 0.002\n",
      "K-NN K-fold Mean F1 Score: 0.603, with deviation of: 0.003\n"
     ]
    }
   ],
   "source": [
    "accuracy_scores_knn = np.asarray(accuracy_scores_knn)\n",
    "precision_scores_knn = np.asarray(precision_scores_knn)\n",
    "recall_scores_knn = np.asarray(recall_scores_knn)\n",
    "f1_scores_knn = np.asarray(f1_scores_knn)\n",
    "\n",
    "print(\"K-NN K-fold Mean Accuracy: %.3f, with deviation of: %.3f\" %(accuracy_scores_knn.mean(), \n",
    "                                                                 (accuracy_scores_knn.std())))\n",
    "\n",
    "print(\"K-NN K-fold Mean Precision: %.3f, with deviation of: %.3f\" %(precision_scores_knn.mean(), \n",
    "                                                                  precision_scores_knn.std()))\n",
    "\n",
    "print(\"K-NN K-fold Mean Recall: %.3f, with deviation of: %.3f\" %(recall_scores_knn.mean(), \n",
    "                                                               recall_scores_knn.std()))\n",
    "\n",
    "print(\"K-NN K-fold Mean F1 Score: %.3f, with deviation of: %.3f\" %(f1_scores_knn.mean(), \n",
    "                                                                 f1_scores_knn.std()))"
   ]
  },
  {
   "cell_type": "code",
   "execution_count": 280,
   "id": "7a51d83c",
   "metadata": {},
   "outputs": [
    {
     "data": {
      "image/png": "[encoded data removed]",
      "text/plain": [
       "<Figure size 360x324 with 1 Axes>"
      ]
     },
     "metadata": {
      "needs_background": "light"
     },
     "output_type": "display_data"
    }
   ],
   "source": [
    "knn_kfold_plot_data = pd.DataFrame({\n",
    "    'Recall': recall_scores_knn,\n",
    "    'Precision': precision_scores_knn,\n",
    "    'F1-score': f1_scores_knn\n",
    "})\n",
    "fig, ax1 = plt.subplots(figsize=(5, 4.5))\n",
    "knn_kfold_lineplot = sns.lineplot(data=knn_kfold_plot_data, ax=ax1)\n",
    "ax1.set(xlim=(0, 9))\n",
    "ax1.set(ylim=(0.51, 0.85))\n",
    "ax1.set_xlabel(\"Iteration Number\", labelpad=10)\n",
    "ax1.set_ylabel(\"Evaluation Metrics\", labelpad=10)\n",
    "plt.legend(bbox_to_anchor=(1.05, 1), loc='upper left', borderaxespad=0)\n",
    "sns.despine(fig)"
   ]
  },
  {
   "cell_type": "markdown",
   "id": "bc2d0435",
   "metadata": {},
   "source": [
    "### KNN - Testing model with different percentages of train and test data"
   ]
  },
  {
   "cell_type": "code",
   "execution_count": 125,
   "id": "9c182f4c",
   "metadata": {},
   "outputs": [],
   "source": [
    "accuracy_scores_tt_knn=[]\n",
    "precision_scores_tt_knn=[]\n",
    "recall_scores_tt_knn=[]\n",
    "f1_scores_tt_knn=[]"
   ]
  },
  {
   "cell_type": "code",
   "execution_count": 126,
   "id": "a00f1eaa",
   "metadata": {},
   "outputs": [
    {
     "name": "stdout",
     "output_type": "stream",
     "text": [
      "Train: 0.90 and Test: 0.10\n",
      "Accuracy: 0.876\n",
      "Precision: 0.895\n",
      "Recall: 0.876\n",
      "F1 Score: 0.843\n",
      "-------------------------------------------------------------------------------------------------------------------\n",
      "Train: 0.80 and Test: 0.20\n",
      "Accuracy: 0.875\n",
      "Precision: 0.896\n",
      "Recall: 0.875\n",
      "F1 Score: 0.843\n",
      "-------------------------------------------------------------------------------------------------------------------\n",
      "Train: 0.75 and Test: 0.25\n",
      "Accuracy: 0.874\n",
      "Precision: 0.893\n",
      "Recall: 0.874\n",
      "F1 Score: 0.843\n",
      "-------------------------------------------------------------------------------------------------------------------\n",
      "Train: 0.60 and Test: 0.40\n",
      "Accuracy: 0.874\n",
      "Precision: 0.889\n",
      "Recall: 0.874\n",
      "F1 Score: 0.843\n",
      "-------------------------------------------------------------------------------------------------------------------\n",
      "Train: 0.50 and Test: 0.50\n",
      "Accuracy: 0.873\n",
      "Precision: 0.890\n",
      "Recall: 0.873\n",
      "F1 Score: 0.842\n",
      "-------------------------------------------------------------------------------------------------------------------\n",
      "Train: 0.40 and Test: 0.60\n",
      "Accuracy: 0.871\n",
      "Precision: 0.886\n",
      "Recall: 0.871\n",
      "F1 Score: 0.841\n",
      "-------------------------------------------------------------------------------------------------------------------\n",
      "Train: 0.30 and Test: 0.70\n",
      "Accuracy: 0.868\n",
      "Precision: 0.880\n",
      "Recall: 0.868\n",
      "F1 Score: 0.838\n",
      "-------------------------------------------------------------------------------------------------------------------\n",
      "Train: 0.15 and Test: 0.85\n",
      "Accuracy: 0.855\n",
      "Precision: 0.860\n",
      "Recall: 0.855\n",
      "F1 Score: 0.827\n",
      "-------------------------------------------------------------------------------------------------------------------\n"
     ]
    }
   ],
   "source": [
    "t0 = time()\n",
    "count = 0\n",
    "for ratio in [(0.9,0.1), (0.8,0.2), (0.75,0.25), (0.6,0.4), (0.5,0.5), (0.4,0.6), (0.3, 0.7), (0.15, 0.85)]:\n",
    "    print(\"Train: %.2f and Test: %.2f\" %(ratio[0], ratio[1]))\n",
    "    \n",
    "    X_train_tt_knn, X_test_tt_knn, y_train_tt_knn, y_test_tt_knn = train_test_split(X, y, train_size=ratio[0], random_state = 1)\n",
    "    \n",
    "    knn_tt = KNeighborsClassifier(n_jobs=2, \n",
    "                                 weights='distance',\n",
    "                                 n_neighbors=554,\n",
    "                                 leaf_size=60)\\\n",
    "    .fit(X_train_tt_knn, y_train_tt_knn.values.flatten())\n",
    "    \n",
    "    filePath = \"%s/KNN Models/TT Models/tt_model_%s.sav\" %(path, count)\n",
    "    os.makedirs(os.path.dirname(filePath), exist_ok=True)\n",
    "    fileObj = open(filePath, 'wb')\n",
    "    pickle.dump(knn_tt, fileObj)\n",
    "    fileObj.close()\n",
    "    \n",
    "    ypred_knn_tt = knn_tt.predict(X_test_tt_knn)\n",
    "    \n",
    "    accuracy_tt_knn = accuracy_score(y_test_tt_knn, ypred_knn_tt)\n",
    "    precision_tt_knn = precision_score(y_test_tt_knn, ypred_knn_tt, average='weighted')\n",
    "    recall_tt_knn = recall_score(y_test_tt_knn, ypred_knn_tt, average='weighted')\n",
    "    f1_score_tt_knn = f1_score(y_test_tt_knn, ypred_knn_tt, average='weighted')   \n",
    "    \n",
    "    print(\"Accuracy: %.3f\" %(accuracy_tt_knn))\n",
    "    print(\"Precision: %.3f\" %(precision_tt_knn))\n",
    "    print(\"Recall: %.3f\" %(recall_tt_knn))\n",
    "    print(\"F1 Score: %.3f\" %(f1_score_tt_knn))\n",
    "    \n",
    "    accuracy_scores_tt_knn.append(accuracy_tt_knn)\n",
    "    precision_scores_tt_knn.append(precision_tt_knn)\n",
    "    recall_scores_tt_knn.append(recall_tt_knn)\n",
    "    f1_scores_tt_knn.append(f1_score_tt_knn)\n",
    "    \n",
    "    count = count + 1\n",
    "    print(\"-------------------------------------------------------------------------------------------------------------------\")\n",
    "    \n",
    "train_test_time_knn = time() - t0"
   ]
  },
  {
   "cell_type": "code",
   "execution_count": 519,
   "id": "f771ccb3",
   "metadata": {},
   "outputs": [
    {
     "name": "stdout",
     "output_type": "stream",
     "text": [
      "train_test_time_knn: 87\n"
     ]
    }
   ],
   "source": [
    "print(\"train_test_time_knn: %d\" %(train_test_time_knn))"
   ]
  },
  {
   "cell_type": "code",
   "execution_count": 342,
   "id": "1cec48ca",
   "metadata": {},
   "outputs": [],
   "source": [
    "filePathAcc = \"%s/KNN Models/TT Models/tt_accuracy_scores.txt\" %(path)\n",
    "os.makedirs(os.path.dirname(filePathAcc), exist_ok=True)\n",
    "\n",
    "filePathPrec = \"%s/KNN Models/TT Models/tt_precision_scores.txt\" %(path)\n",
    "os.makedirs(os.path.dirname(filePathPrec), exist_ok=True)\n",
    "\n",
    "filePathRecall = \"%s/KNN Models/TT Models/tt_recall_scores.txt\" %(path)\n",
    "os.makedirs(os.path.dirname(filePathRecall), exist_ok=True)\n",
    "\n",
    "filePathF1 = \"%s/KNN Models/TT Models/tt_f1_scores.txt\" %(path)\n",
    "os.makedirs(os.path.dirname(filePathF1), exist_ok=True)\n",
    "\n",
    "with open(filePathAcc, 'w') as filehandle:\n",
    "    json.dump(accuracy_scores_tt_knn, filehandle)\n",
    "    \n",
    "with open(filePathPrec, 'w') as filehandle:\n",
    "    json.dump(precision_scores_tt_knn, filehandle)\n",
    "    \n",
    "with open(filePathRecall, 'w') as filehandle:\n",
    "    json.dump(recall_scores_tt_knn, filehandle)\n",
    "    \n",
    "with open(filePathF1, 'w') as filehandle:\n",
    "    json.dump(f1_scores_tt_knn, filehandle)"
   ]
  },
  {
   "cell_type": "code",
   "execution_count": 75,
   "id": "b1d5b93b",
   "metadata": {},
   "outputs": [],
   "source": [
    "filePathAcc = \"%s/KNN Models/TT Models/tt_accuracy_scores.txt\" %(path)\n",
    "\n",
    "filePathPrec = \"%s/KNN Models/TT Models/tt_precision_scores.txt\" %(path)\n",
    "\n",
    "filePathRecall = \"%s/KNN Models/TT Models/tt_recall_scores.txt\" %(path)\n",
    "\n",
    "filePathF1 = \"%s/KNN Models/TT Models/tt_f1_scores.txt\" %(path)\n",
    "\n",
    "with open(filePathAcc) as filehandle:\n",
    "    data = json.load(filehandle)\n",
    "    accuracy_scores_tt_knn = data\n",
    "    \n",
    "with open(filePathPrec) as filehandle:\n",
    "    data = json.load(filehandle)\n",
    "    precision_scores_tt_knn = data\n",
    "    \n",
    "with open(filePathRecall) as filehandle:\n",
    "    data = json.load(filehandle)\n",
    "    recall_scores_tt_knn = data\n",
    "    \n",
    "with open(filePathF1) as filehandle:\n",
    "    data = json.load(filehandle)\n",
    "    f1_scores_tt_knn = data"
   ]
  },
  {
   "cell_type": "code",
   "execution_count": 76,
   "id": "ee113d84",
   "metadata": {},
   "outputs": [
    {
     "name": "stdout",
     "output_type": "stream",
     "text": [
      "K-NN TT Accuracy: 0.871, with deviation of: 0.006\n",
      "K-NN TT Precision: 0.886, with deviation of: 0.011\n",
      "K-NN TT Recall: 0.871, with deviation of: 0.006\n",
      "K-NN TT F1 Score: 0.840, with deviation of: 0.005\n"
     ]
    }
   ],
   "source": [
    "accuracy_scores_tt_knn = np.asarray(accuracy_scores_tt_knn)\n",
    "precision_scores_tt_knn = np.asarray(precision_scores_tt_knn)\n",
    "recall_scores_tt_knn = np.asarray(recall_scores_tt_knn)\n",
    "f1_scores_tt_knn = np.asarray(f1_scores_tt_knn)\n",
    "\n",
    "print(\"K-NN TT Accuracy: %.3f, with deviation of: %.3f\" %(accuracy_scores_tt_knn.mean(), \n",
    "                                                                 (accuracy_scores_tt_knn.std())))\n",
    "\n",
    "print(\"K-NN TT Precision: %.3f, with deviation of: %.3f\" %(precision_scores_tt_knn.mean(), \n",
    "                                                                  precision_scores_tt_knn.std()))\n",
    "\n",
    "print(\"K-NN TT Recall: %.3f, with deviation of: %.3f\" %(recall_scores_tt_knn.mean(), \n",
    "                                                               recall_scores_tt_knn.std()))\n",
    "\n",
    "print(\"K-NN TT F1 Score: %.3f, with deviation of: %.3f\" %(f1_scores_tt_knn.mean(), \n",
    "                                                                 f1_scores_tt_knn.std()))"
   ]
  },
  {
   "cell_type": "code",
   "execution_count": 281,
   "id": "e868ccc6",
   "metadata": {},
   "outputs": [
    {
     "name": "stderr",
     "output_type": "stream",
     "text": [
      "C:\\Users\\aakas\\AppData\\Local\\Temp\\ipykernel_39076\\2930073975.py:12: UserWarning: FixedFormatter should only be used together with FixedLocator\n",
      "  knn_tt_lineplot.set_xticklabels([\"(0.9,0.1)\", \"(0.8,0.2)\", \"(0.75,0.25)\", \"(0.6,0.4)\", \"(0.5,0.5)\",\n"
     ]
    },
    {
     "data": {
      "image/png": "[encoded data removed]",
      "text/plain": [
       "<Figure size 446.4x360 with 1 Axes>"
      ]
     },
     "metadata": {
      "needs_background": "light"
     },
     "output_type": "display_data"
    }
   ],
   "source": [
    "knn_train_test_plot_data = pd.DataFrame({\n",
    "    'Recall': recall_scores_tt_knn,\n",
    "    'Precision': precision_scores_tt_knn,\n",
    "    'F1-score': f1_scores_tt_knn\n",
    "})\n",
    "fig, ax1 = plt.subplots(figsize=(6.2, 5))\n",
    "knn_tt_lineplot = sns.lineplot(data=knn_train_test_plot_data, ax=ax1)\n",
    "ax1.set(xlim=(0, 7))\n",
    "ax1.set_xlabel(\"Train/Test Ratio\", labelpad=10)\n",
    "ax1.set_ylabel(\"Evaluation Metrics\", labelpad=10)\n",
    "plt.legend(bbox_to_anchor=(1.05, 1), loc='upper left', borderaxespad=0)\n",
    "knn_tt_lineplot.set_xticklabels([\"(0.9,0.1)\", \"(0.8,0.2)\", \"(0.75,0.25)\", \"(0.6,0.4)\", \"(0.5,0.5)\", \n",
    "                   \"(0.4,0.6)\", \"(0.3,0.7)\", \"(0.15,0.85)\"])\n",
    "sns.despine(fig)"
   ]
  },
  {
   "cell_type": "markdown",
   "id": "5fce1999",
   "metadata": {},
   "source": [
    "## Training supervised model for fault type predicition - Random Forest"
   ]
  },
  {
   "cell_type": "code",
   "execution_count": 196,
   "id": "77d3a9a6",
   "metadata": {},
   "outputs": [],
   "source": [
    "t0 = time()\n",
    "rfc = RandomForestClassifier(n_estimators=20, min_samples_split=350, min_samples_leaf=350,\n",
    "                             max_features='sqrt', max_depth=7, bootstrap=False, \n",
    "                             random_state=0, criterion=\"entropy\").fit(X_train, y_train.values.flatten())\n",
    "rf_fit_time = time() - t0"
   ]
  },
  {
   "cell_type": "code",
   "execution_count": 197,
   "id": "520c5e64",
   "metadata": {},
   "outputs": [
    {
     "name": "stdout",
     "output_type": "stream",
     "text": [
      "rf_fit_time: 0\n"
     ]
    }
   ],
   "source": [
    "print(\"rf_fit_time: %d\" %(rf_fit_time))"
   ]
  },
  {
   "cell_type": "markdown",
   "id": "1a01cc22",
   "metadata": {},
   "source": [
    "### Random Forest - Separate model training for application data and software properties "
   ]
  },
  {
   "cell_type": "code",
   "execution_count": 198,
   "id": "5f3c00e8",
   "metadata": {},
   "outputs": [],
   "source": [
    "t0 = time()\n",
    "rfc_app = RandomForestClassifier(n_estimators=50, min_samples_split=50, min_samples_leaf=200,\n",
    "                             max_features='auto', max_depth=15, bootstrap=False, \n",
    "                             random_state=0, criterion=\"entropy\").fit(X_train_app, y_train_app.values.flatten())\n",
    "rf_app_fit_time = time() - t0"
   ]
  },
  {
   "cell_type": "code",
   "execution_count": 199,
   "id": "c8d37a12",
   "metadata": {},
   "outputs": [
    {
     "name": "stdout",
     "output_type": "stream",
     "text": [
      "rf_app_fit_time: 1\n"
     ]
    }
   ],
   "source": [
    "print(\"rf_app_fit_time: %d\" %(rf_app_fit_time))"
   ]
  },
  {
   "cell_type": "code",
   "execution_count": 200,
   "id": "1a41423a",
   "metadata": {},
   "outputs": [],
   "source": [
    "t0 = time()\n",
    "rfc_swp = RandomForestClassifier(n_estimators=50, min_samples_split=50, min_samples_leaf=200,\n",
    "                             max_features='auto', max_depth=15, bootstrap=False, \n",
    "                             random_state=0, criterion=\"entropy\").fit(X_train_swp, y_train_swp.values.flatten())\n",
    "rf_swp_fit_time = time() - t0"
   ]
  },
  {
   "cell_type": "code",
   "execution_count": 201,
   "id": "0c34b5ac",
   "metadata": {},
   "outputs": [
    {
     "name": "stdout",
     "output_type": "stream",
     "text": [
      "rf_swp_fit_time: 0\n"
     ]
    }
   ],
   "source": [
    "print(\"rf_swp_fit_time: %d\" %(rf_swp_fit_time))"
   ]
  },
  {
   "cell_type": "markdown",
   "id": "cc93e989",
   "metadata": {},
   "source": [
    "### Random Forest - Nested CV"
   ]
  },
  {
   "cell_type": "code",
   "execution_count": 89,
   "id": "9bc76a82",
   "metadata": {},
   "outputs": [],
   "source": [
    "cv_outer = StratifiedKFold(n_splits=10, random_state=1, shuffle=True)"
   ]
  },
  {
   "cell_type": "code",
   "execution_count": 90,
   "id": "692f70f2",
   "metadata": {},
   "outputs": [],
   "source": [
    "accuracy_scores=[]\n",
    "precision_scores=[]\n",
    "recall_scores=[]\n",
    "f1_scores=[]"
   ]
  },
  {
   "cell_type": "code",
   "execution_count": 91,
   "id": "9e247030",
   "metadata": {},
   "outputs": [
    {
     "name": "stdout",
     "output_type": "stream",
     "text": [
      "[     0      1      2 ... 116898 116899 116900]\n",
      "[    17     47     53 ... 116880 116888 116901]\n",
      "Fitting 5 folds for each of 5 candidates, totalling 25 fits\n",
      "Best Score: 0.882, with parameters: {'n_estimators': 160, 'min_samples_split': 70, 'min_samples_leaf': 100, 'max_features': 'sqrt', 'max_depth': 18, 'bootstrap': False}\n",
      "Accuracy: 0.884\n",
      "Precision: 0.906\n",
      "Recall: 0.884\n",
      "F1 Score: 0.852\n",
      "-------------------------------------------------------------------------------------------------------------------\n",
      "[     0      1      3 ... 116899 116900 116901]\n",
      "[     2     19     21 ... 116882 116883 116897]\n",
      "Fitting 5 folds for each of 5 candidates, totalling 25 fits\n",
      "Best Score: 0.882, with parameters: {'n_estimators': 160, 'min_samples_split': 70, 'min_samples_leaf': 100, 'max_features': 'sqrt', 'max_depth': 18, 'bootstrap': False}\n",
      "Accuracy: 0.883\n",
      "Precision: 0.905\n",
      "Recall: 0.883\n",
      "F1 Score: 0.852\n",
      "-------------------------------------------------------------------------------------------------------------------\n",
      "[     0      2      3 ... 116899 116900 116901]\n",
      "[     1     31     46 ... 116854 116864 116881]\n",
      "Fitting 5 folds for each of 5 candidates, totalling 25 fits\n",
      "Best Score: 0.883, with parameters: {'n_estimators': 160, 'min_samples_split': 70, 'min_samples_leaf': 100, 'max_features': 'sqrt', 'max_depth': 18, 'bootstrap': False}\n",
      "Accuracy: 0.880\n",
      "Precision: 0.900\n",
      "Recall: 0.880\n",
      "F1 Score: 0.846\n",
      "-------------------------------------------------------------------------------------------------------------------\n",
      "[     0      1      2 ... 116899 116900 116901]\n",
      "[     6     12     25 ... 116892 116893 116894]\n",
      "Fitting 5 folds for each of 5 candidates, totalling 25 fits\n",
      "Best Score: 0.882, with parameters: {'n_estimators': 160, 'min_samples_split': 70, 'min_samples_leaf': 100, 'max_features': 'sqrt', 'max_depth': 18, 'bootstrap': False}\n",
      "Accuracy: 0.881\n",
      "Precision: 0.904\n",
      "Recall: 0.881\n",
      "F1 Score: 0.848\n",
      "-------------------------------------------------------------------------------------------------------------------\n",
      "[     0      1      2 ... 116899 116900 116901]\n",
      "[    16     20     32 ... 116876 116878 116898]\n",
      "Fitting 5 folds for each of 5 candidates, totalling 25 fits\n",
      "Best Score: 0.882, with parameters: {'n_estimators': 160, 'min_samples_split': 70, 'min_samples_leaf': 100, 'max_features': 'sqrt', 'max_depth': 18, 'bootstrap': False}\n",
      "Accuracy: 0.884\n",
      "Precision: 0.905\n",
      "Recall: 0.884\n",
      "F1 Score: 0.854\n",
      "-------------------------------------------------------------------------------------------------------------------\n",
      "[     0      1      2 ... 116898 116899 116901]\n",
      "[     4     13     15 ... 116870 116871 116900]\n",
      "Fitting 5 folds for each of 5 candidates, totalling 25 fits\n",
      "Best Score: 0.882, with parameters: {'n_estimators': 160, 'min_samples_split': 70, 'min_samples_leaf': 100, 'max_features': 'sqrt', 'max_depth': 18, 'bootstrap': False}\n",
      "Accuracy: 0.884\n",
      "Precision: 0.905\n",
      "Recall: 0.884\n",
      "F1 Score: 0.852\n",
      "-------------------------------------------------------------------------------------------------------------------\n",
      "[     0      1      2 ... 116899 116900 116901]\n",
      "[     8     11     24 ... 116846 116847 116873]\n",
      "Fitting 5 folds for each of 5 candidates, totalling 25 fits\n",
      "Best Score: 0.882, with parameters: {'n_estimators': 160, 'min_samples_split': 70, 'min_samples_leaf': 100, 'max_features': 'sqrt', 'max_depth': 18, 'bootstrap': False}\n",
      "Accuracy: 0.882\n",
      "Precision: 0.902\n",
      "Recall: 0.882\n",
      "F1 Score: 0.849\n",
      "-------------------------------------------------------------------------------------------------------------------\n",
      "[     1      2      3 ... 116899 116900 116901]\n",
      "[     0      9     14 ... 116886 116891 116895]\n",
      "Fitting 5 folds for each of 5 candidates, totalling 25 fits\n",
      "Best Score: 0.882, with parameters: {'n_estimators': 160, 'min_samples_split': 70, 'min_samples_leaf': 100, 'max_features': 'sqrt', 'max_depth': 18, 'bootstrap': False}\n",
      "Accuracy: 0.880\n",
      "Precision: 0.902\n",
      "Recall: 0.880\n",
      "F1 Score: 0.846\n",
      "-------------------------------------------------------------------------------------------------------------------\n",
      "[     0      1      2 ... 116898 116900 116901]\n",
      "[     3      5      7 ... 116887 116896 116899]\n",
      "Fitting 5 folds for each of 5 candidates, totalling 25 fits\n",
      "Best Score: 0.882, with parameters: {'n_estimators': 160, 'min_samples_split': 70, 'min_samples_leaf': 100, 'max_features': 'sqrt', 'max_depth': 18, 'bootstrap': False}\n",
      "Accuracy: 0.882\n",
      "Precision: 0.903\n",
      "Recall: 0.882\n",
      "F1 Score: 0.850\n",
      "-------------------------------------------------------------------------------------------------------------------\n",
      "[     0      1      2 ... 116899 116900 116901]\n",
      "[    10     23     38 ... 116885 116889 116890]\n",
      "Fitting 5 folds for each of 5 candidates, totalling 25 fits\n",
      "Best Score: 0.882, with parameters: {'n_estimators': 160, 'min_samples_split': 70, 'min_samples_leaf': 100, 'max_features': 'sqrt', 'max_depth': 18, 'bootstrap': False}\n",
      "Accuracy: 0.883\n",
      "Precision: 0.906\n",
      "Recall: 0.883\n",
      "F1 Score: 0.851\n",
      "-------------------------------------------------------------------------------------------------------------------\n"
     ]
    }
   ],
   "source": [
    "t0 = time()\n",
    "count = 0\n",
    "for train_ix, test_ix in cv_outer.split(X, y):\n",
    "    print(train_ix)\n",
    "    print(test_ix)\n",
    "    X_train_cv, X_test_cv = X.iloc[train_ix, :], X.iloc[test_ix, :]\n",
    "    y_train_cv, y_test_cv = y.iloc[train_ix], y.iloc[test_ix]\n",
    "    \n",
    "    cv_inner = KFold(n_splits=5, shuffle=True, random_state=1)\n",
    "    \n",
    "    rfc_kfold = RandomForestClassifier(random_state=0, criterion=\"entropy\")\n",
    "    \n",
    "    n_estimators = [int(x) for x in np.linspace(start = 10, stop = 200, num = 20)]\n",
    "    max_features = ['auto', 'sqrt']\n",
    "    max_depth = [int(x) for x in np.linspace(2, 20, num = 11)]\n",
    "    max_depth.append(None)\n",
    "    min_samples_split = [10, 20, 50, 70, 100]\n",
    "    min_samples_leaf = [100, 200, 300, 400, 500]\n",
    "    bootstrap = [True, False]\n",
    "    random_grid = {'n_estimators': n_estimators,\n",
    "                   'max_features': max_features,\n",
    "                   'max_depth': max_depth,\n",
    "                   'min_samples_split': min_samples_split,\n",
    "                   'min_samples_leaf': min_samples_leaf,\n",
    "                   'bootstrap': bootstrap}\n",
    "    \n",
    "    rf_random_kfold = RandomizedSearchCV(estimator=rfc_kfold, param_distributions=random_grid, n_iter=5, cv=cv_inner, \n",
    "                                   verbose=2, random_state=42, n_jobs = 2)\n",
    "    \n",
    "    result = rf_random_kfold.fit(X_train_cv, y_train_cv.values.flatten())\n",
    "    \n",
    "    rfc_random_kfold_best = rf_random_kfold.best_estimator_\n",
    "    \n",
    "    filePath = \"%s/Random Forest Models/KFold Models/kfold_model_%s.sav\" %(path, count)\n",
    "    os.makedirs(os.path.dirname(filePath), exist_ok=True)\n",
    "    fileObj = open(filePath, 'wb')\n",
    "    pickle.dump(rfc_random_kfold_best, fileObj)\n",
    "    fileObj.close()\n",
    "    \n",
    "    ypred_rfc_random_kfold = rfc_random_kfold_best.predict(X_test_cv)\n",
    "    accuracy_this_fold = accuracy_score(y_test_cv, ypred_rfc_random_kfold)\n",
    "    precision_this_fold = precision_score(y_test_cv, ypred_rfc_random_kfold, average='weighted')\n",
    "    recall_this_fold = recall_score(y_test_cv, ypred_rfc_random_kfold, average='weighted')\n",
    "    f1_score_this_fold = f1_score(y_test_cv, ypred_rfc_random_kfold, average='weighted')\n",
    "    \n",
    "    print(\"Best Score: %.3f, with parameters: %s\" %(result.best_score_, result.best_params_))    \n",
    "    \n",
    "    print(\"Accuracy: %.3f\" %(accuracy_this_fold))\n",
    "    print(\"Precision: %.3f\" %(precision_this_fold))\n",
    "    print(\"Recall: %.3f\" %(recall_this_fold))\n",
    "    print(\"F1 Score: %.3f\" %(f1_score_this_fold))\n",
    "    \n",
    "    accuracy_scores.append(accuracy_this_fold)\n",
    "    precision_scores.append(precision_this_fold)\n",
    "    recall_scores.append(recall_this_fold)\n",
    "    f1_scores.append(f1_score_this_fold)\n",
    "    \n",
    "    count = count + 1\n",
    "    print(\"-------------------------------------------------------------------------------------------------------------------\")\n",
    "\n",
    "nested_cv_time = time() - t0"
   ]
  },
  {
   "cell_type": "code",
   "execution_count": 92,
   "id": "734dca9b",
   "metadata": {},
   "outputs": [
    {
     "name": "stdout",
     "output_type": "stream",
     "text": [
      "nested_cv_time: 246\n"
     ]
    }
   ],
   "source": [
    "print(\"nested_cv_time: %d\" %(nested_cv_time))"
   ]
  },
  {
   "cell_type": "code",
   "execution_count": 93,
   "id": "9aa5a565",
   "metadata": {},
   "outputs": [
    {
     "data": {
      "text/plain": [
       "{'n_estimators': 160,\n",
       " 'min_samples_split': 70,\n",
       " 'min_samples_leaf': 100,\n",
       " 'max_features': 'sqrt',\n",
       " 'max_depth': 18,\n",
       " 'bootstrap': False}"
      ]
     },
     "execution_count": 93,
     "metadata": {},
     "output_type": "execute_result"
    }
   ],
   "source": [
    "rf_random_kfold.best_params_"
   ]
  },
  {
   "cell_type": "code",
   "execution_count": 346,
   "id": "d4c143bf",
   "metadata": {},
   "outputs": [
    {
     "ename": "TypeError",
     "evalue": "Object of type ndarray is not JSON serializable",
     "output_type": "error",
     "traceback": [
      "\u001b[1;31m---------------------------------------------------------------------------\u001b[0m",
      "\u001b[1;31mTypeError\u001b[0m                                 Traceback (most recent call last)",
      "Input \u001b[1;32mIn [346]\u001b[0m, in \u001b[0;36m<module>\u001b[1;34m\u001b[0m\n\u001b[0;32m     11\u001b[0m os\u001b[38;5;241m.\u001b[39mmakedirs(os\u001b[38;5;241m.\u001b[39mpath\u001b[38;5;241m.\u001b[39mdirname(filePathF1), exist_ok\u001b[38;5;241m=\u001b[39m\u001b[38;5;28;01mTrue\u001b[39;00m)\n\u001b[0;32m     13\u001b[0m \u001b[38;5;28;01mwith\u001b[39;00m \u001b[38;5;28mopen\u001b[39m(filePathAcc, \u001b[38;5;124m'\u001b[39m\u001b[38;5;124mw\u001b[39m\u001b[38;5;124m'\u001b[39m) \u001b[38;5;28;01mas\u001b[39;00m filehandle:\n\u001b[1;32m---> 14\u001b[0m     \u001b[43mjson\u001b[49m\u001b[38;5;241;43m.\u001b[39;49m\u001b[43mdump\u001b[49m\u001b[43m(\u001b[49m\u001b[43maccuracy_scores\u001b[49m\u001b[43m,\u001b[49m\u001b[43m \u001b[49m\u001b[43mfilehandle\u001b[49m\u001b[43m)\u001b[49m\n\u001b[0;32m     16\u001b[0m \u001b[38;5;28;01mwith\u001b[39;00m \u001b[38;5;28mopen\u001b[39m(filePathPrec, \u001b[38;5;124m'\u001b[39m\u001b[38;5;124mw\u001b[39m\u001b[38;5;124m'\u001b[39m) \u001b[38;5;28;01mas\u001b[39;00m filehandle:\n\u001b[0;32m     17\u001b[0m     json\u001b[38;5;241m.\u001b[39mdump(precision_scores, filehandle)\n",
      "File \u001b[1;32m~\\AppData\\Local\\Programs\\Python\\Python310\\lib\\json\\__init__.py:179\u001b[0m, in \u001b[0;36mdump\u001b[1;34m(obj, fp, skipkeys, ensure_ascii, check_circular, allow_nan, cls, indent, separators, default, sort_keys, **kw)\u001b[0m\n\u001b[0;32m    173\u001b[0m     iterable \u001b[38;5;241m=\u001b[39m \u001b[38;5;28mcls\u001b[39m(skipkeys\u001b[38;5;241m=\u001b[39mskipkeys, ensure_ascii\u001b[38;5;241m=\u001b[39mensure_ascii,\n\u001b[0;32m    174\u001b[0m         check_circular\u001b[38;5;241m=\u001b[39mcheck_circular, allow_nan\u001b[38;5;241m=\u001b[39mallow_nan, indent\u001b[38;5;241m=\u001b[39mindent,\n\u001b[0;32m    175\u001b[0m         separators\u001b[38;5;241m=\u001b[39mseparators,\n\u001b[0;32m    176\u001b[0m         default\u001b[38;5;241m=\u001b[39mdefault, sort_keys\u001b[38;5;241m=\u001b[39msort_keys, \u001b[38;5;241m*\u001b[39m\u001b[38;5;241m*\u001b[39mkw)\u001b[38;5;241m.\u001b[39miterencode(obj)\n\u001b[0;32m    177\u001b[0m \u001b[38;5;66;03m# could accelerate with writelines in some versions of Python, at\u001b[39;00m\n\u001b[0;32m    178\u001b[0m \u001b[38;5;66;03m# a debuggability cost\u001b[39;00m\n\u001b[1;32m--> 179\u001b[0m \u001b[38;5;28;01mfor\u001b[39;00m chunk \u001b[38;5;129;01min\u001b[39;00m iterable:\n\u001b[0;32m    180\u001b[0m     fp\u001b[38;5;241m.\u001b[39mwrite(chunk)\n",
      "File \u001b[1;32m~\\AppData\\Local\\Programs\\Python\\Python310\\lib\\json\\encoder.py:438\u001b[0m, in \u001b[0;36m_make_iterencode.<locals>._iterencode\u001b[1;34m(o, _current_indent_level)\u001b[0m\n\u001b[0;32m    436\u001b[0m         \u001b[38;5;28;01mraise\u001b[39;00m \u001b[38;5;167;01mValueError\u001b[39;00m(\u001b[38;5;124m\"\u001b[39m\u001b[38;5;124mCircular reference detected\u001b[39m\u001b[38;5;124m\"\u001b[39m)\n\u001b[0;32m    437\u001b[0m     markers[markerid] \u001b[38;5;241m=\u001b[39m o\n\u001b[1;32m--> 438\u001b[0m o \u001b[38;5;241m=\u001b[39m \u001b[43m_default\u001b[49m\u001b[43m(\u001b[49m\u001b[43mo\u001b[49m\u001b[43m)\u001b[49m\n\u001b[0;32m    439\u001b[0m \u001b[38;5;28;01myield from\u001b[39;00m _iterencode(o, _current_indent_level)\n\u001b[0;32m    440\u001b[0m \u001b[38;5;28;01mif\u001b[39;00m markers \u001b[38;5;129;01mis\u001b[39;00m \u001b[38;5;129;01mnot\u001b[39;00m \u001b[38;5;28;01mNone\u001b[39;00m:\n",
      "File \u001b[1;32m~\\AppData\\Local\\Programs\\Python\\Python310\\lib\\json\\encoder.py:179\u001b[0m, in \u001b[0;36mJSONEncoder.default\u001b[1;34m(self, o)\u001b[0m\n\u001b[0;32m    160\u001b[0m \u001b[38;5;28;01mdef\u001b[39;00m \u001b[38;5;21mdefault\u001b[39m(\u001b[38;5;28mself\u001b[39m, o):\n\u001b[0;32m    161\u001b[0m     \u001b[38;5;124;03m\"\"\"Implement this method in a subclass such that it returns\u001b[39;00m\n\u001b[0;32m    162\u001b[0m \u001b[38;5;124;03m    a serializable object for ``o``, or calls the base implementation\u001b[39;00m\n\u001b[0;32m    163\u001b[0m \u001b[38;5;124;03m    (to raise a ``TypeError``).\u001b[39;00m\n\u001b[1;32m   (...)\u001b[0m\n\u001b[0;32m    177\u001b[0m \n\u001b[0;32m    178\u001b[0m \u001b[38;5;124;03m    \"\"\"\u001b[39;00m\n\u001b[1;32m--> 179\u001b[0m     \u001b[38;5;28;01mraise\u001b[39;00m \u001b[38;5;167;01mTypeError\u001b[39;00m(\u001b[38;5;124mf\u001b[39m\u001b[38;5;124m'\u001b[39m\u001b[38;5;124mObject of type \u001b[39m\u001b[38;5;132;01m{\u001b[39;00mo\u001b[38;5;241m.\u001b[39m\u001b[38;5;18m__class__\u001b[39m\u001b[38;5;241m.\u001b[39m\u001b[38;5;18m__name__\u001b[39m\u001b[38;5;132;01m}\u001b[39;00m\u001b[38;5;124m \u001b[39m\u001b[38;5;124m'\u001b[39m\n\u001b[0;32m    180\u001b[0m                     \u001b[38;5;124mf\u001b[39m\u001b[38;5;124m'\u001b[39m\u001b[38;5;124mis not JSON serializable\u001b[39m\u001b[38;5;124m'\u001b[39m)\n",
      "\u001b[1;31mTypeError\u001b[0m: Object of type ndarray is not JSON serializable"
     ]
    }
   ],
   "source": [
    "filePathAcc = \"%s/Random Forest Models/KFold Models/kfold_accuracy_scores.txt\" %(path)\n",
    "os.makedirs(os.path.dirname(filePathAcc), exist_ok=True)\n",
    "\n",
    "filePathPrec = \"%s/Random Forest Models/KFold Models/kfold_precision_scores.txt\" %(path)\n",
    "os.makedirs(os.path.dirname(filePathPrec), exist_ok=True)\n",
    "\n",
    "filePathRecall = \"%s/Random Forest Models/KFold Models/kfold_recall_scores.txt\" %(path)\n",
    "os.makedirs(os.path.dirname(filePathRecall), exist_ok=True)\n",
    "\n",
    "filePathF1 = \"%s/Random Forest Models/KFold Models/kfold_f1_scores.txt\" %(path)\n",
    "os.makedirs(os.path.dirname(filePathF1), exist_ok=True)\n",
    "\n",
    "with open(filePathAcc, 'w') as filehandle:\n",
    "    json.dump(accuracy_scores, filehandle)\n",
    "    \n",
    "with open(filePathPrec, 'w') as filehandle:\n",
    "    json.dump(precision_scores, filehandle)\n",
    "    \n",
    "with open(filePathRecall, 'w') as filehandle:\n",
    "    json.dump(recall_scores, filehandle)\n",
    "    \n",
    "with open(filePathF1, 'w') as filehandle:\n",
    "    json.dump(f1_scores, filehandle)"
   ]
  },
  {
   "cell_type": "code",
   "execution_count": 84,
   "id": "9dc31325",
   "metadata": {},
   "outputs": [],
   "source": [
    "filePathAcc = \"%s/Random Forest Models/KFold Models/kfold_accuracy_scores.txt\" %(path)\n",
    "\n",
    "filePathPrec = \"%s/Random Forest Models/KFold Models/kfold_precision_scores.txt\" %(path)\n",
    "\n",
    "filePathRecall = \"%s/Random Forest Models/KFold Models/kfold_recall_scores.txt\" %(path)\n",
    "\n",
    "filePathF1 = \"%s/Random Forest Models/KFold Models/kfold_f1_scores.txt\" %(path)\n",
    "\n",
    "with open(filePathAcc) as filehandle:\n",
    "    data = json.load(filehandle)\n",
    "    accuracy_scores = data\n",
    "    \n",
    "with open(filePathPrec) as filehandle:\n",
    "    data = json.load(filehandle)\n",
    "    precision_scores = data\n",
    "    \n",
    "with open(filePathRecall) as filehandle:\n",
    "    data = json.load(filehandle)\n",
    "    recall_scores = data\n",
    "    \n",
    "with open(filePathF1) as filehandle:\n",
    "    data = json.load(filehandle)\n",
    "    f1_scores = data"
   ]
  },
  {
   "cell_type": "code",
   "execution_count": 85,
   "id": "c9f7e231",
   "metadata": {},
   "outputs": [
    {
     "name": "stdout",
     "output_type": "stream",
     "text": [
      "RF K-fold Mean Accuracy: 0.882, with deviation of: 0.001\n",
      "RF K-fold Mean Precision: 0.904, with deviation of: 0.002\n",
      "RF K-fold Mean Recall: 0.882, with deviation of: 0.001\n",
      "RF K-fold Mean F1 Score: 0.850, with deviation of: 0.003\n"
     ]
    }
   ],
   "source": [
    "accuracy_scores = np.asarray(accuracy_scores)\n",
    "precision_scores = np.asarray(precision_scores)\n",
    "recall_scores = np.asarray(recall_scores)\n",
    "f1_scores = np.asarray(f1_scores)\n",
    "\n",
    "print(\"RF K-fold Mean Accuracy: %.3f, with deviation of: %.3f\" %(accuracy_scores.mean(), \n",
    "                                                                 (accuracy_scores.std())))\n",
    "\n",
    "print(\"RF K-fold Mean Precision: %.3f, with deviation of: %.3f\" %(precision_scores.mean(), \n",
    "                                                                  precision_scores.std()))\n",
    "\n",
    "print(\"RF K-fold Mean Recall: %.3f, with deviation of: %.3f\" %(recall_scores.mean(), \n",
    "                                                               recall_scores.std()))\n",
    "\n",
    "print(\"RF K-fold Mean F1 Score: %.3f, with deviation of: %.3f\" %(f1_scores.mean(), \n",
    "                                                                 f1_scores.std()))"
   ]
  },
  {
   "cell_type": "code",
   "execution_count": 282,
   "id": "02e36023",
   "metadata": {},
   "outputs": [
    {
     "data": {
      "image/png": "[encoded data removed]",
      "text/plain": [
       "<Figure size 396x324 with 1 Axes>"
      ]
     },
     "metadata": {
      "needs_background": "light"
     },
     "output_type": "display_data"
    }
   ],
   "source": [
    "rf_kfold_plot_data = pd.DataFrame({\n",
    "    'Recall': recall_scores,\n",
    "    'Precision': precision_scores,\n",
    "    'F1-score': f1_scores\n",
    "})\n",
    "fig, ax1 = plt.subplots(figsize=(5.5, 4.5))\n",
    "rf_kfold_lineplot = sns.lineplot(data=rf_kfold_plot_data, ax=ax1)\n",
    "plt.legend(bbox_to_anchor=(1.05, 1), loc='upper left', borderaxespad=0)\n",
    "ax1.set_xlabel(\"Iteration Number\", labelpad=10)\n",
    "ax1.set_ylabel(\"Evaluation Metrics\", labelpad=10)\n",
    "ax1.set(xlim=(0, 9))\n",
    "\n",
    "sns.despine(fig)"
   ]
  },
  {
   "cell_type": "markdown",
   "id": "b3c1a31d",
   "metadata": {},
   "source": [
    "### Random Forest - Testing model with different percentages of train and test data"
   ]
  },
  {
   "cell_type": "code",
   "execution_count": 106,
   "id": "5e455b0d",
   "metadata": {},
   "outputs": [],
   "source": [
    "accuracy_scores_tt=[]\n",
    "precision_scores_tt=[]\n",
    "recall_scores_tt=[]\n",
    "f1_scores_tt=[]"
   ]
  },
  {
   "cell_type": "code",
   "execution_count": 107,
   "id": "f1a445e2",
   "metadata": {},
   "outputs": [
    {
     "name": "stdout",
     "output_type": "stream",
     "text": [
      "Train: 0.90 and Test: 0.10\n",
      "Accuracy: 0.878\n",
      "Precision: 0.902\n",
      "Recall: 0.878\n",
      "F1 Score: 0.845\n",
      "-------------------------------------------------------------------------------------------------------------------\n",
      "Train: 0.80 and Test: 0.20\n",
      "Accuracy: 0.880\n",
      "Precision: 0.904\n",
      "Recall: 0.880\n",
      "F1 Score: 0.847\n",
      "-------------------------------------------------------------------------------------------------------------------\n",
      "Train: 0.75 and Test: 0.25\n",
      "Accuracy: 0.880\n",
      "Precision: 0.903\n",
      "Recall: 0.880\n",
      "F1 Score: 0.847\n",
      "-------------------------------------------------------------------------------------------------------------------\n",
      "Train: 0.60 and Test: 0.40\n",
      "Accuracy: 0.879\n",
      "Precision: 0.902\n",
      "Recall: 0.879\n",
      "F1 Score: 0.848\n",
      "-------------------------------------------------------------------------------------------------------------------\n",
      "Train: 0.50 and Test: 0.50\n",
      "Accuracy: 0.876\n",
      "Precision: 0.900\n",
      "Recall: 0.876\n",
      "F1 Score: 0.842\n",
      "-------------------------------------------------------------------------------------------------------------------\n",
      "Train: 0.40 and Test: 0.60\n",
      "Accuracy: 0.876\n",
      "Precision: 0.900\n",
      "Recall: 0.876\n",
      "F1 Score: 0.842\n",
      "-------------------------------------------------------------------------------------------------------------------\n",
      "Train: 0.30 and Test: 0.70\n",
      "Accuracy: 0.873\n",
      "Precision: 0.900\n",
      "Recall: 0.873\n",
      "F1 Score: 0.837\n",
      "-------------------------------------------------------------------------------------------------------------------\n",
      "Train: 0.15 and Test: 0.85\n",
      "Accuracy: 0.869\n",
      "Precision: 0.898\n",
      "Recall: 0.869\n",
      "F1 Score: 0.832\n",
      "-------------------------------------------------------------------------------------------------------------------\n"
     ]
    }
   ],
   "source": [
    "t0 = time()\n",
    "count = 0\n",
    "for ratio in [(0.9,0.1), (0.8,0.2), (0.75,0.25), (0.6,0.4), (0.5,0.5), (0.4,0.6), (0.3, 0.7), (0.15, 0.85)]:\n",
    "    print(\"Train: %.2f and Test: %.2f\" %(ratio[0], ratio[1]))\n",
    "    \n",
    "    X_train_tt, X_test_tt, y_train_tt, y_test_tt = train_test_split(X, y, train_size=ratio[0], random_state = 1)\n",
    "    \n",
    "    rfc_tt = RandomForestClassifier(n_estimators=50, min_samples_split=50, min_samples_leaf=200,\n",
    "                             max_features='auto', max_depth=15, bootstrap=False, \n",
    "                             random_state=0, criterion=\"entropy\")\\\n",
    "    .fit(X_train_tt, y_train_tt.values.flatten())\n",
    "    \n",
    "    filePath = \"%s/Random Forest Models/TT Models/tt_model_%s.sav\" %(path, count)\n",
    "    os.makedirs(os.path.dirname(filePath), exist_ok=True)\n",
    "    fileObj = open(filePath, 'wb')\n",
    "    pickle.dump(rfc_tt, fileObj)\n",
    "    fileObj.close()\n",
    "    \n",
    "    ypred_rfc_tt = rfc_tt.predict(X_test_tt)\n",
    "    \n",
    "    accuracy_tt = accuracy_score(y_test_tt, ypred_rfc_tt)\n",
    "    precision_tt = precision_score(y_test_tt, ypred_rfc_tt, average='weighted')\n",
    "    recall_tt = recall_score(y_test_tt, ypred_rfc_tt, average='weighted')\n",
    "    f1_score_tt = f1_score(y_test_tt, ypred_rfc_tt, average='weighted')   \n",
    "    \n",
    "    print(\"Accuracy: %.3f\" %(accuracy_tt))\n",
    "    print(\"Precision: %.3f\" %(precision_tt))\n",
    "    print(\"Recall: %.3f\" %(recall_tt))\n",
    "    print(\"F1 Score: %.3f\" %(f1_score_tt))\n",
    "    \n",
    "    accuracy_scores_tt.append(accuracy_tt)\n",
    "    precision_scores_tt.append(precision_tt)\n",
    "    recall_scores_tt.append(recall_tt)\n",
    "    f1_scores_tt.append(f1_score_tt)\n",
    "    \n",
    "    count = count + 1\n",
    "    print(\"-------------------------------------------------------------------------------------------------------------------\")\n",
    "    \n",
    "train_test_time = time() - t0"
   ]
  },
  {
   "cell_type": "code",
   "execution_count": 108,
   "id": "9fea134f",
   "metadata": {},
   "outputs": [
    {
     "name": "stdout",
     "output_type": "stream",
     "text": [
      "train_test_time: 16\n"
     ]
    }
   ],
   "source": [
    "print(\"train_test_time: %d\" %(train_test_time))"
   ]
  },
  {
   "cell_type": "code",
   "execution_count": 109,
   "id": "c7049e44",
   "metadata": {},
   "outputs": [],
   "source": [
    "filePathAcc = \"%s/Random Forest Models/TT Models/tt_accuracy_scores.txt\" %(path)\n",
    "os.makedirs(os.path.dirname(filePathAcc), exist_ok=True)\n",
    "\n",
    "filePathPrec = \"%s/Random Forest Models/TT Models/tt_precision_scores.txt\" %(path)\n",
    "os.makedirs(os.path.dirname(filePathPrec), exist_ok=True)\n",
    "\n",
    "filePathRecall = \"%s/Random Forest Models/TT Models/tt_recall_scores.txt\" %(path)\n",
    "os.makedirs(os.path.dirname(filePathRecall), exist_ok=True)\n",
    "\n",
    "filePathF1 = \"%s/Random Forest Models/TT Models/tt_f1_scores.txt\" %(path)\n",
    "os.makedirs(os.path.dirname(filePathF1), exist_ok=True)\n",
    "\n",
    "with open(filePathAcc, 'w') as filehandle:\n",
    "    json.dump(accuracy_scores_tt, filehandle)\n",
    "    \n",
    "with open(filePathPrec, 'w') as filehandle:\n",
    "    json.dump(precision_scores_tt, filehandle)\n",
    "    \n",
    "with open(filePathRecall, 'w') as filehandle:\n",
    "    json.dump(recall_scores_tt, filehandle)\n",
    "    \n",
    "with open(filePathF1, 'w') as filehandle:\n",
    "    json.dump(f1_scores_tt, filehandle)"
   ]
  },
  {
   "cell_type": "code",
   "execution_count": 90,
   "id": "6f2ccb71",
   "metadata": {},
   "outputs": [],
   "source": [
    "filePathAcc = \"%s/Random Forest Models/TT Models/tt_accuracy_scores.txt\" %(path)\n",
    "\n",
    "filePathPrec = \"%s/Random Forest Models/TT Models/tt_precision_scores.txt\" %(path)\n",
    "\n",
    "filePathRecall = \"%s/Random Forest Models/TT Models/tt_recall_scores.txt\" %(path)\n",
    "\n",
    "filePathF1 = \"%s/Random Forest Models/TT Models/tt_f1_scores.txt\" %(path)\n",
    "\n",
    "with open(filePathAcc) as filehandle:\n",
    "    data = json.load(filehandle)\n",
    "    accuracy_scores_tt = data\n",
    "    \n",
    "with open(filePathPrec) as filehandle:\n",
    "    data = json.load(filehandle)\n",
    "    precision_scores_tt = data\n",
    "    \n",
    "with open(filePathRecall) as filehandle:\n",
    "    data = json.load(filehandle)\n",
    "    recall_scores_tt = data\n",
    "    \n",
    "with open(filePathF1) as filehandle:\n",
    "    data = json.load(filehandle)\n",
    "    f1_scores_tt = data"
   ]
  },
  {
   "cell_type": "code",
   "execution_count": 91,
   "id": "eefb4ed9",
   "metadata": {},
   "outputs": [
    {
     "name": "stdout",
     "output_type": "stream",
     "text": [
      "RF TT Accuracy: 0.877, with deviation of: 0.004\n",
      "RF TT Precision: 0.901, with deviation of: 0.002\n",
      "RF TT Recall: 0.877, with deviation of: 0.004\n",
      "RF TT F1 Score: 0.842, with deviation of: 0.005\n"
     ]
    }
   ],
   "source": [
    "accuracy_scores_tt = np.asarray(accuracy_scores_tt)\n",
    "precision_scores_tt = np.asarray(precision_scores_tt)\n",
    "recall_scores_tt = np.asarray(recall_scores_tt)\n",
    "f1_scores_tt = np.asarray(f1_scores_tt)\n",
    "\n",
    "print(\"RF TT Accuracy: %.3f, with deviation of: %.3f\" %(accuracy_scores_tt.mean(), \n",
    "                                                                 (accuracy_scores_tt.std())))\n",
    "\n",
    "print(\"RF TT Precision: %.3f, with deviation of: %.3f\" %(precision_scores_tt.mean(), \n",
    "                                                                  precision_scores_tt.std()))\n",
    "\n",
    "print(\"RF TT Recall: %.3f, with deviation of: %.3f\" %(recall_scores_tt.mean(), \n",
    "                                                               recall_scores_tt.std()))\n",
    "\n",
    "print(\"RF TT F1 Score: %.3f, with deviation of: %.3f\" %(f1_scores_tt.mean(), \n",
    "                                                                 f1_scores_tt.std()))"
   ]
  },
  {
   "cell_type": "code",
   "execution_count": 283,
   "id": "95137eb2",
   "metadata": {},
   "outputs": [
    {
     "name": "stderr",
     "output_type": "stream",
     "text": [
      "C:\\Users\\aakas\\AppData\\Local\\Temp\\ipykernel_39076\\3333351608.py:12: UserWarning: FixedFormatter should only be used together with FixedLocator\n",
      "  rf_tt_lineplot.set_xticklabels([\"(0.9,0.1)\", \"(0.8,0.2)\", \"(0.75,0.25)\", \"(0.6,0.4)\", \"(0.5,0.5)\",\n"
     ]
    },
    {
     "data": {
      "image/png": "[encoded data removed]",
      "text/plain": [
       "<Figure size 446.4x360 with 1 Axes>"
      ]
     },
     "metadata": {
      "needs_background": "light"
     },
     "output_type": "display_data"
    }
   ],
   "source": [
    "rf_train_test_plot_data = pd.DataFrame({\n",
    "    'Recall': recall_scores_tt,\n",
    "    'Precision': precision_scores_tt,\n",
    "    'F1-score': f1_scores_tt\n",
    "})\n",
    "fig, ax1 = plt.subplots(figsize=(6.2, 5))\n",
    "rf_tt_lineplot = sns.lineplot(data=rf_train_test_plot_data, ax=ax1)\n",
    "ax1.set(xlim=(0, 7))\n",
    "ax1.set_xlabel(\"Train/Test Ratio\", labelpad=10)\n",
    "ax1.set_ylabel(\"Evaluation Metrics\", labelpad=10)\n",
    "plt.legend(bbox_to_anchor=(1.05, 1), loc='upper left', borderaxespad=0)\n",
    "rf_tt_lineplot.set_xticklabels([\"(0.9,0.1)\", \"(0.8,0.2)\", \"(0.75,0.25)\", \"(0.6,0.4)\", \"(0.5,0.5)\", \n",
    "                   \"(0.4,0.6)\", \"(0.3,0.7)\", \"(0.15,0.85)\"])\n",
    "sns.despine(fig)"
   ]
  },
  {
   "cell_type": "markdown",
   "id": "99912db4",
   "metadata": {},
   "source": [
    "## Training supervised model for fault type predicition - XGB"
   ]
  },
  {
   "cell_type": "code",
   "execution_count": 502,
   "id": "a03b370d",
   "metadata": {},
   "outputs": [],
   "source": [
    "y_train_2 = y_train.copy()\n",
    "y_train_2.Fault_Type = pd.Categorical(y_train_2.Fault_Type)\n",
    "y_train_2['Fault_Type_Codes'] = y_train_2.Fault_Type.cat.codes\n",
    "y_train_2 = y_train_2.drop(columns=['Fault_Type'])\n",
    "y_train_2 = y_train_2.rename(columns={\"Fault_Type_Codes\": \"Fault_Type\"})"
   ]
  },
  {
   "cell_type": "code",
   "execution_count": 503,
   "id": "9c91b448",
   "metadata": {},
   "outputs": [],
   "source": [
    "t0 = time()\n",
    "xgb = XGBClassifier(booster='dart', objective='multi:softmax', eval_metric='merror',\n",
    "                    tree_method='approx', enable_categorical=True, grow_policy='depthwise', \n",
    "                    min_child_weight=5, max_depth=5, reg_alpha=2).fit(X_train, y_train_2.values.flatten())\n",
    "xgb_fit_time = time() - t0"
   ]
  },
  {
   "cell_type": "code",
   "execution_count": 504,
   "id": "f71fc863",
   "metadata": {},
   "outputs": [
    {
     "name": "stdout",
     "output_type": "stream",
     "text": [
      "xgb_fit_time: 32\n"
     ]
    }
   ],
   "source": [
    "print(\"xgb_fit_time: %d\" %(xgb_fit_time))"
   ]
  },
  {
   "cell_type": "markdown",
   "id": "821a0420",
   "metadata": {},
   "source": [
    "### Nested CV"
   ]
  },
  {
   "cell_type": "code",
   "execution_count": 113,
   "id": "14ac8eaf",
   "metadata": {},
   "outputs": [],
   "source": [
    "cv_outer_xgb = StratifiedKFold(n_splits=10, random_state=1, shuffle=True)"
   ]
  },
  {
   "cell_type": "code",
   "execution_count": 114,
   "id": "063e4694",
   "metadata": {},
   "outputs": [],
   "source": [
    "accuracy_scores_nested_cv_xgb=[]\n",
    "precision_scores_nested_cv_xgb=[]\n",
    "recall_scores_nested_cv_xgb=[]\n",
    "f1_scores_nested_cv_xgb=[]"
   ]
  },
  {
   "cell_type": "code",
   "execution_count": 115,
   "id": "cd1f2dc2",
   "metadata": {},
   "outputs": [
    {
     "name": "stdout",
     "output_type": "stream",
     "text": [
      "Encoded Train Labels\n",
      "Encoded Test Labels\n",
      "Best Score: 0.882, with parameters: {'tree_method': 'approx', 'reg_alpha': 10, 'objective': 'multi:softmax', 'min_child_weight': 2, 'max_depth': 18, 'grow_policy': 'depthwise', 'eval_metric': 'merror', 'booster': 'dart'}\n",
      "Accuracy: 0.884\n",
      "Precision: 0.907\n",
      "Recall: 0.884\n",
      "F1 Score: 0.853\n",
      "-------------------------------------------------------------------------------------------------------------------\n",
      "Encoded Train Labels\n",
      "Encoded Test Labels\n",
      "Best Score: 0.883, with parameters: {'tree_method': 'approx', 'reg_alpha': 10, 'objective': 'multi:softmax', 'min_child_weight': 2, 'max_depth': 18, 'grow_policy': 'depthwise', 'eval_metric': 'merror', 'booster': 'dart'}\n",
      "Accuracy: 0.884\n",
      "Precision: 0.905\n",
      "Recall: 0.884\n",
      "F1 Score: 0.853\n",
      "-------------------------------------------------------------------------------------------------------------------\n",
      "Encoded Train Labels\n",
      "Encoded Test Labels\n",
      "Best Score: 0.883, with parameters: {'tree_method': 'approx', 'reg_alpha': 10, 'objective': 'multi:softmax', 'min_child_weight': 2, 'max_depth': 18, 'grow_policy': 'depthwise', 'eval_metric': 'merror', 'booster': 'dart'}\n",
      "Accuracy: 0.880\n",
      "Precision: 0.901\n",
      "Recall: 0.880\n",
      "F1 Score: 0.846\n",
      "-------------------------------------------------------------------------------------------------------------------\n",
      "Encoded Train Labels\n",
      "Encoded Test Labels\n",
      "Best Score: 0.883, with parameters: {'tree_method': 'approx', 'reg_alpha': 10, 'objective': 'multi:softmax', 'min_child_weight': 2, 'max_depth': 18, 'grow_policy': 'depthwise', 'eval_metric': 'merror', 'booster': 'dart'}\n",
      "Accuracy: 0.882\n",
      "Precision: 0.905\n",
      "Recall: 0.882\n",
      "F1 Score: 0.849\n",
      "-------------------------------------------------------------------------------------------------------------------\n",
      "Encoded Train Labels\n",
      "Encoded Test Labels\n",
      "Best Score: 0.882, with parameters: {'tree_method': 'approx', 'reg_alpha': 10, 'objective': 'multi:softmax', 'min_child_weight': 2, 'max_depth': 18, 'grow_policy': 'depthwise', 'eval_metric': 'merror', 'booster': 'dart'}\n",
      "Accuracy: 0.885\n",
      "Precision: 0.907\n",
      "Recall: 0.885\n",
      "F1 Score: 0.854\n",
      "-------------------------------------------------------------------------------------------------------------------\n",
      "Encoded Train Labels\n",
      "Encoded Test Labels\n",
      "Best Score: 0.882, with parameters: {'tree_method': 'approx', 'reg_alpha': 10, 'objective': 'multi:softmax', 'min_child_weight': 2, 'max_depth': 18, 'grow_policy': 'depthwise', 'eval_metric': 'merror', 'booster': 'dart'}\n",
      "Accuracy: 0.884\n",
      "Precision: 0.906\n",
      "Recall: 0.884\n",
      "F1 Score: 0.853\n",
      "-------------------------------------------------------------------------------------------------------------------\n",
      "Encoded Train Labels\n",
      "Encoded Test Labels\n",
      "Best Score: 0.883, with parameters: {'tree_method': 'approx', 'reg_alpha': 10, 'objective': 'multi:softmax', 'min_child_weight': 2, 'max_depth': 18, 'grow_policy': 'depthwise', 'eval_metric': 'merror', 'booster': 'dart'}\n",
      "Accuracy: 0.882\n",
      "Precision: 0.902\n",
      "Recall: 0.882\n",
      "F1 Score: 0.849\n",
      "-------------------------------------------------------------------------------------------------------------------\n",
      "Encoded Train Labels\n",
      "Encoded Test Labels\n",
      "Best Score: 0.883, with parameters: {'tree_method': 'approx', 'reg_alpha': 10, 'objective': 'multi:softmax', 'min_child_weight': 2, 'max_depth': 18, 'grow_policy': 'depthwise', 'eval_metric': 'merror', 'booster': 'dart'}\n",
      "Accuracy: 0.880\n",
      "Precision: 0.901\n",
      "Recall: 0.880\n",
      "F1 Score: 0.847\n",
      "-------------------------------------------------------------------------------------------------------------------\n",
      "Encoded Train Labels\n",
      "Encoded Test Labels\n",
      "Best Score: 0.883, with parameters: {'tree_method': 'approx', 'reg_alpha': 10, 'objective': 'multi:softmax', 'min_child_weight': 2, 'max_depth': 18, 'grow_policy': 'depthwise', 'eval_metric': 'merror', 'booster': 'dart'}\n",
      "Accuracy: 0.882\n",
      "Precision: 0.903\n",
      "Recall: 0.882\n",
      "F1 Score: 0.850\n",
      "-------------------------------------------------------------------------------------------------------------------\n",
      "Encoded Train Labels\n",
      "Encoded Test Labels\n",
      "Best Score: 0.883, with parameters: {'tree_method': 'approx', 'reg_alpha': 10, 'objective': 'multi:softmax', 'min_child_weight': 2, 'max_depth': 18, 'grow_policy': 'depthwise', 'eval_metric': 'merror', 'booster': 'dart'}\n",
      "Accuracy: 0.884\n",
      "Precision: 0.906\n",
      "Recall: 0.884\n",
      "F1 Score: 0.852\n",
      "-------------------------------------------------------------------------------------------------------------------\n"
     ]
    }
   ],
   "source": [
    "t0 = time()\n",
    "count = 0\n",
    "for train_ix_xgb, test_ix_xgb in cv_outer.split(X, y):\n",
    "    X_train_cv_xgb, X_test_cv_xgb = X.iloc[train_ix_xgb, :], X.iloc[test_ix_xgb, :]\n",
    "    y_train_cv_xgb_raw, y_test_cv_xgb_raw = y.iloc[train_ix_xgb], y.iloc[test_ix_xgb]\n",
    "    \n",
    "    y_train_cv_xgb = y_train_cv_xgb_raw.copy()\n",
    "    y_train_cv_xgb.Fault_Type = pd.Categorical(y_train_cv_xgb.Fault_Type)\n",
    "    y_train_cv_xgb['Fault_Type_Codes'] = y_train_cv_xgb.Fault_Type.cat.codes\n",
    "    y_train_cv_xgb = y_train_cv_xgb.drop(columns=['Fault_Type'])\n",
    "    y_train_cv_xgb = y_train_cv_xgb.rename(columns={\"Fault_Type_Codes\": \"Fault_Type\"})\n",
    "    print(\"Encoded Train Labels\")\n",
    "    \n",
    "    y_test_cv_xgb = y_test_cv_xgb_raw.copy()\n",
    "    y_test_cv_xgb.Fault_Type = pd.Categorical(y_test_cv_xgb.Fault_Type)\n",
    "    y_test_cv_xgb['Fault_Type_Codes'] = y_test_cv_xgb.Fault_Type.cat.codes\n",
    "    y_test_cv_xgb = y_test_cv_xgb.drop(columns=['Fault_Type'])\n",
    "    y_test_cv_xgb = y_test_cv_xgb.rename(columns={\"Fault_Type_Codes\": \"Fault_Type\"})\n",
    "    print(\"Encoded Test Labels\")\n",
    "    \n",
    "    cv_inner_xgb = KFold(n_splits=5, shuffle=True, random_state=1)\n",
    "    \n",
    "    xgb_kfold = XGBClassifier(enable_categorical=True)\n",
    "    \n",
    "    boosters = ['gbtree', 'dart']\n",
    "    objectives = ['multi:softmax']\n",
    "    eval_metrics = ['merror']\n",
    "    tree_methods = ['approx', 'hist']\n",
    "    grow_policies = ['depthwise', 'lossguide']\n",
    "    min_child_weights = [2, 5, 10]\n",
    "    max_depths = [int(x) for x in np.linspace(2, 20, num = 11)]\n",
    "    reg_alphas = [int(x) for x in np.linspace(2, 10, num = 6)]\n",
    "    \n",
    "    random_grid_xgb = {'booster': boosters,\n",
    "                   'objective': objectives,\n",
    "                   'eval_metric': eval_metrics,\n",
    "                   'tree_method': tree_methods,\n",
    "                   'grow_policy': grow_policies,\n",
    "                   'min_child_weight': min_child_weights,\n",
    "                   'max_depth': max_depths,\n",
    "                   'reg_alpha': reg_alphas\n",
    "                  }\n",
    "    \n",
    "    xgb_random_kfold = RandomizedSearchCV(estimator=xgb_kfold, param_distributions=random_grid_xgb, n_iter=2, cv=cv_inner_xgb, \n",
    "                                          random_state=42, n_jobs = 2)\n",
    "    \n",
    "    result_xgb = xgb_random_kfold.fit(X_train_cv_xgb, y_train_cv_xgb.values.flatten())\n",
    "    \n",
    "    xgb_random_kfold_best = xgb_random_kfold.best_estimator_\n",
    "    \n",
    "    filePath = \"%s/XGB Models/KFold Models/kfold_model_%s.sav\" %(path, count)\n",
    "    os.makedirs(os.path.dirname(filePath), exist_ok=True)\n",
    "    fileObj = open(filePath, 'wb')\n",
    "    pickle.dump(xgb_random_kfold_best, fileObj)\n",
    "    fileObj.close()\n",
    "    \n",
    "    ypred_xgb_random_kfold = xgb_random_kfold_best.predict(X_test_cv_xgb)\n",
    "    accuracy_this_fold = accuracy_score(y_test_cv_xgb, ypred_xgb_random_kfold)\n",
    "    precision_this_fold = precision_score(y_test_cv_xgb, ypred_xgb_random_kfold, average='weighted')\n",
    "    recall_this_fold = recall_score(y_test_cv_xgb, ypred_xgb_random_kfold, average='weighted')\n",
    "    f1_score_this_fold = f1_score(y_test_cv_xgb, ypred_xgb_random_kfold, average='weighted')\n",
    "    \n",
    "    print(\"Best Score: %.3f, with parameters: %s\" %(result_xgb.best_score_, result_xgb.best_params_))    \n",
    "    \n",
    "    print(\"Accuracy: %.3f\" %(accuracy_this_fold))\n",
    "    print(\"Precision: %.3f\" %(precision_this_fold))\n",
    "    print(\"Recall: %.3f\" %(recall_this_fold))\n",
    "    print(\"F1 Score: %.3f\" %(f1_score_this_fold))\n",
    "    \n",
    "    accuracy_scores_nested_cv_xgb.append(accuracy_this_fold)\n",
    "    precision_scores_nested_cv_xgb.append(precision_this_fold)\n",
    "    recall_scores_nested_cv_xgb.append(recall_this_fold)\n",
    "    f1_scores_nested_cv_xgb.append(f1_score_this_fold)\n",
    "    \n",
    "    count = count + 1\n",
    "    print(\"-------------------------------------------------------------------------------------------------------------------\")\n",
    "    \n",
    "xgb_random_kfold_time = time() - t0"
   ]
  },
  {
   "cell_type": "code",
   "execution_count": 117,
   "id": "7de630f2",
   "metadata": {},
   "outputs": [
    {
     "name": "stdout",
     "output_type": "stream",
     "text": [
      "xgb_random_kfold_time: 10545\n"
     ]
    }
   ],
   "source": [
    "print(\"xgb_random_kfold_time: %d\" %(xgb_random_kfold_time))"
   ]
  },
  {
   "cell_type": "code",
   "execution_count": 351,
   "id": "fd0243d7",
   "metadata": {},
   "outputs": [],
   "source": [
    "filePathAcc = \"%s/XGB Models/KFold Models/kfold_accuracy_scores.txt\" %(path)\n",
    "os.makedirs(os.path.dirname(filePathAcc), exist_ok=True)\n",
    "\n",
    "filePathPrec = \"%s/XGB Models/KFold Models/kfold_precision_scores.txt\" %(path)\n",
    "os.makedirs(os.path.dirname(filePathPrec), exist_ok=True)\n",
    "\n",
    "filePathRecall = \"%s/XGB Models/KFold Models/kfold_recall_scores.txt\" %(path)\n",
    "os.makedirs(os.path.dirname(filePathRecall), exist_ok=True)\n",
    "\n",
    "filePathF1 = \"%s/XGB Models/KFold Models/kfold_f1_scores.txt\" %(path)\n",
    "os.makedirs(os.path.dirname(filePathF1), exist_ok=True)\n",
    "\n",
    "with open(filePathAcc, 'w') as filehandle:\n",
    "    json.dump(accuracy_scores_nested_cv_xgb, filehandle)\n",
    "    \n",
    "with open(filePathPrec, 'w') as filehandle:\n",
    "    json.dump(precision_scores_nested_cv_xgb, filehandle)\n",
    "    \n",
    "with open(filePathRecall, 'w') as filehandle:\n",
    "    json.dump(recall_scores_nested_cv_xgb, filehandle)\n",
    "    \n",
    "with open(filePathF1, 'w') as filehandle:\n",
    "    json.dump(f1_scores_nested_cv_xgb, filehandle)"
   ]
  },
  {
   "cell_type": "code",
   "execution_count": 93,
   "id": "801b61f2",
   "metadata": {},
   "outputs": [],
   "source": [
    "filePathAcc = \"%s/XGB Models/KFold Models/kfold_accuracy_scores.txt\" %(path)\n",
    "\n",
    "filePathPrec = \"%s/XGB Models/KFold Models/kfold_precision_scores.txt\" %(path)\n",
    "\n",
    "filePathRecall = \"%s/XGB Models/KFold Models/kfold_recall_scores.txt\" %(path)\n",
    "\n",
    "filePathF1 = \"%s/XGB Models/KFold Models/kfold_f1_scores.txt\" %(path)\n",
    "\n",
    "with open(filePathAcc) as filehandle:\n",
    "    data = json.load(filehandle)\n",
    "    accuracy_scores_nested_cv_xgb = data\n",
    "    \n",
    "with open(filePathPrec) as filehandle:\n",
    "    data = json.load(filehandle)\n",
    "    precision_scores_nested_cv_xgb = data\n",
    "    \n",
    "with open(filePathRecall) as filehandle:\n",
    "    data = json.load(filehandle)\n",
    "    recall_scores_nested_cv_xgb = data\n",
    "    \n",
    "with open(filePathF1) as filehandle:\n",
    "    data = json.load(filehandle)\n",
    "    f1_scores_nested_cv_xgb = data"
   ]
  },
  {
   "cell_type": "code",
   "execution_count": 94,
   "id": "a84d15b7",
   "metadata": {},
   "outputs": [
    {
     "name": "stdout",
     "output_type": "stream",
     "text": [
      "XGB K-fold Mean Accuracy: 0.883, with deviation of: 0.002\n",
      "XGB K-fold Mean Precision: 0.904, with deviation of: 0.002\n",
      "XGB K-fold Mean Recall: 0.883, with deviation of: 0.002\n",
      "XGB K-fold Mean F1 Score: 0.850, with deviation of: 0.003\n"
     ]
    }
   ],
   "source": [
    "accuracy_scores_nested_cv_xgb = np.asarray(accuracy_scores_nested_cv_xgb)\n",
    "precision_scores_nested_cv_xgb = np.asarray(precision_scores_nested_cv_xgb)\n",
    "recall_scores_nested_cv_xgb = np.asarray(recall_scores_nested_cv_xgb)\n",
    "f1_scores_nested_cv_xgb = np.asarray(f1_scores_nested_cv_xgb)\n",
    "\n",
    "print(\"XGB K-fold Mean Accuracy: %.3f, with deviation of: %.3f\" %(accuracy_scores_nested_cv_xgb.mean(), \n",
    "                                                                 (accuracy_scores_nested_cv_xgb.std())))\n",
    "\n",
    "print(\"XGB K-fold Mean Precision: %.3f, with deviation of: %.3f\" %(precision_scores_nested_cv_xgb.mean(), \n",
    "                                                                  precision_scores_nested_cv_xgb.std()))\n",
    "\n",
    "print(\"XGB K-fold Mean Recall: %.3f, with deviation of: %.3f\" %(recall_scores_nested_cv_xgb.mean(), \n",
    "                                                               recall_scores_nested_cv_xgb.std()))\n",
    "\n",
    "print(\"XGB K-fold Mean F1 Score: %.3f, with deviation of: %.3f\" %(f1_scores_nested_cv_xgb.mean(), \n",
    "                                                                 f1_scores_nested_cv_xgb.std()))"
   ]
  },
  {
   "cell_type": "code",
   "execution_count": 284,
   "id": "336d9a74",
   "metadata": {},
   "outputs": [
    {
     "data": {
      "image/png": "[encoded data removed]",
      "text/plain": [
       "<Figure size 396x324 with 1 Axes>"
      ]
     },
     "metadata": {
      "needs_background": "light"
     },
     "output_type": "display_data"
    }
   ],
   "source": [
    "xgb_kfold_plot_data = pd.DataFrame({\n",
    "    'Recall': recall_scores_nested_cv_xgb,\n",
    "    'Precision': precision_scores_nested_cv_xgb,\n",
    "    'F1-score': f1_scores_nested_cv_xgb\n",
    "})\n",
    "fig, ax1 = plt.subplots(figsize=(5.5, 4.5))\n",
    "sns.lineplot(data=xgb_kfold_plot_data, ax=ax1)\n",
    "plt.legend(bbox_to_anchor=(1.05, 1), loc='upper left', borderaxespad=0)\n",
    "ax1.set(xlim=(0, 9))\n",
    "ax1.set_xlabel(\"Iteration Number\", labelpad=10)\n",
    "ax1.set_ylabel(\"Evaluation Metrics\", labelpad=10)\n",
    "sns.despine(fig)"
   ]
  },
  {
   "cell_type": "markdown",
   "id": "49d457f4",
   "metadata": {},
   "source": [
    "### XGB - Testing model with different percentages of train and test data"
   ]
  },
  {
   "cell_type": "code",
   "execution_count": 118,
   "id": "e47619f5",
   "metadata": {},
   "outputs": [],
   "source": [
    "accuracy_scores_tt_xgb=[]\n",
    "precision_scores_tt_xgb=[]\n",
    "recall_scores_tt_xgb=[]\n",
    "f1_scores_tt_xgb=[]"
   ]
  },
  {
   "cell_type": "code",
   "execution_count": 119,
   "id": "fe7050b7",
   "metadata": {},
   "outputs": [
    {
     "name": "stdout",
     "output_type": "stream",
     "text": [
      "Train: 0.90 and Test: 0.10\n",
      "Encoded Train Labels\n",
      "Encoded Test Labels\n",
      "Accuracy: 0.879\n",
      "Precision: 0.900\n",
      "Recall: 0.879\n",
      "F1 Score: 0.846\n",
      "-------------------------------------------------------------------------------------------------------------------\n",
      "Train: 0.80 and Test: 0.20\n",
      "Encoded Train Labels\n",
      "Encoded Test Labels\n",
      "Accuracy: 0.880\n",
      "Precision: 0.904\n",
      "Recall: 0.880\n",
      "F1 Score: 0.848\n",
      "-------------------------------------------------------------------------------------------------------------------\n",
      "Train: 0.75 and Test: 0.25\n",
      "Encoded Train Labels\n",
      "Encoded Test Labels\n",
      "Accuracy: 0.880\n",
      "Precision: 0.903\n",
      "Recall: 0.880\n",
      "F1 Score: 0.848\n",
      "-------------------------------------------------------------------------------------------------------------------\n",
      "Train: 0.60 and Test: 0.40\n",
      "Encoded Train Labels\n",
      "Encoded Test Labels\n",
      "Accuracy: 0.882\n",
      "Precision: 0.904\n",
      "Recall: 0.882\n",
      "F1 Score: 0.850\n",
      "-------------------------------------------------------------------------------------------------------------------\n",
      "Train: 0.50 and Test: 0.50\n",
      "Encoded Train Labels\n",
      "Encoded Test Labels\n",
      "Accuracy: 0.882\n",
      "Precision: 0.904\n",
      "Recall: 0.882\n",
      "F1 Score: 0.850\n",
      "-------------------------------------------------------------------------------------------------------------------\n",
      "Train: 0.40 and Test: 0.60\n",
      "Encoded Train Labels\n",
      "Encoded Test Labels\n",
      "Accuracy: 0.882\n",
      "Precision: 0.904\n",
      "Recall: 0.882\n",
      "F1 Score: 0.850\n",
      "-------------------------------------------------------------------------------------------------------------------\n",
      "Train: 0.30 and Test: 0.70\n",
      "Encoded Train Labels\n",
      "Encoded Test Labels\n",
      "Accuracy: 0.882\n",
      "Precision: 0.904\n",
      "Recall: 0.882\n",
      "F1 Score: 0.850\n",
      "-------------------------------------------------------------------------------------------------------------------\n",
      "Train: 0.15 and Test: 0.85\n",
      "Encoded Train Labels\n",
      "Encoded Test Labels\n",
      "Accuracy: 0.883\n",
      "Precision: 0.904\n",
      "Recall: 0.883\n",
      "F1 Score: 0.850\n",
      "-------------------------------------------------------------------------------------------------------------------\n"
     ]
    }
   ],
   "source": [
    "t0 = time()\n",
    "count = 0\n",
    "for ratio in [(0.9,0.1), (0.8,0.2), (0.75,0.25), (0.6,0.4), (0.5,0.5), (0.4,0.6), (0.3, 0.7), (0.15, 0.85)]:\n",
    "    print(\"Train: %.2f and Test: %.2f\" %(ratio[0], ratio[1]))\n",
    "    \n",
    "    X_train_tt, X_test_tt, y_train_tt, y_test_tt = train_test_split(X, y, train_size=ratio[0], random_state = 1)\n",
    "    \n",
    "    y_train_tt.Fault_Type = pd.Categorical(y_train_tt.Fault_Type)\n",
    "    y_train_tt['Fault_Type_Codes'] = y_train_tt.Fault_Type.cat.codes\n",
    "    y_train_tt = y_train_tt.drop(columns=['Fault_Type'])\n",
    "    y_train_tt = y_train_tt.rename(columns={\"Fault_Type_Codes\": \"Fault_Type\"})\n",
    "    print(\"Encoded Train Labels\")\n",
    "    \n",
    "    y_test_tt.Fault_Type = pd.Categorical(y_test_tt.Fault_Type)\n",
    "    y_test_tt['Fault_Type_Codes'] = y_test_tt.Fault_Type.cat.codes\n",
    "    y_test_tt = y_test_tt.drop(columns=['Fault_Type'])\n",
    "    y_test_tt = y_test_tt.rename(columns={\"Fault_Type_Codes\": \"Fault_Type\"})\n",
    "    print(\"Encoded Test Labels\")\n",
    "    \n",
    "    xgb_tt = XGBClassifier(booster='dart', objective='multi:softmax', eval_metric='merror',\n",
    "                   tree_method='approx', grow_policy='depthwise', min_child_weight=5,\n",
    "                   max_depth=5, reg_alpha=2, enable_categorical=True).fit(X_train_tt, y_train_tt.values.flatten())\n",
    "    \n",
    "    filePath = \"%s/XGB Models/TT Models/tt_model_%s.sav\" %(path, count)\n",
    "    os.makedirs(os.path.dirname(filePath), exist_ok=True)\n",
    "    fileObj = open(filePath, 'wb')\n",
    "    pickle.dump(xgb_tt, fileObj)\n",
    "    fileObj.close()\n",
    "    \n",
    "    ypred_xgb_tt = xgb_tt.predict(X_test_tt)\n",
    "    \n",
    "    accuracy_tt_xgb = accuracy_score(y_test_tt, ypred_xgb_tt)\n",
    "    precision_tt_xgb = precision_score(y_test_tt, ypred_xgb_tt, average='weighted')\n",
    "    recall_tt_xgb = recall_score(y_test_tt, ypred_xgb_tt, average='weighted')\n",
    "    f1_score_tt_xgb = f1_score(y_test_tt, ypred_xgb_tt, average='weighted')   \n",
    "    \n",
    "    print(\"Accuracy: %.3f\" %(accuracy_tt_xgb))\n",
    "    print(\"Precision: %.3f\" %(precision_tt_xgb))\n",
    "    print(\"Recall: %.3f\" %(recall_tt_xgb))\n",
    "    print(\"F1 Score: %.3f\" %(f1_score_tt_xgb))\n",
    "    \n",
    "    accuracy_scores_tt_xgb.append(accuracy_tt_xgb)\n",
    "    precision_scores_tt_xgb.append(precision_tt_xgb)\n",
    "    recall_scores_tt_xgb.append(recall_tt_xgb)\n",
    "    f1_scores_tt_xgb.append(f1_score_tt_xgb)\n",
    "    \n",
    "    count = count + 1\n",
    "    print(\"-------------------------------------------------------------------------------------------------------------------\")\n",
    "    \n",
    "train_test_time_xgb = time() - t0"
   ]
  },
  {
   "cell_type": "code",
   "execution_count": 542,
   "id": "6fb37ca2",
   "metadata": {},
   "outputs": [
    {
     "name": "stdout",
     "output_type": "stream",
     "text": [
      "train_test_time_xgb: 257\n"
     ]
    }
   ],
   "source": [
    "print(\"train_test_time_xgb: %d\" %(train_test_time_xgb))"
   ]
  },
  {
   "cell_type": "code",
   "execution_count": 355,
   "id": "14465d09",
   "metadata": {},
   "outputs": [],
   "source": [
    "filePathAcc = \"%s/XGB Models/TT Models/tt_accuracy_scores.txt\" %(path)\n",
    "os.makedirs(os.path.dirname(filePathAcc), exist_ok=True)\n",
    "\n",
    "filePathPrec = \"%s/XGB Models/TT Models/tt_precision_scores.txt\" %(path)\n",
    "os.makedirs(os.path.dirname(filePathPrec), exist_ok=True)\n",
    "\n",
    "filePathRecall = \"%s/XGB Models/TT Models/tt_recall_scores.txt\" %(path)\n",
    "os.makedirs(os.path.dirname(filePathRecall), exist_ok=True)\n",
    "\n",
    "filePathF1 = \"%s/XGB Models/TT Models/tt_f1_scores.txt\" %(path)\n",
    "os.makedirs(os.path.dirname(filePathF1), exist_ok=True)\n",
    "\n",
    "with open(filePathAcc, 'w') as filehandle:\n",
    "    json.dump(accuracy_scores_tt_xgb, filehandle)\n",
    "    \n",
    "with open(filePathPrec, 'w') as filehandle:\n",
    "    json.dump(precision_scores_tt_xgb, filehandle)\n",
    "    \n",
    "with open(filePathRecall, 'w') as filehandle:\n",
    "    json.dump(recall_scores_tt_xgb, filehandle)\n",
    "    \n",
    "with open(filePathF1, 'w') as filehandle:\n",
    "    json.dump(f1_scores_tt_xgb, filehandle)"
   ]
  },
  {
   "cell_type": "code",
   "execution_count": 99,
   "id": "cdf05951",
   "metadata": {},
   "outputs": [],
   "source": [
    "filePathAcc = \"%s/XGB Models/TT Models/tt_accuracy_scores.txt\" %(path)\n",
    "\n",
    "filePathPrec = \"%s/XGB Models/TT Models/tt_precision_scores.txt\" %(path)\n",
    "\n",
    "filePathRecall = \"%s/XGB Models/TT Models/tt_recall_scores.txt\" %(path)\n",
    "\n",
    "filePathF1 = \"%s/XGB Models/TT Models/tt_f1_scores.txt\" %(path)\n",
    "\n",
    "with open(filePathAcc) as filehandle:\n",
    "    data = json.load(filehandle)\n",
    "    accuracy_scores_tt_xgb = data\n",
    "    \n",
    "with open(filePathPrec) as filehandle:\n",
    "    data = json.load(filehandle)\n",
    "    precision_scores_tt_xgb = data\n",
    "    \n",
    "with open(filePathRecall) as filehandle:\n",
    "    data = json.load(filehandle)\n",
    "    recall_scores_tt_xgb = data\n",
    "    \n",
    "with open(filePathF1) as filehandle:\n",
    "    data = json.load(filehandle)\n",
    "    f1_scores_tt_xgb = data"
   ]
  },
  {
   "cell_type": "code",
   "execution_count": 100,
   "id": "24cbfcc1",
   "metadata": {},
   "outputs": [
    {
     "name": "stdout",
     "output_type": "stream",
     "text": [
      "XGB TT Accuracy: 0.881, with deviation of: 0.001\n",
      "XGB TT Precision: 0.903, with deviation of: 0.001\n",
      "XGB TT Recall: 0.881, with deviation of: 0.001\n",
      "XGB TT F1 Score: 0.849, with deviation of: 0.002\n"
     ]
    }
   ],
   "source": [
    "accuracy_scores_tt_xgb = np.asarray(accuracy_scores_tt_xgb)\n",
    "precision_scores_tt_xgb = np.asarray(precision_scores_tt_xgb)\n",
    "recall_scores_tt_xgb = np.asarray(recall_scores_tt_xgb)\n",
    "f1_scores_tt_xgb = np.asarray(f1_scores_tt_xgb)\n",
    "\n",
    "print(\"XGB TT Accuracy: %.3f, with deviation of: %.3f\" %(accuracy_scores_tt_xgb.mean(), \n",
    "                                                                 (accuracy_scores_tt_xgb.std())))\n",
    "\n",
    "print(\"XGB TT Precision: %.3f, with deviation of: %.3f\" %(precision_scores_tt_xgb.mean(), \n",
    "                                                                  precision_scores_tt_xgb.std()))\n",
    "\n",
    "print(\"XGB TT Recall: %.3f, with deviation of: %.3f\" %(recall_scores_tt_xgb.mean(), \n",
    "                                                               recall_scores_tt_xgb.std()))\n",
    "\n",
    "print(\"XGB TT F1 Score: %.3f, with deviation of: %.3f\" %(f1_scores_tt_xgb.mean(), \n",
    "                                                                 f1_scores_tt_xgb.std()))"
   ]
  },
  {
   "cell_type": "code",
   "execution_count": 285,
   "id": "191b6422",
   "metadata": {},
   "outputs": [
    {
     "name": "stderr",
     "output_type": "stream",
     "text": [
      "C:\\Users\\aakas\\AppData\\Local\\Temp\\ipykernel_39076\\2239271419.py:9: UserWarning: FixedFormatter should only be used together with FixedLocator\n",
      "  xgb_tt_lineplot.set_xticklabels([\"(0.9,0.1)\", \"(0.8,0.2)\", \"(0.75,0.25)\", \"(0.6,0.4)\", \"(0.5,0.5)\",\n"
     ]
    },
    {
     "data": {
      "image/png": "[encoded data removed]",
      "text/plain": [
       "<Figure size 446.4x360 with 1 Axes>"
      ]
     },
     "metadata": {
      "needs_background": "light"
     },
     "output_type": "display_data"
    }
   ],
   "source": [
    "xgb_train_test_plot_data = pd.DataFrame({\n",
    "    'Recall': recall_scores_tt_xgb,\n",
    "    'Precision': precision_scores_tt_xgb,\n",
    "    'F1-score': f1_scores_tt_xgb\n",
    "})\n",
    "fig, ax1 = plt.subplots(figsize=(6.2, 5))\n",
    "xgb_tt_lineplot = sns.lineplot(data=xgb_train_test_plot_data, ax=ax1)\n",
    "ax1.set(xlim=(0, 7))\n",
    "xgb_tt_lineplot.set_xticklabels([\"(0.9,0.1)\", \"(0.8,0.2)\", \"(0.75,0.25)\", \"(0.6,0.4)\", \"(0.5,0.5)\", \n",
    "                   \"(0.4,0.6)\", \"(0.3,0.7)\", \"(0.15,0.85)\"])\n",
    "ax1.set_xlabel(\"Train/Test Ratio\", labelpad=10)\n",
    "ax1.set_ylabel(\"Evaluation Metrics\", labelpad=10)\n",
    "plt.legend(bbox_to_anchor=(1.05, 1), loc='upper left', borderaxespad=0)\n",
    "sns.despine(fig)"
   ]
  },
  {
   "cell_type": "markdown",
   "id": "5a2b4e28",
   "metadata": {},
   "source": [
    "### Naive Bayes"
   ]
  },
  {
   "cell_type": "code",
   "execution_count": 29,
   "id": "9c5819ca",
   "metadata": {},
   "outputs": [],
   "source": [
    "input_data_nb = input_data\n",
    "X_nb = input_data_nb[['Temperature', 'Light', 'Exit_Code', 'Time_Out', 'Label_Log', 'Label_Error']]\n",
    "y_nb = input_data_nb[['Fault_Type']]"
   ]
  },
  {
   "cell_type": "code",
   "execution_count": 31,
   "id": "931c31af",
   "metadata": {},
   "outputs": [
    {
     "name": "stderr",
     "output_type": "stream",
     "text": [
      "C:\\Users\\aakas\\AppData\\Local\\Programs\\Python\\Python310\\lib\\site-packages\\sklearn\\preprocessing\\_label.py:98: DataConversionWarning: A column-vector y was passed when a 1d array was expected. Please change the shape of y to (n_samples, ), for example using ravel().\n",
      "  y = column_or_1d(y, warn=True)\n",
      "C:\\Users\\aakas\\AppData\\Local\\Programs\\Python\\Python310\\lib\\site-packages\\sklearn\\preprocessing\\_label.py:133: DataConversionWarning: A column-vector y was passed when a 1d array was expected. Please change the shape of y to (n_samples, ), for example using ravel().\n",
      "  y = column_or_1d(y, warn=True)\n",
      "C:\\Users\\aakas\\AppData\\Local\\Temp\\ipykernel_18712\\2516623289.py:7: SettingWithCopyWarning: \n",
      "A value is trying to be set on a copy of a slice from a DataFrame.\n",
      "Try using .loc[row_indexer,col_indexer] = value instead\n",
      "\n",
      "See the caveats in the documentation: https://pandas.pydata.org/pandas-docs/stable/user_guide/indexing.html#returning-a-view-versus-a-copy\n",
      "  X_nb['Exit_Code'] = le_exit_code.transform(X_nb.Exit_Code)\n",
      "C:\\Users\\aakas\\AppData\\Local\\Temp\\ipykernel_18712\\2516623289.py:11: SettingWithCopyWarning: \n",
      "A value is trying to be set on a copy of a slice from a DataFrame.\n",
      "Try using .loc[row_indexer,col_indexer] = value instead\n",
      "\n",
      "See the caveats in the documentation: https://pandas.pydata.org/pandas-docs/stable/user_guide/indexing.html#returning-a-view-versus-a-copy\n",
      "  X_nb['Time_Out'] = le_time_out.transform(X_nb.Time_Out)\n",
      "C:\\Users\\aakas\\AppData\\Local\\Temp\\ipykernel_18712\\2516623289.py:15: SettingWithCopyWarning: \n",
      "A value is trying to be set on a copy of a slice from a DataFrame.\n",
      "Try using .loc[row_indexer,col_indexer] = value instead\n",
      "\n",
      "See the caveats in the documentation: https://pandas.pydata.org/pandas-docs/stable/user_guide/indexing.html#returning-a-view-versus-a-copy\n",
      "  X_nb['Label_Log'] = le_label_log.transform(X_nb.Label_Log)\n",
      "C:\\Users\\aakas\\AppData\\Local\\Temp\\ipykernel_18712\\2516623289.py:19: SettingWithCopyWarning: \n",
      "A value is trying to be set on a copy of a slice from a DataFrame.\n",
      "Try using .loc[row_indexer,col_indexer] = value instead\n",
      "\n",
      "See the caveats in the documentation: https://pandas.pydata.org/pandas-docs/stable/user_guide/indexing.html#returning-a-view-versus-a-copy\n",
      "  X_nb['Label_Error'] = le_label_error.transform(X_nb.Label_Error)\n"
     ]
    }
   ],
   "source": [
    "le_y = LabelEncoder()\n",
    "le_y.fit(y_nb)\n",
    "y_nb = le_y.transform(y_nb)\n",
    "\n",
    "le_exit_code = LabelEncoder()\n",
    "le_exit_code.fit(X_nb.Exit_Code)\n",
    "X_nb['Exit_Code'] = le_exit_code.transform(X_nb.Exit_Code)\n",
    "\n",
    "le_time_out = LabelEncoder()\n",
    "le_time_out.fit(X_nb.Time_Out)\n",
    "X_nb['Time_Out'] = le_time_out.transform(X_nb.Time_Out)\n",
    "\n",
    "le_label_log = LabelEncoder()\n",
    "le_label_log.fit(X_nb.Label_Log)\n",
    "X_nb['Label_Log'] = le_label_log.transform(X_nb.Label_Log)\n",
    "\n",
    "le_label_error = LabelEncoder()\n",
    "le_label_error.fit(X_nb.Label_Error)\n",
    "X_nb['Label_Error'] = le_label_error.transform(X_nb.Label_Error)"
   ]
  },
  {
   "cell_type": "code",
   "execution_count": 497,
   "id": "284e1e4e",
   "metadata": {},
   "outputs": [],
   "source": [
    "X_train_nb, X_test_nb, y_train_nb, y_test_nb = train_test_split(X_nb, y_nb, stratify=y_nb, random_state = 1)"
   ]
  },
  {
   "cell_type": "code",
   "execution_count": 498,
   "id": "f2799401",
   "metadata": {},
   "outputs": [
    {
     "name": "stdout",
     "output_type": "stream",
     "text": [
      "[19  2  9  4]\n"
     ]
    },
    {
     "name": "stderr",
     "output_type": "stream",
     "text": [
      "C:\\Users\\aakas\\AppData\\Local\\Programs\\Python\\Python310\\lib\\site-packages\\mixed_naive_bayes\\mixed_naive_bayes.py:370: UserWarning: alpha too small will result in numeric errors, setting alpha = 1e-10\n",
      "  warnings.warn('alpha too small will result in numeric errors, '\n"
     ]
    },
    {
     "data": {
      "text/plain": [
       "MixedNB(alpha=1e-10, var_smoothing=1e-09)"
      ]
     },
     "execution_count": 498,
     "metadata": {},
     "output_type": "execute_result"
    }
   ],
   "source": [
    "naive_bayes = MixedNB(alpha=0, categorical_features=[2,3,4,5])\n",
    "\n",
    "naive_bayes.fit(X_train_nb, y_train_nb)"
   ]
  },
  {
   "cell_type": "markdown",
   "id": "d99c7b1c",
   "metadata": {},
   "source": [
    "### Naive Bayes - K-fold CV"
   ]
  },
  {
   "cell_type": "code",
   "execution_count": 81,
   "id": "00db4497",
   "metadata": {},
   "outputs": [],
   "source": [
    "accuracy_scores_nb = []\n",
    "precision_scores_nb = []\n",
    "recall_scores_nb = []\n",
    "f1_scores_nb = []"
   ]
  },
  {
   "cell_type": "code",
   "execution_count": 82,
   "id": "03ca3153",
   "metadata": {},
   "outputs": [],
   "source": [
    "cv_outer_nb = StratifiedKFold(n_splits=10, random_state=1, shuffle=True)"
   ]
  },
  {
   "cell_type": "code",
   "execution_count": 83,
   "id": "c648ecb2",
   "metadata": {},
   "outputs": [
    {
     "name": "stdout",
     "output_type": "stream",
     "text": [
      "[     0      1      2 ... 116898 116899 116900]\n",
      "[    17     47     53 ... 116880 116888 116901]\n",
      "[19  2  9  4]\n",
      "Accuracy: 0.849\n",
      "Precision: 0.839\n",
      "Recall: 0.849\n",
      "F1 Score: 0.836\n",
      "-------------------------------------------------------------------------------------------------------------------\n",
      "[     0      1      3 ... 116899 116900 116901]\n",
      "[     2     19     21 ... 116882 116883 116897]\n",
      "[19  2  9  4]\n",
      "Accuracy: 0.845\n",
      "Precision: 0.836\n",
      "Recall: 0.845\n",
      "F1 Score: 0.833\n",
      "-------------------------------------------------------------------------------------------------------------------\n",
      "[     0      2      3 ... 116899 116900 116901]\n",
      "[     1     31     46 ... 116854 116864 116881]\n",
      "[19  2  9  4]\n",
      "Accuracy: 0.843\n",
      "Precision: 0.833\n",
      "Recall: 0.843\n",
      "F1 Score: 0.831\n",
      "-------------------------------------------------------------------------------------------------------------------\n",
      "[     0      1      2 ... 116899 116900 116901]\n",
      "[     6     12     25 ... 116892 116893 116894]\n",
      "[19  2  9  4]\n",
      "Accuracy: 0.851\n",
      "Precision: 0.844\n",
      "Recall: 0.851\n",
      "F1 Score: 0.840\n",
      "-------------------------------------------------------------------------------------------------------------------\n",
      "[     0      1      2 ... 116899 116900 116901]\n",
      "[    16     20     32 ... 116876 116878 116898]\n",
      "[19  2  9  4]\n",
      "Accuracy: 0.847\n",
      "Precision: 0.839\n",
      "Recall: 0.847\n",
      "F1 Score: 0.836\n",
      "-------------------------------------------------------------------------------------------------------------------\n",
      "[     0      1      2 ... 116898 116899 116901]\n",
      "[     4     13     15 ... 116870 116871 116900]\n",
      "[19  2  9  4]\n",
      "Accuracy: 0.844\n",
      "Precision: 0.835\n",
      "Recall: 0.844\n",
      "F1 Score: 0.833\n",
      "-------------------------------------------------------------------------------------------------------------------\n",
      "[     0      1      2 ... 116899 116900 116901]\n",
      "[     8     11     24 ... 116846 116847 116873]\n",
      "[19  2  9  4]\n",
      "Accuracy: 0.845\n",
      "Precision: 0.836\n",
      "Recall: 0.845\n",
      "F1 Score: 0.834\n",
      "-------------------------------------------------------------------------------------------------------------------\n",
      "[     1      2      3 ... 116899 116900 116901]\n",
      "[     0      9     14 ... 116886 116891 116895]\n",
      "[19  2  9  4]\n",
      "Accuracy: 0.846\n",
      "Precision: 0.836\n",
      "Recall: 0.846\n",
      "F1 Score: 0.833\n",
      "-------------------------------------------------------------------------------------------------------------------\n",
      "[     0      1      2 ... 116898 116900 116901]\n",
      "[     3      5      7 ... 116887 116896 116899]\n",
      "[19  2  9  4]\n",
      "Accuracy: 0.846\n",
      "Precision: 0.837\n",
      "Recall: 0.846\n",
      "F1 Score: 0.834\n",
      "-------------------------------------------------------------------------------------------------------------------\n",
      "[     0      1      2 ... 116899 116900 116901]\n",
      "[    10     23     38 ... 116885 116889 116890]\n",
      "[19  2  9  4]\n",
      "Accuracy: 0.847\n",
      "Precision: 0.839\n",
      "Recall: 0.847\n",
      "F1 Score: 0.837\n",
      "-------------------------------------------------------------------------------------------------------------------\n"
     ]
    }
   ],
   "source": [
    "# K-fold CV\n",
    "\n",
    "t0 = time()\n",
    "y_nb = pd.DataFrame(y_nb)\n",
    "count = 0\n",
    "for train_ix_nb, test_ix_nb in cv_outer_nb.split(X_nb, y_nb):\n",
    "    print(train_ix_nb)\n",
    "    print(test_ix_nb)\n",
    "    X_train_nb_cv, X_test_nb_cv = X_nb.iloc[train_ix_nb, :], X_nb.iloc[test_ix_nb, :]\n",
    "    y_train_nb_cv, y_test_nb_cv = y_nb.iloc[train_ix_nb], y_nb.iloc[test_ix_nb]\n",
    "    \n",
    "    alphas = [50]\n",
    "    \n",
    "    for alpha in alphas:\n",
    "    \n",
    "        nb_random_kfold = MixedNB(alpha=alpha, categorical_features=[2,3,4,5])\n",
    "\n",
    "        nb_random_kfold_best = nb_random_kfold.fit(X_train_nb_cv, y_train_nb_cv.values.flatten())\n",
    "        \n",
    "        filePath = \"%s/Naive Bayes Models/KFold Models/kfold_model_%s.sav\" %(path, count)\n",
    "        os.makedirs(os.path.dirname(filePath), exist_ok=True)\n",
    "        fileObj = open(filePath, 'wb')\n",
    "        pickle.dump(nb_random_kfold_best, fileObj)\n",
    "        fileObj.close()\n",
    "\n",
    "        ypred_nb_random_kfold = nb_random_kfold_best.predict(X_test_nb_cv)\n",
    "        accuracy_this_fold_nb = accuracy_score(y_test_nb_cv, ypred_nb_random_kfold)\n",
    "        precision_this_fold_nb = precision_score(y_test_nb_cv, ypred_nb_random_kfold, average='weighted')\n",
    "        recall_this_fold_nb = recall_score(y_test_nb_cv, ypred_nb_random_kfold, average='weighted')\n",
    "        f1_score_this_fold_nb = f1_score(y_test_nb_cv, ypred_nb_random_kfold, average='weighted')   \n",
    "\n",
    "        print(\"Accuracy: %.3f\" %(accuracy_this_fold_nb))\n",
    "        print(\"Precision: %.3f\" %(precision_this_fold_nb))\n",
    "        print(\"Recall: %.3f\" %(recall_this_fold_nb))\n",
    "        print(\"F1 Score: %.3f\" %(f1_score_this_fold_nb))\n",
    "\n",
    "        accuracy_scores_nb.append(accuracy_this_fold_nb)\n",
    "        precision_scores_nb.append(precision_this_fold_nb)\n",
    "        recall_scores_nb.append(recall_this_fold_nb)\n",
    "        f1_scores_nb.append(f1_score_this_fold_nb)\n",
    "        \n",
    "        count = count + 1\n",
    "        print(\"-------------------------------------------------------------------------------------------------------------------\")\n",
    "\n",
    "nested_cv_nb_time = time() - t0"
   ]
  },
  {
   "cell_type": "code",
   "execution_count": 84,
   "id": "cb320cbf",
   "metadata": {},
   "outputs": [],
   "source": [
    "filePathAcc = \"%s/Naive Bayes Models/KFold Models/kfold_accuracy_scores.txt\" %(path)\n",
    "os.makedirs(os.path.dirname(filePathAcc), exist_ok=True)\n",
    "\n",
    "filePathPrec = \"%s/Naive Bayes Models/KFold Models/kfold_precision_scores.txt\" %(path)\n",
    "os.makedirs(os.path.dirname(filePathPrec), exist_ok=True)\n",
    "\n",
    "filePathRecall = \"%s/Naive Bayes Models/KFold Models/kfold_recall_scores.txt\" %(path)\n",
    "os.makedirs(os.path.dirname(filePathRecall), exist_ok=True)\n",
    "\n",
    "filePathF1 = \"%s/Naive Bayes Models/KFold Models/kfold_f1_scores.txt\" %(path)\n",
    "os.makedirs(os.path.dirname(filePathF1), exist_ok=True)\n",
    "\n",
    "with open(filePathAcc, 'w') as filehandle:\n",
    "    json.dump(accuracy_scores_nb, filehandle)\n",
    "    \n",
    "with open(filePathPrec, 'w') as filehandle:\n",
    "    json.dump(precision_scores_nb, filehandle)\n",
    "    \n",
    "with open(filePathRecall, 'w') as filehandle:\n",
    "    json.dump(recall_scores_nb, filehandle)\n",
    "    \n",
    "with open(filePathF1, 'w') as filehandle:\n",
    "    json.dump(f1_scores_nb, filehandle)"
   ]
  },
  {
   "cell_type": "code",
   "execution_count": 105,
   "id": "87f288c2",
   "metadata": {},
   "outputs": [],
   "source": [
    "filePathAcc = \"%s/Naive Bayes Models/KFold Models/kfold_accuracy_scores.txt\" %(path)\n",
    "\n",
    "filePathPrec = \"%s/Naive Bayes Models/KFold Models/kfold_precision_scores.txt\" %(path)\n",
    "\n",
    "filePathRecall = \"%s/Naive Bayes Models/KFold Models/kfold_recall_scores.txt\" %(path)\n",
    "\n",
    "filePathF1 = \"%s/Naive Bayes Models/KFold Models/kfold_f1_scores.txt\" %(path)\n",
    "\n",
    "with open(filePathAcc) as filehandle:\n",
    "    data = json.load(filehandle)\n",
    "    accuracy_scores_nb = data\n",
    "    \n",
    "with open(filePathPrec) as filehandle:\n",
    "    data = json.load(filehandle)\n",
    "    precision_scores_nb = data\n",
    "    \n",
    "with open(filePathRecall) as filehandle:\n",
    "    data = json.load(filehandle)\n",
    "    recall_scores_nb = data\n",
    "    \n",
    "with open(filePathF1) as filehandle:\n",
    "    data = json.load(filehandle)\n",
    "    f1_scores_nb = data"
   ]
  },
  {
   "cell_type": "code",
   "execution_count": 106,
   "id": "3f8150b7",
   "metadata": {},
   "outputs": [
    {
     "name": "stdout",
     "output_type": "stream",
     "text": [
      "NB K-fold Mean Accuracy: 0.846, with deviation of: 0.002\n",
      "NB K-fold Mean Precision: 0.837, with deviation of: 0.003\n",
      "NB K-fold Mean Recall: 0.846, with deviation of: 0.002\n",
      "NB K-fold Mean F1 Score: 0.835, with deviation of: 0.002\n"
     ]
    }
   ],
   "source": [
    "accuracy_scores_nb = np.asarray(accuracy_scores_nb)\n",
    "precision_scores_nb = np.asarray(precision_scores_nb)\n",
    "recall_scores_nb = np.asarray(recall_scores_nb)\n",
    "f1_scores_nb = np.asarray(f1_scores_nb)\n",
    "\n",
    "print(\"NB K-fold Mean Accuracy: %.3f, with deviation of: %.3f\" %(accuracy_scores_nb.mean(), \n",
    "                                                                 (accuracy_scores_nb.std())))\n",
    "\n",
    "print(\"NB K-fold Mean Precision: %.3f, with deviation of: %.3f\" %(precision_scores_nb.mean(), \n",
    "                                                                  precision_scores_nb.std()))\n",
    "\n",
    "print(\"NB K-fold Mean Recall: %.3f, with deviation of: %.3f\" %(recall_scores_nb.mean(), \n",
    "                                                               recall_scores_nb.std()))\n",
    "\n",
    "print(\"NB K-fold Mean F1 Score: %.3f, with deviation of: %.3f\" %(f1_scores_nb.mean(), \n",
    "                                                                 f1_scores_nb.std()))"
   ]
  },
  {
   "cell_type": "code",
   "execution_count": 286,
   "id": "4facbe0b",
   "metadata": {},
   "outputs": [
    {
     "data": {
      "image/png": "[encoded data removed]",
      "text/plain": [
       "<Figure size 396x324 with 1 Axes>"
      ]
     },
     "metadata": {
      "needs_background": "light"
     },
     "output_type": "display_data"
    }
   ],
   "source": [
    "nb_kfold_plot_data = pd.DataFrame({\n",
    "    'Recall': recall_scores_nb,\n",
    "    'Precision': precision_scores_nb,\n",
    "    'F1-score': f1_scores_nb\n",
    "})\n",
    "fig, ax1 = plt.subplots(figsize=(5.5, 4.5))\n",
    "lineplot = sns.lineplot(data=nb_kfold_plot_data, ax=ax1)\n",
    "ax1.set(xlim=(0, 9))\n",
    "plt.legend(bbox_to_anchor=(1.05, 1), loc='upper left', borderaxespad=0)\n",
    "ax1.set_xlabel(\"Iteration Number\", labelpad=10)\n",
    "ax1.set_ylabel(\"Evaluation Metrics\", labelpad=10)\n",
    "sns.despine(fig)"
   ]
  },
  {
   "cell_type": "markdown",
   "id": "50122354",
   "metadata": {},
   "source": [
    "### Naive Bayes - Train Test"
   ]
  },
  {
   "cell_type": "code",
   "execution_count": 361,
   "id": "c742a857",
   "metadata": {},
   "outputs": [],
   "source": [
    "accuracy_scores_tt_nb=[]\n",
    "precision_scores_tt_nb=[]\n",
    "recall_scores_tt_nb=[]\n",
    "f1_scores_tt_nb=[]"
   ]
  },
  {
   "cell_type": "code",
   "execution_count": 362,
   "id": "f77096dc",
   "metadata": {},
   "outputs": [
    {
     "name": "stdout",
     "output_type": "stream",
     "text": [
      "Train: 0.90 and Test: 0.10\n",
      "[19  2  9  4]\n",
      "Accuracy: 0.847\n",
      "Precision: 0.837\n",
      "Recall: 0.847\n",
      "F1 Score: 0.834\n",
      "-------------------------------------------------------------------------------------------------------------------\n",
      "Train: 0.80 and Test: 0.20\n",
      "[19  2  9  4]\n",
      "Accuracy: 0.848\n",
      "Precision: 0.839\n",
      "Recall: 0.848\n",
      "F1 Score: 0.836\n",
      "-------------------------------------------------------------------------------------------------------------------\n",
      "Train: 0.75 and Test: 0.25\n",
      "[19  2  9  4]\n",
      "Accuracy: 0.848\n",
      "Precision: 0.839\n",
      "Recall: 0.848\n",
      "F1 Score: 0.836\n",
      "-------------------------------------------------------------------------------------------------------------------\n",
      "Train: 0.60 and Test: 0.40\n",
      "[19  2  9  4]\n",
      "Accuracy: 0.847\n",
      "Precision: 0.838\n",
      "Recall: 0.847\n",
      "F1 Score: 0.836\n",
      "-------------------------------------------------------------------------------------------------------------------\n",
      "Train: 0.50 and Test: 0.50\n",
      "[19  2  9  4]\n",
      "Accuracy: 0.847\n",
      "Precision: 0.839\n",
      "Recall: 0.847\n",
      "F1 Score: 0.836\n",
      "-------------------------------------------------------------------------------------------------------------------\n"
     ]
    }
   ],
   "source": [
    "t0 = time()\n",
    "count = 0\n",
    "for ratio in [(0.9,0.1), (0.8,0.2), (0.75,0.25), (0.6,0.4), (0.5,0.5)]:\n",
    "    print(\"Train: %.2f and Test: %.2f\" %(ratio[0], ratio[1]))\n",
    "    \n",
    "    X_train_tt, X_test_tt, y_train_tt, y_test_tt = train_test_split(X_nb, y_nb, train_size=ratio[0], stratify=y_nb, random_state = 1)\n",
    "    \n",
    "    nb_random_tt = MixedNB(alpha=50, categorical_features=[2,3,4,5]).fit(X_train_tt, y_train_tt.values.flatten())\n",
    "    \n",
    "    filePath = \"%s/Naive Bayes Models/TT Models/tt_model_%s.sav\" %(path, count)\n",
    "    os.makedirs(os.path.dirname(filePath), exist_ok=True)\n",
    "    fileObj = open(filePath, 'wb')\n",
    "    pickle.dump(nb_random_tt, fileObj)\n",
    "    fileObj.close()\n",
    "    \n",
    "    ypred_nb_tt = nb_random_tt.predict(X_test_tt)\n",
    "    \n",
    "    accuracy_tt = accuracy_score(y_test_tt, ypred_nb_tt)\n",
    "    precision_tt = precision_score(y_test_tt, ypred_nb_tt, average='weighted')\n",
    "    recall_tt = recall_score(y_test_tt, ypred_nb_tt, average='weighted')\n",
    "    f1_score_tt = f1_score(y_test_tt, ypred_nb_tt, average='weighted')   \n",
    "    \n",
    "    print(\"Accuracy: %.3f\" %(accuracy_tt))\n",
    "    print(\"Precision: %.3f\" %(precision_tt))\n",
    "    print(\"Recall: %.3f\" %(recall_tt))\n",
    "    print(\"F1 Score: %.3f\" %(f1_score_tt))\n",
    "    \n",
    "    accuracy_scores_tt_nb.append(accuracy_tt)\n",
    "    precision_scores_tt_nb.append(precision_tt)\n",
    "    recall_scores_tt_nb.append(recall_tt)\n",
    "    f1_scores_tt_nb.append(f1_score_tt)\n",
    "    \n",
    "    count = count + 1\n",
    "    print(\"-------------------------------------------------------------------------------------------------------------------\")\n",
    "    \n",
    "train_test_time_nb = time() - t0"
   ]
  },
  {
   "cell_type": "code",
   "execution_count": 363,
   "id": "98c3e285",
   "metadata": {},
   "outputs": [],
   "source": [
    "filePathAcc = \"%s/Naive Bayes Models/TT Models/tt_accuracy_scores.txt\" %(path)\n",
    "os.makedirs(os.path.dirname(filePathAcc), exist_ok=True)\n",
    "\n",
    "filePathPrec = \"%s/Naive Bayes Models/TT Models/tt_precision_scores.txt\" %(path)\n",
    "os.makedirs(os.path.dirname(filePathPrec), exist_ok=True)\n",
    "\n",
    "filePathRecall = \"%s/Naive Bayes Models/TT Models/tt_recall_scores.txt\" %(path)\n",
    "os.makedirs(os.path.dirname(filePathRecall), exist_ok=True)\n",
    "\n",
    "filePathF1 = \"%s/Naive Bayes Models/TT Models/tt_f1_scores.txt\" %(path)\n",
    "os.makedirs(os.path.dirname(filePathF1), exist_ok=True)\n",
    "\n",
    "with open(filePathAcc, 'w') as filehandle:\n",
    "    json.dump(accuracy_scores_tt_nb, filehandle)\n",
    "    \n",
    "with open(filePathPrec, 'w') as filehandle:\n",
    "    json.dump(precision_scores_tt_nb, filehandle)\n",
    "    \n",
    "with open(filePathRecall, 'w') as filehandle:\n",
    "    json.dump(recall_scores_tt_nb, filehandle)\n",
    "    \n",
    "with open(filePathF1, 'w') as filehandle:\n",
    "    json.dump(f1_scores_tt_nb, filehandle)"
   ]
  },
  {
   "cell_type": "code",
   "execution_count": 108,
   "id": "6f7097db",
   "metadata": {},
   "outputs": [],
   "source": [
    "filePathAcc = \"%s/Naive Bayes Models/TT Models/tt_accuracy_scores.txt\" %(path)\n",
    "\n",
    "filePathPrec = \"%s/Naive Bayes Models/TT Models/tt_precision_scores.txt\" %(path)\n",
    "\n",
    "filePathRecall = \"%s/Naive Bayes Models/TT Models/tt_recall_scores.txt\" %(path)\n",
    "\n",
    "filePathF1 = \"%s/Naive Bayes Models/TT Models/tt_f1_scores.txt\" %(path)\n",
    "\n",
    "with open(filePathAcc) as filehandle:\n",
    "    data = json.load(filehandle)\n",
    "    accuracy_scores_tt_nb = data\n",
    "    \n",
    "with open(filePathPrec) as filehandle:\n",
    "    data = json.load(filehandle)\n",
    "    precision_scores_tt_nb = data\n",
    "    \n",
    "with open(filePathRecall) as filehandle:\n",
    "    data = json.load(filehandle)\n",
    "    recall_scores_tt_nb = data\n",
    "    \n",
    "with open(filePathF1) as filehandle:\n",
    "    data = json.load(filehandle)\n",
    "    f1_scores_tt_nb = data"
   ]
  },
  {
   "cell_type": "code",
   "execution_count": 109,
   "id": "c9a35ad4",
   "metadata": {},
   "outputs": [
    {
     "name": "stdout",
     "output_type": "stream",
     "text": [
      "NB TT Accuracy: 0.847, with deviation of: 0.000\n",
      "NB TT Precision: 0.838, with deviation of: 0.001\n",
      "NB TT Recall: 0.847, with deviation of: 0.000\n",
      "NB TT F1 Score: 0.836, with deviation of: 0.001\n"
     ]
    }
   ],
   "source": [
    "accuracy_scores_tt_nb = np.asarray(accuracy_scores_tt_nb)\n",
    "precision_scores_tt_nb = np.asarray(precision_scores_tt_nb)\n",
    "recall_scores_tt_nb = np.asarray(recall_scores_tt_nb)\n",
    "f1_scores_tt_nb = np.asarray(f1_scores_tt_nb)\n",
    "\n",
    "print(\"NB TT Accuracy: %.3f, with deviation of: %.3f\" %(accuracy_scores_tt_nb.mean(), \n",
    "                                                                 (accuracy_scores_tt_nb.std())))\n",
    "\n",
    "print(\"NB TT Precision: %.3f, with deviation of: %.3f\" %(precision_scores_tt_nb.mean(), \n",
    "                                                                  precision_scores_tt_nb.std()))\n",
    "\n",
    "print(\"NB TT Recall: %.3f, with deviation of: %.3f\" %(recall_scores_tt_nb.mean(), \n",
    "                                                               recall_scores_tt_nb.std()))\n",
    "\n",
    "print(\"NB TT F1 Score: %.3f, with deviation of: %.3f\" %(f1_scores_tt_nb.mean(), \n",
    "                                                                 f1_scores_tt_nb.std()))"
   ]
  },
  {
   "cell_type": "code",
   "execution_count": 287,
   "id": "c101e209",
   "metadata": {
    "scrolled": true
   },
   "outputs": [
    {
     "name": "stderr",
     "output_type": "stream",
     "text": [
      "C:\\Users\\aakas\\AppData\\Local\\Temp\\ipykernel_39076\\391716808.py:9: UserWarning: FixedFormatter should only be used together with FixedLocator\n",
      "  nb_tt_lineplot.set_xticklabels([\"(0.9,0.1)\", \" \", \"(0.8,0.2)\", \" \", \"(0.75,0.25)\", \" \", \"(0.6,0.4)\", \" \", \"(0.5,0.5)\"])\n"
     ]
    },
    {
     "data": {
      "image/png": "[encoded data removed]",
      "text/plain": [
       "<Figure size 396x360 with 1 Axes>"
      ]
     },
     "metadata": {
      "needs_background": "light"
     },
     "output_type": "display_data"
    }
   ],
   "source": [
    "nb_train_test_plot_data = pd.DataFrame({\n",
    "    'Recall': recall_scores_tt_nb,\n",
    "    'Precision': precision_scores_tt_nb,\n",
    "    'F1-score': f1_scores_tt_nb\n",
    "})\n",
    "fig, ax1 = plt.subplots(figsize=(5.5, 5))\n",
    "nb_tt_lineplot = sns.lineplot(data=nb_train_test_plot_data, ax=ax1)\n",
    "ax1.set(xlim=(0, 4))\n",
    "nb_tt_lineplot.set_xticklabels([\"(0.9,0.1)\", \" \", \"(0.8,0.2)\", \" \", \"(0.75,0.25)\", \" \", \"(0.6,0.4)\", \" \", \"(0.5,0.5)\"])\n",
    "plt.legend(bbox_to_anchor=(1.05, 1), loc='upper left', borderaxespad=0)\n",
    "ax1.set_xlabel(\"Train/Test Ratio\", labelpad=10)\n",
    "ax1.set_ylabel(\"Evaluation Metrics\", labelpad=10)\n",
    "sns.despine(fig)"
   ]
  },
  {
   "cell_type": "markdown",
   "id": "6b9b50fa",
   "metadata": {},
   "source": [
    "## Supervised fault type prediction - Naive Model"
   ]
  },
  {
   "cell_type": "code",
   "execution_count": 111,
   "id": "cfb997f3",
   "metadata": {},
   "outputs": [],
   "source": [
    "naive_model_nop = pickle.load(open(\"%s/Naive Models/naive_model_nop.sav\" %(path), 'rb'))\n",
    "\n",
    "naive_model_flp = pickle.load(open(\"%s/Naive Models/naive_model_flp.sav\" %(path), 'rb'))\n",
    "\n",
    "naive_model_none = pickle.load(open(\"%s/Naive Models/naive_model_none.sav\" %(path), 'rb'))"
   ]
  },
  {
   "cell_type": "code",
   "execution_count": 117,
   "id": "5107abde",
   "metadata": {},
   "outputs": [],
   "source": [
    "t0 = time()\n",
    "y_pred_naive_nop = naive_model_nop.predict(X_test)\n",
    "naive_pred_time_nop = time() - t0"
   ]
  },
  {
   "cell_type": "code",
   "execution_count": 118,
   "id": "d1468c8d",
   "metadata": {},
   "outputs": [
    {
     "name": "stdout",
     "output_type": "stream",
     "text": [
      "Prediction time for 58451 samples: 0\n"
     ]
    }
   ],
   "source": [
    "print(\"Prediction time for %i samples: %d\" %(X_test.shape[0], naive_pred_time_nop))"
   ]
  },
  {
   "cell_type": "code",
   "execution_count": 119,
   "id": "01a65ef5",
   "metadata": {},
   "outputs": [
    {
     "name": "stdout",
     "output_type": "stream",
     "text": [
      "Naive Model NOP Accuracy: 0.14458264187096884\n"
     ]
    }
   ],
   "source": [
    "naive_nop_accuracy = accuracy_score(y_test, y_pred_naive_nop)\n",
    "print(\"Naive Model NOP Accuracy: %s\" %(naive_nop_accuracy))"
   ]
  },
  {
   "cell_type": "code",
   "execution_count": 120,
   "id": "080671f3",
   "metadata": {},
   "outputs": [
    {
     "name": "stdout",
     "output_type": "stream",
     "text": [
      "Naive Model NOP Recall: 0.14458264187096884\n"
     ]
    }
   ],
   "source": [
    "naive_nop_recall = recall_score(y_test, y_pred_naive_nop, average='weighted')\n",
    "print(\"Naive Model NOP Recall: %s\" %(naive_nop_recall))"
   ]
  },
  {
   "cell_type": "code",
   "execution_count": 121,
   "id": "bb40965d",
   "metadata": {},
   "outputs": [
    {
     "name": "stdout",
     "output_type": "stream",
     "text": [
      "Naive Model NOP Precision: 0.020904140330388832\n"
     ]
    },
    {
     "name": "stderr",
     "output_type": "stream",
     "text": [
      "C:\\Users\\aakas\\AppData\\Local\\Programs\\Python\\Python310\\lib\\site-packages\\sklearn\\metrics\\_classification.py:1318: UndefinedMetricWarning: Precision is ill-defined and being set to 0.0 in labels with no predicted samples. Use `zero_division` parameter to control this behavior.\n",
      "  _warn_prf(average, modifier, msg_start, len(result))\n"
     ]
    }
   ],
   "source": [
    "naive_nop_precision = precision_score(y_test, y_pred_naive_nop, average='weighted')\n",
    "print(\"Naive Model NOP Precision: %s\" %(naive_nop_precision))"
   ]
  },
  {
   "cell_type": "code",
   "execution_count": 122,
   "id": "827ec958",
   "metadata": {},
   "outputs": [
    {
     "name": "stdout",
     "output_type": "stream",
     "text": [
      "Naive Model NOP Weighted F1 score: 0.03652709654275081\n"
     ]
    }
   ],
   "source": [
    "naive_nop_f1 = f1_score(y_test, y_pred_naive_nop, average='weighted')\n",
    "print(\"Naive Model NOP Weighted F1 score: %s\" %(naive_nop_f1))"
   ]
  },
  {
   "cell_type": "code",
   "execution_count": 123,
   "id": "6591c577",
   "metadata": {},
   "outputs": [],
   "source": [
    "t0 = time()\n",
    "y_pred_naive_flp = naive_model_flp.predict(X_test)\n",
    "naive_pred_time_flp = time() - t0"
   ]
  },
  {
   "cell_type": "code",
   "execution_count": 124,
   "id": "4566741a",
   "metadata": {},
   "outputs": [
    {
     "name": "stdout",
     "output_type": "stream",
     "text": [
      "Prediction time for 58451 samples: 0\n"
     ]
    }
   ],
   "source": [
    "print(\"Prediction time for %i samples: %d\" %(X_test.shape[0], naive_pred_time_flp))"
   ]
  },
  {
   "cell_type": "code",
   "execution_count": 125,
   "id": "4e39c610",
   "metadata": {},
   "outputs": [
    {
     "name": "stdout",
     "output_type": "stream",
     "text": [
      "Naive Model FLP Accuracy: 0.4277086790645156\n"
     ]
    }
   ],
   "source": [
    "naive_flp_accuracy = accuracy_score(y_test, y_pred_naive_flp)\n",
    "print(\"Naive Model FLP Accuracy: %s\" %(naive_flp_accuracy))"
   ]
  },
  {
   "cell_type": "code",
   "execution_count": 126,
   "id": "103654ee",
   "metadata": {},
   "outputs": [
    {
     "name": "stdout",
     "output_type": "stream",
     "text": [
      "Naive Model FLP Recall: 0.4277086790645156\n"
     ]
    }
   ],
   "source": [
    "naive_flp_recall = recall_score(y_test, y_pred_naive_flp, average='weighted')\n",
    "print(\"Naive Model FLP Recall: %s\" %(naive_flp_recall))"
   ]
  },
  {
   "cell_type": "code",
   "execution_count": 127,
   "id": "af72fe0e",
   "metadata": {},
   "outputs": [
    {
     "name": "stdout",
     "output_type": "stream",
     "text": [
      "Naive Model FLP Precision: 0.1829347141471128\n"
     ]
    },
    {
     "name": "stderr",
     "output_type": "stream",
     "text": [
      "C:\\Users\\aakas\\AppData\\Local\\Programs\\Python\\Python310\\lib\\site-packages\\sklearn\\metrics\\_classification.py:1318: UndefinedMetricWarning: Precision is ill-defined and being set to 0.0 in labels with no predicted samples. Use `zero_division` parameter to control this behavior.\n",
      "  _warn_prf(average, modifier, msg_start, len(result))\n"
     ]
    }
   ],
   "source": [
    "naive_flp_precision = precision_score(y_test, y_pred_naive_flp, average='weighted')\n",
    "print(\"Naive Model FLP Precision: %s\" %(naive_flp_precision))"
   ]
  },
  {
   "cell_type": "code",
   "execution_count": 128,
   "id": "26608495",
   "metadata": {},
   "outputs": [
    {
     "name": "stdout",
     "output_type": "stream",
     "text": [
      "Naive Model FLP Weighted F1 score: 0.2562633635693494\n"
     ]
    }
   ],
   "source": [
    "naive_flp_f1 = f1_score(y_test, y_pred_naive_flp, average='weighted')\n",
    "print(\"Naive Model FLP Weighted F1 score: %s\" %(naive_flp_f1))"
   ]
  },
  {
   "cell_type": "code",
   "execution_count": 129,
   "id": "4be054fe",
   "metadata": {},
   "outputs": [],
   "source": [
    "t0 = time()\n",
    "y_pred_naive_none = naive_model_none.predict(X_test)\n",
    "naive_pred_time_none = time() - t0"
   ]
  },
  {
   "cell_type": "code",
   "execution_count": 130,
   "id": "187bc918",
   "metadata": {},
   "outputs": [
    {
     "name": "stdout",
     "output_type": "stream",
     "text": [
      "Prediction time for 58451 samples: 0\n"
     ]
    }
   ],
   "source": [
    "print(\"Prediction time for %i samples: %d\" %(X_test.shape[0], naive_pred_time_none))"
   ]
  },
  {
   "cell_type": "code",
   "execution_count": 131,
   "id": "093dd222",
   "metadata": {},
   "outputs": [
    {
     "name": "stdout",
     "output_type": "stream",
     "text": [
      "Naive Model NONE Accuracy: 0.4277086790645156\n"
     ]
    }
   ],
   "source": [
    "naive_none_accuracy = accuracy_score(y_test, y_pred_naive_none)\n",
    "print(\"Naive Model NONE Accuracy: %s\" %(naive_none_accuracy))"
   ]
  },
  {
   "cell_type": "code",
   "execution_count": 132,
   "id": "31f5029d",
   "metadata": {},
   "outputs": [
    {
     "name": "stdout",
     "output_type": "stream",
     "text": [
      "Naive Model NONE Recall: 0.4277086790645156\n"
     ]
    }
   ],
   "source": [
    "naive_none_recall = recall_score(y_test, y_pred_naive_none, average='weighted')\n",
    "print(\"Naive Model NONE Recall: %s\" %(naive_none_recall))"
   ]
  },
  {
   "cell_type": "code",
   "execution_count": 133,
   "id": "9c126054",
   "metadata": {},
   "outputs": [
    {
     "name": "stdout",
     "output_type": "stream",
     "text": [
      "Naive Model NONE Precision: 0.1829347141471128\n"
     ]
    },
    {
     "name": "stderr",
     "output_type": "stream",
     "text": [
      "C:\\Users\\aakas\\AppData\\Local\\Programs\\Python\\Python310\\lib\\site-packages\\sklearn\\metrics\\_classification.py:1318: UndefinedMetricWarning: Precision is ill-defined and being set to 0.0 in labels with no predicted samples. Use `zero_division` parameter to control this behavior.\n",
      "  _warn_prf(average, modifier, msg_start, len(result))\n"
     ]
    }
   ],
   "source": [
    "naive_none_precision = precision_score(y_test, y_pred_naive_none, average='weighted')\n",
    "print(\"Naive Model NONE Precision: %s\" %(naive_none_precision))"
   ]
  },
  {
   "cell_type": "code",
   "execution_count": 134,
   "id": "42f48510",
   "metadata": {},
   "outputs": [
    {
     "name": "stdout",
     "output_type": "stream",
     "text": [
      "Naive Model NONE Weighted F1 score: 0.2562633635693494\n"
     ]
    }
   ],
   "source": [
    "naive_none_f1 = f1_score(y_test, y_pred_naive_none, average='weighted')\n",
    "print(\"Naive Model NONE Weighted F1 score: %s\" %(naive_none_f1))"
   ]
  },
  {
   "cell_type": "code",
   "execution_count": 135,
   "id": "00a7cdf9",
   "metadata": {},
   "outputs": [],
   "source": [
    "naive_accuracy_scores = np.array([naive_nop_accuracy, naive_flp_accuracy, naive_none_accuracy])\n",
    "naive_recall_scores = np.array([naive_nop_recall, naive_flp_recall, naive_none_recall])\n",
    "naive_precision_scores = np.array([naive_nop_precision, naive_flp_precision, naive_none_precision])\n",
    "naive_f1_scores = np.array([naive_nop_f1, naive_flp_f1, naive_none_f1])"
   ]
  },
  {
   "cell_type": "code",
   "execution_count": 136,
   "id": "05c3d288",
   "metadata": {},
   "outputs": [
    {
     "name": "stdout",
     "output_type": "stream",
     "text": [
      "Naive Mean Accuracy: 0.333, with deviation of: 0.133\n",
      "Naive Mean Recall Score: 0.333, with deviation of: 0.133\n",
      "Naive Mean Precision Score: 0.129, with deviation of: 0.076\n",
      "Naive Mean F1 Score: 0.183, with deviation of: 0.104\n"
     ]
    }
   ],
   "source": [
    "print(\"Naive Mean Accuracy: %.3f, with deviation of: %.3f\" %(naive_accuracy_scores.mean(), \n",
    "                                                                 (naive_accuracy_scores.std())))\n",
    "\n",
    "print(\"Naive Mean Recall Score: %.3f, with deviation of: %.3f\" %(naive_recall_scores.mean(), \n",
    "                                                                 naive_recall_scores.std()))\n",
    "\n",
    "print(\"Naive Mean Precision Score: %.3f, with deviation of: %.3f\" %(naive_precision_scores.mean(), \n",
    "                                                                 naive_precision_scores.std()))\n",
    "\n",
    "print(\"Naive Mean F1 Score: %.3f, with deviation of: %.3f\" %(naive_f1_scores.mean(), \n",
    "                                                                 naive_f1_scores.std()))"
   ]
  },
  {
   "cell_type": "code",
   "execution_count": 289,
   "id": "49210c21",
   "metadata": {},
   "outputs": [
    {
     "data": {
      "image/png": "[encoded data removed]",
      "text/plain": [
       "<Figure size 432x360 with 1 Axes>"
      ]
     },
     "metadata": {
      "needs_background": "light"
     },
     "output_type": "display_data"
    }
   ],
   "source": [
    "fig, ax1 = plt.subplots(figsize=(6, 5))\n",
    "\n",
    "values = [\n",
    "    round(np.mean([naive_nop_recall, naive_flp_recall, naive_none_recall]), 3),\n",
    "    round(np.mean([naive_nop_precision, naive_flp_precision, naive_none_precision]), 3),\n",
    "    round(np.mean([naive_nop_f1, naive_flp_f1, naive_none_f1]), 3)\n",
    "]\n",
    "\n",
    "ax1.bar(['Recall', 'Precision', 'F1-score'], values)\n",
    "\n",
    "for container in ax1.containers:\n",
    "    ax1.bar_label(container)\n",
    "    \n",
    "ax1.set_xlabel(\"Evaluation Metrics\", labelpad=10)\n",
    "ax1.set_ylabel(\"Evaluation Metric Values\", labelpad=10)\n",
    "\n",
    "plt.show()"
   ]
  },
  {
   "cell_type": "markdown",
   "id": "974764eb",
   "metadata": {},
   "source": [
    "## Supervised fault type prediction - Random Forest"
   ]
  },
  {
   "cell_type": "code",
   "execution_count": 140,
   "id": "15a29288",
   "metadata": {},
   "outputs": [],
   "source": [
    "rfc = pickle.load(open(\"%s/Random Forest Models/KFold Models/kfold_model_4.sav\" %(path), 'rb'))"
   ]
  },
  {
   "cell_type": "code",
   "execution_count": 141,
   "id": "c886a621",
   "metadata": {},
   "outputs": [],
   "source": [
    "t0 = time()\n",
    "y_pred_rf = rfc.predict(X_test)\n",
    "rf_pred_time = time() - t0"
   ]
  },
  {
   "cell_type": "code",
   "execution_count": 142,
   "id": "3d89f197",
   "metadata": {},
   "outputs": [
    {
     "name": "stdout",
     "output_type": "stream",
     "text": [
      "Prediction time for 58451 samples: 0\n"
     ]
    }
   ],
   "source": [
    "print(\"Prediction time for %i samples: %d\" %(X_test.shape[0], rf_pred_time))"
   ]
  },
  {
   "cell_type": "code",
   "execution_count": 143,
   "id": "e44c7020",
   "metadata": {},
   "outputs": [],
   "source": [
    "rf_cls_report = classification_report(y_test,\n",
    "                            y_pred_rf,\n",
    "                            output_dict=True)"
   ]
  },
  {
   "cell_type": "code",
   "execution_count": 290,
   "id": "01f815d1",
   "metadata": {},
   "outputs": [
    {
     "data": {
      "image/png": "[encoded data removed]",
      "text/plain": [
       "<Figure size 504x360 with 2 Axes>"
      ]
     },
     "metadata": {
      "needs_background": "light"
     },
     "output_type": "display_data"
    }
   ],
   "source": [
    "fig, ax1 = plt.subplots(figsize=(7, 5))\n",
    "sns.heatmap(pd.DataFrame(rf_cls_report).iloc[:-1, :].T, annot=True)\n",
    "ax1.set_xlabel(\"Evaluation Metrics\", labelpad=10)\n",
    "ax1.set_ylabel(\"Target Labels\", labelpad=10)\n",
    "plt.show()"
   ]
  },
  {
   "cell_type": "code",
   "execution_count": 217,
   "id": "9bd3ef4b",
   "metadata": {},
   "outputs": [],
   "source": [
    "rfc_importance = rfc.feature_importances_"
   ]
  },
  {
   "cell_type": "code",
   "execution_count": 218,
   "id": "2bcc9420",
   "metadata": {},
   "outputs": [
    {
     "name": "stdout",
     "output_type": "stream",
     "text": [
      "Feature: 0, Score: 0.260\n",
      "Feature: 1, Score: 0.288\n",
      "Feature: 2, Score: 0.113\n",
      "Feature: 3, Score: 0.128\n",
      "Feature: 4, Score: 0.395\n",
      "Feature: 5, Score: 0.161\n"
     ]
    }
   ],
   "source": [
    "for i,v in enumerate(rfc_importance):\n",
    "    print('Feature: %0d, Score: %.3f' % (i,v))"
   ]
  },
  {
   "cell_type": "code",
   "execution_count": 291,
   "id": "ec07be87",
   "metadata": {},
   "outputs": [
    {
     "data": {
      "image/png": "[encoded data removed]",
      "text/plain": [
       "<Figure size 446.4x360 with 1 Axes>"
      ]
     },
     "metadata": {
      "needs_background": "light"
     },
     "output_type": "display_data"
    }
   ],
   "source": [
    "fig, ax1 = plt.subplots(figsize=(6.2, 5))\n",
    "plt.bar(['Temperature', 'Light', 'Exit_Code', 'Time_Out', 'Label_Log', 'Label_Error'], rfc_importance)\n",
    "ax1.set_xlabel(\"Features\", labelpad=10)\n",
    "ax1.set_ylabel(\"Feature Importance\", labelpad=10)\n",
    "plt.show()"
   ]
  },
  {
   "cell_type": "markdown",
   "id": "8b058a0c",
   "metadata": {},
   "source": [
    "### Predictions for testing Application data and Software Properties separately"
   ]
  },
  {
   "cell_type": "code",
   "execution_count": 202,
   "id": "3dc849b3",
   "metadata": {},
   "outputs": [],
   "source": [
    "t0 = time()\n",
    "y_pred_rf_app = rfc_app.predict(X_test_app)\n",
    "rf_app_pred_time = time() - t0"
   ]
  },
  {
   "cell_type": "code",
   "execution_count": 203,
   "id": "629aaff4",
   "metadata": {},
   "outputs": [
    {
     "name": "stdout",
     "output_type": "stream",
     "text": [
      "Prediction time for 29226 samples: 0\n"
     ]
    }
   ],
   "source": [
    "print(\"Prediction time for %i samples: %d\" %(X_test_app.shape[0], rf_app_pred_time))"
   ]
  },
  {
   "cell_type": "code",
   "execution_count": 204,
   "id": "82672526",
   "metadata": {},
   "outputs": [],
   "source": [
    "rf_app_cls_report = classification_report(y_test_app, \n",
    "                            y_pred_rf_app,\n",
    "                            output_dict=True)"
   ]
  },
  {
   "cell_type": "code",
   "execution_count": 292,
   "id": "7a823e0c",
   "metadata": {},
   "outputs": [
    {
     "data": {
      "image/png": "[encoded data removed]",
      "text/plain": [
       "<Figure size 504x360 with 2 Axes>"
      ]
     },
     "metadata": {
      "needs_background": "light"
     },
     "output_type": "display_data"
    }
   ],
   "source": [
    "fig, ax1 = plt.subplots(figsize=(7, 5))\n",
    "sns.heatmap(pd.DataFrame(rf_app_cls_report).iloc[:-1, :].T, annot=True)\n",
    "ax1.set_xlabel(\"Evaluation Metrics\", labelpad=10)\n",
    "ax1.set_ylabel(\"Target Labels\", labelpad=10)\n",
    "plt.show()"
   ]
  },
  {
   "cell_type": "code",
   "execution_count": 209,
   "id": "64789685",
   "metadata": {},
   "outputs": [],
   "source": [
    "t0 = time()\n",
    "y_pred_rf_swp = rfc_swp.predict(X_test_swp)\n",
    "rf_swp_pred_time = time() - t0"
   ]
  },
  {
   "cell_type": "code",
   "execution_count": 210,
   "id": "4b755a47",
   "metadata": {},
   "outputs": [
    {
     "name": "stdout",
     "output_type": "stream",
     "text": [
      "Prediction time for 29226 samples: 0\n"
     ]
    }
   ],
   "source": [
    "print(\"Prediction time for %i samples: %d\" %(X_test_swp.shape[0], rf_swp_pred_time))"
   ]
  },
  {
   "cell_type": "code",
   "execution_count": 211,
   "id": "b8ec4cd2",
   "metadata": {},
   "outputs": [],
   "source": [
    "rf_swp_cls_report = classification_report(y_test_swp, \n",
    "                                          y_pred_rf_swp, \n",
    "                                          output_dict=True)"
   ]
  },
  {
   "cell_type": "code",
   "execution_count": 293,
   "id": "bfd4e5b7",
   "metadata": {},
   "outputs": [
    {
     "data": {
      "image/png": "[encoded data removed]",
      "text/plain": [
       "<Figure size 504x360 with 2 Axes>"
      ]
     },
     "metadata": {
      "needs_background": "light"
     },
     "output_type": "display_data"
    }
   ],
   "source": [
    "fig, ax1 = plt.subplots(figsize=(7, 5))\n",
    "sns.heatmap(pd.DataFrame(rf_swp_cls_report).iloc[:-1, :].T, annot=True)\n",
    "ax1.set_xlabel(\"Evaluation Metrics\", labelpad=10)\n",
    "ax1.set_ylabel(\"Target Labels\", labelpad=10)\n",
    "plt.show()"
   ]
  },
  {
   "cell_type": "code",
   "execution_count": 311,
   "id": "2362e6b3",
   "metadata": {},
   "outputs": [
    {
     "data": {
      "image/png": "[encoded data removed]",
      "text/plain": [
       "<Figure size 432x360 with 1 Axes>"
      ]
     },
     "metadata": {
      "needs_background": "light"
     },
     "output_type": "display_data"
    }
   ],
   "source": [
    "df = pd.DataFrame({\n",
    "    'Models': ['Model 1', 'Model 2', 'Model 3'],\n",
    "    'Recall': [round(rf_app_recall,3)*100, round(rf_swp_recall,3)*100, round(recall_scores.mean(),3)*100],\n",
    "    'Precision': [round(rf_app_precision,3)*100, round(rf_swp_precision,3)*100, round(precision_scores.mean(),3)*100],\n",
    "    'F1-score': [round(rf_app_f1,3)*100, round(rf_swp_f1,3)*100, round(f1_scores.mean(),3)*100]\n",
    "})\n",
    "xlabel = 'Models'\n",
    "ylabel = \"Evaluation Metric Values (%)\"\n",
    "fig, ax1 = plt.subplots(figsize=(6, 5))\n",
    "tidy = df.melt(id_vars=xlabel).rename(columns=str.title)\n",
    "tidy = tidy.rename(columns={\"Value\": ylabel, \"Variable\": \"Metrics\"})\n",
    "bars = sns.barplot(x=xlabel, y=ylabel, hue='Metrics', data=tidy, ax=ax1)\n",
    "ax1.set(ylim=(0, 100))\n",
    "\n",
    "for container in ax1.containers:\n",
    "    ax1.bar_label(container)\n",
    "    \n",
    "plt.legend(bbox_to_anchor=(1.05, 1), loc='upper left', borderaxespad=0)\n",
    "\n",
    "ax1.set_xlabel(xlabel, labelpad=10)\n",
    "ax1.set_ylabel(ylabel, labelpad=10)\n",
    "\n",
    "sns.despine(fig)"
   ]
  },
  {
   "cell_type": "markdown",
   "id": "67a9ba50",
   "metadata": {},
   "source": [
    "# Plots"
   ]
  },
  {
   "cell_type": "code",
   "execution_count": 295,
   "id": "a7a1539c",
   "metadata": {},
   "outputs": [
    {
     "data": {
      "image/png": "[encoded data removed]",
      "text/plain": [
       "<Figure size 612x432 with 1 Axes>"
      ]
     },
     "metadata": {
      "needs_background": "light"
     },
     "output_type": "display_data"
    }
   ],
   "source": [
    "df = pd.DataFrame({\n",
    "    'Models': ['Naive', 'K-NN', 'Random\\nForest', 'XGB', 'Naive\\nBayes'],\n",
    "#     'Accuracy': [round(naive_accuracy_scores.mean(),3), round(knn_accuracy,3), round(accuracy_scores.mean(),3), \n",
    "#                  round(nested_cv_xgb_accuracy,3)],\n",
    "    'Recall': [round(naive_recall_scores.mean(),3), \n",
    "               round(recall_scores_knn.mean(),3), \n",
    "               round(recall_scores.mean(),3),\n",
    "               round(recall_scores_nested_cv_xgb.mean(),3), \n",
    "               round(recall_scores_nb.mean(),3)],\n",
    "    'Precision': [round(naive_precision_scores.mean(),3), \n",
    "                  round(precision_scores_knn.mean(),3), \n",
    "                  round(precision_scores.mean(),3), \n",
    "                  round(precision_scores_nested_cv_xgb.mean(),3), \n",
    "                  round(precision_scores_nb.mean(),3)],\n",
    "    'F1-score': [round(naive_f1_scores.mean(),3), \n",
    "                 round(f1_scores_knn.mean(),3), \n",
    "                 round(f1_scores.mean(),3), \n",
    "                 round(f1_scores_nested_cv_xgb.mean(),3), \n",
    "                 round(f1_scores_nb.mean(),3)]\n",
    "})\n",
    "xlabel = 'Models'\n",
    "ylabel = 'Evaluation Metric Values'\n",
    "fig, ax1 = plt.subplots(figsize=(8.5, 6))\n",
    "tidy = df.melt(id_vars=xlabel).rename(columns=str.title)\n",
    "tidy = tidy.rename(columns={\"Value\": ylabel, \"Variable\": \"Metrics\"})\n",
    "sns.barplot(x=xlabel, y=ylabel, hue='Metrics', data=tidy, ax=ax1)\n",
    "ax1.set(ylim=(0.1, 1.1))\n",
    "\n",
    "for container in ax1.containers:\n",
    "    ax1.bar_label(container)\n",
    "    \n",
    "plt.legend(bbox_to_anchor=(1.05, 1), loc='upper left', borderaxespad=0)\n",
    "ax1.set_xlabel(xlabel, labelpad=10)\n",
    "ax1.set_ylabel(ylabel, labelpad=10)\n",
    "\n",
    "sns.despine(fig)"
   ]
  }
 ],
 "metadata": {
  "kernelspec": {
   "display_name": "Python 3 (ipykernel)",
   "language": "python",
   "name": "python3"
  },
  "language_info": {
   "codemirror_mode": {
    "name": "ipython",
    "version": 3
   },
   "file_extension": ".py",
   "mimetype": "text/x-python",
   "name": "python",
   "nbconvert_exporter": "python",
   "pygments_lexer": "ipython3",
   "version": "3.10.2"
  }
 },
 "nbformat": 4,
 "nbformat_minor": 5
}
