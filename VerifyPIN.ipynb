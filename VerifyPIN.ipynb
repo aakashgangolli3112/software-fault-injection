{
 "cells": [
  {
   "cell_type": "markdown",
   "id": "35767d7a",
   "metadata": {},
   "source": [
    "# Stage 1:"
   ]
  },
  {
   "cell_type": "markdown",
   "id": "006d6dcf",
   "metadata": {},
   "source": [
    "## Unsupervised clustering to create a model that labels the output logs:\n",
    "\n",
    "Uses the data with software fault injection - FLP and NOP"
   ]
  },
  {
   "cell_type": "code",
   "execution_count": 1,
   "id": "a866c8cb",
   "metadata": {},
   "outputs": [],
   "source": [
    "from time import time\n",
    "import os, random, math\n",
    "from itertools import permutations\n",
    "\n",
    "import numpy as np\n",
    "\n",
    "import pandas as pd\n",
    "\n",
    "import scipy as sp\n",
    "import scipy.stats as stats\n",
    "from scipy.stats import spearmanr\n",
    "\n",
    "from pypair.association import binary_continuous\n",
    "\n",
    "from gensim import utils\n",
    "import gensim.parsing.preprocessing as gsp\n",
    "\n",
    "from sklearn.inspection import permutation_importance\n",
    "from sklearn.feature_selection import SelectKBest\n",
    "from sklearn.feature_selection import chi2\n",
    "from sklearn.feature_selection import mutual_info_classif\n",
    "from sklearn.preprocessing import StandardScaler\n",
    "from sklearn.preprocessing import LabelEncoder\n",
    "from sklearn.model_selection import train_test_split\n",
    "from sklearn.model_selection import RandomizedSearchCV\n",
    "from sklearn.model_selection import GridSearchCV\n",
    "from sklearn.model_selection import KFold\n",
    "from sklearn.model_selection import StratifiedKFold\n",
    "from sklearn.model_selection import cross_val_score\n",
    "from sklearn.model_selection import cross_validate\n",
    "from sklearn.model_selection import cross_val_predict\n",
    "from sklearn.dummy import DummyClassifier\n",
    "from sklearn import metrics\n",
    "from sklearn.metrics import accuracy_score\n",
    "from sklearn.metrics import precision_score\n",
    "from sklearn.metrics import recall_score\n",
    "from sklearn.metrics import f1_score\n",
    "from sklearn.metrics import confusion_matrix\n",
    "from sklearn.metrics import classification_report\n",
    "from sklearn.metrics import make_scorer\n",
    "from sklearn.feature_extraction.text import TfidfVectorizer\n",
    "from sklearn.cluster import KMeans\n",
    "from sklearn.pipeline import make_pipeline\n",
    "from sklearn.neighbors import KNeighborsClassifier\n",
    "from sklearn.ensemble import RandomForestClassifier\n",
    "from sklearn.linear_model import LogisticRegression\n",
    "from mixed_naive_bayes import MixedNB\n",
    "\n",
    "from xgboost import XGBClassifier\n",
    "\n",
    "import matplotlib.pyplot as plt\n",
    "\n",
    "import seaborn as sns\n",
    "\n",
    "import pickle\n",
    "import json"
   ]
  },
  {
   "cell_type": "code",
   "execution_count": 92,
   "id": "8ffc6044",
   "metadata": {},
   "outputs": [],
   "source": [
    "path = \"Sklearn Models/\""
   ]
  },
  {
   "cell_type": "code",
   "execution_count": 93,
   "id": "477b62bb",
   "metadata": {},
   "outputs": [],
   "source": [
    "filters = [\n",
    "           gsp.strip_tags, \n",
    "           #gsp.strip_punctuation,\n",
    "           gsp.strip_multiple_whitespaces,\n",
    "           gsp.strip_numeric,\n",
    "           gsp.remove_stopwords, \n",
    "           gsp.strip_short, \n",
    "           gsp.stem_text\n",
    "          ]"
   ]
  },
  {
   "cell_type": "code",
   "execution_count": 94,
   "id": "2804218a",
   "metadata": {},
   "outputs": [],
   "source": [
    "def clean_text(s):\n",
    "    s = s.lower()\n",
    "    s = utils.to_unicode(s)\n",
    "    s = s.replace(\"\\\\n\", \"\")\n",
    "    for f in filters:\n",
    "        s = f(s)\n",
    "    return s"
   ]
  },
  {
   "cell_type": "code",
   "execution_count": 95,
   "id": "4a011320",
   "metadata": {},
   "outputs": [],
   "source": [
    "nop_fault_data = pd.read_csv(\"VerifyPIN_nop_run_random_faulty_executables.csv\")\n",
    "flp_fault_data = pd.read_csv(\"VerifyPIN_flp_run_fixed_faulty_executables.csv\")\n",
    "none_fault_data = pd.read_csv(\"VerifyPIN_none.csv\")"
   ]
  },
  {
   "cell_type": "code",
   "execution_count": 96,
   "id": "678aebf3",
   "metadata": {},
   "outputs": [],
   "source": [
    "frames = [nop_fault_data, flp_fault_data, none_fault_data]\n",
    "total_data = pd.concat(frames, ignore_index=True)"
   ]
  },
  {
   "cell_type": "code",
   "execution_count": 97,
   "id": "421107d1",
   "metadata": {},
   "outputs": [
    {
     "name": "stdout",
     "output_type": "stream",
     "text": [
      "Size of total data: 602050\n",
      "Size of FLP data: 199996 with 33.219%\n",
      "Size of NOP data: 202054 with 33.561%\n",
      "Size of NONE data: 200000 with 33.220%\n"
     ]
    }
   ],
   "source": [
    "total_size = total_data.shape[0]\n",
    "print(\"Size of total data: %i\" %(total_size))\n",
    "\n",
    "flp_size = total_data[total_data[\"Fault_Type\"] == \"FLP\"].shape[0]\n",
    "print(\"Size of FLP data: %i with %.3f%%\" \n",
    "      %(flp_size, flp_size/total_size * 100))\n",
    "\n",
    "nop_size = total_data[total_data[\"Fault_Type\"] == \"NOP\"].shape[0]\n",
    "print(\"Size of NOP data: %i with %.3f%%\" \n",
    "      %(nop_size, nop_size/total_size * 100))\n",
    "\n",
    "none_size = total_data[total_data[\"Fault_Type\"] == \"NONE\"].shape[0]\n",
    "print(\"Size of NONE data: %i with %.3f%%\" \n",
    "      %(none_size, none_size/total_size * 100))"
   ]
  },
  {
   "cell_type": "code",
   "execution_count": 98,
   "id": "5c316861",
   "metadata": {},
   "outputs": [],
   "source": [
    "X_train_label, X_test_label = train_test_split(total_data, random_state = 0)"
   ]
  },
  {
   "cell_type": "code",
   "execution_count": 101,
   "id": "06758836",
   "metadata": {},
   "outputs": [],
   "source": [
    "vectorizer_output = TfidfVectorizer()\n",
    "X_train_vec_output = vectorizer_output.fit_transform(X_train_label['Output'])"
   ]
  },
  {
   "cell_type": "code",
   "execution_count": 102,
   "id": "933c071f",
   "metadata": {},
   "outputs": [
    {
     "data": {
      "text/plain": [
       "KMeans(init='random', max_iter=100, n_clusters=4, n_init=5)"
      ]
     },
     "execution_count": 102,
     "metadata": {},
     "output_type": "execute_result"
    }
   ],
   "source": [
    "true_k = 4\n",
    "model_log = KMeans(n_clusters=true_k, init='random', max_iter=100, n_init=5)\n",
    "model_log.fit(X_train_vec_output)"
   ]
  },
  {
   "cell_type": "code",
   "execution_count": 105,
   "id": "0e57757c",
   "metadata": {},
   "outputs": [],
   "source": [
    "predicted_log_label = model_log.predict(vectorizer_output.transform(total_data['Output'].map(lambda x: clean_text(x))))\n",
    "total_data['Label_Log'] = predicted_log_label\n",
    "total_data.to_csv('clusters.csv')"
   ]
  },
  {
   "cell_type": "markdown",
   "id": "ff09a779",
   "metadata": {},
   "source": [
    "## Unsupervised clustering to create a model that labels the error logs:\n",
    "\n",
    "Uses the data with software fault injection - FLP and NOP"
   ]
  },
  {
   "cell_type": "code",
   "execution_count": 107,
   "id": "eeb0d4f3",
   "metadata": {},
   "outputs": [],
   "source": [
    "X_train_label['Error'] = X_train_label['Error'].map(lambda x: clean_text(x))"
   ]
  },
  {
   "cell_type": "code",
   "execution_count": 108,
   "id": "9a9a182f",
   "metadata": {},
   "outputs": [],
   "source": [
    "vectorizer_error = TfidfVectorizer()\n",
    "X_train_vec_error = vectorizer_error.fit_transform(X_train_label['Error'])"
   ]
  },
  {
   "cell_type": "code",
   "execution_count": 109,
   "id": "db336143",
   "metadata": {},
   "outputs": [
    {
     "data": {
      "text/plain": [
       "KMeans(init='random', max_iter=100, n_clusters=3, n_init=5)"
      ]
     },
     "execution_count": 109,
     "metadata": {},
     "output_type": "execute_result"
    }
   ],
   "source": [
    "true_k = 3\n",
    "model_error = KMeans(n_clusters=true_k, init='random', max_iter=100, n_init=5)\n",
    "model_error.fit(X_train_vec_error)"
   ]
  },
  {
   "cell_type": "code",
   "execution_count": 110,
   "id": "dcbda19c",
   "metadata": {},
   "outputs": [],
   "source": [
    "for index, row in total_data.iterrows():\n",
    "    if row[\"Time_Out\"] == True:\n",
    "        total_data.at[index, \"Time_Out\"] = 1\n",
    "    else:\n",
    "        total_data.at[index, \"Time_Out\"] = 0"
   ]
  },
  {
   "cell_type": "code",
   "execution_count": 111,
   "id": "8c9fd61d",
   "metadata": {},
   "outputs": [],
   "source": [
    "predicted_error_label = model_error.predict(vectorizer_error.transform(total_data['Error'].map(lambda x: clean_text(x))))\n",
    "total_data['Label_Error'] = predicted_error_label\n",
    "total_data.to_csv('clusters.csv')"
   ]
  },
  {
   "cell_type": "markdown",
   "id": "9da5e4c1",
   "metadata": {},
   "source": [
    "## Loading data and splitting into train and test"
   ]
  },
  {
   "cell_type": "code",
   "execution_count": 112,
   "id": "df3a16f6",
   "metadata": {},
   "outputs": [],
   "source": [
    "df = pd.read_csv(\"clusters.csv\")\n",
    "input_data = df[['Card_Pin', 'User_Pin', 'Exit_Code', 'Time_Out', 'Label_Log', 'Label_Error', 'Fault_Type']]"
   ]
  },
  {
   "cell_type": "code",
   "execution_count": 113,
   "id": "60b5913a",
   "metadata": {},
   "outputs": [
    {
     "name": "stderr",
     "output_type": "stream",
     "text": [
      "C:\\Users\\aakas\\AppData\\Local\\Temp\\ipykernel_22456\\1219796672.py:4: SettingWithCopyWarning: \n",
      "A value is trying to be set on a copy of a slice from a DataFrame.\n",
      "Try using .loc[row_indexer,col_indexer] = value instead\n",
      "\n",
      "See the caveats in the documentation: https://pandas.pydata.org/pandas-docs/stable/user_guide/indexing.html#returning-a-view-versus-a-copy\n",
      "  X['Card_Pin'] = X['Card_Pin'].astype('category')\n",
      "C:\\Users\\aakas\\AppData\\Local\\Temp\\ipykernel_22456\\1219796672.py:5: SettingWithCopyWarning: \n",
      "A value is trying to be set on a copy of a slice from a DataFrame.\n",
      "Try using .loc[row_indexer,col_indexer] = value instead\n",
      "\n",
      "See the caveats in the documentation: https://pandas.pydata.org/pandas-docs/stable/user_guide/indexing.html#returning-a-view-versus-a-copy\n",
      "  X['User_Pin'] = X['User_Pin'].astype('category')\n",
      "C:\\Users\\aakas\\AppData\\Local\\Temp\\ipykernel_22456\\1219796672.py:6: SettingWithCopyWarning: \n",
      "A value is trying to be set on a copy of a slice from a DataFrame.\n",
      "Try using .loc[row_indexer,col_indexer] = value instead\n",
      "\n",
      "See the caveats in the documentation: https://pandas.pydata.org/pandas-docs/stable/user_guide/indexing.html#returning-a-view-versus-a-copy\n",
      "  X['Exit_Code'] = X['Exit_Code'].astype('category')\n",
      "C:\\Users\\aakas\\AppData\\Local\\Temp\\ipykernel_22456\\1219796672.py:7: SettingWithCopyWarning: \n",
      "A value is trying to be set on a copy of a slice from a DataFrame.\n",
      "Try using .loc[row_indexer,col_indexer] = value instead\n",
      "\n",
      "See the caveats in the documentation: https://pandas.pydata.org/pandas-docs/stable/user_guide/indexing.html#returning-a-view-versus-a-copy\n",
      "  X['Label_Log'] = X['Label_Log'].astype('category')\n",
      "C:\\Users\\aakas\\AppData\\Local\\Temp\\ipykernel_22456\\1219796672.py:8: SettingWithCopyWarning: \n",
      "A value is trying to be set on a copy of a slice from a DataFrame.\n",
      "Try using .loc[row_indexer,col_indexer] = value instead\n",
      "\n",
      "See the caveats in the documentation: https://pandas.pydata.org/pandas-docs/stable/user_guide/indexing.html#returning-a-view-versus-a-copy\n",
      "  X['Label_Error'] = X['Label_Error'].astype('category')\n",
      "C:\\Users\\aakas\\AppData\\Local\\Temp\\ipykernel_22456\\1219796672.py:9: SettingWithCopyWarning: \n",
      "A value is trying to be set on a copy of a slice from a DataFrame.\n",
      "Try using .loc[row_indexer,col_indexer] = value instead\n",
      "\n",
      "See the caveats in the documentation: https://pandas.pydata.org/pandas-docs/stable/user_guide/indexing.html#returning-a-view-versus-a-copy\n",
      "  X['Time_Out'] = X['Time_Out'].astype('category')\n",
      "C:\\Users\\aakas\\AppData\\Local\\Temp\\ipykernel_22456\\1219796672.py:10: SettingWithCopyWarning: \n",
      "A value is trying to be set on a copy of a slice from a DataFrame.\n",
      "Try using .loc[row_indexer,col_indexer] = value instead\n",
      "\n",
      "See the caveats in the documentation: https://pandas.pydata.org/pandas-docs/stable/user_guide/indexing.html#returning-a-view-versus-a-copy\n",
      "  y['Fault_Type'] = y['Fault_Type'].astype('category')\n"
     ]
    }
   ],
   "source": [
    "X = input_data[['Card_Pin', 'User_Pin', 'Exit_Code', 'Time_Out', 'Label_Log', 'Label_Error']]\n",
    "y = input_data[['Fault_Type']]\n",
    "\n",
    "X['Card_Pin'] = X['Card_Pin'].astype('category')\n",
    "X['User_Pin'] = X['User_Pin'].astype('category')\n",
    "X['Exit_Code'] = X['Exit_Code'].astype('category')\n",
    "X['Label_Log'] = X['Label_Log'].astype('category')\n",
    "X['Label_Error'] = X['Label_Error'].astype('category')\n",
    "X['Time_Out'] = X['Time_Out'].astype('category')\n",
    "y['Fault_Type'] = y['Fault_Type'].astype('category')"
   ]
  },
  {
   "cell_type": "code",
   "execution_count": 115,
   "id": "5c129282",
   "metadata": {},
   "outputs": [],
   "source": [
    "X_train, X_test, y_train, y_test = train_test_split(X, y, stratify=y, train_size = 0.5, random_state = 1)"
   ]
  },
  {
   "cell_type": "markdown",
   "id": "b53a1c27",
   "metadata": {},
   "source": [
    "## Feature Selection and correlation with output label"
   ]
  },
  {
   "cell_type": "markdown",
   "id": "83d363c5",
   "metadata": {},
   "source": [
    "### SelectKBest based on Mutual Information"
   ]
  },
  {
   "cell_type": "code",
   "execution_count": 142,
   "id": "71a80ae5",
   "metadata": {},
   "outputs": [
    {
     "data": {
      "text/plain": [
       "SelectKBest(k='all',\n",
       "            score_func=<function mutual_info_classif at 0x000001C8547F8CA0>)"
      ]
     },
     "execution_count": 142,
     "metadata": {},
     "output_type": "execute_result"
    }
   ],
   "source": [
    "fs = SelectKBest(score_func=mutual_info_classif, k='all')\n",
    "fs.fit(X_train, y_train.values.flatten())"
   ]
  },
  {
   "cell_type": "code",
   "execution_count": 143,
   "id": "ec7115ae",
   "metadata": {},
   "outputs": [
    {
     "name": "stdout",
     "output_type": "stream",
     "text": [
      "Feature 0: 0.05\n",
      "Feature 1: 0.03\n",
      "Feature 2: 0.41\n",
      "Feature 3: 0.26\n",
      "Feature 4: 0.34\n",
      "Feature 5: 0.17\n"
     ]
    }
   ],
   "source": [
    "for i in range(len(fs.scores_)):\n",
    "    print('Feature %d: %.2f' % (i, fs.scores_[i]))"
   ]
  },
  {
   "cell_type": "code",
   "execution_count": 152,
   "id": "c87b7c79",
   "metadata": {},
   "outputs": [
    {
     "data": {
      "image/png": "[encoded data removed]",
      "text/plain": [
       "<Figure size 453.6x360 with 1 Axes>"
      ]
     },
     "metadata": {
      "needs_background": "light"
     },
     "output_type": "display_data"
    }
   ],
   "source": [
    "fig, ax1 = plt.subplots(figsize=(6.3, 5))\n",
    "\n",
    "ax1.bar(['Card_Pin', 'User_Pin', 'Exit_Code', 'Time_Out', 'Label_Log', 'Label_Error'], fs.scores_)\n",
    "\n",
    "for container in ax1.containers:\n",
    "    ax1.bar_label(container)\n",
    "    \n",
    "ax1.set_xlabel(\"Features\", labelpad=10)\n",
    "ax1.set_ylabel(\"Mutual Information Scores\", labelpad=10)\n",
    "\n",
    "plt.show()"
   ]
  },
  {
   "cell_type": "markdown",
   "id": "3ba7f3e1",
   "metadata": {},
   "source": [
    "### Cramer's V for Categorical vs Categorical data"
   ]
  },
  {
   "cell_type": "code",
   "execution_count": 145,
   "id": "143f9774",
   "metadata": {},
   "outputs": [
    {
     "data": {
      "text/plain": [
       "0.07"
      ]
     },
     "execution_count": 145,
     "metadata": {},
     "output_type": "execute_result"
    }
   ],
   "source": [
    "cramers_v_card_pin = cramers_v(X_train['Card_Pin'].values.flatten(), y_train.values.flatten())\n",
    "cramers_v_card_pin"
   ]
  },
  {
   "cell_type": "code",
   "execution_count": 146,
   "id": "039002be",
   "metadata": {},
   "outputs": [
    {
     "data": {
      "text/plain": [
       "0.02"
      ]
     },
     "execution_count": 146,
     "metadata": {},
     "output_type": "execute_result"
    }
   ],
   "source": [
    "cramers_v_user_pin = cramers_v(X_train['User_Pin'].values.flatten(), y_train.values.flatten())\n",
    "cramers_v_user_pin"
   ]
  },
  {
   "cell_type": "code",
   "execution_count": 147,
   "id": "09e01185",
   "metadata": {},
   "outputs": [
    {
     "data": {
      "text/plain": [
       "0.46"
      ]
     },
     "execution_count": 147,
     "metadata": {},
     "output_type": "execute_result"
    }
   ],
   "source": [
    "cramers_v_label_log = cramers_v(X_train['Label_Log'].values.flatten(), y_train.values.flatten())\n",
    "cramers_v_label_log"
   ]
  },
  {
   "cell_type": "code",
   "execution_count": 148,
   "id": "f4fc85e9",
   "metadata": {},
   "outputs": [
    {
     "data": {
      "text/plain": [
       "0.19"
      ]
     },
     "execution_count": 148,
     "metadata": {},
     "output_type": "execute_result"
    }
   ],
   "source": [
    "cramers_v_label_error = cramers_v(X_train['Label_Error'].values.flatten(), y_train.values.flatten())\n",
    "cramers_v_label_error"
   ]
  },
  {
   "cell_type": "code",
   "execution_count": 149,
   "id": "d4290431",
   "metadata": {},
   "outputs": [
    {
     "data": {
      "text/plain": [
       "0.28"
      ]
     },
     "execution_count": 149,
     "metadata": {},
     "output_type": "execute_result"
    }
   ],
   "source": [
    "cramers_v_time_out = cramers_v(X_train['Time_Out'].values.flatten(), y_train.values.flatten())\n",
    "cramers_v_time_out"
   ]
  },
  {
   "cell_type": "code",
   "execution_count": 150,
   "id": "afc253fa",
   "metadata": {},
   "outputs": [
    {
     "data": {
      "text/plain": [
       "0.39"
      ]
     },
     "execution_count": 150,
     "metadata": {},
     "output_type": "execute_result"
    }
   ],
   "source": [
    "cramers_v_exit_code = cramers_v(X_train['Exit_Code'].values.flatten(), y_train.values.flatten())\n",
    "cramers_v_exit_code"
   ]
  },
  {
   "cell_type": "code",
   "execution_count": 153,
   "id": "d1876cd3",
   "metadata": {},
   "outputs": [
    {
     "data": {
      "image/png": "[encoded data removed]",
      "text/plain": [
       "<Figure size 453.6x360 with 1 Axes>"
      ]
     },
     "metadata": {
      "needs_background": "light"
     },
     "output_type": "display_data"
    }
   ],
   "source": [
    "fig, ax1 = plt.subplots(figsize=(6.3, 5))\n",
    "\n",
    "ax1.bar(['Card_Pin', 'User_Pin', 'Exit_Code', 'Time_Out', 'Label_Log', 'Label_Error'], \n",
    "        [cramers_v_card_pin, cramers_v_user_pin, cramers_v_exit_code, cramers_v_time_out, cramers_v_label_log, cramers_v_label_error])\n",
    "\n",
    "for container in ax1.containers:\n",
    "    ax1.bar_label(container)\n",
    "\n",
    "ax1.set_xlabel(\"Features\", labelpad=10)\n",
    "ax1.set_ylabel(\"Cramer's V Scores\", labelpad=10)\n",
    "\n",
    "plt.show()"
   ]
  },
  {
   "cell_type": "markdown",
   "id": "74c338f2",
   "metadata": {},
   "source": [
    "### Card and User PIN dropped as they are not good predictors of fault type"
   ]
  },
  {
   "cell_type": "code",
   "execution_count": 114,
   "id": "38ce15a2",
   "metadata": {},
   "outputs": [],
   "source": [
    "X = X.drop(columns=['Card_Pin', 'User_Pin'])"
   ]
  },
  {
   "cell_type": "markdown",
   "id": "fa586530",
   "metadata": {},
   "source": [
    "## Training supervised model for fault type predicition - Naive Classifier"
   ]
  },
  {
   "cell_type": "code",
   "execution_count": 100,
   "id": "d0e6c7e7",
   "metadata": {},
   "outputs": [],
   "source": [
    "naive_model_nop = DummyClassifier(strategy='constant', constant='NOP').fit(X_train, y_train.values.flatten())\n",
    "\n",
    "filePath = \"%s/Naive Models/naive_model_nop.sav\" %(path)\n",
    "os.makedirs(os.path.dirname(filePath), exist_ok=True)\n",
    "fileObj = open(filePath, 'wb')\n",
    "pickle.dump(naive_model_nop, fileObj)\n",
    "fileObj.close()"
   ]
  },
  {
   "cell_type": "code",
   "execution_count": 101,
   "id": "ff762461",
   "metadata": {},
   "outputs": [],
   "source": [
    "naive_model_flp = DummyClassifier(strategy='constant', constant='FLP').fit(X_train, y_train.values.flatten())\n",
    "\n",
    "filePath = \"%s/Naive Models/naive_model_flp.sav\" %(path)\n",
    "os.makedirs(os.path.dirname(filePath), exist_ok=True)\n",
    "fileObj = open(filePath, 'wb')\n",
    "pickle.dump(naive_model_flp, fileObj)\n",
    "fileObj.close()"
   ]
  },
  {
   "cell_type": "code",
   "execution_count": 102,
   "id": "2dacb304",
   "metadata": {},
   "outputs": [],
   "source": [
    "naive_model_none = DummyClassifier(strategy='constant', constant='NONE').fit(X_train, y_train.values.flatten())\n",
    "\n",
    "filePath = \"%s/Naive Models/naive_model_none.sav\" %(path)\n",
    "os.makedirs(os.path.dirname(filePath), exist_ok=True)\n",
    "fileObj = open(filePath, 'wb')\n",
    "pickle.dump(naive_model_none, fileObj)\n",
    "fileObj.close()"
   ]
  },
  {
   "cell_type": "markdown",
   "id": "e047fc40",
   "metadata": {},
   "source": [
    "## Training supervised model for fault type predicition - KNN"
   ]
  },
  {
   "cell_type": "code",
   "execution_count": 87,
   "id": "7632c1f4",
   "metadata": {},
   "outputs": [],
   "source": [
    "t0 = time()\n",
    "knn = KNeighborsClassifier(n_neighbors = int(math.sqrt(X_train.shape[0]))).fit(X_train, y_train.values.flatten())\n",
    "knn_fit_time = time() - t0"
   ]
  },
  {
   "cell_type": "code",
   "execution_count": 88,
   "id": "8ca65e9a",
   "metadata": {},
   "outputs": [
    {
     "name": "stdout",
     "output_type": "stream",
     "text": [
      "knn_fit_time: 0\n"
     ]
    }
   ],
   "source": [
    "print(\"knn_fit_time: %d\" %(knn_fit_time))"
   ]
  },
  {
   "cell_type": "markdown",
   "id": "1cbcf34f",
   "metadata": {},
   "source": [
    "### KNN - Nested CV"
   ]
  },
  {
   "cell_type": "code",
   "execution_count": 89,
   "id": "f6777f56",
   "metadata": {},
   "outputs": [],
   "source": [
    "cv_outer_knn = StratifiedKFold(n_splits=10, random_state=1, shuffle=True)"
   ]
  },
  {
   "cell_type": "code",
   "execution_count": 90,
   "id": "fadcacfa",
   "metadata": {},
   "outputs": [],
   "source": [
    "accuracy_scores_knn=[]\n",
    "precision_scores_knn=[]\n",
    "recall_scores_knn=[]\n",
    "f1_scores_knn=[]"
   ]
  },
  {
   "cell_type": "code",
   "execution_count": 91,
   "id": "57171f49",
   "metadata": {},
   "outputs": [
    {
     "name": "stdout",
     "output_type": "stream",
     "text": [
      "[     0      1      2 ... 599990 599991 599993]\n",
      "[    28     32     43 ... 599974 599985 599992]\n",
      "Fitting 5 folds for each of 5 candidates, totalling 25 fits\n",
      "Best Score: 0.534, with parameters: {'weights': 'uniform', 'n_neighbors': 80, 'leaf_size': 60, 'algorithm': 'auto'}\n",
      "Accuracy: 0.534\n",
      "Precision: 0.764\n",
      "Recall: 0.534\n",
      "F1 Score: 0.448\n",
      "-------------------------------------------------------------------------------------------------------------------\n",
      "[     0      1      2 ... 599991 599992 599993]\n",
      "[     9     11     38 ... 599969 599978 599990]\n",
      "Fitting 5 folds for each of 5 candidates, totalling 25 fits\n"
     ]
    },
    {
     "name": "stderr",
     "output_type": "stream",
     "text": [
      "C:\\Users\\aakas\\AppData\\Local\\Programs\\Python\\Python310\\lib\\site-packages\\sklearn\\metrics\\_classification.py:1318: UndefinedMetricWarning: Precision is ill-defined and being set to 0.0 in labels with no predicted samples. Use `zero_division` parameter to control this behavior.\n",
      "  _warn_prf(average, modifier, msg_start, len(result))\n"
     ]
    },
    {
     "name": "stdout",
     "output_type": "stream",
     "text": [
      "Best Score: 0.534, with parameters: {'weights': 'uniform', 'n_neighbors': 60, 'leaf_size': 200, 'algorithm': 'auto'}\n",
      "Accuracy: 0.535\n",
      "Precision: 0.473\n",
      "Recall: 0.535\n",
      "F1 Score: 0.448\n",
      "-------------------------------------------------------------------------------------------------------------------\n",
      "[     0      1      2 ... 599991 599992 599993]\n",
      "[     5     12     15 ... 599951 599965 599972]\n",
      "Fitting 5 folds for each of 5 candidates, totalling 25 fits\n",
      "Best Score: 0.534, with parameters: {'weights': 'uniform', 'n_neighbors': 100, 'leaf_size': 150, 'algorithm': 'auto'}\n",
      "Accuracy: 0.534\n",
      "Precision: 0.765\n",
      "Recall: 0.534\n",
      "F1 Score: 0.447\n",
      "-------------------------------------------------------------------------------------------------------------------\n",
      "[     0      4      5 ... 599991 599992 599993]\n",
      "[     1      2      3 ... 599956 599981 599984]\n",
      "Fitting 5 folds for each of 5 candidates, totalling 25 fits\n",
      "Best Score: 0.534, with parameters: {'weights': 'uniform', 'n_neighbors': 100, 'leaf_size': 150, 'algorithm': 'auto'}\n",
      "Accuracy: 0.533\n",
      "Precision: 0.792\n",
      "Recall: 0.533\n",
      "F1 Score: 0.446\n",
      "-------------------------------------------------------------------------------------------------------------------\n",
      "[     0      1      2 ... 599990 599991 599992]\n",
      "[     6     19     51 ... 599975 599982 599993]\n",
      "Fitting 5 folds for each of 5 candidates, totalling 25 fits\n",
      "Best Score: 0.534, with parameters: {'weights': 'uniform', 'n_neighbors': 100, 'leaf_size': 150, 'algorithm': 'auto'}\n",
      "Accuracy: 0.535\n",
      "Precision: 0.758\n",
      "Recall: 0.535\n",
      "F1 Score: 0.448\n",
      "-------------------------------------------------------------------------------------------------------------------\n",
      "[     0      1      2 ... 599990 599992 599993]\n",
      "[    21     46     50 ... 599979 599986 599991]\n",
      "Fitting 5 folds for each of 5 candidates, totalling 25 fits\n",
      "Best Score: 0.534, with parameters: {'weights': 'uniform', 'n_neighbors': 100, 'leaf_size': 150, 'algorithm': 'auto'}\n",
      "Accuracy: 0.533\n",
      "Precision: 0.758\n",
      "Recall: 0.533\n",
      "F1 Score: 0.446\n",
      "-------------------------------------------------------------------------------------------------------------------\n",
      "[     0      1      2 ... 599991 599992 599993]\n",
      "[    39     42     62 ... 599963 599970 599987]\n",
      "Fitting 5 folds for each of 5 candidates, totalling 25 fits\n",
      "Best Score: 0.534, with parameters: {'weights': 'uniform', 'n_neighbors': 100, 'leaf_size': 150, 'algorithm': 'auto'}\n",
      "Accuracy: 0.535\n",
      "Precision: 0.764\n",
      "Recall: 0.535\n",
      "F1 Score: 0.448\n",
      "-------------------------------------------------------------------------------------------------------------------\n",
      "[     0      1      2 ... 599991 599992 599993]\n",
      "[     8     35     37 ... 599924 599949 599952]\n",
      "Fitting 5 folds for each of 5 candidates, totalling 25 fits\n"
     ]
    },
    {
     "name": "stderr",
     "output_type": "stream",
     "text": [
      "C:\\Users\\aakas\\AppData\\Local\\Programs\\Python\\Python310\\lib\\site-packages\\sklearn\\metrics\\_classification.py:1318: UndefinedMetricWarning: Precision is ill-defined and being set to 0.0 in labels with no predicted samples. Use `zero_division` parameter to control this behavior.\n",
      "  _warn_prf(average, modifier, msg_start, len(result))\n"
     ]
    },
    {
     "name": "stdout",
     "output_type": "stream",
     "text": [
      "Best Score: 0.534, with parameters: {'weights': 'uniform', 'n_neighbors': 60, 'leaf_size': 200, 'algorithm': 'auto'}\n",
      "Accuracy: 0.532\n",
      "Precision: 0.472\n",
      "Recall: 0.532\n",
      "F1 Score: 0.445\n",
      "-------------------------------------------------------------------------------------------------------------------\n",
      "[     1      2      3 ... 599991 599992 599993]\n",
      "[     0      4     14 ... 599980 599988 599989]\n",
      "Fitting 5 folds for each of 5 candidates, totalling 25 fits\n",
      "Best Score: 0.534, with parameters: {'weights': 'uniform', 'n_neighbors': 100, 'leaf_size': 150, 'algorithm': 'auto'}\n",
      "Accuracy: 0.534\n",
      "Precision: 0.747\n",
      "Recall: 0.534\n",
      "F1 Score: 0.448\n",
      "-------------------------------------------------------------------------------------------------------------------\n",
      "[     0      1      2 ... 599991 599992 599993]\n",
      "[     7     13     22 ... 599966 599968 599983]\n",
      "Fitting 5 folds for each of 5 candidates, totalling 25 fits\n",
      "Best Score: 0.534, with parameters: {'weights': 'uniform', 'n_neighbors': 100, 'leaf_size': 150, 'algorithm': 'auto'}\n",
      "Accuracy: 0.532\n",
      "Precision: 0.767\n",
      "Recall: 0.532\n",
      "F1 Score: 0.445\n",
      "-------------------------------------------------------------------------------------------------------------------\n"
     ]
    }
   ],
   "source": [
    "t0 = time()\n",
    "count = 0\n",
    "for train_ix, test_ix in cv_outer_knn.split(X, y):\n",
    "    print(train_ix)\n",
    "    print(test_ix)\n",
    "    X_train_cv_knn, X_test_cv_knn = X.iloc[train_ix, :], X.iloc[test_ix, :]\n",
    "    y_train_cv_knn, y_test_cv_knn = y.iloc[train_ix], y.iloc[test_ix]\n",
    "    \n",
    "    cv_inner_knn = KFold(n_splits=5, shuffle=True, random_state=1)\n",
    "    \n",
    "    knn_kfold = KNeighborsClassifier(n_jobs=1)\n",
    "    \n",
    "    n_neighbors = [int(x) for x in np.linspace(start = 10, stop = 700, num = 20)]\n",
    "    \n",
    "    weights = ['uniform', 'distance']\n",
    "    \n",
    "    algorithms = ['auto', 'ball_tree', 'kd_tree', 'brute']\n",
    "    \n",
    "    leaf_sizes = [30, 60, 90, 150, 200]\n",
    "    \n",
    "    random_grid = {'n_neighbors': n_neighbors,\n",
    "                   'weights': weights,\n",
    "                   'algorithm': algorithms,\n",
    "                   'leaf_size': leaf_sizes}\n",
    "    \n",
    "    knn_random_kfold = RandomizedSearchCV(estimator=knn_kfold, param_distributions=random_grid, n_iter=5, cv=cv_inner_knn, \n",
    "                                   verbose=2, random_state=42, n_jobs = 2)\n",
    "    \n",
    "    result_knn = knn_random_kfold.fit(X_train_cv_knn, y_train_cv_knn.values.flatten())\n",
    "    \n",
    "    knn_random_kfold_best = knn_random_kfold.best_estimator_\n",
    "    \n",
    "    filePath = \"%s/KNN Models/KFold Models/kfold_model_%s.sav\" %(path, count)\n",
    "    os.makedirs(os.path.dirname(filePath), exist_ok=True)\n",
    "    fileObj = open(filePath, 'wb')\n",
    "    pickle.dump(knn_random_kfold_best, fileObj)\n",
    "    fileObj.close()\n",
    "    \n",
    "    ypred_knn_random_kfold = knn_random_kfold_best.predict(X_test_cv_knn)\n",
    "    accuracy_this_fold_knn = accuracy_score(y_test_cv_knn, ypred_knn_random_kfold)\n",
    "    precision_this_fold_knn = precision_score(y_test_cv_knn, ypred_knn_random_kfold, average='weighted')\n",
    "    recall_this_fold_knn = recall_score(y_test_cv_knn, ypred_knn_random_kfold, average='weighted')\n",
    "    f1_score_this_fold_knn = f1_score(y_test_cv_knn, ypred_knn_random_kfold, average='weighted')\n",
    "    \n",
    "    print(\"Best Score: %.3f, with parameters: %s\" %(result_knn.best_score_, result_knn.best_params_))    \n",
    "    \n",
    "    print(\"Accuracy: %.3f\" %(accuracy_this_fold_knn))\n",
    "    print(\"Precision: %.3f\" %(precision_this_fold_knn))\n",
    "    print(\"Recall: %.3f\" %(recall_this_fold_knn))\n",
    "    print(\"F1 Score: %.3f\" %(f1_score_this_fold_knn))\n",
    "    \n",
    "    accuracy_scores_knn.append(accuracy_this_fold_knn)\n",
    "    precision_scores_knn.append(precision_this_fold_knn)\n",
    "    recall_scores_knn.append(recall_this_fold_knn)\n",
    "    f1_scores_knn.append(f1_score_this_fold_knn)\n",
    "    \n",
    "    count = count + 1\n",
    "    print(\"-------------------------------------------------------------------------------------------------------------------\")\n",
    "\n",
    "nested_cv_time_knn = time() - t0"
   ]
  },
  {
   "cell_type": "code",
   "execution_count": 92,
   "id": "7552091a",
   "metadata": {},
   "outputs": [
    {
     "name": "stdout",
     "output_type": "stream",
     "text": [
      "nested_cv_time_knn: 34577\n"
     ]
    }
   ],
   "source": [
    "print(\"nested_cv_time_knn: %d\" %(nested_cv_time_knn))"
   ]
  },
  {
   "cell_type": "code",
   "execution_count": 95,
   "id": "868c8959",
   "metadata": {},
   "outputs": [],
   "source": [
    "filePathAcc = \"%s/KNN Models/KFold Models/kfold_accuracy_scores.txt\" %(path)\n",
    "os.makedirs(os.path.dirname(filePathAcc), exist_ok=True)\n",
    "\n",
    "filePathPrec = \"%s/KNN Models/KFold Models/kfold_precision_scores.txt\" %(path)\n",
    "os.makedirs(os.path.dirname(filePathPrec), exist_ok=True)\n",
    "\n",
    "filePathRecall = \"%s/KNN Models/KFold Models/kfold_recall_scores.txt\" %(path)\n",
    "os.makedirs(os.path.dirname(filePathRecall), exist_ok=True)\n",
    "\n",
    "filePathF1 = \"%s/KNN Models/KFold Models/kfold_f1_scores.txt\" %(path)\n",
    "os.makedirs(os.path.dirname(filePathF1), exist_ok=True)\n",
    "\n",
    "with open(filePathAcc, 'w') as filehandle:\n",
    "    json.dump(accuracy_scores_knn, filehandle)\n",
    "    \n",
    "with open(filePathPrec, 'w') as filehandle:\n",
    "    json.dump(precision_scores_knn, filehandle)\n",
    "    \n",
    "with open(filePathRecall, 'w') as filehandle:\n",
    "    json.dump(recall_scores_knn, filehandle)\n",
    "    \n",
    "with open(filePathF1, 'w') as filehandle:\n",
    "    json.dump(f1_scores_knn, filehandle)"
   ]
  },
  {
   "cell_type": "code",
   "execution_count": 38,
   "id": "639d6692",
   "metadata": {},
   "outputs": [],
   "source": [
    "filePathAcc = \"%s/KNN Models/KFold Models/kfold_accuracy_scores.txt\" %(path)\n",
    "\n",
    "filePathPrec = \"%s/KNN Models/KFold Models/kfold_precision_scores.txt\" %(path)\n",
    "\n",
    "filePathRecall = \"%s/KNN Models/KFold Models/kfold_recall_scores.txt\" %(path)\n",
    "\n",
    "filePathF1 = \"%s/KNN Models/KFold Models/kfold_f1_scores.txt\" %(path)\n",
    "\n",
    "with open(filePathAcc) as filehandle:\n",
    "    data = json.load(filehandle)\n",
    "    accuracy_scores_knn = data\n",
    "    \n",
    "with open(filePathPrec) as filehandle:\n",
    "    data = json.load(filehandle)\n",
    "    precision_scores_knn = data\n",
    "    \n",
    "with open(filePathRecall) as filehandle:\n",
    "    data = json.load(filehandle)\n",
    "    recall_scores_knn = data\n",
    "    \n",
    "with open(filePathF1) as filehandle:\n",
    "    data = json.load(filehandle)\n",
    "    f1_scores_knn = data"
   ]
  },
  {
   "cell_type": "code",
   "execution_count": 39,
   "id": "3d523ce4",
   "metadata": {},
   "outputs": [
    {
     "name": "stdout",
     "output_type": "stream",
     "text": [
      "K-NN K-fold Mean Accuracy: 0.534, with deviation of: 0.001\n",
      "K-NN K-fold Mean Precision: 0.706, with deviation of: 0.117\n",
      "K-NN K-fold Mean Recall: 0.534, with deviation of: 0.001\n",
      "K-NN K-fold Mean F1 Score: 0.447, with deviation of: 0.001\n"
     ]
    }
   ],
   "source": [
    "accuracy_scores_knn = np.asarray(accuracy_scores_knn)\n",
    "precision_scores_knn = np.asarray(precision_scores_knn)\n",
    "recall_scores_knn = np.asarray(recall_scores_knn)\n",
    "f1_scores_knn = np.asarray(f1_scores_knn)\n",
    "\n",
    "print(\"K-NN K-fold Mean Accuracy: %.3f, with deviation of: %.3f\" %(accuracy_scores_knn.mean(), \n",
    "                                                                 (accuracy_scores_knn.std())))\n",
    "\n",
    "print(\"K-NN K-fold Mean Precision: %.3f, with deviation of: %.3f\" %(precision_scores_knn.mean(), \n",
    "                                                                  precision_scores_knn.std()))\n",
    "\n",
    "print(\"K-NN K-fold Mean Recall: %.3f, with deviation of: %.3f\" %(recall_scores_knn.mean(), \n",
    "                                                               recall_scores_knn.std()))\n",
    "\n",
    "print(\"K-NN K-fold Mean F1 Score: %.3f, with deviation of: %.3f\" %(f1_scores_knn.mean(), \n",
    "                                                                 f1_scores_knn.std()))"
   ]
  },
  {
   "cell_type": "code",
   "execution_count": 154,
   "id": "7a51d83c",
   "metadata": {},
   "outputs": [
    {
     "data": {
      "image/png": "[encoded data removed]",
      "text/plain": [
       "<Figure size 360x324 with 1 Axes>"
      ]
     },
     "metadata": {
      "needs_background": "light"
     },
     "output_type": "display_data"
    }
   ],
   "source": [
    "knn_kfold_plot_data = pd.DataFrame({\n",
    "    'Recall': recall_scores_knn,\n",
    "    'Precision': precision_scores_knn,\n",
    "    'F1-score': f1_scores_knn\n",
    "})\n",
    "fig, ax1 = plt.subplots(figsize=(5, 4.5))\n",
    "knn_kfold_lineplot = sns.lineplot(data=knn_kfold_plot_data, ax=ax1)\n",
    "ax1.set(xlim=(0, 9))\n",
    "ax1.set_xlabel(\"Iteration Number\", labelpad=10)\n",
    "ax1.set_ylabel(\"Evaluation Metrics\", labelpad=10)\n",
    "plt.legend(bbox_to_anchor=(1.05, 1), loc='upper left', borderaxespad=0)\n",
    "sns.despine(fig)"
   ]
  },
  {
   "cell_type": "markdown",
   "id": "bc2d0435",
   "metadata": {},
   "source": [
    "### KNN - Testing model with different percentages of train and test data"
   ]
  },
  {
   "cell_type": "code",
   "execution_count": 30,
   "id": "9c182f4c",
   "metadata": {},
   "outputs": [],
   "source": [
    "accuracy_scores_tt_knn=[]\n",
    "precision_scores_tt_knn=[]\n",
    "recall_scores_tt_knn=[]\n",
    "f1_scores_tt_knn=[]"
   ]
  },
  {
   "cell_type": "code",
   "execution_count": null,
   "id": "a00f1eaa",
   "metadata": {},
   "outputs": [
    {
     "name": "stdout",
     "output_type": "stream",
     "text": [
      "Train: 0.90 and Test: 0.10\n",
      "Accuracy: 0.733\n",
      "Precision: 0.850\n",
      "Recall: 0.733\n",
      "F1 Score: 0.738\n",
      "-------------------------------------------------------------------------------------------------------------------\n",
      "Train: 0.80 and Test: 0.20\n",
      "Accuracy: 0.731\n",
      "Precision: 0.849\n",
      "Recall: 0.731\n",
      "F1 Score: 0.735\n",
      "-------------------------------------------------------------------------------------------------------------------\n",
      "Train: 0.75 and Test: 0.25\n",
      "Accuracy: 0.731\n",
      "Precision: 0.849\n",
      "Recall: 0.731\n",
      "F1 Score: 0.736\n",
      "-------------------------------------------------------------------------------------------------------------------\n",
      "Train: 0.60 and Test: 0.40\n",
      "Accuracy: 0.731\n",
      "Precision: 0.849\n",
      "Recall: 0.731\n",
      "F1 Score: 0.736\n",
      "-------------------------------------------------------------------------------------------------------------------\n",
      "Train: 0.50 and Test: 0.50\n"
     ]
    }
   ],
   "source": [
    "t0 = time()\n",
    "count = 0\n",
    "for ratio in [(0.9,0.1), (0.8,0.2), (0.75,0.25), (0.6,0.4), (0.5,0.5), (0.4,0.6), (0.3, 0.7), (0.15, 0.85)]:\n",
    "    print(\"Train: %.2f and Test: %.2f\" %(ratio[0], ratio[1]))\n",
    "    \n",
    "    X_train_tt_knn, X_test_tt_knn, y_train_tt_knn, y_test_tt_knn = train_test_split(X, y, train_size=ratio[0], random_state = 1)\n",
    "    \n",
    "    knn_tt = KNeighborsClassifier(n_jobs=2, \n",
    "                                 weights='distance',\n",
    "                                 n_neighbors=554,\n",
    "                                 leaf_size=60)\\\n",
    "    .fit(X_train_tt_knn, y_train_tt_knn.values.flatten())\n",
    "    \n",
    "    filePath = \"%s/KNN Models/TT Models/tt_model_%s.sav\" %(path, count)\n",
    "    os.makedirs(os.path.dirname(filePath), exist_ok=True)\n",
    "    fileObj = open(filePath, 'wb')\n",
    "    pickle.dump(knn_tt, fileObj)\n",
    "    fileObj.close()\n",
    "    \n",
    "    ypred_knn_tt = knn_tt.predict(X_test_tt_knn)\n",
    "    \n",
    "    accuracy_tt_knn = accuracy_score(y_test_tt_knn, ypred_knn_tt)\n",
    "    precision_tt_knn = precision_score(y_test_tt_knn, ypred_knn_tt, average='weighted')\n",
    "    recall_tt_knn = recall_score(y_test_tt_knn, ypred_knn_tt, average='weighted')\n",
    "    f1_score_tt_knn = f1_score(y_test_tt_knn, ypred_knn_tt, average='weighted')   \n",
    "    \n",
    "    print(\"Accuracy: %.3f\" %(accuracy_tt_knn))\n",
    "    print(\"Precision: %.3f\" %(precision_tt_knn))\n",
    "    print(\"Recall: %.3f\" %(recall_tt_knn))\n",
    "    print(\"F1 Score: %.3f\" %(f1_score_tt_knn))\n",
    "    \n",
    "    accuracy_scores_tt_knn.append(accuracy_tt_knn)\n",
    "    precision_scores_tt_knn.append(precision_tt_knn)\n",
    "    recall_scores_tt_knn.append(recall_tt_knn)\n",
    "    f1_scores_tt_knn.append(f1_score_tt_knn)\n",
    "    \n",
    "    count = count + 1\n",
    "    print(\"-------------------------------------------------------------------------------------------------------------------\")\n",
    "    \n",
    "train_test_time_knn = time() - t0"
   ]
  },
  {
   "cell_type": "code",
   "execution_count": null,
   "id": "f771ccb3",
   "metadata": {},
   "outputs": [],
   "source": [
    "print(\"train_test_time_knn: %d\" %(train_test_time_knn))"
   ]
  },
  {
   "cell_type": "code",
   "execution_count": null,
   "id": "65396484",
   "metadata": {},
   "outputs": [],
   "source": [
    "filePathAcc = \"%s/KNN Models/TT Models/tt_accuracy_scores.txt\" %(path)\n",
    "os.makedirs(os.path.dirname(filePathAcc), exist_ok=True)\n",
    "\n",
    "filePathPrec = \"%s/KNN Models/TT Models/tt_precision_scores.txt\" %(path)\n",
    "os.makedirs(os.path.dirname(filePathPrec), exist_ok=True)\n",
    "\n",
    "filePathRecall = \"%s/KNN Models/TT Models/tt_recall_scores.txt\" %(path)\n",
    "os.makedirs(os.path.dirname(filePathRecall), exist_ok=True)\n",
    "\n",
    "filePathF1 = \"%s/KNN Models/TT Models/tt_f1_scores.txt\" %(path)\n",
    "os.makedirs(os.path.dirname(filePathF1), exist_ok=True)\n",
    "\n",
    "with open(filePathAcc, 'w') as filehandle:\n",
    "    json.dump(accuracy_scores_tt_knn, filehandle)\n",
    "    \n",
    "with open(filePathPrec, 'w') as filehandle:\n",
    "    json.dump(precision_scores_tt_knn, filehandle)\n",
    "    \n",
    "with open(filePathRecall, 'w') as filehandle:\n",
    "    json.dump(recall_scores_tt_knn, filehandle)\n",
    "    \n",
    "with open(filePathF1, 'w') as filehandle:\n",
    "    json.dump(f1_scores_tt_knn, filehandle)"
   ]
  },
  {
   "cell_type": "code",
   "execution_count": 41,
   "id": "ad57ee48",
   "metadata": {},
   "outputs": [],
   "source": [
    "filePathAcc = \"%s/KNN Models/TT Models/tt_accuracy_scores.txt\" %(path)\n",
    "\n",
    "filePathPrec = \"%s/KNN Models/TT Models/tt_precision_scores.txt\" %(path)\n",
    "\n",
    "filePathRecall = \"%s/KNN Models/TT Models/tt_recall_scores.txt\" %(path)\n",
    "\n",
    "filePathF1 = \"%s/KNN Models/TT Models/tt_f1_scores.txt\" %(path)\n",
    "\n",
    "with open(filePathAcc) as filehandle:\n",
    "    data = json.load(filehandle)\n",
    "    accuracy_scores_tt_knn = data\n",
    "    \n",
    "with open(filePathPrec) as filehandle:\n",
    "    data = json.load(filehandle)\n",
    "    precision_scores_tt_knn = data\n",
    "    \n",
    "with open(filePathRecall) as filehandle:\n",
    "    data = json.load(filehandle)\n",
    "    recall_scores_tt_knn = data\n",
    "    \n",
    "with open(filePathF1) as filehandle:\n",
    "    data = json.load(filehandle)\n",
    "    f1_scores_tt_knn = data"
   ]
  },
  {
   "cell_type": "code",
   "execution_count": 42,
   "id": "ee113d84",
   "metadata": {},
   "outputs": [
    {
     "name": "stdout",
     "output_type": "stream",
     "text": [
      "K-NN TT Accuracy: 0.731, with deviation of: 0.001\n",
      "K-NN TT Precision: 0.849, with deviation of: 0.000\n",
      "K-NN TT Recall: 0.731, with deviation of: 0.001\n",
      "K-NN TT F1 Score: 0.736, with deviation of: 0.001\n"
     ]
    }
   ],
   "source": [
    "accuracy_scores_tt_knn = np.asarray(accuracy_scores_tt_knn)\n",
    "precision_scores_tt_knn = np.asarray(precision_scores_tt_knn)\n",
    "recall_scores_tt_knn = np.asarray(recall_scores_tt_knn)\n",
    "f1_scores_tt_knn = np.asarray(f1_scores_tt_knn)\n",
    "\n",
    "print(\"K-NN TT Accuracy: %.3f, with deviation of: %.3f\" %(accuracy_scores_tt_knn.mean(), \n",
    "                                                                 (accuracy_scores_tt_knn.std())))\n",
    "\n",
    "print(\"K-NN TT Precision: %.3f, with deviation of: %.3f\" %(precision_scores_tt_knn.mean(), \n",
    "                                                                  precision_scores_tt_knn.std()))\n",
    "\n",
    "print(\"K-NN TT Recall: %.3f, with deviation of: %.3f\" %(recall_scores_tt_knn.mean(), \n",
    "                                                               recall_scores_tt_knn.std()))\n",
    "\n",
    "print(\"K-NN TT F1 Score: %.3f, with deviation of: %.3f\" %(f1_scores_tt_knn.mean(), \n",
    "                                                                 f1_scores_tt_knn.std()))"
   ]
  },
  {
   "cell_type": "code",
   "execution_count": 155,
   "id": "e868ccc6",
   "metadata": {},
   "outputs": [
    {
     "name": "stderr",
     "output_type": "stream",
     "text": [
      "C:\\Users\\aakas\\AppData\\Local\\Temp\\ipykernel_7836\\1690785231.py:13: UserWarning: FixedFormatter should only be used together with FixedLocator\n",
      "  knn_tt_lineplot.set_xticklabels([\"(0.9,0.1)\", \"(0.8,0.2)\", \"(0.75,0.25)\", \"(0.6,0.4)\", \"(0.5,0.5)\",\n"
     ]
    },
    {
     "data": {
      "image/png": "[encoded data removed]",
      "text/plain": [
       "<Figure size 446.4x360 with 1 Axes>"
      ]
     },
     "metadata": {
      "needs_background": "light"
     },
     "output_type": "display_data"
    }
   ],
   "source": [
    "knn_train_test_plot_data = pd.DataFrame({\n",
    "    'Recall': recall_scores_tt_knn,\n",
    "    'Precision': precision_scores_tt_knn,\n",
    "    'F1-score': f1_scores_tt_knn\n",
    "})\n",
    "fig, ax1 = plt.subplots(figsize=(6.2, 5))\n",
    "knn_tt_lineplot = sns.lineplot(data=knn_train_test_plot_data, ax=ax1)\n",
    "ax1.set(xlim=(0, 7))\n",
    "ax1.set(ylim=(0.72, 0.86))\n",
    "ax1.set_xlabel(\"Train/Test Ratio\", labelpad=10)\n",
    "ax1.set_ylabel(\"Evaluation Metrics\", labelpad=10)\n",
    "plt.legend(bbox_to_anchor=(1.05, 1), loc='upper left', borderaxespad=0)\n",
    "knn_tt_lineplot.set_xticklabels([\"(0.9,0.1)\", \"(0.8,0.2)\", \"(0.75,0.25)\", \"(0.6,0.4)\", \"(0.5,0.5)\", \n",
    "                   \"(0.4,0.6)\", \"(0.3,0.7)\", \"(0.15,0.85)\"])\n",
    "sns.despine(fig)"
   ]
  },
  {
   "cell_type": "markdown",
   "id": "5fce1999",
   "metadata": {},
   "source": [
    "## Training supervised model for fault type predicition - Random Forest"
   ]
  },
  {
   "cell_type": "code",
   "execution_count": 118,
   "id": "77d3a9a6",
   "metadata": {},
   "outputs": [],
   "source": [
    "t0 = time()\n",
    "rfc = RandomForestClassifier(n_estimators=25, min_samples_split=20, min_samples_leaf=50,\n",
    "                             max_features='auto', max_depth=30, bootstrap=False, \n",
    "                             random_state=0, criterion=\"entropy\").fit(X_train, y_train.values.flatten())\n",
    "rf_fit_time = time() - t0"
   ]
  },
  {
   "cell_type": "code",
   "execution_count": 119,
   "id": "520c5e64",
   "metadata": {},
   "outputs": [
    {
     "name": "stdout",
     "output_type": "stream",
     "text": [
      "rf_fit_time: 2\n"
     ]
    }
   ],
   "source": [
    "print(\"rf_fit_time: %d\" %(rf_fit_time))"
   ]
  },
  {
   "cell_type": "markdown",
   "id": "cc93e989",
   "metadata": {},
   "source": [
    "### Random Forest - Nested CV"
   ]
  },
  {
   "cell_type": "code",
   "execution_count": 37,
   "id": "7ba227e3",
   "metadata": {},
   "outputs": [],
   "source": [
    "cv_outer = StratifiedKFold(n_splits=10, random_state=1, shuffle=True)"
   ]
  },
  {
   "cell_type": "code",
   "execution_count": 38,
   "id": "692f70f2",
   "metadata": {},
   "outputs": [],
   "source": [
    "accuracy_scores=[]\n",
    "precision_scores=[]\n",
    "recall_scores=[]\n",
    "f1_scores=[]"
   ]
  },
  {
   "cell_type": "code",
   "execution_count": 39,
   "id": "9e247030",
   "metadata": {},
   "outputs": [
    {
     "name": "stdout",
     "output_type": "stream",
     "text": [
      "[     0      1      2 ... 599990 599991 599993]\n",
      "[    28     32     43 ... 599974 599985 599992]\n",
      "Fitting 5 folds for each of 5 candidates, totalling 25 fits\n",
      "Best Score: 0.733, with parameters: {'n_estimators': 150, 'min_samples_split': 50, 'min_samples_leaf': 200, 'max_features': 'sqrt', 'max_depth': None, 'bootstrap': False}\n",
      "Accuracy: 0.734\n",
      "Precision: 0.852\n",
      "Recall: 0.734\n",
      "F1 Score: 0.738\n",
      "-------------------------------------------------------------------------------------------------------------------\n",
      "[     0      1      2 ... 599991 599992 599993]\n",
      "[     9     11     38 ... 599969 599978 599990]\n",
      "Fitting 5 folds for each of 5 candidates, totalling 25 fits\n",
      "Best Score: 0.733, with parameters: {'n_estimators': 150, 'min_samples_split': 50, 'min_samples_leaf': 200, 'max_features': 'sqrt', 'max_depth': None, 'bootstrap': False}\n",
      "Accuracy: 0.734\n",
      "Precision: 0.852\n",
      "Recall: 0.734\n",
      "F1 Score: 0.739\n",
      "-------------------------------------------------------------------------------------------------------------------\n",
      "[     0      1      2 ... 599991 599992 599993]\n",
      "[     5     12     15 ... 599951 599965 599972]\n",
      "Fitting 5 folds for each of 5 candidates, totalling 25 fits\n",
      "Best Score: 0.734, with parameters: {'n_estimators': 150, 'min_samples_split': 50, 'min_samples_leaf': 200, 'max_features': 'sqrt', 'max_depth': None, 'bootstrap': False}\n",
      "Accuracy: 0.732\n",
      "Precision: 0.851\n",
      "Recall: 0.732\n",
      "F1 Score: 0.737\n",
      "-------------------------------------------------------------------------------------------------------------------\n",
      "[     0      4      5 ... 599991 599992 599993]\n",
      "[     1      2      3 ... 599956 599981 599984]\n",
      "Fitting 5 folds for each of 5 candidates, totalling 25 fits\n",
      "Best Score: 0.734, with parameters: {'n_estimators': 150, 'min_samples_split': 50, 'min_samples_leaf': 200, 'max_features': 'sqrt', 'max_depth': None, 'bootstrap': False}\n",
      "Accuracy: 0.731\n",
      "Precision: 0.851\n",
      "Recall: 0.731\n",
      "F1 Score: 0.736\n",
      "-------------------------------------------------------------------------------------------------------------------\n",
      "[     0      1      2 ... 599990 599991 599992]\n",
      "[     6     19     51 ... 599975 599982 599993]\n",
      "Fitting 5 folds for each of 5 candidates, totalling 25 fits\n",
      "Best Score: 0.733, with parameters: {'n_estimators': 150, 'min_samples_split': 50, 'min_samples_leaf': 200, 'max_features': 'sqrt', 'max_depth': None, 'bootstrap': False}\n",
      "Accuracy: 0.735\n",
      "Precision: 0.852\n",
      "Recall: 0.735\n",
      "F1 Score: 0.740\n",
      "-------------------------------------------------------------------------------------------------------------------\n",
      "[     0      1      2 ... 599990 599992 599993]\n",
      "[    21     46     50 ... 599979 599986 599991]\n",
      "Fitting 5 folds for each of 5 candidates, totalling 25 fits\n",
      "Best Score: 0.733, with parameters: {'n_estimators': 150, 'min_samples_split': 50, 'min_samples_leaf': 200, 'max_features': 'sqrt', 'max_depth': None, 'bootstrap': False}\n",
      "Accuracy: 0.734\n",
      "Precision: 0.852\n",
      "Recall: 0.734\n",
      "F1 Score: 0.739\n",
      "-------------------------------------------------------------------------------------------------------------------\n",
      "[     0      1      2 ... 599991 599992 599993]\n",
      "[    39     42     62 ... 599963 599970 599987]\n",
      "Fitting 5 folds for each of 5 candidates, totalling 25 fits\n",
      "Best Score: 0.733, with parameters: {'n_estimators': 150, 'min_samples_split': 50, 'min_samples_leaf': 200, 'max_features': 'sqrt', 'max_depth': None, 'bootstrap': False}\n",
      "Accuracy: 0.735\n",
      "Precision: 0.852\n",
      "Recall: 0.735\n",
      "F1 Score: 0.740\n",
      "-------------------------------------------------------------------------------------------------------------------\n",
      "[     0      1      2 ... 599991 599992 599993]\n",
      "[     8     35     37 ... 599924 599949 599952]\n",
      "Fitting 5 folds for each of 5 candidates, totalling 25 fits\n",
      "Best Score: 0.734, with parameters: {'n_estimators': 150, 'min_samples_split': 50, 'min_samples_leaf': 200, 'max_features': 'sqrt', 'max_depth': None, 'bootstrap': False}\n",
      "Accuracy: 0.732\n",
      "Precision: 0.851\n",
      "Recall: 0.732\n",
      "F1 Score: 0.737\n",
      "-------------------------------------------------------------------------------------------------------------------\n",
      "[     1      2      3 ... 599991 599992 599993]\n",
      "[     0      4     14 ... 599980 599988 599989]\n",
      "Fitting 5 folds for each of 5 candidates, totalling 25 fits\n",
      "Best Score: 0.733, with parameters: {'n_estimators': 150, 'min_samples_split': 50, 'min_samples_leaf': 200, 'max_features': 'sqrt', 'max_depth': None, 'bootstrap': False}\n",
      "Accuracy: 0.736\n",
      "Precision: 0.853\n",
      "Recall: 0.736\n",
      "F1 Score: 0.741\n",
      "-------------------------------------------------------------------------------------------------------------------\n",
      "[     0      1      2 ... 599991 599992 599993]\n",
      "[     7     13     22 ... 599966 599968 599983]\n",
      "Fitting 5 folds for each of 5 candidates, totalling 25 fits\n",
      "Best Score: 0.734, with parameters: {'n_estimators': 150, 'min_samples_split': 50, 'min_samples_leaf': 200, 'max_features': 'sqrt', 'max_depth': None, 'bootstrap': False}\n",
      "Accuracy: 0.731\n",
      "Precision: 0.851\n",
      "Recall: 0.731\n",
      "F1 Score: 0.736\n",
      "-------------------------------------------------------------------------------------------------------------------\n"
     ]
    }
   ],
   "source": [
    "t0 = time()\n",
    "count = 0\n",
    "for train_ix, test_ix in cv_outer.split(X, y):\n",
    "    print(train_ix)\n",
    "    print(test_ix)\n",
    "    X_train_cv, X_test_cv = X.iloc[train_ix, :], X.iloc[test_ix, :]\n",
    "    y_train_cv, y_test_cv = y.iloc[train_ix], y.iloc[test_ix]\n",
    "    \n",
    "    cv_inner = KFold(n_splits=5, shuffle=True, random_state=1)\n",
    "    \n",
    "    rfc_kfold = RandomForestClassifier(random_state=0, criterion=\"entropy\")\n",
    "    \n",
    "    n_estimators = [int(x) for x in np.linspace(start = 10, stop = 200, num = 20)]\n",
    "    max_features = ['auto', 'sqrt']\n",
    "    max_depth = [int(x) for x in np.linspace(2, 20, num = 11)]\n",
    "    max_depth.append(None)\n",
    "    min_samples_split = [10, 20, 50, 70, 100]\n",
    "    min_samples_leaf = [100, 200, 300, 400, 500]\n",
    "    bootstrap = [True, False]\n",
    "    random_grid = {'n_estimators': n_estimators,\n",
    "                   'max_features': max_features,\n",
    "                   'max_depth': max_depth,\n",
    "                   'min_samples_split': min_samples_split,\n",
    "                   'min_samples_leaf': min_samples_leaf,\n",
    "                   'bootstrap': bootstrap}\n",
    "    \n",
    "    rf_random_kfold = RandomizedSearchCV(estimator=rfc_kfold, param_distributions=random_grid, n_iter=5, cv=cv_inner, \n",
    "                                   verbose=2, random_state=42, n_jobs = 2)\n",
    "    \n",
    "    result = rf_random_kfold.fit(X_train_cv, y_train_cv.values.flatten())\n",
    "    \n",
    "    rfc_random_kfold_best = rf_random_kfold.best_estimator_\n",
    "    \n",
    "    filePath = \"%s/Random Forest Models/KFold Models/kfold_model_%s.sav\" %(path, count)\n",
    "    os.makedirs(os.path.dirname(filePath), exist_ok=True)\n",
    "    fileObj = open(filePath, 'wb')\n",
    "    pickle.dump(rfc_random_kfold_best, fileObj)\n",
    "    fileObj.close()\n",
    "    \n",
    "    ypred_rfc_random_kfold = rfc_random_kfold_best.predict(X_test_cv)\n",
    "    accuracy_this_fold = accuracy_score(y_test_cv, ypred_rfc_random_kfold)\n",
    "    precision_this_fold = precision_score(y_test_cv, ypred_rfc_random_kfold, average='weighted')\n",
    "    recall_this_fold = recall_score(y_test_cv, ypred_rfc_random_kfold, average='weighted')\n",
    "    f1_score_this_fold = f1_score(y_test_cv, ypred_rfc_random_kfold, average='weighted')\n",
    "    \n",
    "    print(\"Best Score: %.3f, with parameters: %s\" %(result.best_score_, result.best_params_))    \n",
    "    \n",
    "    print(\"Accuracy: %.3f\" %(accuracy_this_fold))\n",
    "    print(\"Precision: %.3f\" %(precision_this_fold))\n",
    "    print(\"Recall: %.3f\" %(recall_this_fold))\n",
    "    print(\"F1 Score: %.3f\" %(f1_score_this_fold))\n",
    "    \n",
    "    accuracy_scores.append(accuracy_this_fold)\n",
    "    precision_scores.append(precision_this_fold)\n",
    "    recall_scores.append(recall_this_fold)\n",
    "    f1_scores.append(f1_score_this_fold)\n",
    "    \n",
    "    count = count + 1\n",
    "    print(\"-------------------------------------------------------------------------------------------------------------------\")\n",
    "\n",
    "nested_cv_time = time() - t0"
   ]
  },
  {
   "cell_type": "code",
   "execution_count": 60,
   "id": "734dca9b",
   "metadata": {},
   "outputs": [
    {
     "name": "stdout",
     "output_type": "stream",
     "text": [
      "nested_cv_time: 1325\n"
     ]
    }
   ],
   "source": [
    "print(\"nested_cv_time: %d\" %(nested_cv_time))"
   ]
  },
  {
   "cell_type": "code",
   "execution_count": 61,
   "id": "ccd1c468",
   "metadata": {},
   "outputs": [],
   "source": [
    "filePathAcc = \"%s/Random Forest Models/KFold Models/kfold_accuracy_scores.txt\" %(path)\n",
    "os.makedirs(os.path.dirname(filePathAcc), exist_ok=True)\n",
    "\n",
    "filePathPrec = \"%s/Random Forest Models/KFold Models/kfold_precision_scores.txt\" %(path)\n",
    "os.makedirs(os.path.dirname(filePathPrec), exist_ok=True)\n",
    "\n",
    "filePathRecall = \"%s/Random Forest Models/KFold Models/kfold_recall_scores.txt\" %(path)\n",
    "os.makedirs(os.path.dirname(filePathRecall), exist_ok=True)\n",
    "\n",
    "filePathF1 = \"%s/Random Forest Models/KFold Models/kfold_f1_scores.txt\" %(path)\n",
    "os.makedirs(os.path.dirname(filePathF1), exist_ok=True)\n",
    "\n",
    "with open(filePathAcc, 'w') as filehandle:\n",
    "    json.dump(accuracy_scores, filehandle)\n",
    "    \n",
    "with open(filePathPrec, 'w') as filehandle:\n",
    "    json.dump(precision_scores, filehandle)\n",
    "    \n",
    "with open(filePathRecall, 'w') as filehandle:\n",
    "    json.dump(recall_scores, filehandle)\n",
    "    \n",
    "with open(filePathF1, 'w') as filehandle:\n",
    "    json.dump(f1_scores, filehandle)"
   ]
  },
  {
   "cell_type": "code",
   "execution_count": 44,
   "id": "53991786",
   "metadata": {},
   "outputs": [],
   "source": [
    "filePathAcc = \"%s/Random Forest Models/KFold Models/kfold_accuracy_scores.txt\" %(path)\n",
    "\n",
    "filePathPrec = \"%s/Random Forest Models/KFold Models/kfold_precision_scores.txt\" %(path)\n",
    "\n",
    "filePathRecall = \"%s/Random Forest Models/KFold Models/kfold_recall_scores.txt\" %(path)\n",
    "\n",
    "filePathF1 = \"%s/Random Forest Models/KFold Models/kfold_f1_scores.txt\" %(path)\n",
    "\n",
    "with open(filePathAcc) as filehandle:\n",
    "    data = json.load(filehandle)\n",
    "    accuracy_scores = data\n",
    "    \n",
    "with open(filePathPrec) as filehandle:\n",
    "    data = json.load(filehandle)\n",
    "    precision_scores = data\n",
    "    \n",
    "with open(filePathRecall) as filehandle:\n",
    "    data = json.load(filehandle)\n",
    "    recall_scores = data\n",
    "    \n",
    "with open(filePathF1) as filehandle:\n",
    "    data = json.load(filehandle)\n",
    "    f1_scores = data"
   ]
  },
  {
   "cell_type": "code",
   "execution_count": 45,
   "id": "c9f7e231",
   "metadata": {},
   "outputs": [
    {
     "name": "stdout",
     "output_type": "stream",
     "text": [
      "RF K-fold Mean Accuracy: 0.733, with deviation of: 0.002\n",
      "RF K-fold Mean Precision: 0.852, with deviation of: 0.001\n",
      "RF K-fold Mean Recall: 0.733, with deviation of: 0.002\n",
      "RF K-fold Mean F1 Score: 0.738, with deviation of: 0.002\n"
     ]
    }
   ],
   "source": [
    "accuracy_scores = np.asarray(accuracy_scores)\n",
    "precision_scores = np.asarray(precision_scores)\n",
    "recall_scores = np.asarray(recall_scores)\n",
    "f1_scores = np.asarray(f1_scores)\n",
    "\n",
    "print(\"RF K-fold Mean Accuracy: %.3f, with deviation of: %.3f\" %(accuracy_scores.mean(), \n",
    "                                                                 (accuracy_scores.std())))\n",
    "\n",
    "print(\"RF K-fold Mean Precision: %.3f, with deviation of: %.3f\" %(precision_scores.mean(), \n",
    "                                                                  precision_scores.std()))\n",
    "\n",
    "print(\"RF K-fold Mean Recall: %.3f, with deviation of: %.3f\" %(recall_scores.mean(), \n",
    "                                                               recall_scores.std()))\n",
    "\n",
    "print(\"RF K-fold Mean F1 Score: %.3f, with deviation of: %.3f\" %(f1_scores.mean(), \n",
    "                                                                 f1_scores.std()))"
   ]
  },
  {
   "cell_type": "code",
   "execution_count": 156,
   "id": "02e36023",
   "metadata": {},
   "outputs": [
    {
     "data": {
      "image/png": "[encoded data removed]",
      "text/plain": [
       "<Figure size 396x324 with 1 Axes>"
      ]
     },
     "metadata": {
      "needs_background": "light"
     },
     "output_type": "display_data"
    }
   ],
   "source": [
    "rf_kfold_plot_data = pd.DataFrame({\n",
    "    'Recall': recall_scores,\n",
    "    'Precision': precision_scores,\n",
    "    'F1-score': f1_scores\n",
    "})\n",
    "fig, ax1 = plt.subplots(figsize=(5.5, 4.5))\n",
    "rf_kfold_lineplot = sns.lineplot(data=rf_kfold_plot_data, ax=ax1)\n",
    "plt.legend(bbox_to_anchor=(1.05, 1), loc='upper left', borderaxespad=0)\n",
    "ax1.set_xlabel(\"Iteration Number\", labelpad=10)\n",
    "ax1.set_ylabel(\"Evaluation Metrics\", labelpad=10)\n",
    "ax1.set(xlim=(0, 9))\n",
    "ax1.set(ylim=(0.72, 0.86))\n",
    "\n",
    "sns.despine(fig)"
   ]
  },
  {
   "cell_type": "markdown",
   "id": "b3c1a31d",
   "metadata": {},
   "source": [
    "### Random Forest - Testing model with different percentages of train and test data"
   ]
  },
  {
   "cell_type": "code",
   "execution_count": 40,
   "id": "5e455b0d",
   "metadata": {},
   "outputs": [],
   "source": [
    "accuracy_scores_tt=[]\n",
    "precision_scores_tt=[]\n",
    "recall_scores_tt=[]\n",
    "f1_scores_tt=[]"
   ]
  },
  {
   "cell_type": "code",
   "execution_count": 41,
   "id": "f1a445e2",
   "metadata": {},
   "outputs": [
    {
     "name": "stdout",
     "output_type": "stream",
     "text": [
      "Train: 0.90 and Test: 0.10\n",
      "Accuracy: 0.732\n",
      "Precision: 0.852\n",
      "Recall: 0.732\n",
      "F1 Score: 0.737\n",
      "-------------------------------------------------------------------------------------------------------------------\n",
      "Train: 0.80 and Test: 0.20\n",
      "Accuracy: 0.733\n",
      "Precision: 0.852\n",
      "Recall: 0.733\n",
      "F1 Score: 0.738\n",
      "-------------------------------------------------------------------------------------------------------------------\n",
      "Train: 0.75 and Test: 0.25\n",
      "Accuracy: 0.733\n",
      "Precision: 0.852\n",
      "Recall: 0.733\n",
      "F1 Score: 0.738\n",
      "-------------------------------------------------------------------------------------------------------------------\n",
      "Train: 0.60 and Test: 0.40\n",
      "Accuracy: 0.733\n",
      "Precision: 0.852\n",
      "Recall: 0.733\n",
      "F1 Score: 0.738\n",
      "-------------------------------------------------------------------------------------------------------------------\n",
      "Train: 0.50 and Test: 0.50\n",
      "Accuracy: 0.733\n",
      "Precision: 0.852\n",
      "Recall: 0.733\n",
      "F1 Score: 0.738\n",
      "-------------------------------------------------------------------------------------------------------------------\n",
      "Train: 0.40 and Test: 0.60\n",
      "Accuracy: 0.733\n",
      "Precision: 0.852\n",
      "Recall: 0.733\n",
      "F1 Score: 0.738\n",
      "-------------------------------------------------------------------------------------------------------------------\n",
      "Train: 0.30 and Test: 0.70\n",
      "Accuracy: 0.733\n",
      "Precision: 0.852\n",
      "Recall: 0.733\n",
      "F1 Score: 0.738\n",
      "-------------------------------------------------------------------------------------------------------------------\n",
      "Train: 0.15 and Test: 0.85\n",
      "Accuracy: 0.733\n",
      "Precision: 0.852\n",
      "Recall: 0.733\n",
      "F1 Score: 0.738\n",
      "-------------------------------------------------------------------------------------------------------------------\n"
     ]
    }
   ],
   "source": [
    "t0 = time()\n",
    "count = 0\n",
    "for ratio in [(0.9,0.1), (0.8,0.2), (0.75,0.25), (0.6,0.4), (0.5,0.5), (0.4,0.6), (0.3, 0.7), (0.15, 0.85)]:\n",
    "    print(\"Train: %.2f and Test: %.2f\" %(ratio[0], ratio[1]))\n",
    "    \n",
    "    X_train_tt, X_test_tt, y_train_tt, y_test_tt = train_test_split(X, y, train_size=ratio[0], random_state = 1)\n",
    "    \n",
    "    rfc_tt = RandomForestClassifier(n_estimators=50, min_samples_split=50, min_samples_leaf=200,\n",
    "                             max_features='auto', max_depth=15, bootstrap=False, \n",
    "                             random_state=0, criterion=\"entropy\")\\\n",
    "    .fit(X_train_tt, y_train_tt.values.flatten())\n",
    "    \n",
    "    filePath = \"%s/Random Forest Models/TT Models/tt_model_%s.sav\" %(path, count)\n",
    "    os.makedirs(os.path.dirname(filePath), exist_ok=True)\n",
    "    fileObj = open(filePath, 'wb')\n",
    "    pickle.dump(rfc_tt, fileObj)\n",
    "    fileObj.close()\n",
    "    \n",
    "    ypred_rfc_tt = rfc_tt.predict(X_test_tt)\n",
    "    \n",
    "    accuracy_tt = accuracy_score(y_test_tt, ypred_rfc_tt)\n",
    "    precision_tt = precision_score(y_test_tt, ypred_rfc_tt, average='weighted')\n",
    "    recall_tt = recall_score(y_test_tt, ypred_rfc_tt, average='weighted')\n",
    "    f1_score_tt = f1_score(y_test_tt, ypred_rfc_tt, average='weighted')   \n",
    "    \n",
    "    print(\"Accuracy: %.3f\" %(accuracy_tt))\n",
    "    print(\"Precision: %.3f\" %(precision_tt))\n",
    "    print(\"Recall: %.3f\" %(recall_tt))\n",
    "    print(\"F1 Score: %.3f\" %(f1_score_tt))\n",
    "    \n",
    "    accuracy_scores_tt.append(accuracy_tt)\n",
    "    precision_scores_tt.append(precision_tt)\n",
    "    recall_scores_tt.append(recall_tt)\n",
    "    f1_scores_tt.append(f1_score_tt)\n",
    "    \n",
    "    count = count + 1\n",
    "    print(\"-------------------------------------------------------------------------------------------------------------------\")\n",
    "    \n",
    "train_test_time = time() - t0"
   ]
  },
  {
   "cell_type": "code",
   "execution_count": 64,
   "id": "9fea134f",
   "metadata": {},
   "outputs": [
    {
     "name": "stdout",
     "output_type": "stream",
     "text": [
      "train_test_time: 180\n"
     ]
    }
   ],
   "source": [
    "print(\"train_test_time: %d\" %(train_test_time))"
   ]
  },
  {
   "cell_type": "code",
   "execution_count": 65,
   "id": "152e22fa",
   "metadata": {},
   "outputs": [],
   "source": [
    "filePathAcc = \"%s/Random Forest Models/TT Models/tt_accuracy_scores.txt\" %(path)\n",
    "os.makedirs(os.path.dirname(filePathAcc), exist_ok=True)\n",
    "\n",
    "filePathPrec = \"%s/Random Forest Models/TT Models/tt_precision_scores.txt\" %(path)\n",
    "os.makedirs(os.path.dirname(filePathPrec), exist_ok=True)\n",
    "\n",
    "filePathRecall = \"%s/Random Forest Models/TT Models/tt_recall_scores.txt\" %(path)\n",
    "os.makedirs(os.path.dirname(filePathRecall), exist_ok=True)\n",
    "\n",
    "filePathF1 = \"%s/Random Forest Models/TT Models/tt_f1_scores.txt\" %(path)\n",
    "os.makedirs(os.path.dirname(filePathF1), exist_ok=True)\n",
    "\n",
    "with open(filePathAcc, 'w') as filehandle:\n",
    "    json.dump(accuracy_scores_tt, filehandle)\n",
    "    \n",
    "with open(filePathPrec, 'w') as filehandle:\n",
    "    json.dump(precision_scores_tt, filehandle)\n",
    "    \n",
    "with open(filePathRecall, 'w') as filehandle:\n",
    "    json.dump(recall_scores_tt, filehandle)\n",
    "    \n",
    "with open(filePathF1, 'w') as filehandle:\n",
    "    json.dump(f1_scores_tt, filehandle)"
   ]
  },
  {
   "cell_type": "code",
   "execution_count": 47,
   "id": "4ad36f9b",
   "metadata": {},
   "outputs": [],
   "source": [
    "filePathAcc = \"%s/Random Forest Models/TT Models/tt_accuracy_scores.txt\" %(path)\n",
    "\n",
    "filePathPrec = \"%s/Random Forest Models/TT Models/tt_precision_scores.txt\" %(path)\n",
    "\n",
    "filePathRecall = \"%s/Random Forest Models/TT Models/tt_recall_scores.txt\" %(path)\n",
    "\n",
    "filePathF1 = \"%s/Random Forest Models/TT Models/tt_f1_scores.txt\" %(path)\n",
    "\n",
    "with open(filePathAcc) as filehandle:\n",
    "    data = json.load(filehandle)\n",
    "    accuracy_scores_tt = data\n",
    "    \n",
    "with open(filePathPrec) as filehandle:\n",
    "    data = json.load(filehandle)\n",
    "    precision_scores_tt = data\n",
    "    \n",
    "with open(filePathRecall) as filehandle:\n",
    "    data = json.load(filehandle)\n",
    "    recall_scores_tt = data\n",
    "    \n",
    "with open(filePathF1) as filehandle:\n",
    "    data = json.load(filehandle)\n",
    "    f1_scores_tt = data"
   ]
  },
  {
   "cell_type": "code",
   "execution_count": 48,
   "id": "eefb4ed9",
   "metadata": {},
   "outputs": [
    {
     "name": "stdout",
     "output_type": "stream",
     "text": [
      "RF TT Accuracy: 0.733, with deviation of: 0.000\n",
      "RF TT Precision: 0.852, with deviation of: 0.000\n",
      "RF TT Recall: 0.733, with deviation of: 0.000\n",
      "RF TT F1 Score: 0.738, with deviation of: 0.000\n"
     ]
    }
   ],
   "source": [
    "accuracy_scores_tt = np.asarray(accuracy_scores_tt)\n",
    "precision_scores_tt = np.asarray(precision_scores_tt)\n",
    "recall_scores_tt = np.asarray(recall_scores_tt)\n",
    "f1_scores_tt = np.asarray(f1_scores_tt)\n",
    "\n",
    "print(\"RF TT Accuracy: %.3f, with deviation of: %.3f\" %(accuracy_scores_tt.mean(), \n",
    "                                                                 (accuracy_scores_tt.std())))\n",
    "\n",
    "print(\"RF TT Precision: %.3f, with deviation of: %.3f\" %(precision_scores_tt.mean(), \n",
    "                                                                  precision_scores_tt.std()))\n",
    "\n",
    "print(\"RF TT Recall: %.3f, with deviation of: %.3f\" %(recall_scores_tt.mean(), \n",
    "                                                               recall_scores_tt.std()))\n",
    "\n",
    "print(\"RF TT F1 Score: %.3f, with deviation of: %.3f\" %(f1_scores_tt.mean(), \n",
    "                                                                 f1_scores_tt.std()))"
   ]
  },
  {
   "cell_type": "code",
   "execution_count": 157,
   "id": "95137eb2",
   "metadata": {},
   "outputs": [
    {
     "name": "stderr",
     "output_type": "stream",
     "text": [
      "C:\\Users\\aakas\\AppData\\Local\\Temp\\ipykernel_7836\\3622772838.py:13: UserWarning: FixedFormatter should only be used together with FixedLocator\n",
      "  rf_tt_lineplot.set_xticklabels([\"(0.9,0.1)\", \"(0.8,0.2)\", \"(0.75,0.25)\", \"(0.6,0.4)\", \"(0.5,0.5)\",\n"
     ]
    },
    {
     "data": {
      "image/png": "[encoded data removed]",
      "text/plain": [
       "<Figure size 446.4x360 with 1 Axes>"
      ]
     },
     "metadata": {
      "needs_background": "light"
     },
     "output_type": "display_data"
    }
   ],
   "source": [
    "rf_train_test_plot_data = pd.DataFrame({\n",
    "    'Recall': recall_scores_tt,\n",
    "    'Precision': precision_scores_tt,\n",
    "    'F1-score': f1_scores_tt\n",
    "})\n",
    "fig, ax1 = plt.subplots(figsize=(6.2, 5))\n",
    "rf_tt_lineplot = sns.lineplot(data=rf_train_test_plot_data, ax=ax1)\n",
    "ax1.set(xlim=(0, 7))\n",
    "ax1.set(ylim=(0.72, 0.86))\n",
    "ax1.set_xlabel(\"Train/Test Ratio\", labelpad=10)\n",
    "ax1.set_ylabel(\"Evaluation Metrics\", labelpad=10)\n",
    "plt.legend(bbox_to_anchor=(1.05, 1), loc='upper left', borderaxespad=0)\n",
    "rf_tt_lineplot.set_xticklabels([\"(0.9,0.1)\", \"(0.8,0.2)\", \"(0.75,0.25)\", \"(0.6,0.4)\", \"(0.5,0.5)\", \n",
    "                   \"(0.4,0.6)\", \"(0.3,0.7)\", \"(0.15,0.85)\"])\n",
    "sns.despine(fig)"
   ]
  },
  {
   "cell_type": "markdown",
   "id": "99912db4",
   "metadata": {},
   "source": [
    "## Training supervised model for fault type predicition - XGB"
   ]
  },
  {
   "cell_type": "code",
   "execution_count": 1156,
   "id": "a03b370d",
   "metadata": {},
   "outputs": [],
   "source": [
    "y_train_2 = y_train.copy()\n",
    "y_train_2.Fault_Type = pd.Categorical(y_train_2.Fault_Type)\n",
    "y_train_2['Fault_Type_Codes'] = y_train_2.Fault_Type.cat.codes\n",
    "y_train_2 = y_train_2.drop(columns=['Fault_Type'])\n",
    "y_train_2 = y_train_2.rename(columns={\"Fault_Type_Codes\": \"Fault_Type\"})"
   ]
  },
  {
   "cell_type": "code",
   "execution_count": 1157,
   "id": "9c91b448",
   "metadata": {},
   "outputs": [
    {
     "name": "stdout",
     "output_type": "stream",
     "text": [
      "[19:04:34] INFO: C:/Users/Administrator/workspace/xgboost-win64_release_1.6.0/src/tree/updater_prune.cc:101: tree pruning end, 16 extra nodes, 0 pruned nodes, max_depth=5\n",
      "[19:04:34] INFO: C:/Users/Administrator/workspace/xgboost-win64_release_1.6.0/src/tree/updater_prune.cc:101: tree pruning end, 8 extra nodes, 0 pruned nodes, max_depth=4\n",
      "[19:04:34] INFO: C:/Users/Administrator/workspace/xgboost-win64_release_1.6.0/src/tree/updater_prune.cc:101: tree pruning end, 24 extra nodes, 0 pruned nodes, max_depth=5\n",
      "[19:04:34] INFO: C:/Users/Administrator/workspace/xgboost-win64_release_1.6.0/src/gbm/gbtree.cc:909: drop 0 trees, weight = 1\n",
      "[19:04:34] INFO: C:/Users/Administrator/workspace/xgboost-win64_release_1.6.0/src/tree/updater_prune.cc:101: tree pruning end, 22 extra nodes, 0 pruned nodes, max_depth=5\n",
      "[19:04:34] INFO: C:/Users/Administrator/workspace/xgboost-win64_release_1.6.0/src/tree/updater_prune.cc:101: tree pruning end, 10 extra nodes, 0 pruned nodes, max_depth=5\n",
      "[19:04:34] INFO: C:/Users/Administrator/workspace/xgboost-win64_release_1.6.0/src/tree/updater_prune.cc:101: tree pruning end, 24 extra nodes, 0 pruned nodes, max_depth=5\n",
      "[19:04:34] INFO: C:/Users/Administrator/workspace/xgboost-win64_release_1.6.0/src/gbm/gbtree.cc:909: drop 0 trees, weight = 1\n",
      "[19:04:34] INFO: C:/Users/Administrator/workspace/xgboost-win64_release_1.6.0/src/tree/updater_prune.cc:101: tree pruning end, 24 extra nodes, 0 pruned nodes, max_depth=5\n",
      "[19:04:34] INFO: C:/Users/Administrator/workspace/xgboost-win64_release_1.6.0/src/tree/updater_prune.cc:101: tree pruning end, 10 extra nodes, 0 pruned nodes, max_depth=5\n",
      "[19:04:34] INFO: C:/Users/Administrator/workspace/xgboost-win64_release_1.6.0/src/tree/updater_prune.cc:101: tree pruning end, 26 extra nodes, 0 pruned nodes, max_depth=5\n",
      "[19:04:34] INFO: C:/Users/Administrator/workspace/xgboost-win64_release_1.6.0/src/gbm/gbtree.cc:909: drop 0 trees, weight = 1\n",
      "[19:04:35] INFO: C:/Users/Administrator/workspace/xgboost-win64_release_1.6.0/src/tree/updater_prune.cc:101: tree pruning end, 18 extra nodes, 0 pruned nodes, max_depth=5\n",
      "[19:04:35] INFO: C:/Users/Administrator/workspace/xgboost-win64_release_1.6.0/src/tree/updater_prune.cc:101: tree pruning end, 10 extra nodes, 0 pruned nodes, max_depth=5\n",
      "[19:04:35] INFO: C:/Users/Administrator/workspace/xgboost-win64_release_1.6.0/src/tree/updater_prune.cc:101: tree pruning end, 24 extra nodes, 0 pruned nodes, max_depth=5\n",
      "[19:04:35] INFO: C:/Users/Administrator/workspace/xgboost-win64_release_1.6.0/src/gbm/gbtree.cc:909: drop 0 trees, weight = 1\n",
      "[19:04:35] INFO: C:/Users/Administrator/workspace/xgboost-win64_release_1.6.0/src/tree/updater_prune.cc:101: tree pruning end, 18 extra nodes, 0 pruned nodes, max_depth=5\n",
      "[19:04:35] INFO: C:/Users/Administrator/workspace/xgboost-win64_release_1.6.0/src/tree/updater_prune.cc:101: tree pruning end, 10 extra nodes, 0 pruned nodes, max_depth=5\n",
      "[19:04:35] INFO: C:/Users/Administrator/workspace/xgboost-win64_release_1.6.0/src/tree/updater_prune.cc:101: tree pruning end, 24 extra nodes, 0 pruned nodes, max_depth=5\n",
      "[19:04:35] INFO: C:/Users/Administrator/workspace/xgboost-win64_release_1.6.0/src/gbm/gbtree.cc:909: drop 0 trees, weight = 1\n",
      "[19:04:35] INFO: C:/Users/Administrator/workspace/xgboost-win64_release_1.6.0/src/tree/updater_prune.cc:101: tree pruning end, 16 extra nodes, 0 pruned nodes, max_depth=5\n",
      "[19:04:35] INFO: C:/Users/Administrator/workspace/xgboost-win64_release_1.6.0/src/tree/updater_prune.cc:101: tree pruning end, 10 extra nodes, 0 pruned nodes, max_depth=5\n",
      "[19:04:35] INFO: C:/Users/Administrator/workspace/xgboost-win64_release_1.6.0/src/tree/updater_prune.cc:101: tree pruning end, 16 extra nodes, 0 pruned nodes, max_depth=5\n",
      "[19:04:35] INFO: C:/Users/Administrator/workspace/xgboost-win64_release_1.6.0/src/gbm/gbtree.cc:909: drop 0 trees, weight = 1\n",
      "[19:04:35] INFO: C:/Users/Administrator/workspace/xgboost-win64_release_1.6.0/src/tree/updater_prune.cc:101: tree pruning end, 16 extra nodes, 0 pruned nodes, max_depth=5\n",
      "[19:04:35] INFO: C:/Users/Administrator/workspace/xgboost-win64_release_1.6.0/src/tree/updater_prune.cc:101: tree pruning end, 8 extra nodes, 0 pruned nodes, max_depth=4\n",
      "[19:04:35] INFO: C:/Users/Administrator/workspace/xgboost-win64_release_1.6.0/src/tree/updater_prune.cc:101: tree pruning end, 28 extra nodes, 0 pruned nodes, max_depth=5\n",
      "[19:04:35] INFO: C:/Users/Administrator/workspace/xgboost-win64_release_1.6.0/src/gbm/gbtree.cc:909: drop 0 trees, weight = 1\n",
      "[19:04:35] INFO: C:/Users/Administrator/workspace/xgboost-win64_release_1.6.0/src/tree/updater_prune.cc:101: tree pruning end, 14 extra nodes, 0 pruned nodes, max_depth=5\n",
      "[19:04:35] INFO: C:/Users/Administrator/workspace/xgboost-win64_release_1.6.0/src/tree/updater_prune.cc:101: tree pruning end, 8 extra nodes, 0 pruned nodes, max_depth=4\n",
      "[19:04:35] INFO: C:/Users/Administrator/workspace/xgboost-win64_release_1.6.0/src/tree/updater_prune.cc:101: tree pruning end, 28 extra nodes, 0 pruned nodes, max_depth=5\n",
      "[19:04:35] INFO: C:/Users/Administrator/workspace/xgboost-win64_release_1.6.0/src/gbm/gbtree.cc:909: drop 0 trees, weight = 1\n",
      "[19:04:35] INFO: C:/Users/Administrator/workspace/xgboost-win64_release_1.6.0/src/tree/updater_prune.cc:101: tree pruning end, 16 extra nodes, 0 pruned nodes, max_depth=5\n",
      "[19:04:35] INFO: C:/Users/Administrator/workspace/xgboost-win64_release_1.6.0/src/tree/updater_prune.cc:101: tree pruning end, 8 extra nodes, 0 pruned nodes, max_depth=4\n",
      "[19:04:35] INFO: C:/Users/Administrator/workspace/xgboost-win64_release_1.6.0/src/tree/updater_prune.cc:101: tree pruning end, 18 extra nodes, 0 pruned nodes, max_depth=5\n",
      "[19:04:35] INFO: C:/Users/Administrator/workspace/xgboost-win64_release_1.6.0/src/gbm/gbtree.cc:909: drop 0 trees, weight = 1\n",
      "[19:04:35] INFO: C:/Users/Administrator/workspace/xgboost-win64_release_1.6.0/src/tree/updater_prune.cc:101: tree pruning end, 16 extra nodes, 0 pruned nodes, max_depth=5\n",
      "[19:04:35] INFO: C:/Users/Administrator/workspace/xgboost-win64_release_1.6.0/src/tree/updater_prune.cc:101: tree pruning end, 8 extra nodes, 0 pruned nodes, max_depth=4\n",
      "[19:04:35] INFO: C:/Users/Administrator/workspace/xgboost-win64_release_1.6.0/src/tree/updater_prune.cc:101: tree pruning end, 26 extra nodes, 0 pruned nodes, max_depth=5\n",
      "[19:04:35] INFO: C:/Users/Administrator/workspace/xgboost-win64_release_1.6.0/src/gbm/gbtree.cc:909: drop 0 trees, weight = 1\n",
      "[19:04:35] INFO: C:/Users/Administrator/workspace/xgboost-win64_release_1.6.0/src/tree/updater_prune.cc:101: tree pruning end, 28 extra nodes, 0 pruned nodes, max_depth=5\n",
      "[19:04:35] INFO: C:/Users/Administrator/workspace/xgboost-win64_release_1.6.0/src/tree/updater_prune.cc:101: tree pruning end, 6 extra nodes, 0 pruned nodes, max_depth=3\n",
      "[19:04:35] INFO: C:/Users/Administrator/workspace/xgboost-win64_release_1.6.0/src/tree/updater_prune.cc:101: tree pruning end, 28 extra nodes, 0 pruned nodes, max_depth=5\n",
      "[19:04:35] INFO: C:/Users/Administrator/workspace/xgboost-win64_release_1.6.0/src/gbm/gbtree.cc:909: drop 0 trees, weight = 1\n",
      "[19:04:35] INFO: C:/Users/Administrator/workspace/xgboost-win64_release_1.6.0/src/tree/updater_prune.cc:101: tree pruning end, 20 extra nodes, 0 pruned nodes, max_depth=5\n",
      "[19:04:35] INFO: C:/Users/Administrator/workspace/xgboost-win64_release_1.6.0/src/tree/updater_prune.cc:101: tree pruning end, 8 extra nodes, 0 pruned nodes, max_depth=4\n",
      "[19:04:36] INFO: C:/Users/Administrator/workspace/xgboost-win64_release_1.6.0/src/tree/updater_prune.cc:101: tree pruning end, 28 extra nodes, 0 pruned nodes, max_depth=5\n",
      "[19:04:36] INFO: C:/Users/Administrator/workspace/xgboost-win64_release_1.6.0/src/gbm/gbtree.cc:909: drop 0 trees, weight = 1\n",
      "[19:04:36] INFO: C:/Users/Administrator/workspace/xgboost-win64_release_1.6.0/src/tree/updater_prune.cc:101: tree pruning end, 20 extra nodes, 0 pruned nodes, max_depth=5\n",
      "[19:04:36] INFO: C:/Users/Administrator/workspace/xgboost-win64_release_1.6.0/src/tree/updater_prune.cc:101: tree pruning end, 6 extra nodes, 0 pruned nodes, max_depth=3\n",
      "[19:04:36] INFO: C:/Users/Administrator/workspace/xgboost-win64_release_1.6.0/src/tree/updater_prune.cc:101: tree pruning end, 20 extra nodes, 0 pruned nodes, max_depth=5\n",
      "[19:04:36] INFO: C:/Users/Administrator/workspace/xgboost-win64_release_1.6.0/src/gbm/gbtree.cc:909: drop 0 trees, weight = 1\n",
      "[19:04:36] INFO: C:/Users/Administrator/workspace/xgboost-win64_release_1.6.0/src/tree/updater_prune.cc:101: tree pruning end, 14 extra nodes, 0 pruned nodes, max_depth=5\n",
      "[19:04:36] INFO: C:/Users/Administrator/workspace/xgboost-win64_release_1.6.0/src/tree/updater_prune.cc:101: tree pruning end, 8 extra nodes, 0 pruned nodes, max_depth=4\n",
      "[19:04:36] INFO: C:/Users/Administrator/workspace/xgboost-win64_release_1.6.0/src/tree/updater_prune.cc:101: tree pruning end, 18 extra nodes, 0 pruned nodes, max_depth=5\n",
      "[19:04:36] INFO: C:/Users/Administrator/workspace/xgboost-win64_release_1.6.0/src/gbm/gbtree.cc:909: drop 0 trees, weight = 1\n"
     ]
    },
    {
     "name": "stdout",
     "output_type": "stream",
     "text": [
      "[19:04:36] INFO: C:/Users/Administrator/workspace/xgboost-win64_release_1.6.0/src/tree/updater_prune.cc:101: tree pruning end, 20 extra nodes, 0 pruned nodes, max_depth=5\n",
      "[19:04:36] INFO: C:/Users/Administrator/workspace/xgboost-win64_release_1.6.0/src/tree/updater_prune.cc:101: tree pruning end, 8 extra nodes, 0 pruned nodes, max_depth=4\n",
      "[19:04:36] INFO: C:/Users/Administrator/workspace/xgboost-win64_release_1.6.0/src/tree/updater_prune.cc:101: tree pruning end, 36 extra nodes, 0 pruned nodes, max_depth=5\n",
      "[19:04:36] INFO: C:/Users/Administrator/workspace/xgboost-win64_release_1.6.0/src/gbm/gbtree.cc:909: drop 0 trees, weight = 1\n",
      "[19:04:36] INFO: C:/Users/Administrator/workspace/xgboost-win64_release_1.6.0/src/tree/updater_prune.cc:101: tree pruning end, 30 extra nodes, 0 pruned nodes, max_depth=5\n",
      "[19:04:36] INFO: C:/Users/Administrator/workspace/xgboost-win64_release_1.6.0/src/tree/updater_prune.cc:101: tree pruning end, 6 extra nodes, 0 pruned nodes, max_depth=3\n",
      "[19:04:36] INFO: C:/Users/Administrator/workspace/xgboost-win64_release_1.6.0/src/tree/updater_prune.cc:101: tree pruning end, 32 extra nodes, 0 pruned nodes, max_depth=5\n",
      "[19:04:36] INFO: C:/Users/Administrator/workspace/xgboost-win64_release_1.6.0/src/gbm/gbtree.cc:909: drop 0 trees, weight = 1\n",
      "[19:04:36] INFO: C:/Users/Administrator/workspace/xgboost-win64_release_1.6.0/src/tree/updater_prune.cc:101: tree pruning end, 20 extra nodes, 0 pruned nodes, max_depth=5\n",
      "[19:04:36] INFO: C:/Users/Administrator/workspace/xgboost-win64_release_1.6.0/src/tree/updater_prune.cc:101: tree pruning end, 6 extra nodes, 0 pruned nodes, max_depth=3\n",
      "[19:04:36] INFO: C:/Users/Administrator/workspace/xgboost-win64_release_1.6.0/src/tree/updater_prune.cc:101: tree pruning end, 46 extra nodes, 0 pruned nodes, max_depth=5\n",
      "[19:04:36] INFO: C:/Users/Administrator/workspace/xgboost-win64_release_1.6.0/src/gbm/gbtree.cc:909: drop 0 trees, weight = 1\n",
      "[19:04:36] INFO: C:/Users/Administrator/workspace/xgboost-win64_release_1.6.0/src/tree/updater_prune.cc:101: tree pruning end, 20 extra nodes, 0 pruned nodes, max_depth=5\n",
      "[19:04:36] INFO: C:/Users/Administrator/workspace/xgboost-win64_release_1.6.0/src/tree/updater_prune.cc:101: tree pruning end, 6 extra nodes, 0 pruned nodes, max_depth=3\n",
      "[19:04:36] INFO: C:/Users/Administrator/workspace/xgboost-win64_release_1.6.0/src/tree/updater_prune.cc:101: tree pruning end, 24 extra nodes, 0 pruned nodes, max_depth=5\n",
      "[19:04:36] INFO: C:/Users/Administrator/workspace/xgboost-win64_release_1.6.0/src/gbm/gbtree.cc:909: drop 0 trees, weight = 1\n",
      "[19:04:37] INFO: C:/Users/Administrator/workspace/xgboost-win64_release_1.6.0/src/tree/updater_prune.cc:101: tree pruning end, 28 extra nodes, 0 pruned nodes, max_depth=5\n",
      "[19:04:37] INFO: C:/Users/Administrator/workspace/xgboost-win64_release_1.6.0/src/tree/updater_prune.cc:101: tree pruning end, 6 extra nodes, 0 pruned nodes, max_depth=3\n",
      "[19:04:37] INFO: C:/Users/Administrator/workspace/xgboost-win64_release_1.6.0/src/tree/updater_prune.cc:101: tree pruning end, 44 extra nodes, 0 pruned nodes, max_depth=5\n",
      "[19:04:37] INFO: C:/Users/Administrator/workspace/xgboost-win64_release_1.6.0/src/gbm/gbtree.cc:909: drop 0 trees, weight = 1\n",
      "[19:04:37] INFO: C:/Users/Administrator/workspace/xgboost-win64_release_1.6.0/src/tree/updater_prune.cc:101: tree pruning end, 22 extra nodes, 0 pruned nodes, max_depth=5\n",
      "[19:04:37] INFO: C:/Users/Administrator/workspace/xgboost-win64_release_1.6.0/src/tree/updater_prune.cc:101: tree pruning end, 6 extra nodes, 0 pruned nodes, max_depth=3\n",
      "[19:04:37] INFO: C:/Users/Administrator/workspace/xgboost-win64_release_1.6.0/src/tree/updater_prune.cc:101: tree pruning end, 24 extra nodes, 0 pruned nodes, max_depth=5\n",
      "[19:04:37] INFO: C:/Users/Administrator/workspace/xgboost-win64_release_1.6.0/src/gbm/gbtree.cc:909: drop 0 trees, weight = 1\n",
      "[19:04:37] INFO: C:/Users/Administrator/workspace/xgboost-win64_release_1.6.0/src/tree/updater_prune.cc:101: tree pruning end, 16 extra nodes, 0 pruned nodes, max_depth=5\n",
      "[19:04:37] INFO: C:/Users/Administrator/workspace/xgboost-win64_release_1.6.0/src/tree/updater_prune.cc:101: tree pruning end, 6 extra nodes, 0 pruned nodes, max_depth=3\n",
      "[19:04:37] INFO: C:/Users/Administrator/workspace/xgboost-win64_release_1.6.0/src/tree/updater_prune.cc:101: tree pruning end, 22 extra nodes, 0 pruned nodes, max_depth=5\n",
      "[19:04:37] INFO: C:/Users/Administrator/workspace/xgboost-win64_release_1.6.0/src/gbm/gbtree.cc:909: drop 0 trees, weight = 1\n",
      "[19:04:37] INFO: C:/Users/Administrator/workspace/xgboost-win64_release_1.6.0/src/tree/updater_prune.cc:101: tree pruning end, 36 extra nodes, 0 pruned nodes, max_depth=5\n",
      "[19:04:37] INFO: C:/Users/Administrator/workspace/xgboost-win64_release_1.6.0/src/tree/updater_prune.cc:101: tree pruning end, 6 extra nodes, 0 pruned nodes, max_depth=3\n",
      "[19:04:37] INFO: C:/Users/Administrator/workspace/xgboost-win64_release_1.6.0/src/tree/updater_prune.cc:101: tree pruning end, 40 extra nodes, 0 pruned nodes, max_depth=5\n",
      "[19:04:37] INFO: C:/Users/Administrator/workspace/xgboost-win64_release_1.6.0/src/gbm/gbtree.cc:909: drop 0 trees, weight = 1\n",
      "[19:04:37] INFO: C:/Users/Administrator/workspace/xgboost-win64_release_1.6.0/src/tree/updater_prune.cc:101: tree pruning end, 24 extra nodes, 0 pruned nodes, max_depth=5\n",
      "[19:04:37] INFO: C:/Users/Administrator/workspace/xgboost-win64_release_1.6.0/src/tree/updater_prune.cc:101: tree pruning end, 6 extra nodes, 0 pruned nodes, max_depth=3\n",
      "[19:04:37] INFO: C:/Users/Administrator/workspace/xgboost-win64_release_1.6.0/src/tree/updater_prune.cc:101: tree pruning end, 32 extra nodes, 0 pruned nodes, max_depth=5\n",
      "[19:04:37] INFO: C:/Users/Administrator/workspace/xgboost-win64_release_1.6.0/src/gbm/gbtree.cc:909: drop 0 trees, weight = 1\n",
      "[19:04:37] INFO: C:/Users/Administrator/workspace/xgboost-win64_release_1.6.0/src/tree/updater_prune.cc:101: tree pruning end, 18 extra nodes, 0 pruned nodes, max_depth=5\n",
      "[19:04:37] INFO: C:/Users/Administrator/workspace/xgboost-win64_release_1.6.0/src/tree/updater_prune.cc:101: tree pruning end, 6 extra nodes, 0 pruned nodes, max_depth=3\n",
      "[19:04:37] INFO: C:/Users/Administrator/workspace/xgboost-win64_release_1.6.0/src/tree/updater_prune.cc:101: tree pruning end, 24 extra nodes, 0 pruned nodes, max_depth=5\n",
      "[19:04:37] INFO: C:/Users/Administrator/workspace/xgboost-win64_release_1.6.0/src/gbm/gbtree.cc:909: drop 0 trees, weight = 1\n",
      "[19:04:38] INFO: C:/Users/Administrator/workspace/xgboost-win64_release_1.6.0/src/tree/updater_prune.cc:101: tree pruning end, 28 extra nodes, 0 pruned nodes, max_depth=5\n",
      "[19:04:38] INFO: C:/Users/Administrator/workspace/xgboost-win64_release_1.6.0/src/tree/updater_prune.cc:101: tree pruning end, 6 extra nodes, 0 pruned nodes, max_depth=3\n",
      "[19:04:38] INFO: C:/Users/Administrator/workspace/xgboost-win64_release_1.6.0/src/tree/updater_prune.cc:101: tree pruning end, 34 extra nodes, 0 pruned nodes, max_depth=5\n",
      "[19:04:38] INFO: C:/Users/Administrator/workspace/xgboost-win64_release_1.6.0/src/gbm/gbtree.cc:909: drop 0 trees, weight = 1\n",
      "[19:04:38] INFO: C:/Users/Administrator/workspace/xgboost-win64_release_1.6.0/src/tree/updater_prune.cc:101: tree pruning end, 14 extra nodes, 0 pruned nodes, max_depth=5\n",
      "[19:04:38] INFO: C:/Users/Administrator/workspace/xgboost-win64_release_1.6.0/src/tree/updater_prune.cc:101: tree pruning end, 6 extra nodes, 0 pruned nodes, max_depth=3\n",
      "[19:04:38] INFO: C:/Users/Administrator/workspace/xgboost-win64_release_1.6.0/src/tree/updater_prune.cc:101: tree pruning end, 38 extra nodes, 0 pruned nodes, max_depth=5\n",
      "[19:04:38] INFO: C:/Users/Administrator/workspace/xgboost-win64_release_1.6.0/src/gbm/gbtree.cc:909: drop 0 trees, weight = 1\n",
      "[19:04:38] INFO: C:/Users/Administrator/workspace/xgboost-win64_release_1.6.0/src/tree/updater_prune.cc:101: tree pruning end, 18 extra nodes, 0 pruned nodes, max_depth=5\n",
      "[19:04:38] INFO: C:/Users/Administrator/workspace/xgboost-win64_release_1.6.0/src/tree/updater_prune.cc:101: tree pruning end, 6 extra nodes, 0 pruned nodes, max_depth=3\n",
      "[19:04:38] INFO: C:/Users/Administrator/workspace/xgboost-win64_release_1.6.0/src/tree/updater_prune.cc:101: tree pruning end, 26 extra nodes, 0 pruned nodes, max_depth=5\n",
      "[19:04:38] INFO: C:/Users/Administrator/workspace/xgboost-win64_release_1.6.0/src/gbm/gbtree.cc:909: drop 0 trees, weight = 1\n"
     ]
    },
    {
     "name": "stdout",
     "output_type": "stream",
     "text": [
      "[19:04:38] INFO: C:/Users/Administrator/workspace/xgboost-win64_release_1.6.0/src/tree/updater_prune.cc:101: tree pruning end, 14 extra nodes, 0 pruned nodes, max_depth=5\n",
      "[19:04:38] INFO: C:/Users/Administrator/workspace/xgboost-win64_release_1.6.0/src/tree/updater_prune.cc:101: tree pruning end, 6 extra nodes, 0 pruned nodes, max_depth=3\n",
      "[19:04:38] INFO: C:/Users/Administrator/workspace/xgboost-win64_release_1.6.0/src/tree/updater_prune.cc:101: tree pruning end, 26 extra nodes, 0 pruned nodes, max_depth=5\n",
      "[19:04:38] INFO: C:/Users/Administrator/workspace/xgboost-win64_release_1.6.0/src/gbm/gbtree.cc:909: drop 0 trees, weight = 1\n",
      "[19:04:39] INFO: C:/Users/Administrator/workspace/xgboost-win64_release_1.6.0/src/tree/updater_prune.cc:101: tree pruning end, 28 extra nodes, 0 pruned nodes, max_depth=5\n",
      "[19:04:39] INFO: C:/Users/Administrator/workspace/xgboost-win64_release_1.6.0/src/tree/updater_prune.cc:101: tree pruning end, 6 extra nodes, 0 pruned nodes, max_depth=3\n",
      "[19:04:39] INFO: C:/Users/Administrator/workspace/xgboost-win64_release_1.6.0/src/tree/updater_prune.cc:101: tree pruning end, 28 extra nodes, 0 pruned nodes, max_depth=5\n",
      "[19:04:39] INFO: C:/Users/Administrator/workspace/xgboost-win64_release_1.6.0/src/gbm/gbtree.cc:909: drop 0 trees, weight = 1\n",
      "[19:04:39] INFO: C:/Users/Administrator/workspace/xgboost-win64_release_1.6.0/src/tree/updater_prune.cc:101: tree pruning end, 10 extra nodes, 0 pruned nodes, max_depth=5\n",
      "[19:04:39] INFO: C:/Users/Administrator/workspace/xgboost-win64_release_1.6.0/src/tree/updater_prune.cc:101: tree pruning end, 6 extra nodes, 0 pruned nodes, max_depth=3\n",
      "[19:04:39] INFO: C:/Users/Administrator/workspace/xgboost-win64_release_1.6.0/src/tree/updater_prune.cc:101: tree pruning end, 14 extra nodes, 0 pruned nodes, max_depth=5\n",
      "[19:04:39] INFO: C:/Users/Administrator/workspace/xgboost-win64_release_1.6.0/src/gbm/gbtree.cc:909: drop 0 trees, weight = 1\n",
      "[19:04:39] INFO: C:/Users/Administrator/workspace/xgboost-win64_release_1.6.0/src/tree/updater_prune.cc:101: tree pruning end, 24 extra nodes, 0 pruned nodes, max_depth=5\n",
      "[19:04:39] INFO: C:/Users/Administrator/workspace/xgboost-win64_release_1.6.0/src/tree/updater_prune.cc:101: tree pruning end, 6 extra nodes, 0 pruned nodes, max_depth=3\n",
      "[19:04:39] INFO: C:/Users/Administrator/workspace/xgboost-win64_release_1.6.0/src/tree/updater_prune.cc:101: tree pruning end, 24 extra nodes, 0 pruned nodes, max_depth=5\n",
      "[19:04:39] INFO: C:/Users/Administrator/workspace/xgboost-win64_release_1.6.0/src/gbm/gbtree.cc:909: drop 0 trees, weight = 1\n",
      "[19:04:39] INFO: C:/Users/Administrator/workspace/xgboost-win64_release_1.6.0/src/tree/updater_prune.cc:101: tree pruning end, 24 extra nodes, 0 pruned nodes, max_depth=5\n",
      "[19:04:39] INFO: C:/Users/Administrator/workspace/xgboost-win64_release_1.6.0/src/tree/updater_prune.cc:101: tree pruning end, 6 extra nodes, 0 pruned nodes, max_depth=3\n",
      "[19:04:39] INFO: C:/Users/Administrator/workspace/xgboost-win64_release_1.6.0/src/tree/updater_prune.cc:101: tree pruning end, 24 extra nodes, 0 pruned nodes, max_depth=5\n",
      "[19:04:39] INFO: C:/Users/Administrator/workspace/xgboost-win64_release_1.6.0/src/gbm/gbtree.cc:909: drop 0 trees, weight = 1\n",
      "[19:04:40] INFO: C:/Users/Administrator/workspace/xgboost-win64_release_1.6.0/src/tree/updater_prune.cc:101: tree pruning end, 14 extra nodes, 0 pruned nodes, max_depth=5\n",
      "[19:04:40] INFO: C:/Users/Administrator/workspace/xgboost-win64_release_1.6.0/src/tree/updater_prune.cc:101: tree pruning end, 6 extra nodes, 0 pruned nodes, max_depth=3\n",
      "[19:04:40] INFO: C:/Users/Administrator/workspace/xgboost-win64_release_1.6.0/src/tree/updater_prune.cc:101: tree pruning end, 14 extra nodes, 0 pruned nodes, max_depth=5\n",
      "[19:04:40] INFO: C:/Users/Administrator/workspace/xgboost-win64_release_1.6.0/src/gbm/gbtree.cc:909: drop 0 trees, weight = 1\n",
      "[19:04:40] INFO: C:/Users/Administrator/workspace/xgboost-win64_release_1.6.0/src/tree/updater_prune.cc:101: tree pruning end, 14 extra nodes, 0 pruned nodes, max_depth=5\n",
      "[19:04:40] INFO: C:/Users/Administrator/workspace/xgboost-win64_release_1.6.0/src/tree/updater_prune.cc:101: tree pruning end, 6 extra nodes, 0 pruned nodes, max_depth=3\n",
      "[19:04:40] INFO: C:/Users/Administrator/workspace/xgboost-win64_release_1.6.0/src/tree/updater_prune.cc:101: tree pruning end, 14 extra nodes, 0 pruned nodes, max_depth=5\n",
      "[19:04:40] INFO: C:/Users/Administrator/workspace/xgboost-win64_release_1.6.0/src/gbm/gbtree.cc:909: drop 0 trees, weight = 1\n",
      "[19:04:40] INFO: C:/Users/Administrator/workspace/xgboost-win64_release_1.6.0/src/tree/updater_prune.cc:101: tree pruning end, 24 extra nodes, 0 pruned nodes, max_depth=5\n",
      "[19:04:40] INFO: C:/Users/Administrator/workspace/xgboost-win64_release_1.6.0/src/tree/updater_prune.cc:101: tree pruning end, 6 extra nodes, 0 pruned nodes, max_depth=3\n",
      "[19:04:40] INFO: C:/Users/Administrator/workspace/xgboost-win64_release_1.6.0/src/tree/updater_prune.cc:101: tree pruning end, 30 extra nodes, 0 pruned nodes, max_depth=5\n",
      "[19:04:40] INFO: C:/Users/Administrator/workspace/xgboost-win64_release_1.6.0/src/gbm/gbtree.cc:909: drop 0 trees, weight = 1\n",
      "[19:04:40] INFO: C:/Users/Administrator/workspace/xgboost-win64_release_1.6.0/src/tree/updater_prune.cc:101: tree pruning end, 10 extra nodes, 0 pruned nodes, max_depth=5\n",
      "[19:04:40] INFO: C:/Users/Administrator/workspace/xgboost-win64_release_1.6.0/src/tree/updater_prune.cc:101: tree pruning end, 6 extra nodes, 0 pruned nodes, max_depth=3\n",
      "[19:04:40] INFO: C:/Users/Administrator/workspace/xgboost-win64_release_1.6.0/src/tree/updater_prune.cc:101: tree pruning end, 14 extra nodes, 0 pruned nodes, max_depth=5\n",
      "[19:04:40] INFO: C:/Users/Administrator/workspace/xgboost-win64_release_1.6.0/src/gbm/gbtree.cc:909: drop 0 trees, weight = 1\n",
      "[19:04:41] INFO: C:/Users/Administrator/workspace/xgboost-win64_release_1.6.0/src/tree/updater_prune.cc:101: tree pruning end, 20 extra nodes, 0 pruned nodes, max_depth=5\n",
      "[19:04:41] INFO: C:/Users/Administrator/workspace/xgboost-win64_release_1.6.0/src/tree/updater_prune.cc:101: tree pruning end, 6 extra nodes, 0 pruned nodes, max_depth=3\n",
      "[19:04:41] INFO: C:/Users/Administrator/workspace/xgboost-win64_release_1.6.0/src/tree/updater_prune.cc:101: tree pruning end, 16 extra nodes, 0 pruned nodes, max_depth=5\n",
      "[19:04:41] INFO: C:/Users/Administrator/workspace/xgboost-win64_release_1.6.0/src/gbm/gbtree.cc:909: drop 0 trees, weight = 1\n",
      "[19:04:41] INFO: C:/Users/Administrator/workspace/xgboost-win64_release_1.6.0/src/tree/updater_prune.cc:101: tree pruning end, 26 extra nodes, 0 pruned nodes, max_depth=5\n",
      "[19:04:41] INFO: C:/Users/Administrator/workspace/xgboost-win64_release_1.6.0/src/tree/updater_prune.cc:101: tree pruning end, 6 extra nodes, 0 pruned nodes, max_depth=3\n",
      "[19:04:41] INFO: C:/Users/Administrator/workspace/xgboost-win64_release_1.6.0/src/tree/updater_prune.cc:101: tree pruning end, 24 extra nodes, 0 pruned nodes, max_depth=5\n",
      "[19:04:41] INFO: C:/Users/Administrator/workspace/xgboost-win64_release_1.6.0/src/gbm/gbtree.cc:909: drop 0 trees, weight = 1\n",
      "[19:04:41] INFO: C:/Users/Administrator/workspace/xgboost-win64_release_1.6.0/src/tree/updater_prune.cc:101: tree pruning end, 22 extra nodes, 0 pruned nodes, max_depth=5\n",
      "[19:04:41] INFO: C:/Users/Administrator/workspace/xgboost-win64_release_1.6.0/src/tree/updater_prune.cc:101: tree pruning end, 6 extra nodes, 0 pruned nodes, max_depth=3\n",
      "[19:04:41] INFO: C:/Users/Administrator/workspace/xgboost-win64_release_1.6.0/src/tree/updater_prune.cc:101: tree pruning end, 28 extra nodes, 0 pruned nodes, max_depth=5\n",
      "[19:04:41] INFO: C:/Users/Administrator/workspace/xgboost-win64_release_1.6.0/src/gbm/gbtree.cc:909: drop 0 trees, weight = 1\n",
      "[19:04:41] INFO: C:/Users/Administrator/workspace/xgboost-win64_release_1.6.0/src/tree/updater_prune.cc:101: tree pruning end, 28 extra nodes, 0 pruned nodes, max_depth=5\n",
      "[19:04:41] INFO: C:/Users/Administrator/workspace/xgboost-win64_release_1.6.0/src/tree/updater_prune.cc:101: tree pruning end, 6 extra nodes, 0 pruned nodes, max_depth=3\n",
      "[19:04:41] INFO: C:/Users/Administrator/workspace/xgboost-win64_release_1.6.0/src/tree/updater_prune.cc:101: tree pruning end, 28 extra nodes, 0 pruned nodes, max_depth=5\n",
      "[19:04:41] INFO: C:/Users/Administrator/workspace/xgboost-win64_release_1.6.0/src/gbm/gbtree.cc:909: drop 0 trees, weight = 1\n"
     ]
    },
    {
     "name": "stdout",
     "output_type": "stream",
     "text": [
      "[19:04:42] INFO: C:/Users/Administrator/workspace/xgboost-win64_release_1.6.0/src/tree/updater_prune.cc:101: tree pruning end, 24 extra nodes, 0 pruned nodes, max_depth=5\n",
      "[19:04:42] INFO: C:/Users/Administrator/workspace/xgboost-win64_release_1.6.0/src/tree/updater_prune.cc:101: tree pruning end, 6 extra nodes, 0 pruned nodes, max_depth=3\n",
      "[19:04:42] INFO: C:/Users/Administrator/workspace/xgboost-win64_release_1.6.0/src/tree/updater_prune.cc:101: tree pruning end, 26 extra nodes, 0 pruned nodes, max_depth=5\n",
      "[19:04:42] INFO: C:/Users/Administrator/workspace/xgboost-win64_release_1.6.0/src/gbm/gbtree.cc:909: drop 0 trees, weight = 1\n",
      "[19:04:42] INFO: C:/Users/Administrator/workspace/xgboost-win64_release_1.6.0/src/tree/updater_prune.cc:101: tree pruning end, 14 extra nodes, 0 pruned nodes, max_depth=5\n",
      "[19:04:42] INFO: C:/Users/Administrator/workspace/xgboost-win64_release_1.6.0/src/tree/updater_prune.cc:101: tree pruning end, 6 extra nodes, 0 pruned nodes, max_depth=3\n",
      "[19:04:42] INFO: C:/Users/Administrator/workspace/xgboost-win64_release_1.6.0/src/tree/updater_prune.cc:101: tree pruning end, 14 extra nodes, 0 pruned nodes, max_depth=5\n",
      "[19:04:42] INFO: C:/Users/Administrator/workspace/xgboost-win64_release_1.6.0/src/gbm/gbtree.cc:909: drop 0 trees, weight = 1\n",
      "[19:04:42] INFO: C:/Users/Administrator/workspace/xgboost-win64_release_1.6.0/src/tree/updater_prune.cc:101: tree pruning end, 20 extra nodes, 0 pruned nodes, max_depth=5\n",
      "[19:04:42] INFO: C:/Users/Administrator/workspace/xgboost-win64_release_1.6.0/src/tree/updater_prune.cc:101: tree pruning end, 6 extra nodes, 0 pruned nodes, max_depth=3\n",
      "[19:04:42] INFO: C:/Users/Administrator/workspace/xgboost-win64_release_1.6.0/src/tree/updater_prune.cc:101: tree pruning end, 20 extra nodes, 0 pruned nodes, max_depth=5\n",
      "[19:04:42] INFO: C:/Users/Administrator/workspace/xgboost-win64_release_1.6.0/src/gbm/gbtree.cc:909: drop 0 trees, weight = 1\n",
      "[19:04:42] INFO: C:/Users/Administrator/workspace/xgboost-win64_release_1.6.0/src/tree/updater_prune.cc:101: tree pruning end, 24 extra nodes, 0 pruned nodes, max_depth=5\n",
      "[19:04:42] INFO: C:/Users/Administrator/workspace/xgboost-win64_release_1.6.0/src/tree/updater_prune.cc:101: tree pruning end, 6 extra nodes, 0 pruned nodes, max_depth=3\n",
      "[19:04:42] INFO: C:/Users/Administrator/workspace/xgboost-win64_release_1.6.0/src/tree/updater_prune.cc:101: tree pruning end, 30 extra nodes, 0 pruned nodes, max_depth=5\n",
      "[19:04:42] INFO: C:/Users/Administrator/workspace/xgboost-win64_release_1.6.0/src/gbm/gbtree.cc:909: drop 0 trees, weight = 1\n",
      "[19:04:43] INFO: C:/Users/Administrator/workspace/xgboost-win64_release_1.6.0/src/tree/updater_prune.cc:101: tree pruning end, 28 extra nodes, 0 pruned nodes, max_depth=5\n",
      "[19:04:43] INFO: C:/Users/Administrator/workspace/xgboost-win64_release_1.6.0/src/tree/updater_prune.cc:101: tree pruning end, 6 extra nodes, 0 pruned nodes, max_depth=3\n",
      "[19:04:43] INFO: C:/Users/Administrator/workspace/xgboost-win64_release_1.6.0/src/tree/updater_prune.cc:101: tree pruning end, 30 extra nodes, 0 pruned nodes, max_depth=5\n",
      "[19:04:43] INFO: C:/Users/Administrator/workspace/xgboost-win64_release_1.6.0/src/gbm/gbtree.cc:909: drop 0 trees, weight = 1\n",
      "[19:04:43] INFO: C:/Users/Administrator/workspace/xgboost-win64_release_1.6.0/src/tree/updater_prune.cc:101: tree pruning end, 22 extra nodes, 0 pruned nodes, max_depth=5\n",
      "[19:04:43] INFO: C:/Users/Administrator/workspace/xgboost-win64_release_1.6.0/src/tree/updater_prune.cc:101: tree pruning end, 6 extra nodes, 0 pruned nodes, max_depth=3\n",
      "[19:04:43] INFO: C:/Users/Administrator/workspace/xgboost-win64_release_1.6.0/src/tree/updater_prune.cc:101: tree pruning end, 22 extra nodes, 0 pruned nodes, max_depth=5\n",
      "[19:04:43] INFO: C:/Users/Administrator/workspace/xgboost-win64_release_1.6.0/src/gbm/gbtree.cc:909: drop 0 trees, weight = 1\n",
      "[19:04:43] INFO: C:/Users/Administrator/workspace/xgboost-win64_release_1.6.0/src/tree/updater_prune.cc:101: tree pruning end, 14 extra nodes, 0 pruned nodes, max_depth=5\n",
      "[19:04:43] INFO: C:/Users/Administrator/workspace/xgboost-win64_release_1.6.0/src/tree/updater_prune.cc:101: tree pruning end, 6 extra nodes, 0 pruned nodes, max_depth=3\n",
      "[19:04:43] INFO: C:/Users/Administrator/workspace/xgboost-win64_release_1.6.0/src/tree/updater_prune.cc:101: tree pruning end, 14 extra nodes, 0 pruned nodes, max_depth=5\n",
      "[19:04:43] INFO: C:/Users/Administrator/workspace/xgboost-win64_release_1.6.0/src/gbm/gbtree.cc:909: drop 0 trees, weight = 1\n",
      "[19:04:44] INFO: C:/Users/Administrator/workspace/xgboost-win64_release_1.6.0/src/tree/updater_prune.cc:101: tree pruning end, 20 extra nodes, 0 pruned nodes, max_depth=5\n",
      "[19:04:44] INFO: C:/Users/Administrator/workspace/xgboost-win64_release_1.6.0/src/tree/updater_prune.cc:101: tree pruning end, 6 extra nodes, 0 pruned nodes, max_depth=3\n",
      "[19:04:44] INFO: C:/Users/Administrator/workspace/xgboost-win64_release_1.6.0/src/tree/updater_prune.cc:101: tree pruning end, 20 extra nodes, 0 pruned nodes, max_depth=5\n",
      "[19:04:44] INFO: C:/Users/Administrator/workspace/xgboost-win64_release_1.6.0/src/gbm/gbtree.cc:909: drop 0 trees, weight = 1\n",
      "[19:04:44] INFO: C:/Users/Administrator/workspace/xgboost-win64_release_1.6.0/src/tree/updater_prune.cc:101: tree pruning end, 28 extra nodes, 0 pruned nodes, max_depth=5\n",
      "[19:04:44] INFO: C:/Users/Administrator/workspace/xgboost-win64_release_1.6.0/src/tree/updater_prune.cc:101: tree pruning end, 6 extra nodes, 0 pruned nodes, max_depth=3\n",
      "[19:04:44] INFO: C:/Users/Administrator/workspace/xgboost-win64_release_1.6.0/src/tree/updater_prune.cc:101: tree pruning end, 30 extra nodes, 0 pruned nodes, max_depth=5\n",
      "[19:04:44] INFO: C:/Users/Administrator/workspace/xgboost-win64_release_1.6.0/src/gbm/gbtree.cc:909: drop 0 trees, weight = 1\n",
      "[19:04:44] INFO: C:/Users/Administrator/workspace/xgboost-win64_release_1.6.0/src/tree/updater_prune.cc:101: tree pruning end, 14 extra nodes, 0 pruned nodes, max_depth=5\n",
      "[19:04:44] INFO: C:/Users/Administrator/workspace/xgboost-win64_release_1.6.0/src/tree/updater_prune.cc:101: tree pruning end, 6 extra nodes, 0 pruned nodes, max_depth=3\n",
      "[19:04:44] INFO: C:/Users/Administrator/workspace/xgboost-win64_release_1.6.0/src/tree/updater_prune.cc:101: tree pruning end, 14 extra nodes, 0 pruned nodes, max_depth=5\n",
      "[19:04:44] INFO: C:/Users/Administrator/workspace/xgboost-win64_release_1.6.0/src/gbm/gbtree.cc:909: drop 0 trees, weight = 1\n",
      "[19:04:45] INFO: C:/Users/Administrator/workspace/xgboost-win64_release_1.6.0/src/tree/updater_prune.cc:101: tree pruning end, 18 extra nodes, 0 pruned nodes, max_depth=5\n",
      "[19:04:45] INFO: C:/Users/Administrator/workspace/xgboost-win64_release_1.6.0/src/tree/updater_prune.cc:101: tree pruning end, 4 extra nodes, 0 pruned nodes, max_depth=2\n",
      "[19:04:45] INFO: C:/Users/Administrator/workspace/xgboost-win64_release_1.6.0/src/tree/updater_prune.cc:101: tree pruning end, 18 extra nodes, 0 pruned nodes, max_depth=5\n",
      "[19:04:45] INFO: C:/Users/Administrator/workspace/xgboost-win64_release_1.6.0/src/gbm/gbtree.cc:909: drop 0 trees, weight = 1\n",
      "[19:04:45] INFO: C:/Users/Administrator/workspace/xgboost-win64_release_1.6.0/src/tree/updater_prune.cc:101: tree pruning end, 24 extra nodes, 0 pruned nodes, max_depth=5\n",
      "[19:04:45] INFO: C:/Users/Administrator/workspace/xgboost-win64_release_1.6.0/src/tree/updater_prune.cc:101: tree pruning end, 4 extra nodes, 0 pruned nodes, max_depth=2\n",
      "[19:04:45] INFO: C:/Users/Administrator/workspace/xgboost-win64_release_1.6.0/src/tree/updater_prune.cc:101: tree pruning end, 18 extra nodes, 0 pruned nodes, max_depth=5\n",
      "[19:04:45] INFO: C:/Users/Administrator/workspace/xgboost-win64_release_1.6.0/src/gbm/gbtree.cc:909: drop 0 trees, weight = 1\n",
      "[19:04:45] INFO: C:/Users/Administrator/workspace/xgboost-win64_release_1.6.0/src/tree/updater_prune.cc:101: tree pruning end, 18 extra nodes, 0 pruned nodes, max_depth=5\n",
      "[19:04:45] INFO: C:/Users/Administrator/workspace/xgboost-win64_release_1.6.0/src/tree/updater_prune.cc:101: tree pruning end, 4 extra nodes, 0 pruned nodes, max_depth=2\n",
      "[19:04:45] INFO: C:/Users/Administrator/workspace/xgboost-win64_release_1.6.0/src/tree/updater_prune.cc:101: tree pruning end, 18 extra nodes, 0 pruned nodes, max_depth=5\n",
      "[19:04:45] INFO: C:/Users/Administrator/workspace/xgboost-win64_release_1.6.0/src/gbm/gbtree.cc:909: drop 0 trees, weight = 1\n"
     ]
    },
    {
     "name": "stdout",
     "output_type": "stream",
     "text": [
      "[19:04:46] INFO: C:/Users/Administrator/workspace/xgboost-win64_release_1.6.0/src/tree/updater_prune.cc:101: tree pruning end, 10 extra nodes, 0 pruned nodes, max_depth=5\n",
      "[19:04:46] INFO: C:/Users/Administrator/workspace/xgboost-win64_release_1.6.0/src/tree/updater_prune.cc:101: tree pruning end, 4 extra nodes, 0 pruned nodes, max_depth=2\n",
      "[19:04:46] INFO: C:/Users/Administrator/workspace/xgboost-win64_release_1.6.0/src/tree/updater_prune.cc:101: tree pruning end, 10 extra nodes, 0 pruned nodes, max_depth=5\n",
      "[19:04:46] INFO: C:/Users/Administrator/workspace/xgboost-win64_release_1.6.0/src/gbm/gbtree.cc:909: drop 0 trees, weight = 1\n",
      "[19:04:46] INFO: C:/Users/Administrator/workspace/xgboost-win64_release_1.6.0/src/tree/updater_prune.cc:101: tree pruning end, 14 extra nodes, 0 pruned nodes, max_depth=5\n",
      "[19:04:46] INFO: C:/Users/Administrator/workspace/xgboost-win64_release_1.6.0/src/tree/updater_prune.cc:101: tree pruning end, 4 extra nodes, 0 pruned nodes, max_depth=2\n",
      "[19:04:46] INFO: C:/Users/Administrator/workspace/xgboost-win64_release_1.6.0/src/tree/updater_prune.cc:101: tree pruning end, 16 extra nodes, 0 pruned nodes, max_depth=5\n",
      "[19:04:46] INFO: C:/Users/Administrator/workspace/xgboost-win64_release_1.6.0/src/gbm/gbtree.cc:909: drop 0 trees, weight = 1\n",
      "[19:04:46] INFO: C:/Users/Administrator/workspace/xgboost-win64_release_1.6.0/src/tree/updater_prune.cc:101: tree pruning end, 30 extra nodes, 0 pruned nodes, max_depth=5\n",
      "[19:04:46] INFO: C:/Users/Administrator/workspace/xgboost-win64_release_1.6.0/src/tree/updater_prune.cc:101: tree pruning end, 4 extra nodes, 0 pruned nodes, max_depth=2\n",
      "[19:04:47] INFO: C:/Users/Administrator/workspace/xgboost-win64_release_1.6.0/src/tree/updater_prune.cc:101: tree pruning end, 20 extra nodes, 0 pruned nodes, max_depth=5\n",
      "[19:04:47] INFO: C:/Users/Administrator/workspace/xgboost-win64_release_1.6.0/src/gbm/gbtree.cc:909: drop 0 trees, weight = 1\n",
      "[19:04:47] INFO: C:/Users/Administrator/workspace/xgboost-win64_release_1.6.0/src/tree/updater_prune.cc:101: tree pruning end, 10 extra nodes, 0 pruned nodes, max_depth=5\n",
      "[19:04:47] INFO: C:/Users/Administrator/workspace/xgboost-win64_release_1.6.0/src/tree/updater_prune.cc:101: tree pruning end, 4 extra nodes, 0 pruned nodes, max_depth=2\n",
      "[19:04:47] INFO: C:/Users/Administrator/workspace/xgboost-win64_release_1.6.0/src/tree/updater_prune.cc:101: tree pruning end, 20 extra nodes, 0 pruned nodes, max_depth=5\n",
      "[19:04:47] INFO: C:/Users/Administrator/workspace/xgboost-win64_release_1.6.0/src/gbm/gbtree.cc:909: drop 0 trees, weight = 1\n",
      "[19:04:47] INFO: C:/Users/Administrator/workspace/xgboost-win64_release_1.6.0/src/tree/updater_prune.cc:101: tree pruning end, 18 extra nodes, 0 pruned nodes, max_depth=5\n",
      "[19:04:47] INFO: C:/Users/Administrator/workspace/xgboost-win64_release_1.6.0/src/tree/updater_prune.cc:101: tree pruning end, 4 extra nodes, 0 pruned nodes, max_depth=2\n",
      "[19:04:47] INFO: C:/Users/Administrator/workspace/xgboost-win64_release_1.6.0/src/tree/updater_prune.cc:101: tree pruning end, 18 extra nodes, 0 pruned nodes, max_depth=5\n",
      "[19:04:47] INFO: C:/Users/Administrator/workspace/xgboost-win64_release_1.6.0/src/gbm/gbtree.cc:909: drop 0 trees, weight = 1\n",
      "[19:04:48] INFO: C:/Users/Administrator/workspace/xgboost-win64_release_1.6.0/src/tree/updater_prune.cc:101: tree pruning end, 28 extra nodes, 0 pruned nodes, max_depth=5\n",
      "[19:04:48] INFO: C:/Users/Administrator/workspace/xgboost-win64_release_1.6.0/src/tree/updater_prune.cc:101: tree pruning end, 4 extra nodes, 0 pruned nodes, max_depth=2\n",
      "[19:04:48] INFO: C:/Users/Administrator/workspace/xgboost-win64_release_1.6.0/src/tree/updater_prune.cc:101: tree pruning end, 28 extra nodes, 0 pruned nodes, max_depth=5\n",
      "[19:04:48] INFO: C:/Users/Administrator/workspace/xgboost-win64_release_1.6.0/src/gbm/gbtree.cc:909: drop 0 trees, weight = 1\n",
      "[19:04:48] INFO: C:/Users/Administrator/workspace/xgboost-win64_release_1.6.0/src/tree/updater_prune.cc:101: tree pruning end, 18 extra nodes, 0 pruned nodes, max_depth=5\n",
      "[19:04:48] INFO: C:/Users/Administrator/workspace/xgboost-win64_release_1.6.0/src/tree/updater_prune.cc:101: tree pruning end, 0 extra nodes, 0 pruned nodes, max_depth=0\n",
      "[19:04:48] INFO: C:/Users/Administrator/workspace/xgboost-win64_release_1.6.0/src/tree/updater_prune.cc:101: tree pruning end, 18 extra nodes, 0 pruned nodes, max_depth=5\n",
      "[19:04:48] INFO: C:/Users/Administrator/workspace/xgboost-win64_release_1.6.0/src/gbm/gbtree.cc:909: drop 0 trees, weight = 1\n",
      "[19:04:48] INFO: C:/Users/Administrator/workspace/xgboost-win64_release_1.6.0/src/tree/updater_prune.cc:101: tree pruning end, 26 extra nodes, 0 pruned nodes, max_depth=5\n",
      "[19:04:48] INFO: C:/Users/Administrator/workspace/xgboost-win64_release_1.6.0/src/tree/updater_prune.cc:101: tree pruning end, 0 extra nodes, 0 pruned nodes, max_depth=0\n",
      "[19:04:48] INFO: C:/Users/Administrator/workspace/xgboost-win64_release_1.6.0/src/tree/updater_prune.cc:101: tree pruning end, 30 extra nodes, 0 pruned nodes, max_depth=5\n",
      "[19:04:48] INFO: C:/Users/Administrator/workspace/xgboost-win64_release_1.6.0/src/gbm/gbtree.cc:909: drop 0 trees, weight = 1\n",
      "[19:04:49] INFO: C:/Users/Administrator/workspace/xgboost-win64_release_1.6.0/src/tree/updater_prune.cc:101: tree pruning end, 18 extra nodes, 0 pruned nodes, max_depth=5\n",
      "[19:04:49] INFO: C:/Users/Administrator/workspace/xgboost-win64_release_1.6.0/src/tree/updater_prune.cc:101: tree pruning end, 0 extra nodes, 0 pruned nodes, max_depth=0\n",
      "[19:04:49] INFO: C:/Users/Administrator/workspace/xgboost-win64_release_1.6.0/src/tree/updater_prune.cc:101: tree pruning end, 18 extra nodes, 0 pruned nodes, max_depth=5\n",
      "[19:04:49] INFO: C:/Users/Administrator/workspace/xgboost-win64_release_1.6.0/src/gbm/gbtree.cc:909: drop 0 trees, weight = 1\n",
      "[19:04:49] INFO: C:/Users/Administrator/workspace/xgboost-win64_release_1.6.0/src/tree/updater_prune.cc:101: tree pruning end, 18 extra nodes, 0 pruned nodes, max_depth=5\n",
      "[19:04:49] INFO: C:/Users/Administrator/workspace/xgboost-win64_release_1.6.0/src/tree/updater_prune.cc:101: tree pruning end, 0 extra nodes, 0 pruned nodes, max_depth=0\n",
      "[19:04:49] INFO: C:/Users/Administrator/workspace/xgboost-win64_release_1.6.0/src/tree/updater_prune.cc:101: tree pruning end, 18 extra nodes, 0 pruned nodes, max_depth=5\n",
      "[19:04:49] INFO: C:/Users/Administrator/workspace/xgboost-win64_release_1.6.0/src/gbm/gbtree.cc:909: drop 0 trees, weight = 1\n",
      "[19:04:49] INFO: C:/Users/Administrator/workspace/xgboost-win64_release_1.6.0/src/tree/updater_prune.cc:101: tree pruning end, 24 extra nodes, 0 pruned nodes, max_depth=5\n",
      "[19:04:49] INFO: C:/Users/Administrator/workspace/xgboost-win64_release_1.6.0/src/tree/updater_prune.cc:101: tree pruning end, 4 extra nodes, 0 pruned nodes, max_depth=2\n",
      "[19:04:49] INFO: C:/Users/Administrator/workspace/xgboost-win64_release_1.6.0/src/tree/updater_prune.cc:101: tree pruning end, 26 extra nodes, 0 pruned nodes, max_depth=5\n",
      "[19:04:49] INFO: C:/Users/Administrator/workspace/xgboost-win64_release_1.6.0/src/gbm/gbtree.cc:909: drop 0 trees, weight = 1\n",
      "[19:04:50] INFO: C:/Users/Administrator/workspace/xgboost-win64_release_1.6.0/src/tree/updater_prune.cc:101: tree pruning end, 22 extra nodes, 0 pruned nodes, max_depth=5\n",
      "[19:04:50] INFO: C:/Users/Administrator/workspace/xgboost-win64_release_1.6.0/src/tree/updater_prune.cc:101: tree pruning end, 0 extra nodes, 0 pruned nodes, max_depth=0\n",
      "[19:04:50] INFO: C:/Users/Administrator/workspace/xgboost-win64_release_1.6.0/src/tree/updater_prune.cc:101: tree pruning end, 22 extra nodes, 0 pruned nodes, max_depth=5\n",
      "[19:04:50] INFO: C:/Users/Administrator/workspace/xgboost-win64_release_1.6.0/src/gbm/gbtree.cc:909: drop 0 trees, weight = 1\n",
      "[19:04:50] INFO: C:/Users/Administrator/workspace/xgboost-win64_release_1.6.0/src/tree/updater_prune.cc:101: tree pruning end, 24 extra nodes, 0 pruned nodes, max_depth=5\n",
      "[19:04:50] INFO: C:/Users/Administrator/workspace/xgboost-win64_release_1.6.0/src/tree/updater_prune.cc:101: tree pruning end, 0 extra nodes, 0 pruned nodes, max_depth=0\n",
      "[19:04:50] INFO: C:/Users/Administrator/workspace/xgboost-win64_release_1.6.0/src/tree/updater_prune.cc:101: tree pruning end, 32 extra nodes, 0 pruned nodes, max_depth=5\n",
      "[19:04:50] INFO: C:/Users/Administrator/workspace/xgboost-win64_release_1.6.0/src/gbm/gbtree.cc:909: drop 0 trees, weight = 1\n"
     ]
    },
    {
     "name": "stdout",
     "output_type": "stream",
     "text": [
      "[19:04:51] INFO: C:/Users/Administrator/workspace/xgboost-win64_release_1.6.0/src/tree/updater_prune.cc:101: tree pruning end, 24 extra nodes, 0 pruned nodes, max_depth=5\n",
      "[19:04:51] INFO: C:/Users/Administrator/workspace/xgboost-win64_release_1.6.0/src/tree/updater_prune.cc:101: tree pruning end, 0 extra nodes, 0 pruned nodes, max_depth=0\n",
      "[19:04:51] INFO: C:/Users/Administrator/workspace/xgboost-win64_release_1.6.0/src/tree/updater_prune.cc:101: tree pruning end, 26 extra nodes, 0 pruned nodes, max_depth=5\n",
      "[19:04:51] INFO: C:/Users/Administrator/workspace/xgboost-win64_release_1.6.0/src/gbm/gbtree.cc:909: drop 0 trees, weight = 1\n",
      "[19:04:51] INFO: C:/Users/Administrator/workspace/xgboost-win64_release_1.6.0/src/tree/updater_prune.cc:101: tree pruning end, 14 extra nodes, 0 pruned nodes, max_depth=5\n",
      "[19:04:51] INFO: C:/Users/Administrator/workspace/xgboost-win64_release_1.6.0/src/tree/updater_prune.cc:101: tree pruning end, 2 extra nodes, 0 pruned nodes, max_depth=1\n",
      "[19:04:51] INFO: C:/Users/Administrator/workspace/xgboost-win64_release_1.6.0/src/tree/updater_prune.cc:101: tree pruning end, 36 extra nodes, 0 pruned nodes, max_depth=5\n",
      "[19:04:51] INFO: C:/Users/Administrator/workspace/xgboost-win64_release_1.6.0/src/gbm/gbtree.cc:909: drop 0 trees, weight = 1\n",
      "[19:04:51] INFO: C:/Users/Administrator/workspace/xgboost-win64_release_1.6.0/src/tree/updater_prune.cc:101: tree pruning end, 24 extra nodes, 0 pruned nodes, max_depth=5\n",
      "[19:04:51] INFO: C:/Users/Administrator/workspace/xgboost-win64_release_1.6.0/src/tree/updater_prune.cc:101: tree pruning end, 4 extra nodes, 0 pruned nodes, max_depth=2\n",
      "[19:04:52] INFO: C:/Users/Administrator/workspace/xgboost-win64_release_1.6.0/src/tree/updater_prune.cc:101: tree pruning end, 28 extra nodes, 0 pruned nodes, max_depth=5\n",
      "[19:04:52] INFO: C:/Users/Administrator/workspace/xgboost-win64_release_1.6.0/src/gbm/gbtree.cc:909: drop 0 trees, weight = 1\n",
      "[19:04:52] INFO: C:/Users/Administrator/workspace/xgboost-win64_release_1.6.0/src/tree/updater_prune.cc:101: tree pruning end, 24 extra nodes, 0 pruned nodes, max_depth=5\n",
      "[19:04:52] INFO: C:/Users/Administrator/workspace/xgboost-win64_release_1.6.0/src/tree/updater_prune.cc:101: tree pruning end, 4 extra nodes, 0 pruned nodes, max_depth=2\n",
      "[19:04:52] INFO: C:/Users/Administrator/workspace/xgboost-win64_release_1.6.0/src/tree/updater_prune.cc:101: tree pruning end, 36 extra nodes, 0 pruned nodes, max_depth=5\n",
      "[19:04:52] INFO: C:/Users/Administrator/workspace/xgboost-win64_release_1.6.0/src/gbm/gbtree.cc:909: drop 0 trees, weight = 1\n",
      "[19:04:52] INFO: C:/Users/Administrator/workspace/xgboost-win64_release_1.6.0/src/tree/updater_prune.cc:101: tree pruning end, 18 extra nodes, 0 pruned nodes, max_depth=5\n",
      "[19:04:52] INFO: C:/Users/Administrator/workspace/xgboost-win64_release_1.6.0/src/tree/updater_prune.cc:101: tree pruning end, 0 extra nodes, 0 pruned nodes, max_depth=0\n",
      "[19:04:52] INFO: C:/Users/Administrator/workspace/xgboost-win64_release_1.6.0/src/tree/updater_prune.cc:101: tree pruning end, 20 extra nodes, 0 pruned nodes, max_depth=5\n",
      "[19:04:52] INFO: C:/Users/Administrator/workspace/xgboost-win64_release_1.6.0/src/gbm/gbtree.cc:909: drop 0 trees, weight = 1\n",
      "[19:04:53] INFO: C:/Users/Administrator/workspace/xgboost-win64_release_1.6.0/src/tree/updater_prune.cc:101: tree pruning end, 24 extra nodes, 0 pruned nodes, max_depth=5\n",
      "[19:04:53] INFO: C:/Users/Administrator/workspace/xgboost-win64_release_1.6.0/src/tree/updater_prune.cc:101: tree pruning end, 0 extra nodes, 0 pruned nodes, max_depth=0\n",
      "[19:04:53] INFO: C:/Users/Administrator/workspace/xgboost-win64_release_1.6.0/src/tree/updater_prune.cc:101: tree pruning end, 24 extra nodes, 0 pruned nodes, max_depth=5\n",
      "[19:04:53] INFO: C:/Users/Administrator/workspace/xgboost-win64_release_1.6.0/src/gbm/gbtree.cc:909: drop 0 trees, weight = 1\n",
      "[19:04:53] INFO: C:/Users/Administrator/workspace/xgboost-win64_release_1.6.0/src/tree/updater_prune.cc:101: tree pruning end, 10 extra nodes, 0 pruned nodes, max_depth=5\n",
      "[19:04:53] INFO: C:/Users/Administrator/workspace/xgboost-win64_release_1.6.0/src/tree/updater_prune.cc:101: tree pruning end, 0 extra nodes, 0 pruned nodes, max_depth=0\n",
      "[19:04:53] INFO: C:/Users/Administrator/workspace/xgboost-win64_release_1.6.0/src/tree/updater_prune.cc:101: tree pruning end, 24 extra nodes, 0 pruned nodes, max_depth=5\n",
      "[19:04:53] INFO: C:/Users/Administrator/workspace/xgboost-win64_release_1.6.0/src/gbm/gbtree.cc:909: drop 0 trees, weight = 1\n",
      "[19:04:54] INFO: C:/Users/Administrator/workspace/xgboost-win64_release_1.6.0/src/tree/updater_prune.cc:101: tree pruning end, 24 extra nodes, 0 pruned nodes, max_depth=5\n",
      "[19:04:54] INFO: C:/Users/Administrator/workspace/xgboost-win64_release_1.6.0/src/tree/updater_prune.cc:101: tree pruning end, 0 extra nodes, 0 pruned nodes, max_depth=0\n",
      "[19:04:54] INFO: C:/Users/Administrator/workspace/xgboost-win64_release_1.6.0/src/tree/updater_prune.cc:101: tree pruning end, 36 extra nodes, 0 pruned nodes, max_depth=5\n",
      "[19:04:54] INFO: C:/Users/Administrator/workspace/xgboost-win64_release_1.6.0/src/gbm/gbtree.cc:909: drop 0 trees, weight = 1\n",
      "[19:04:54] INFO: C:/Users/Administrator/workspace/xgboost-win64_release_1.6.0/src/tree/updater_prune.cc:101: tree pruning end, 22 extra nodes, 0 pruned nodes, max_depth=5\n",
      "[19:04:54] INFO: C:/Users/Administrator/workspace/xgboost-win64_release_1.6.0/src/tree/updater_prune.cc:101: tree pruning end, 0 extra nodes, 0 pruned nodes, max_depth=0\n",
      "[19:04:54] INFO: C:/Users/Administrator/workspace/xgboost-win64_release_1.6.0/src/tree/updater_prune.cc:101: tree pruning end, 22 extra nodes, 0 pruned nodes, max_depth=5\n",
      "[19:04:54] INFO: C:/Users/Administrator/workspace/xgboost-win64_release_1.6.0/src/gbm/gbtree.cc:909: drop 0 trees, weight = 1\n",
      "[19:04:54] INFO: C:/Users/Administrator/workspace/xgboost-win64_release_1.6.0/src/tree/updater_prune.cc:101: tree pruning end, 18 extra nodes, 0 pruned nodes, max_depth=5\n",
      "[19:04:54] INFO: C:/Users/Administrator/workspace/xgboost-win64_release_1.6.0/src/tree/updater_prune.cc:101: tree pruning end, 0 extra nodes, 0 pruned nodes, max_depth=0\n",
      "[19:04:54] INFO: C:/Users/Administrator/workspace/xgboost-win64_release_1.6.0/src/tree/updater_prune.cc:101: tree pruning end, 20 extra nodes, 0 pruned nodes, max_depth=5\n",
      "[19:04:54] INFO: C:/Users/Administrator/workspace/xgboost-win64_release_1.6.0/src/gbm/gbtree.cc:909: drop 0 trees, weight = 1\n",
      "[19:04:55] INFO: C:/Users/Administrator/workspace/xgboost-win64_release_1.6.0/src/tree/updater_prune.cc:101: tree pruning end, 18 extra nodes, 0 pruned nodes, max_depth=5\n",
      "[19:04:55] INFO: C:/Users/Administrator/workspace/xgboost-win64_release_1.6.0/src/tree/updater_prune.cc:101: tree pruning end, 4 extra nodes, 0 pruned nodes, max_depth=2\n",
      "[19:04:55] INFO: C:/Users/Administrator/workspace/xgboost-win64_release_1.6.0/src/tree/updater_prune.cc:101: tree pruning end, 22 extra nodes, 0 pruned nodes, max_depth=5\n",
      "[19:04:55] INFO: C:/Users/Administrator/workspace/xgboost-win64_release_1.6.0/src/gbm/gbtree.cc:909: drop 0 trees, weight = 1\n",
      "[19:04:55] INFO: C:/Users/Administrator/workspace/xgboost-win64_release_1.6.0/src/tree/updater_prune.cc:101: tree pruning end, 10 extra nodes, 0 pruned nodes, max_depth=5\n",
      "[19:04:55] INFO: C:/Users/Administrator/workspace/xgboost-win64_release_1.6.0/src/tree/updater_prune.cc:101: tree pruning end, 2 extra nodes, 0 pruned nodes, max_depth=1\n",
      "[19:04:55] INFO: C:/Users/Administrator/workspace/xgboost-win64_release_1.6.0/src/tree/updater_prune.cc:101: tree pruning end, 20 extra nodes, 0 pruned nodes, max_depth=5\n",
      "[19:04:55] INFO: C:/Users/Administrator/workspace/xgboost-win64_release_1.6.0/src/gbm/gbtree.cc:909: drop 0 trees, weight = 1\n",
      "[19:04:56] INFO: C:/Users/Administrator/workspace/xgboost-win64_release_1.6.0/src/tree/updater_prune.cc:101: tree pruning end, 10 extra nodes, 0 pruned nodes, max_depth=5\n",
      "[19:04:56] INFO: C:/Users/Administrator/workspace/xgboost-win64_release_1.6.0/src/tree/updater_prune.cc:101: tree pruning end, 0 extra nodes, 0 pruned nodes, max_depth=0\n",
      "[19:04:56] INFO: C:/Users/Administrator/workspace/xgboost-win64_release_1.6.0/src/tree/updater_prune.cc:101: tree pruning end, 16 extra nodes, 0 pruned nodes, max_depth=5\n",
      "[19:04:56] INFO: C:/Users/Administrator/workspace/xgboost-win64_release_1.6.0/src/gbm/gbtree.cc:909: drop 0 trees, weight = 1\n"
     ]
    },
    {
     "name": "stdout",
     "output_type": "stream",
     "text": [
      "[19:04:56] INFO: C:/Users/Administrator/workspace/xgboost-win64_release_1.6.0/src/tree/updater_prune.cc:101: tree pruning end, 18 extra nodes, 0 pruned nodes, max_depth=5\n",
      "[19:04:56] INFO: C:/Users/Administrator/workspace/xgboost-win64_release_1.6.0/src/tree/updater_prune.cc:101: tree pruning end, 2 extra nodes, 0 pruned nodes, max_depth=1\n",
      "[19:04:56] INFO: C:/Users/Administrator/workspace/xgboost-win64_release_1.6.0/src/tree/updater_prune.cc:101: tree pruning end, 18 extra nodes, 0 pruned nodes, max_depth=5\n",
      "[19:04:56] INFO: C:/Users/Administrator/workspace/xgboost-win64_release_1.6.0/src/gbm/gbtree.cc:909: drop 0 trees, weight = 1\n",
      "[19:04:57] INFO: C:/Users/Administrator/workspace/xgboost-win64_release_1.6.0/src/tree/updater_prune.cc:101: tree pruning end, 18 extra nodes, 0 pruned nodes, max_depth=5\n",
      "[19:04:57] INFO: C:/Users/Administrator/workspace/xgboost-win64_release_1.6.0/src/tree/updater_prune.cc:101: tree pruning end, 2 extra nodes, 0 pruned nodes, max_depth=1\n",
      "[19:04:57] INFO: C:/Users/Administrator/workspace/xgboost-win64_release_1.6.0/src/tree/updater_prune.cc:101: tree pruning end, 24 extra nodes, 0 pruned nodes, max_depth=5\n",
      "[19:04:57] INFO: C:/Users/Administrator/workspace/xgboost-win64_release_1.6.0/src/gbm/gbtree.cc:909: drop 0 trees, weight = 1\n",
      "[19:04:57] INFO: C:/Users/Administrator/workspace/xgboost-win64_release_1.6.0/src/tree/updater_prune.cc:101: tree pruning end, 22 extra nodes, 0 pruned nodes, max_depth=5\n",
      "[19:04:57] INFO: C:/Users/Administrator/workspace/xgboost-win64_release_1.6.0/src/tree/updater_prune.cc:101: tree pruning end, 0 extra nodes, 0 pruned nodes, max_depth=0\n",
      "[19:04:57] INFO: C:/Users/Administrator/workspace/xgboost-win64_release_1.6.0/src/tree/updater_prune.cc:101: tree pruning end, 24 extra nodes, 0 pruned nodes, max_depth=5\n",
      "[19:04:57] INFO: C:/Users/Administrator/workspace/xgboost-win64_release_1.6.0/src/gbm/gbtree.cc:909: drop 0 trees, weight = 1\n",
      "[19:04:58] INFO: C:/Users/Administrator/workspace/xgboost-win64_release_1.6.0/src/tree/updater_prune.cc:101: tree pruning end, 20 extra nodes, 0 pruned nodes, max_depth=5\n",
      "[19:04:58] INFO: C:/Users/Administrator/workspace/xgboost-win64_release_1.6.0/src/tree/updater_prune.cc:101: tree pruning end, 2 extra nodes, 0 pruned nodes, max_depth=1\n",
      "[19:04:58] INFO: C:/Users/Administrator/workspace/xgboost-win64_release_1.6.0/src/tree/updater_prune.cc:101: tree pruning end, 20 extra nodes, 0 pruned nodes, max_depth=5\n",
      "[19:04:58] INFO: C:/Users/Administrator/workspace/xgboost-win64_release_1.6.0/src/gbm/gbtree.cc:909: drop 0 trees, weight = 1\n",
      "[19:04:58] INFO: C:/Users/Administrator/workspace/xgboost-win64_release_1.6.0/src/tree/updater_prune.cc:101: tree pruning end, 18 extra nodes, 0 pruned nodes, max_depth=5\n",
      "[19:04:58] INFO: C:/Users/Administrator/workspace/xgboost-win64_release_1.6.0/src/tree/updater_prune.cc:101: tree pruning end, 0 extra nodes, 0 pruned nodes, max_depth=0\n",
      "[19:04:58] INFO: C:/Users/Administrator/workspace/xgboost-win64_release_1.6.0/src/tree/updater_prune.cc:101: tree pruning end, 34 extra nodes, 0 pruned nodes, max_depth=5\n",
      "[19:04:58] INFO: C:/Users/Administrator/workspace/xgboost-win64_release_1.6.0/src/gbm/gbtree.cc:909: drop 0 trees, weight = 1\n",
      "[19:04:59] INFO: C:/Users/Administrator/workspace/xgboost-win64_release_1.6.0/src/tree/updater_prune.cc:101: tree pruning end, 20 extra nodes, 0 pruned nodes, max_depth=5\n",
      "[19:04:59] INFO: C:/Users/Administrator/workspace/xgboost-win64_release_1.6.0/src/tree/updater_prune.cc:101: tree pruning end, 0 extra nodes, 0 pruned nodes, max_depth=0\n",
      "[19:04:59] INFO: C:/Users/Administrator/workspace/xgboost-win64_release_1.6.0/src/tree/updater_prune.cc:101: tree pruning end, 26 extra nodes, 0 pruned nodes, max_depth=5\n",
      "[19:04:59] INFO: C:/Users/Administrator/workspace/xgboost-win64_release_1.6.0/src/gbm/gbtree.cc:909: drop 0 trees, weight = 1\n",
      "[19:05:00] INFO: C:/Users/Administrator/workspace/xgboost-win64_release_1.6.0/src/tree/updater_prune.cc:101: tree pruning end, 18 extra nodes, 0 pruned nodes, max_depth=5\n",
      "[19:05:00] INFO: C:/Users/Administrator/workspace/xgboost-win64_release_1.6.0/src/tree/updater_prune.cc:101: tree pruning end, 0 extra nodes, 0 pruned nodes, max_depth=0\n",
      "[19:05:00] INFO: C:/Users/Administrator/workspace/xgboost-win64_release_1.6.0/src/tree/updater_prune.cc:101: tree pruning end, 12 extra nodes, 0 pruned nodes, max_depth=5\n",
      "[19:05:00] INFO: C:/Users/Administrator/workspace/xgboost-win64_release_1.6.0/src/gbm/gbtree.cc:909: drop 0 trees, weight = 1\n",
      "[19:05:00] INFO: C:/Users/Administrator/workspace/xgboost-win64_release_1.6.0/src/tree/updater_prune.cc:101: tree pruning end, 18 extra nodes, 0 pruned nodes, max_depth=5\n",
      "[19:05:00] INFO: C:/Users/Administrator/workspace/xgboost-win64_release_1.6.0/src/tree/updater_prune.cc:101: tree pruning end, 0 extra nodes, 0 pruned nodes, max_depth=0\n",
      "[19:05:00] INFO: C:/Users/Administrator/workspace/xgboost-win64_release_1.6.0/src/tree/updater_prune.cc:101: tree pruning end, 30 extra nodes, 0 pruned nodes, max_depth=5\n",
      "[19:05:00] INFO: C:/Users/Administrator/workspace/xgboost-win64_release_1.6.0/src/gbm/gbtree.cc:909: drop 0 trees, weight = 1\n",
      "[19:05:01] INFO: C:/Users/Administrator/workspace/xgboost-win64_release_1.6.0/src/tree/updater_prune.cc:101: tree pruning end, 18 extra nodes, 0 pruned nodes, max_depth=5\n",
      "[19:05:01] INFO: C:/Users/Administrator/workspace/xgboost-win64_release_1.6.0/src/tree/updater_prune.cc:101: tree pruning end, 2 extra nodes, 0 pruned nodes, max_depth=1\n",
      "[19:05:01] INFO: C:/Users/Administrator/workspace/xgboost-win64_release_1.6.0/src/tree/updater_prune.cc:101: tree pruning end, 18 extra nodes, 0 pruned nodes, max_depth=5\n",
      "[19:05:01] INFO: C:/Users/Administrator/workspace/xgboost-win64_release_1.6.0/src/gbm/gbtree.cc:909: drop 0 trees, weight = 1\n",
      "[19:05:01] INFO: C:/Users/Administrator/workspace/xgboost-win64_release_1.6.0/src/tree/updater_prune.cc:101: tree pruning end, 32 extra nodes, 0 pruned nodes, max_depth=5\n",
      "[19:05:01] INFO: C:/Users/Administrator/workspace/xgboost-win64_release_1.6.0/src/tree/updater_prune.cc:101: tree pruning end, 0 extra nodes, 0 pruned nodes, max_depth=0\n",
      "[19:05:01] INFO: C:/Users/Administrator/workspace/xgboost-win64_release_1.6.0/src/tree/updater_prune.cc:101: tree pruning end, 24 extra nodes, 0 pruned nodes, max_depth=5\n",
      "[19:05:01] INFO: C:/Users/Administrator/workspace/xgboost-win64_release_1.6.0/src/gbm/gbtree.cc:909: drop 0 trees, weight = 1\n",
      "[19:05:02] INFO: C:/Users/Administrator/workspace/xgboost-win64_release_1.6.0/src/tree/updater_prune.cc:101: tree pruning end, 18 extra nodes, 0 pruned nodes, max_depth=5\n",
      "[19:05:02] INFO: C:/Users/Administrator/workspace/xgboost-win64_release_1.6.0/src/tree/updater_prune.cc:101: tree pruning end, 0 extra nodes, 0 pruned nodes, max_depth=0\n",
      "[19:05:02] INFO: C:/Users/Administrator/workspace/xgboost-win64_release_1.6.0/src/tree/updater_prune.cc:101: tree pruning end, 28 extra nodes, 0 pruned nodes, max_depth=5\n",
      "[19:05:02] INFO: C:/Users/Administrator/workspace/xgboost-win64_release_1.6.0/src/gbm/gbtree.cc:909: drop 0 trees, weight = 1\n",
      "[19:05:02] INFO: C:/Users/Administrator/workspace/xgboost-win64_release_1.6.0/src/tree/updater_prune.cc:101: tree pruning end, 20 extra nodes, 0 pruned nodes, max_depth=5\n",
      "[19:05:02] INFO: C:/Users/Administrator/workspace/xgboost-win64_release_1.6.0/src/tree/updater_prune.cc:101: tree pruning end, 0 extra nodes, 0 pruned nodes, max_depth=0\n",
      "[19:05:02] INFO: C:/Users/Administrator/workspace/xgboost-win64_release_1.6.0/src/tree/updater_prune.cc:101: tree pruning end, 26 extra nodes, 0 pruned nodes, max_depth=5\n",
      "[19:05:02] INFO: C:/Users/Administrator/workspace/xgboost-win64_release_1.6.0/src/gbm/gbtree.cc:909: drop 0 trees, weight = 1\n",
      "[19:05:03] INFO: C:/Users/Administrator/workspace/xgboost-win64_release_1.6.0/src/tree/updater_prune.cc:101: tree pruning end, 20 extra nodes, 0 pruned nodes, max_depth=5\n",
      "[19:05:03] INFO: C:/Users/Administrator/workspace/xgboost-win64_release_1.6.0/src/tree/updater_prune.cc:101: tree pruning end, 2 extra nodes, 0 pruned nodes, max_depth=1\n",
      "[19:05:03] INFO: C:/Users/Administrator/workspace/xgboost-win64_release_1.6.0/src/tree/updater_prune.cc:101: tree pruning end, 20 extra nodes, 0 pruned nodes, max_depth=5\n",
      "[19:05:03] INFO: C:/Users/Administrator/workspace/xgboost-win64_release_1.6.0/src/gbm/gbtree.cc:909: drop 0 trees, weight = 1\n"
     ]
    },
    {
     "name": "stdout",
     "output_type": "stream",
     "text": [
      "[19:05:03] INFO: C:/Users/Administrator/workspace/xgboost-win64_release_1.6.0/src/tree/updater_prune.cc:101: tree pruning end, 30 extra nodes, 0 pruned nodes, max_depth=5\n",
      "[19:05:03] INFO: C:/Users/Administrator/workspace/xgboost-win64_release_1.6.0/src/tree/updater_prune.cc:101: tree pruning end, 0 extra nodes, 0 pruned nodes, max_depth=0\n",
      "[19:05:03] INFO: C:/Users/Administrator/workspace/xgboost-win64_release_1.6.0/src/tree/updater_prune.cc:101: tree pruning end, 28 extra nodes, 0 pruned nodes, max_depth=5\n",
      "[19:05:03] INFO: C:/Users/Administrator/workspace/xgboost-win64_release_1.6.0/src/gbm/gbtree.cc:909: drop 0 trees, weight = 1\n",
      "[19:05:04] INFO: C:/Users/Administrator/workspace/xgboost-win64_release_1.6.0/src/tree/updater_prune.cc:101: tree pruning end, 22 extra nodes, 0 pruned nodes, max_depth=5\n",
      "[19:05:04] INFO: C:/Users/Administrator/workspace/xgboost-win64_release_1.6.0/src/tree/updater_prune.cc:101: tree pruning end, 2 extra nodes, 0 pruned nodes, max_depth=1\n",
      "[19:05:04] INFO: C:/Users/Administrator/workspace/xgboost-win64_release_1.6.0/src/tree/updater_prune.cc:101: tree pruning end, 30 extra nodes, 0 pruned nodes, max_depth=5\n",
      "[19:05:04] INFO: C:/Users/Administrator/workspace/xgboost-win64_release_1.6.0/src/gbm/gbtree.cc:909: drop 0 trees, weight = 1\n",
      "[19:05:04] INFO: C:/Users/Administrator/workspace/xgboost-win64_release_1.6.0/src/tree/updater_prune.cc:101: tree pruning end, 38 extra nodes, 0 pruned nodes, max_depth=5\n",
      "[19:05:04] INFO: C:/Users/Administrator/workspace/xgboost-win64_release_1.6.0/src/tree/updater_prune.cc:101: tree pruning end, 2 extra nodes, 0 pruned nodes, max_depth=1\n",
      "[19:05:04] INFO: C:/Users/Administrator/workspace/xgboost-win64_release_1.6.0/src/tree/updater_prune.cc:101: tree pruning end, 24 extra nodes, 0 pruned nodes, max_depth=5\n",
      "[19:05:04] INFO: C:/Users/Administrator/workspace/xgboost-win64_release_1.6.0/src/gbm/gbtree.cc:909: drop 0 trees, weight = 1\n",
      "[19:05:05] INFO: C:/Users/Administrator/workspace/xgboost-win64_release_1.6.0/src/tree/updater_prune.cc:101: tree pruning end, 16 extra nodes, 0 pruned nodes, max_depth=5\n",
      "[19:05:05] INFO: C:/Users/Administrator/workspace/xgboost-win64_release_1.6.0/src/tree/updater_prune.cc:101: tree pruning end, 0 extra nodes, 0 pruned nodes, max_depth=0\n",
      "[19:05:05] INFO: C:/Users/Administrator/workspace/xgboost-win64_release_1.6.0/src/tree/updater_prune.cc:101: tree pruning end, 28 extra nodes, 0 pruned nodes, max_depth=5\n",
      "[19:05:05] INFO: C:/Users/Administrator/workspace/xgboost-win64_release_1.6.0/src/gbm/gbtree.cc:909: drop 0 trees, weight = 1\n",
      "[19:05:05] INFO: C:/Users/Administrator/workspace/xgboost-win64_release_1.6.0/src/tree/updater_prune.cc:101: tree pruning end, 10 extra nodes, 0 pruned nodes, max_depth=5\n",
      "[19:05:05] INFO: C:/Users/Administrator/workspace/xgboost-win64_release_1.6.0/src/tree/updater_prune.cc:101: tree pruning end, 0 extra nodes, 0 pruned nodes, max_depth=0\n",
      "[19:05:05] INFO: C:/Users/Administrator/workspace/xgboost-win64_release_1.6.0/src/tree/updater_prune.cc:101: tree pruning end, 10 extra nodes, 0 pruned nodes, max_depth=5\n",
      "[19:05:05] INFO: C:/Users/Administrator/workspace/xgboost-win64_release_1.6.0/src/gbm/gbtree.cc:909: drop 0 trees, weight = 1\n",
      "[19:05:06] INFO: C:/Users/Administrator/workspace/xgboost-win64_release_1.6.0/src/tree/updater_prune.cc:101: tree pruning end, 24 extra nodes, 0 pruned nodes, max_depth=5\n",
      "[19:05:06] INFO: C:/Users/Administrator/workspace/xgboost-win64_release_1.6.0/src/tree/updater_prune.cc:101: tree pruning end, 0 extra nodes, 0 pruned nodes, max_depth=0\n",
      "[19:05:06] INFO: C:/Users/Administrator/workspace/xgboost-win64_release_1.6.0/src/tree/updater_prune.cc:101: tree pruning end, 30 extra nodes, 0 pruned nodes, max_depth=5\n",
      "[19:05:06] INFO: C:/Users/Administrator/workspace/xgboost-win64_release_1.6.0/src/gbm/gbtree.cc:909: drop 0 trees, weight = 1\n",
      "[19:05:06] INFO: C:/Users/Administrator/workspace/xgboost-win64_release_1.6.0/src/tree/updater_prune.cc:101: tree pruning end, 12 extra nodes, 0 pruned nodes, max_depth=5\n",
      "[19:05:06] INFO: C:/Users/Administrator/workspace/xgboost-win64_release_1.6.0/src/tree/updater_prune.cc:101: tree pruning end, 2 extra nodes, 0 pruned nodes, max_depth=1\n",
      "[19:05:06] INFO: C:/Users/Administrator/workspace/xgboost-win64_release_1.6.0/src/tree/updater_prune.cc:101: tree pruning end, 20 extra nodes, 0 pruned nodes, max_depth=5\n",
      "[19:05:06] INFO: C:/Users/Administrator/workspace/xgboost-win64_release_1.6.0/src/gbm/gbtree.cc:909: drop 0 trees, weight = 1\n",
      "[19:05:07] INFO: C:/Users/Administrator/workspace/xgboost-win64_release_1.6.0/src/tree/updater_prune.cc:101: tree pruning end, 10 extra nodes, 0 pruned nodes, max_depth=5\n",
      "[19:05:07] INFO: C:/Users/Administrator/workspace/xgboost-win64_release_1.6.0/src/tree/updater_prune.cc:101: tree pruning end, 0 extra nodes, 0 pruned nodes, max_depth=0\n",
      "[19:05:07] INFO: C:/Users/Administrator/workspace/xgboost-win64_release_1.6.0/src/tree/updater_prune.cc:101: tree pruning end, 14 extra nodes, 0 pruned nodes, max_depth=5\n",
      "[19:05:07] INFO: C:/Users/Administrator/workspace/xgboost-win64_release_1.6.0/src/gbm/gbtree.cc:909: drop 0 trees, weight = 1\n"
     ]
    }
   ],
   "source": [
    "t0 = time()\n",
    "xgb = XGBClassifier(booster='dart', objective='multi:softmax', eval_metric='merror',\n",
    "                   tree_method='auto', grow_policy='depthwise', min_child_weight=5,\n",
    "                   max_depth=5, reg_alpha=2).fit(X_train, y_train_2.values.flatten())\n",
    "xgb_fit_time = time() - t0"
   ]
  },
  {
   "cell_type": "code",
   "execution_count": 1158,
   "id": "f71fc863",
   "metadata": {},
   "outputs": [
    {
     "name": "stdout",
     "output_type": "stream",
     "text": [
      "xgb_fit_time: 32\n"
     ]
    }
   ],
   "source": [
    "print(\"xgb_fit_time: %d\" %(xgb_fit_time))"
   ]
  },
  {
   "cell_type": "markdown",
   "id": "821a0420",
   "metadata": {},
   "source": [
    "### Nested CV"
   ]
  },
  {
   "cell_type": "code",
   "execution_count": 42,
   "id": "14ac8eaf",
   "metadata": {},
   "outputs": [],
   "source": [
    "cv_outer_xgb = StratifiedKFold(n_splits=10, random_state=1, shuffle=True)"
   ]
  },
  {
   "cell_type": "code",
   "execution_count": 43,
   "id": "063e4694",
   "metadata": {},
   "outputs": [],
   "source": [
    "accuracy_scores_nested_cv_xgb=[]\n",
    "precision_scores_nested_cv_xgb=[]\n",
    "recall_scores_nested_cv_xgb=[]\n",
    "f1_scores_nested_cv_xgb=[]"
   ]
  },
  {
   "cell_type": "code",
   "execution_count": 44,
   "id": "cd1f2dc2",
   "metadata": {},
   "outputs": [
    {
     "name": "stdout",
     "output_type": "stream",
     "text": [
      "Encoded Train Labels\n",
      "Encoded Test Labels\n",
      "Fitting 5 folds for each of 5 candidates, totalling 25 fits\n",
      "Best Score: 0.733, with parameters: {'tree_method': 'approx', 'reg_alpha': 10, 'objective': 'multi:softmax', 'min_child_weight': 2, 'max_depth': 18, 'grow_policy': 'depthwise', 'eval_metric': 'merror', 'booster': 'dart'}\n",
      "Accuracy: 0.734\n",
      "Precision: 0.852\n",
      "Recall: 0.734\n",
      "F1 Score: 0.739\n",
      "-------------------------------------------------------------------------------------------------------------------\n",
      "Encoded Train Labels\n",
      "Encoded Test Labels\n",
      "Fitting 5 folds for each of 5 candidates, totalling 25 fits\n",
      "Best Score: 0.733, with parameters: {'tree_method': 'approx', 'reg_alpha': 10, 'objective': 'multi:softmax', 'min_child_weight': 2, 'max_depth': 18, 'grow_policy': 'depthwise', 'eval_metric': 'merror', 'booster': 'dart'}\n",
      "Accuracy: 0.734\n",
      "Precision: 0.852\n",
      "Recall: 0.734\n",
      "F1 Score: 0.739\n",
      "-------------------------------------------------------------------------------------------------------------------\n",
      "Encoded Train Labels\n",
      "Encoded Test Labels\n",
      "Fitting 5 folds for each of 5 candidates, totalling 25 fits\n",
      "Best Score: 0.734, with parameters: {'tree_method': 'approx', 'reg_alpha': 10, 'objective': 'multi:softmax', 'min_child_weight': 2, 'max_depth': 18, 'grow_policy': 'depthwise', 'eval_metric': 'merror', 'booster': 'dart'}\n",
      "Accuracy: 0.732\n",
      "Precision: 0.851\n",
      "Recall: 0.732\n",
      "F1 Score: 0.737\n",
      "-------------------------------------------------------------------------------------------------------------------\n",
      "Encoded Train Labels\n",
      "Encoded Test Labels\n",
      "Fitting 5 folds for each of 5 candidates, totalling 25 fits\n",
      "Best Score: 0.734, with parameters: {'tree_method': 'approx', 'reg_alpha': 10, 'objective': 'multi:softmax', 'min_child_weight': 2, 'max_depth': 18, 'grow_policy': 'depthwise', 'eval_metric': 'merror', 'booster': 'dart'}\n",
      "Accuracy: 0.731\n",
      "Precision: 0.851\n",
      "Recall: 0.731\n",
      "F1 Score: 0.736\n",
      "-------------------------------------------------------------------------------------------------------------------\n",
      "Encoded Train Labels\n",
      "Encoded Test Labels\n",
      "Fitting 5 folds for each of 5 candidates, totalling 25 fits\n",
      "Best Score: 0.733, with parameters: {'tree_method': 'approx', 'reg_alpha': 10, 'objective': 'multi:softmax', 'min_child_weight': 2, 'max_depth': 18, 'grow_policy': 'depthwise', 'eval_metric': 'merror', 'booster': 'dart'}\n",
      "Accuracy: 0.735\n",
      "Precision: 0.852\n",
      "Recall: 0.735\n",
      "F1 Score: 0.740\n",
      "-------------------------------------------------------------------------------------------------------------------\n",
      "Encoded Train Labels\n",
      "Encoded Test Labels\n",
      "Fitting 5 folds for each of 5 candidates, totalling 25 fits\n",
      "Best Score: 0.733, with parameters: {'tree_method': 'approx', 'reg_alpha': 10, 'objective': 'multi:softmax', 'min_child_weight': 2, 'max_depth': 18, 'grow_policy': 'depthwise', 'eval_metric': 'merror', 'booster': 'dart'}\n",
      "Accuracy: 0.734\n",
      "Precision: 0.852\n",
      "Recall: 0.734\n",
      "F1 Score: 0.739\n",
      "-------------------------------------------------------------------------------------------------------------------\n",
      "Encoded Train Labels\n",
      "Encoded Test Labels\n",
      "Fitting 5 folds for each of 5 candidates, totalling 25 fits\n",
      "Best Score: 0.733, with parameters: {'tree_method': 'approx', 'reg_alpha': 10, 'objective': 'multi:softmax', 'min_child_weight': 2, 'max_depth': 18, 'grow_policy': 'depthwise', 'eval_metric': 'merror', 'booster': 'dart'}\n",
      "Accuracy: 0.735\n",
      "Precision: 0.852\n",
      "Recall: 0.735\n",
      "F1 Score: 0.740\n",
      "-------------------------------------------------------------------------------------------------------------------\n",
      "Encoded Train Labels\n",
      "Encoded Test Labels\n",
      "Fitting 5 folds for each of 5 candidates, totalling 25 fits\n",
      "Best Score: 0.734, with parameters: {'tree_method': 'approx', 'reg_alpha': 10, 'objective': 'multi:softmax', 'min_child_weight': 2, 'max_depth': 18, 'grow_policy': 'depthwise', 'eval_metric': 'merror', 'booster': 'dart'}\n",
      "Accuracy: 0.732\n",
      "Precision: 0.851\n",
      "Recall: 0.732\n",
      "F1 Score: 0.737\n",
      "-------------------------------------------------------------------------------------------------------------------\n",
      "Encoded Train Labels\n",
      "Encoded Test Labels\n",
      "Fitting 5 folds for each of 5 candidates, totalling 25 fits\n",
      "Best Score: 0.733, with parameters: {'tree_method': 'approx', 'reg_alpha': 10, 'objective': 'multi:softmax', 'min_child_weight': 2, 'max_depth': 18, 'grow_policy': 'depthwise', 'eval_metric': 'merror', 'booster': 'dart'}\n",
      "Accuracy: 0.736\n",
      "Precision: 0.853\n",
      "Recall: 0.736\n",
      "F1 Score: 0.741\n",
      "-------------------------------------------------------------------------------------------------------------------\n",
      "Encoded Train Labels\n",
      "Encoded Test Labels\n",
      "Fitting 5 folds for each of 5 candidates, totalling 25 fits\n",
      "Best Score: 0.734, with parameters: {'tree_method': 'approx', 'reg_alpha': 10, 'objective': 'multi:softmax', 'min_child_weight': 2, 'max_depth': 18, 'grow_policy': 'depthwise', 'eval_metric': 'merror', 'booster': 'dart'}\n",
      "Accuracy: 0.731\n",
      "Precision: 0.851\n",
      "Recall: 0.731\n",
      "F1 Score: 0.736\n",
      "-------------------------------------------------------------------------------------------------------------------\n"
     ]
    }
   ],
   "source": [
    "t0 = time()\n",
    "count = 0\n",
    "for train_ix_xgb, test_ix_xgb in cv_outer_xgb.split(X, y):\n",
    "    X_train_cv_xgb, X_test_cv_xgb = X.iloc[train_ix_xgb, :], X.iloc[test_ix_xgb, :]\n",
    "    y_train_cv_xgb_raw, y_test_cv_xgb_raw = y.iloc[train_ix_xgb], y.iloc[test_ix_xgb]\n",
    "    \n",
    "    y_train_cv_xgb = y_train_cv_xgb_raw.copy()\n",
    "    y_train_cv_xgb.Fault_Type = pd.Categorical(y_train_cv_xgb.Fault_Type)\n",
    "    y_train_cv_xgb['Fault_Type_Codes'] = y_train_cv_xgb.Fault_Type.cat.codes\n",
    "    y_train_cv_xgb = y_train_cv_xgb.drop(columns=['Fault_Type'])\n",
    "    y_train_cv_xgb = y_train_cv_xgb.rename(columns={\"Fault_Type_Codes\": \"Fault_Type\"})\n",
    "    print(\"Encoded Train Labels\")\n",
    "    \n",
    "    y_test_cv_xgb = y_test_cv_xgb_raw.copy()\n",
    "    y_test_cv_xgb.Fault_Type = pd.Categorical(y_test_cv_xgb.Fault_Type)\n",
    "    y_test_cv_xgb['Fault_Type_Codes'] = y_test_cv_xgb.Fault_Type.cat.codes\n",
    "    y_test_cv_xgb = y_test_cv_xgb.drop(columns=['Fault_Type'])\n",
    "    y_test_cv_xgb = y_test_cv_xgb.rename(columns={\"Fault_Type_Codes\": \"Fault_Type\"})\n",
    "    print(\"Encoded Test Labels\")\n",
    "    \n",
    "    cv_inner_xgb = KFold(n_splits=5, shuffle=True, random_state=1)\n",
    "    \n",
    "    xgb_kfold = XGBClassifier(enable_categorical=True)\n",
    "    \n",
    "    boosters = ['gbtree', 'dart']\n",
    "    objectives = ['multi:softmax']\n",
    "    eval_metrics = ['merror']\n",
    "    tree_methods = ['approx', 'hist']\n",
    "    grow_policies = ['depthwise', 'lossguide']\n",
    "    min_child_weights = [2, 5, 10]\n",
    "    max_depths = [int(x) for x in np.linspace(2, 20, num = 11)]\n",
    "    reg_alphas = [int(x) for x in np.linspace(2, 10, num = 6)]\n",
    "    \n",
    "    random_grid_xgb = {'booster': boosters,\n",
    "                   'objective': objectives,\n",
    "                   'eval_metric': eval_metrics,\n",
    "                   'tree_method': tree_methods,\n",
    "                   'grow_policy': grow_policies,\n",
    "                   'min_child_weight': min_child_weights,\n",
    "                   'max_depth': max_depths,\n",
    "                   'reg_alpha': reg_alphas\n",
    "                  }\n",
    "    \n",
    "    xgb_random_kfold = RandomizedSearchCV(estimator=xgb_kfold, param_distributions=random_grid_xgb, n_iter=5, cv=cv_inner_xgb, \n",
    "                                   verbose=2, random_state=42, n_jobs = 2)\n",
    "    \n",
    "    result_xgb = xgb_random_kfold.fit(X_train_cv_xgb, y_train_cv_xgb.values.flatten())\n",
    "    \n",
    "    xgb_random_kfold_best = xgb_random_kfold.best_estimator_\n",
    "    \n",
    "    filePath = \"%s/XGB Models/KFold Models/kfold_model_%s.sav\" %(path, count)\n",
    "    os.makedirs(os.path.dirname(filePath), exist_ok=True)\n",
    "    fileObj = open(filePath, 'wb')\n",
    "    pickle.dump(xgb_random_kfold_best, fileObj)\n",
    "    fileObj.close()\n",
    "    \n",
    "    ypred_xgb_random_kfold = xgb_random_kfold_best.predict(X_test_cv_xgb)\n",
    "    accuracy_this_fold = accuracy_score(y_test_cv_xgb, ypred_xgb_random_kfold)\n",
    "    precision_this_fold = precision_score(y_test_cv_xgb, ypred_xgb_random_kfold, average='weighted')\n",
    "    recall_this_fold = recall_score(y_test_cv_xgb, ypred_xgb_random_kfold, average='weighted')\n",
    "    f1_score_this_fold = f1_score(y_test_cv_xgb, ypred_xgb_random_kfold, average='weighted')\n",
    "    \n",
    "    print(\"Best Score: %.3f, with parameters: %s\" %(result_xgb.best_score_, result_xgb.best_params_))    \n",
    "    \n",
    "    print(\"Accuracy: %.3f\" %(accuracy_this_fold))\n",
    "    print(\"Precision: %.3f\" %(precision_this_fold))\n",
    "    print(\"Recall: %.3f\" %(recall_this_fold))\n",
    "    print(\"F1 Score: %.3f\" %(f1_score_this_fold))\n",
    "    \n",
    "    accuracy_scores_nested_cv_xgb.append(accuracy_this_fold)\n",
    "    precision_scores_nested_cv_xgb.append(precision_this_fold)\n",
    "    recall_scores_nested_cv_xgb.append(recall_this_fold)\n",
    "    f1_scores_nested_cv_xgb.append(f1_score_this_fold)\n",
    "    \n",
    "    count = count + 1\n",
    "    print(\"-------------------------------------------------------------------------------------------------------------------\")\n",
    "    \n",
    "xgb_random_kfold_time = time() - t0"
   ]
  },
  {
   "cell_type": "code",
   "execution_count": 66,
   "id": "7de630f2",
   "metadata": {},
   "outputs": [
    {
     "name": "stdout",
     "output_type": "stream",
     "text": [
      "xgb_random_kfold_time: 61440\n"
     ]
    }
   ],
   "source": [
    "print(\"xgb_random_kfold_time: %d\" %(xgb_random_kfold_time))"
   ]
  },
  {
   "cell_type": "code",
   "execution_count": 67,
   "id": "64e465ec",
   "metadata": {},
   "outputs": [],
   "source": [
    "filePathAcc = \"%s/XGB Models/KFold Models/kfold_accuracy_scores.txt\" %(path)\n",
    "os.makedirs(os.path.dirname(filePathAcc), exist_ok=True)\n",
    "\n",
    "filePathPrec = \"%s/XGB Models/KFold Models/kfold_precision_scores.txt\" %(path)\n",
    "os.makedirs(os.path.dirname(filePathPrec), exist_ok=True)\n",
    "\n",
    "filePathRecall = \"%s/XGB Models/KFold Models/kfold_recall_scores.txt\" %(path)\n",
    "os.makedirs(os.path.dirname(filePathRecall), exist_ok=True)\n",
    "\n",
    "filePathF1 = \"%s/XGB Models/KFold Models/kfold_f1_scores.txt\" %(path)\n",
    "os.makedirs(os.path.dirname(filePathF1), exist_ok=True)\n",
    "\n",
    "with open(filePathAcc, 'w') as filehandle:\n",
    "    json.dump(accuracy_scores_nested_cv_xgb, filehandle)\n",
    "    \n",
    "with open(filePathPrec, 'w') as filehandle:\n",
    "    json.dump(precision_scores_nested_cv_xgb, filehandle)\n",
    "    \n",
    "with open(filePathRecall, 'w') as filehandle:\n",
    "    json.dump(recall_scores_nested_cv_xgb, filehandle)\n",
    "    \n",
    "with open(filePathF1, 'w') as filehandle:\n",
    "    json.dump(f1_scores_nested_cv_xgb, filehandle)"
   ]
  },
  {
   "cell_type": "code",
   "execution_count": 50,
   "id": "ddf8e6cd",
   "metadata": {},
   "outputs": [],
   "source": [
    "filePathAcc = \"%s/XGB Models/KFold Models/kfold_accuracy_scores.txt\" %(path)\n",
    "\n",
    "filePathPrec = \"%s/XGB Models/KFold Models/kfold_precision_scores.txt\" %(path)\n",
    "\n",
    "filePathRecall = \"%s/XGB Models/KFold Models/kfold_recall_scores.txt\" %(path)\n",
    "\n",
    "filePathF1 = \"%s/XGB Models/KFold Models/kfold_f1_scores.txt\" %(path)\n",
    "\n",
    "with open(filePathAcc) as filehandle:\n",
    "    data = json.load(filehandle)\n",
    "    accuracy_scores_nested_cv_xgb = data\n",
    "    \n",
    "with open(filePathPrec) as filehandle:\n",
    "    data = json.load(filehandle)\n",
    "    precision_scores_nested_cv_xgb = data\n",
    "    \n",
    "with open(filePathRecall) as filehandle:\n",
    "    data = json.load(filehandle)\n",
    "    recall_scores_nested_cv_xgb = data\n",
    "    \n",
    "with open(filePathF1) as filehandle:\n",
    "    data = json.load(filehandle)\n",
    "    f1_scores_nested_cv_xgb = data"
   ]
  },
  {
   "cell_type": "code",
   "execution_count": 51,
   "id": "a84d15b7",
   "metadata": {},
   "outputs": [
    {
     "name": "stdout",
     "output_type": "stream",
     "text": [
      "XGB K-fold Mean Accuracy: 0.734, with deviation of: 0.002\n",
      "XGB K-fold Mean Precision: 0.852, with deviation of: 0.001\n",
      "XGB K-fold Mean Recall: 0.734, with deviation of: 0.002\n",
      "XGB K-fold Mean F1 Score: 0.738, with deviation of: 0.002\n"
     ]
    }
   ],
   "source": [
    "accuracy_scores_nested_cv_xgb = np.asarray(accuracy_scores_nested_cv_xgb)\n",
    "precision_scores_nested_cv_xgb = np.asarray(precision_scores_nested_cv_xgb)\n",
    "recall_scores_nested_cv_xgb = np.asarray(recall_scores_nested_cv_xgb)\n",
    "f1_scores_nested_cv_xgb = np.asarray(f1_scores_nested_cv_xgb)\n",
    "\n",
    "print(\"XGB K-fold Mean Accuracy: %.3f, with deviation of: %.3f\" %(accuracy_scores_nested_cv_xgb.mean(), \n",
    "                                                                 (accuracy_scores_nested_cv_xgb.std())))\n",
    "\n",
    "print(\"XGB K-fold Mean Precision: %.3f, with deviation of: %.3f\" %(precision_scores_nested_cv_xgb.mean(), \n",
    "                                                                  precision_scores_nested_cv_xgb.std()))\n",
    "\n",
    "print(\"XGB K-fold Mean Recall: %.3f, with deviation of: %.3f\" %(recall_scores_nested_cv_xgb.mean(), \n",
    "                                                               recall_scores_nested_cv_xgb.std()))\n",
    "\n",
    "print(\"XGB K-fold Mean F1 Score: %.3f, with deviation of: %.3f\" %(f1_scores_nested_cv_xgb.mean(), \n",
    "                                                                 f1_scores_nested_cv_xgb.std()))"
   ]
  },
  {
   "cell_type": "code",
   "execution_count": 158,
   "id": "336d9a74",
   "metadata": {},
   "outputs": [
    {
     "data": {
      "image/png": "[encoded data removed]",
      "text/plain": [
       "<Figure size 396x324 with 1 Axes>"
      ]
     },
     "metadata": {
      "needs_background": "light"
     },
     "output_type": "display_data"
    }
   ],
   "source": [
    "xgb_kfold_plot_data = pd.DataFrame({\n",
    "    'Recall': recall_scores_nested_cv_xgb,\n",
    "    'Precision': precision_scores_nested_cv_xgb,\n",
    "    'F1-score': f1_scores_nested_cv_xgb\n",
    "})\n",
    "fig, ax1 = plt.subplots(figsize=(5.5, 4.5))\n",
    "sns.lineplot(data=xgb_kfold_plot_data, ax=ax1)\n",
    "plt.legend(bbox_to_anchor=(1.05, 1), loc='upper left', borderaxespad=0)\n",
    "ax1.set(xlim=(0, 9))\n",
    "ax1.set(ylim=(0.71, 0.86))\n",
    "ax1.set_xlabel(\"Iteration Number\", labelpad=10)\n",
    "ax1.set_ylabel(\"Evaluation Metrics\", labelpad=10)\n",
    "sns.despine(fig)"
   ]
  },
  {
   "cell_type": "markdown",
   "id": "49d457f4",
   "metadata": {},
   "source": [
    "### XGB - Testing model with different percentages of train and test data"
   ]
  },
  {
   "cell_type": "code",
   "execution_count": 45,
   "id": "e47619f5",
   "metadata": {},
   "outputs": [],
   "source": [
    "accuracy_scores_tt_xgb=[]\n",
    "precision_scores_tt_xgb=[]\n",
    "recall_scores_tt_xgb=[]\n",
    "f1_scores_tt_xgb=[]"
   ]
  },
  {
   "cell_type": "code",
   "execution_count": 46,
   "id": "339e6f90",
   "metadata": {},
   "outputs": [
    {
     "name": "stdout",
     "output_type": "stream",
     "text": [
      "Train: 0.90 and Test: 0.10\n",
      "Encoded Train Labels\n",
      "Encoded Test Labels\n",
      "Accuracy: 0.732\n",
      "Precision: 0.852\n",
      "Recall: 0.732\n",
      "F1 Score: 0.737\n",
      "-------------------------------------------------------------------------------------------------------------------\n",
      "Train: 0.80 and Test: 0.20\n",
      "Encoded Train Labels\n",
      "Encoded Test Labels\n",
      "Accuracy: 0.733\n",
      "Precision: 0.852\n",
      "Recall: 0.733\n",
      "F1 Score: 0.738\n",
      "-------------------------------------------------------------------------------------------------------------------\n",
      "Train: 0.75 and Test: 0.25\n",
      "Encoded Train Labels\n",
      "Encoded Test Labels\n",
      "Accuracy: 0.733\n",
      "Precision: 0.852\n",
      "Recall: 0.733\n",
      "F1 Score: 0.738\n",
      "-------------------------------------------------------------------------------------------------------------------\n",
      "Train: 0.60 and Test: 0.40\n",
      "Encoded Train Labels\n",
      "Encoded Test Labels\n",
      "Accuracy: 0.733\n",
      "Precision: 0.852\n",
      "Recall: 0.733\n",
      "F1 Score: 0.738\n",
      "-------------------------------------------------------------------------------------------------------------------\n",
      "Train: 0.50 and Test: 0.50\n",
      "Encoded Train Labels\n",
      "Encoded Test Labels\n",
      "Accuracy: 0.733\n",
      "Precision: 0.852\n",
      "Recall: 0.733\n",
      "F1 Score: 0.738\n",
      "-------------------------------------------------------------------------------------------------------------------\n",
      "Train: 0.40 and Test: 0.60\n",
      "Encoded Train Labels\n",
      "Encoded Test Labels\n",
      "Accuracy: 0.733\n",
      "Precision: 0.852\n",
      "Recall: 0.733\n",
      "F1 Score: 0.738\n",
      "-------------------------------------------------------------------------------------------------------------------\n",
      "Train: 0.30 and Test: 0.70\n",
      "Encoded Train Labels\n",
      "Encoded Test Labels\n",
      "Accuracy: 0.733\n",
      "Precision: 0.852\n",
      "Recall: 0.733\n",
      "F1 Score: 0.738\n",
      "-------------------------------------------------------------------------------------------------------------------\n",
      "Train: 0.15 and Test: 0.85\n",
      "Encoded Train Labels\n",
      "Encoded Test Labels\n",
      "Accuracy: 0.733\n",
      "Precision: 0.852\n",
      "Recall: 0.733\n",
      "F1 Score: 0.738\n",
      "-------------------------------------------------------------------------------------------------------------------\n"
     ]
    }
   ],
   "source": [
    "t0 = time()\n",
    "count = 0\n",
    "for ratio in [(0.9,0.1), (0.8,0.2), (0.75,0.25), (0.6,0.4), (0.5,0.5), (0.4,0.6), (0.3, 0.7), (0.15, 0.85)]:\n",
    "    print(\"Train: %.2f and Test: %.2f\" %(ratio[0], ratio[1]))\n",
    "    \n",
    "    X_train_tt, X_test_tt, y_train_tt, y_test_tt = train_test_split(X, y, train_size=ratio[0], random_state = 1)\n",
    "    \n",
    "    y_train_tt.Fault_Type = pd.Categorical(y_train_tt.Fault_Type)\n",
    "    y_train_tt['Fault_Type_Codes'] = y_train_tt.Fault_Type.cat.codes\n",
    "    y_train_tt = y_train_tt.drop(columns=['Fault_Type'])\n",
    "    y_train_tt = y_train_tt.rename(columns={\"Fault_Type_Codes\": \"Fault_Type\"})\n",
    "    print(\"Encoded Train Labels\")\n",
    "    \n",
    "    y_test_tt.Fault_Type = pd.Categorical(y_test_tt.Fault_Type)\n",
    "    y_test_tt['Fault_Type_Codes'] = y_test_tt.Fault_Type.cat.codes\n",
    "    y_test_tt = y_test_tt.drop(columns=['Fault_Type'])\n",
    "    y_test_tt = y_test_tt.rename(columns={\"Fault_Type_Codes\": \"Fault_Type\"})\n",
    "    print(\"Encoded Test Labels\")\n",
    "    \n",
    "    xgb_tt = XGBClassifier(booster='dart', objective='multi:softmax', eval_metric='merror',\n",
    "                   tree_method='approx', grow_policy='depthwise', min_child_weight=5,\n",
    "                   max_depth=5, reg_alpha=2, enable_categorical=True).fit(X_train_tt, y_train_tt.values.flatten())\n",
    "    \n",
    "    filePath = \"%s/XGB Models/TT Models/tt_model_%s.sav\" %(path, count)\n",
    "    os.makedirs(os.path.dirname(filePath), exist_ok=True)\n",
    "    fileObj = open(filePath, 'wb')\n",
    "    pickle.dump(xgb_tt, fileObj)\n",
    "    fileObj.close()\n",
    "    \n",
    "    ypred_xgb_tt = xgb_tt.predict(X_test_tt)\n",
    "    \n",
    "    accuracy_tt_xgb = accuracy_score(y_test_tt, ypred_xgb_tt)\n",
    "    precision_tt_xgb = precision_score(y_test_tt, ypred_xgb_tt, average='weighted')\n",
    "    recall_tt_xgb = recall_score(y_test_tt, ypred_xgb_tt, average='weighted')\n",
    "    f1_score_tt_xgb = f1_score(y_test_tt, ypred_xgb_tt, average='weighted')   \n",
    "    \n",
    "    print(\"Accuracy: %.3f\" %(accuracy_tt_xgb))\n",
    "    print(\"Precision: %.3f\" %(precision_tt_xgb))\n",
    "    print(\"Recall: %.3f\" %(recall_tt_xgb))\n",
    "    print(\"F1 Score: %.3f\" %(f1_score_tt_xgb))\n",
    "    \n",
    "    accuracy_scores_tt_xgb.append(accuracy_tt_xgb)\n",
    "    precision_scores_tt_xgb.append(precision_tt_xgb)\n",
    "    recall_scores_tt_xgb.append(recall_tt_xgb)\n",
    "    f1_scores_tt_xgb.append(f1_score_tt_xgb)\n",
    "    \n",
    "    count = count + 1\n",
    "    print(\"-------------------------------------------------------------------------------------------------------------------\")\n",
    "    \n",
    "train_test_time_xgb = time() - t0"
   ]
  },
  {
   "cell_type": "code",
   "execution_count": 75,
   "id": "f19bab2b",
   "metadata": {},
   "outputs": [
    {
     "name": "stdout",
     "output_type": "stream",
     "text": [
      "train_test_time_xgb: 1511\n"
     ]
    }
   ],
   "source": [
    "print(\"train_test_time_xgb: %d\" %(train_test_time_xgb))"
   ]
  },
  {
   "cell_type": "code",
   "execution_count": 79,
   "id": "fae21ebd",
   "metadata": {},
   "outputs": [],
   "source": [
    "filePathAcc = \"%s/XGB Models/TT Models/tt_accuracy_scores.txt\" %(path)\n",
    "os.makedirs(os.path.dirname(filePathAcc), exist_ok=True)\n",
    "\n",
    "filePathPrec = \"%s/XGB Models/TT Models/tt_precision_scores.txt\" %(path)\n",
    "os.makedirs(os.path.dirname(filePathPrec), exist_ok=True)\n",
    "\n",
    "filePathRecall = \"%s/XGB Models/TT Models/tt_recall_scores.txt\" %(path)\n",
    "os.makedirs(os.path.dirname(filePathRecall), exist_ok=True)\n",
    "\n",
    "filePathF1 = \"%s/XGB Models/TT Models/tt_f1_scores.txt\" %(path)\n",
    "os.makedirs(os.path.dirname(filePathF1), exist_ok=True)\n",
    "\n",
    "with open(filePathAcc, 'w') as filehandle:\n",
    "    json.dump(accuracy_scores_tt_xgb, filehandle)\n",
    "    \n",
    "with open(filePathPrec, 'w') as filehandle:\n",
    "    json.dump(precision_scores_tt_xgb, filehandle)\n",
    "    \n",
    "with open(filePathRecall, 'w') as filehandle:\n",
    "    json.dump(recall_scores_tt_xgb, filehandle)\n",
    "    \n",
    "with open(filePathF1, 'w') as filehandle:\n",
    "    json.dump(f1_scores_tt_xgb, filehandle)"
   ]
  },
  {
   "cell_type": "code",
   "execution_count": 53,
   "id": "151fc9c3",
   "metadata": {},
   "outputs": [],
   "source": [
    "filePathAcc = \"%s/XGB Models/TT Models/tt_accuracy_scores.txt\" %(path)\n",
    "\n",
    "filePathPrec = \"%s/XGB Models/TT Models/tt_precision_scores.txt\" %(path)\n",
    "\n",
    "filePathRecall = \"%s/XGB Models/TT Models/tt_recall_scores.txt\" %(path)\n",
    "\n",
    "filePathF1 = \"%s/XGB Models/TT Models/tt_f1_scores.txt\" %(path)\n",
    "\n",
    "with open(filePathAcc) as filehandle:\n",
    "    data = json.load(filehandle)\n",
    "    accuracy_scores_tt_xgb = data\n",
    "    \n",
    "with open(filePathPrec) as filehandle:\n",
    "    data = json.load(filehandle)\n",
    "    precision_scores_tt_xgb = data\n",
    "    \n",
    "with open(filePathRecall) as filehandle:\n",
    "    data = json.load(filehandle)\n",
    "    recall_scores_tt_xgb = data\n",
    "    \n",
    "with open(filePathF1) as filehandle:\n",
    "    data = json.load(filehandle)\n",
    "    f1_scores_tt_xgb = data"
   ]
  },
  {
   "cell_type": "code",
   "execution_count": 54,
   "id": "86682fc5",
   "metadata": {},
   "outputs": [
    {
     "name": "stdout",
     "output_type": "stream",
     "text": [
      "XGB TT Accuracy: 0.733, with deviation of: 0.000\n",
      "XGB TT Precision: 0.852, with deviation of: 0.000\n",
      "XGB TT Recall: 0.733, with deviation of: 0.000\n",
      "XGB TT F1 Score: 0.738, with deviation of: 0.000\n"
     ]
    }
   ],
   "source": [
    "accuracy_scores_tt_xgb = np.asarray(accuracy_scores_tt_xgb)\n",
    "precision_scores_tt_xgb = np.asarray(precision_scores_tt_xgb)\n",
    "recall_scores_tt_xgb = np.asarray(recall_scores_tt_xgb)\n",
    "f1_scores_tt_xgb = np.asarray(f1_scores_tt_xgb)\n",
    "\n",
    "print(\"XGB TT Accuracy: %.3f, with deviation of: %.3f\" %(accuracy_scores_tt_xgb.mean(), \n",
    "                                                                 (accuracy_scores_tt_xgb.std())))\n",
    "\n",
    "print(\"XGB TT Precision: %.3f, with deviation of: %.3f\" %(precision_scores_tt_xgb.mean(), \n",
    "                                                                  precision_scores_tt_xgb.std()))\n",
    "\n",
    "print(\"XGB TT Recall: %.3f, with deviation of: %.3f\" %(recall_scores_tt_xgb.mean(), \n",
    "                                                               recall_scores_tt_xgb.std()))\n",
    "\n",
    "print(\"XGB TT F1 Score: %.3f, with deviation of: %.3f\" %(f1_scores_tt_xgb.mean(), \n",
    "                                                                 f1_scores_tt_xgb.std()))"
   ]
  },
  {
   "cell_type": "code",
   "execution_count": 159,
   "id": "191b6422",
   "metadata": {},
   "outputs": [
    {
     "name": "stderr",
     "output_type": "stream",
     "text": [
      "C:\\Users\\aakas\\AppData\\Local\\Temp\\ipykernel_7836\\1389345665.py:13: UserWarning: FixedFormatter should only be used together with FixedLocator\n",
      "  xgb_tt_lineplot.set_xticklabels([\"(0.9,0.1)\", \"(0.8,0.2)\", \"(0.75,0.25)\", \"(0.6,0.4)\", \"(0.5,0.5)\",\n"
     ]
    },
    {
     "data": {
      "image/png": "[encoded data removed]",
      "text/plain": [
       "<Figure size 446.4x360 with 1 Axes>"
      ]
     },
     "metadata": {
      "needs_background": "light"
     },
     "output_type": "display_data"
    }
   ],
   "source": [
    "xgb_train_test_plot_data = pd.DataFrame({\n",
    "    'Recall': recall_scores_tt_xgb,\n",
    "    'Precision': precision_scores_tt_xgb,\n",
    "    'F1-score': f1_scores_tt_xgb\n",
    "})\n",
    "fig, ax1 = plt.subplots(figsize=(6.2, 5))\n",
    "xgb_tt_lineplot = sns.lineplot(data=xgb_train_test_plot_data, ax=ax1)\n",
    "ax1.set(xlim=(0, 7))\n",
    "ax1.set(ylim=(0.72, 0.86))\n",
    "ax1.set_xlabel(\"Train/Test Ratio\", labelpad=10)\n",
    "ax1.set_ylabel(\"Evaluation Metrics\", labelpad=10)\n",
    "plt.legend(bbox_to_anchor=(1.05, 1), loc='upper left', borderaxespad=0)\n",
    "xgb_tt_lineplot.set_xticklabels([\"(0.9,0.1)\", \"(0.8,0.2)\", \"(0.75,0.25)\", \"(0.6,0.4)\", \"(0.5,0.5)\", \n",
    "                   \"(0.4,0.6)\", \"(0.3,0.7)\", \"(0.15,0.85)\"])\n",
    "sns.despine(fig)"
   ]
  },
  {
   "cell_type": "markdown",
   "id": "5a2b4e28",
   "metadata": {},
   "source": [
    "### Naive Bayes"
   ]
  },
  {
   "cell_type": "code",
   "execution_count": 47,
   "id": "15c0aca3",
   "metadata": {},
   "outputs": [
    {
     "name": "stderr",
     "output_type": "stream",
     "text": [
      "C:\\Users\\aakas\\AppData\\Local\\Temp\\ipykernel_29464\\3511227817.py:3: SettingWithCopyWarning: \n",
      "A value is trying to be set on a copy of a slice from a DataFrame.\n",
      "Try using .loc[row_indexer,col_indexer] = value instead\n",
      "\n",
      "See the caveats in the documentation: https://pandas.pydata.org/pandas-docs/stable/user_guide/indexing.html#returning-a-view-versus-a-copy\n",
      "  input_data_nb['Exit_Code'] = input_data_nb['Exit_Code'].astype('category')\n",
      "C:\\Users\\aakas\\AppData\\Local\\Temp\\ipykernel_29464\\3511227817.py:4: SettingWithCopyWarning: \n",
      "A value is trying to be set on a copy of a slice from a DataFrame.\n",
      "Try using .loc[row_indexer,col_indexer] = value instead\n",
      "\n",
      "See the caveats in the documentation: https://pandas.pydata.org/pandas-docs/stable/user_guide/indexing.html#returning-a-view-versus-a-copy\n",
      "  input_data_nb['Label_Log'] = input_data_nb['Label_Log'].astype('category')\n",
      "C:\\Users\\aakas\\AppData\\Local\\Temp\\ipykernel_29464\\3511227817.py:5: SettingWithCopyWarning: \n",
      "A value is trying to be set on a copy of a slice from a DataFrame.\n",
      "Try using .loc[row_indexer,col_indexer] = value instead\n",
      "\n",
      "See the caveats in the documentation: https://pandas.pydata.org/pandas-docs/stable/user_guide/indexing.html#returning-a-view-versus-a-copy\n",
      "  input_data_nb['Label_Error'] = input_data_nb['Label_Error'].astype('category')\n",
      "C:\\Users\\aakas\\AppData\\Local\\Temp\\ipykernel_29464\\3511227817.py:6: SettingWithCopyWarning: \n",
      "A value is trying to be set on a copy of a slice from a DataFrame.\n",
      "Try using .loc[row_indexer,col_indexer] = value instead\n",
      "\n",
      "See the caveats in the documentation: https://pandas.pydata.org/pandas-docs/stable/user_guide/indexing.html#returning-a-view-versus-a-copy\n",
      "  input_data_nb['Fault_Type'] = input_data_nb['Fault_Type'].astype('category')\n"
     ]
    }
   ],
   "source": [
    "input_data_nb = input_data\n",
    "input_data_nb['Exit_Code'] = input_data_nb['Exit_Code'].astype('category')\n",
    "input_data_nb['Label_Log'] = input_data_nb['Label_Log'].astype('category')\n",
    "input_data_nb['Label_Error'] = input_data_nb['Label_Error'].astype('category')\n",
    "input_data_nb['Fault_Type'] = input_data_nb['Fault_Type'].astype('category')"
   ]
  },
  {
   "cell_type": "code",
   "execution_count": 48,
   "id": "9c5819ca",
   "metadata": {},
   "outputs": [],
   "source": [
    "X_nb = input_data_nb[['Exit_Code', 'Time_Out', 'Label_Log', 'Label_Error']]\n",
    "y_nb = input_data_nb[['Fault_Type']]"
   ]
  },
  {
   "cell_type": "code",
   "execution_count": 49,
   "id": "931c31af",
   "metadata": {},
   "outputs": [
    {
     "name": "stderr",
     "output_type": "stream",
     "text": [
      "C:\\Users\\aakas\\AppData\\Local\\Programs\\Python\\Python310\\lib\\site-packages\\sklearn\\preprocessing\\_label.py:98: DataConversionWarning: A column-vector y was passed when a 1d array was expected. Please change the shape of y to (n_samples, ), for example using ravel().\n",
      "  y = column_or_1d(y, warn=True)\n",
      "C:\\Users\\aakas\\AppData\\Local\\Programs\\Python\\Python310\\lib\\site-packages\\sklearn\\preprocessing\\_label.py:133: DataConversionWarning: A column-vector y was passed when a 1d array was expected. Please change the shape of y to (n_samples, ), for example using ravel().\n",
      "  y = column_or_1d(y, warn=True)\n",
      "C:\\Users\\aakas\\AppData\\Local\\Temp\\ipykernel_29464\\2516623289.py:7: SettingWithCopyWarning: \n",
      "A value is trying to be set on a copy of a slice from a DataFrame.\n",
      "Try using .loc[row_indexer,col_indexer] = value instead\n",
      "\n",
      "See the caveats in the documentation: https://pandas.pydata.org/pandas-docs/stable/user_guide/indexing.html#returning-a-view-versus-a-copy\n",
      "  X_nb['Exit_Code'] = le_exit_code.transform(X_nb.Exit_Code)\n",
      "C:\\Users\\aakas\\AppData\\Local\\Temp\\ipykernel_29464\\2516623289.py:11: SettingWithCopyWarning: \n",
      "A value is trying to be set on a copy of a slice from a DataFrame.\n",
      "Try using .loc[row_indexer,col_indexer] = value instead\n",
      "\n",
      "See the caveats in the documentation: https://pandas.pydata.org/pandas-docs/stable/user_guide/indexing.html#returning-a-view-versus-a-copy\n",
      "  X_nb['Time_Out'] = le_time_out.transform(X_nb.Time_Out)\n",
      "C:\\Users\\aakas\\AppData\\Local\\Temp\\ipykernel_29464\\2516623289.py:15: SettingWithCopyWarning: \n",
      "A value is trying to be set on a copy of a slice from a DataFrame.\n",
      "Try using .loc[row_indexer,col_indexer] = value instead\n",
      "\n",
      "See the caveats in the documentation: https://pandas.pydata.org/pandas-docs/stable/user_guide/indexing.html#returning-a-view-versus-a-copy\n",
      "  X_nb['Label_Log'] = le_label_log.transform(X_nb.Label_Log)\n",
      "C:\\Users\\aakas\\AppData\\Local\\Temp\\ipykernel_29464\\2516623289.py:19: SettingWithCopyWarning: \n",
      "A value is trying to be set on a copy of a slice from a DataFrame.\n",
      "Try using .loc[row_indexer,col_indexer] = value instead\n",
      "\n",
      "See the caveats in the documentation: https://pandas.pydata.org/pandas-docs/stable/user_guide/indexing.html#returning-a-view-versus-a-copy\n",
      "  X_nb['Label_Error'] = le_label_error.transform(X_nb.Label_Error)\n"
     ]
    }
   ],
   "source": [
    "le_y = LabelEncoder()\n",
    "le_y.fit(y_nb)\n",
    "y_nb = le_y.transform(y_nb)\n",
    "\n",
    "le_exit_code = LabelEncoder()\n",
    "le_exit_code.fit(X_nb.Exit_Code)\n",
    "X_nb['Exit_Code'] = le_exit_code.transform(X_nb.Exit_Code)\n",
    "\n",
    "le_time_out = LabelEncoder()\n",
    "le_time_out.fit(X_nb.Time_Out)\n",
    "X_nb['Time_Out'] = le_time_out.transform(X_nb.Time_Out)\n",
    "\n",
    "le_label_log = LabelEncoder()\n",
    "le_label_log.fit(X_nb.Label_Log)\n",
    "X_nb['Label_Log'] = le_label_log.transform(X_nb.Label_Log)\n",
    "\n",
    "le_label_error = LabelEncoder()\n",
    "le_label_error.fit(X_nb.Label_Error)\n",
    "X_nb['Label_Error'] = le_label_error.transform(X_nb.Label_Error)"
   ]
  },
  {
   "cell_type": "code",
   "execution_count": 2073,
   "id": "284e1e4e",
   "metadata": {},
   "outputs": [],
   "source": [
    "X_train_nb, X_test_nb, y_train_nb, y_test_nb = train_test_split(X_nb, y_nb, stratify=y_nb, random_state = 1)"
   ]
  },
  {
   "cell_type": "code",
   "execution_count": 2080,
   "id": "f2799401",
   "metadata": {},
   "outputs": [
    {
     "name": "stdout",
     "output_type": "stream",
     "text": [
      "[17  2  8  6]\n"
     ]
    },
    {
     "name": "stderr",
     "output_type": "stream",
     "text": [
      "C:\\Users\\aakas\\AppData\\Local\\Programs\\Python\\Python310\\lib\\site-packages\\mixed_naive_bayes\\mixed_naive_bayes.py:370: UserWarning: alpha too small will result in numeric errors, setting alpha = 1e-10\n",
      "  warnings.warn('alpha too small will result in numeric errors, '\n"
     ]
    },
    {
     "data": {
      "text/plain": [
       "MixedNB(alpha=1e-10, var_smoothing=1e-09)"
      ]
     },
     "execution_count": 2080,
     "metadata": {},
     "output_type": "execute_result"
    }
   ],
   "source": [
    "naive_bayes = MixedNB(alpha=0, categorical_features=[2,3,4,5])\n",
    "\n",
    "naive_bayes.fit(X_train_nb, y_train_nb)"
   ]
  },
  {
   "cell_type": "markdown",
   "id": "d99c7b1c",
   "metadata": {},
   "source": [
    "### Naive Bayes - K-fold CV"
   ]
  },
  {
   "cell_type": "code",
   "execution_count": 50,
   "id": "00db4497",
   "metadata": {},
   "outputs": [],
   "source": [
    "accuracy_scores_nb =[]\n",
    "precision_scores_nb =[]\n",
    "recall_scores_nb =[]\n",
    "f1_scores_nb =[]"
   ]
  },
  {
   "cell_type": "code",
   "execution_count": 51,
   "id": "03ca3153",
   "metadata": {},
   "outputs": [],
   "source": [
    "cv_outer_nb = StratifiedKFold(n_splits=10, random_state=1, shuffle=True)"
   ]
  },
  {
   "cell_type": "code",
   "execution_count": 52,
   "id": "c648ecb2",
   "metadata": {},
   "outputs": [
    {
     "name": "stdout",
     "output_type": "stream",
     "text": [
      "[     0      1      2 ... 599990 599991 599993]\n",
      "[    28     32     43 ... 599974 599985 599992]\n",
      "[7 2 4 3]\n",
      "Accuracy: 0.734\n",
      "Precision: 0.852\n",
      "Recall: 0.734\n",
      "F1 Score: 0.738\n",
      "-------------------------------------------------------------------------------------------------------------------\n",
      "[     0      1      2 ... 599991 599992 599993]\n",
      "[     9     11     38 ... 599969 599978 599990]\n",
      "[7 2 4 3]\n",
      "Accuracy: 0.734\n",
      "Precision: 0.852\n",
      "Recall: 0.734\n",
      "F1 Score: 0.739\n",
      "-------------------------------------------------------------------------------------------------------------------\n",
      "[     0      1      2 ... 599991 599992 599993]\n",
      "[     5     12     15 ... 599951 599965 599972]\n",
      "[7 2 4 3]\n",
      "Accuracy: 0.732\n",
      "Precision: 0.851\n",
      "Recall: 0.732\n",
      "F1 Score: 0.737\n",
      "-------------------------------------------------------------------------------------------------------------------\n",
      "[     0      4      5 ... 599991 599992 599993]\n",
      "[     1      2      3 ... 599956 599981 599984]\n",
      "[7 2 4 3]\n",
      "Accuracy: 0.731\n",
      "Precision: 0.851\n",
      "Recall: 0.731\n",
      "F1 Score: 0.736\n",
      "-------------------------------------------------------------------------------------------------------------------\n",
      "[     0      1      2 ... 599990 599991 599992]\n",
      "[     6     19     51 ... 599975 599982 599993]\n",
      "[7 2 4 3]\n",
      "Accuracy: 0.735\n",
      "Precision: 0.852\n",
      "Recall: 0.735\n",
      "F1 Score: 0.740\n",
      "-------------------------------------------------------------------------------------------------------------------\n",
      "[     0      1      2 ... 599990 599992 599993]\n",
      "[    21     46     50 ... 599979 599986 599991]\n",
      "[7 2 4 3]\n",
      "Accuracy: 0.734\n",
      "Precision: 0.852\n",
      "Recall: 0.734\n",
      "F1 Score: 0.739\n",
      "-------------------------------------------------------------------------------------------------------------------\n",
      "[     0      1      2 ... 599991 599992 599993]\n",
      "[    39     42     62 ... 599963 599970 599987]\n",
      "[7 2 4 3]\n",
      "Accuracy: 0.735\n",
      "Precision: 0.852\n",
      "Recall: 0.735\n",
      "F1 Score: 0.739\n",
      "-------------------------------------------------------------------------------------------------------------------\n",
      "[     0      1      2 ... 599991 599992 599993]\n",
      "[     8     35     37 ... 599924 599949 599952]\n",
      "[7 2 4 3]\n",
      "Accuracy: 0.732\n",
      "Precision: 0.851\n",
      "Recall: 0.732\n",
      "F1 Score: 0.737\n",
      "-------------------------------------------------------------------------------------------------------------------\n",
      "[     1      2      3 ... 599991 599992 599993]\n",
      "[     0      4     14 ... 599980 599988 599989]\n",
      "[7 2 4 3]\n",
      "Accuracy: 0.736\n",
      "Precision: 0.853\n",
      "Recall: 0.736\n",
      "F1 Score: 0.741\n",
      "-------------------------------------------------------------------------------------------------------------------\n",
      "[     0      1      2 ... 599991 599992 599993]\n",
      "[     7     13     22 ... 599966 599968 599983]\n",
      "[7 2 4 3]\n",
      "Accuracy: 0.731\n",
      "Precision: 0.851\n",
      "Recall: 0.731\n",
      "F1 Score: 0.736\n",
      "-------------------------------------------------------------------------------------------------------------------\n"
     ]
    }
   ],
   "source": [
    "# K-fold CV\n",
    "\n",
    "t0 = time()\n",
    "y_nb = pd.DataFrame(y_nb)\n",
    "count = 0\n",
    "for train_ix_nb, test_ix_nb in cv_outer_nb.split(X_nb, y_nb):\n",
    "    print(train_ix_nb)\n",
    "    print(test_ix_nb)\n",
    "    X_train_nb_cv, X_test_nb_cv = X_nb.iloc[train_ix_nb, :], X_nb.iloc[test_ix_nb, :]\n",
    "    y_train_nb_cv, y_test_nb_cv = y_nb.iloc[train_ix_nb], y_nb.iloc[test_ix_nb]\n",
    "    \n",
    "    alphas = [50]\n",
    "    \n",
    "    for alpha in alphas:\n",
    "    \n",
    "        nb_random_kfold = MixedNB(alpha=alpha, categorical_features=[0,1,2,3])\n",
    "\n",
    "        nb_random_kfold_best = nb_random_kfold.fit(X_train_nb_cv, y_train_nb_cv.values.flatten())\n",
    "        \n",
    "        filePath = \"%s/Naive Bayes Models/KFold Models/kfold_model_%s.sav\" %(path, count)\n",
    "        os.makedirs(os.path.dirname(filePath), exist_ok=True)\n",
    "        fileObj = open(filePath, 'wb')\n",
    "        pickle.dump(nb_random_kfold_best, fileObj)\n",
    "        fileObj.close()\n",
    "\n",
    "        ypred_nb_random_kfold = nb_random_kfold_best.predict(X_test_nb_cv)\n",
    "        accuracy_this_fold_nb = accuracy_score(y_test_nb_cv, ypred_nb_random_kfold)\n",
    "        precision_this_fold_nb = precision_score(y_test_nb_cv, ypred_nb_random_kfold, average='weighted')\n",
    "        recall_this_fold_nb = recall_score(y_test_nb_cv, ypred_nb_random_kfold, average='weighted')\n",
    "        f1_score_this_fold_nb = f1_score(y_test_nb_cv, ypred_nb_random_kfold, average='weighted')   \n",
    "\n",
    "        print(\"Accuracy: %.3f\" %(accuracy_this_fold_nb))\n",
    "        print(\"Precision: %.3f\" %(precision_this_fold_nb))\n",
    "        print(\"Recall: %.3f\" %(recall_this_fold_nb))\n",
    "        print(\"F1 Score: %.3f\" %(f1_score_this_fold_nb))\n",
    "\n",
    "        accuracy_scores_nb.append(accuracy_this_fold_nb)\n",
    "        precision_scores_nb.append(precision_this_fold_nb)\n",
    "        recall_scores_nb.append(recall_this_fold_nb)\n",
    "        f1_scores_nb.append(f1_score_this_fold_nb)\n",
    "        \n",
    "        count = count + 1\n",
    "        print(\"-------------------------------------------------------------------------------------------------------------------\")\n",
    "\n",
    "nested_cv_nb_time = time() - t0"
   ]
  },
  {
   "cell_type": "code",
   "execution_count": 80,
   "id": "917e70f6",
   "metadata": {},
   "outputs": [],
   "source": [
    "filePathAcc = \"%s/Naive Bayes Models/KFold Models/kfold_accuracy_scores.txt\" %(path)\n",
    "os.makedirs(os.path.dirname(filePathAcc), exist_ok=True)\n",
    "\n",
    "filePathPrec = \"%s/Naive Bayes Models/KFold Models/kfold_precision_scores.txt\" %(path)\n",
    "os.makedirs(os.path.dirname(filePathPrec), exist_ok=True)\n",
    "\n",
    "filePathRecall = \"%s/Naive Bayes Models/KFold Models/kfold_recall_scores.txt\" %(path)\n",
    "os.makedirs(os.path.dirname(filePathRecall), exist_ok=True)\n",
    "\n",
    "filePathF1 = \"%s/Naive Bayes Models/KFold Models/kfold_f1_scores.txt\" %(path)\n",
    "os.makedirs(os.path.dirname(filePathF1), exist_ok=True)\n",
    "\n",
    "with open(filePathAcc, 'w') as filehandle:\n",
    "    json.dump(accuracy_scores_nb, filehandle)\n",
    "    \n",
    "with open(filePathPrec, 'w') as filehandle:\n",
    "    json.dump(precision_scores_nb, filehandle)\n",
    "    \n",
    "with open(filePathRecall, 'w') as filehandle:\n",
    "    json.dump(recall_scores_nb, filehandle)\n",
    "    \n",
    "with open(filePathF1, 'w') as filehandle:\n",
    "    json.dump(f1_scores_nb, filehandle)"
   ]
  },
  {
   "cell_type": "code",
   "execution_count": 56,
   "id": "aa1c6232",
   "metadata": {},
   "outputs": [],
   "source": [
    "filePathAcc = \"%s/Naive Bayes Models/KFold Models/kfold_accuracy_scores.txt\" %(path)\n",
    "\n",
    "filePathPrec = \"%s/Naive Bayes Models/KFold Models/kfold_precision_scores.txt\" %(path)\n",
    "\n",
    "filePathRecall = \"%s/Naive Bayes Models/KFold Models/kfold_recall_scores.txt\" %(path)\n",
    "\n",
    "filePathF1 = \"%s/Naive Bayes Models/KFold Models/kfold_f1_scores.txt\" %(path)\n",
    "\n",
    "with open(filePathAcc) as filehandle:\n",
    "    data = json.load(filehandle)\n",
    "    accuracy_scores_nb = data\n",
    "    \n",
    "with open(filePathPrec) as filehandle:\n",
    "    data = json.load(filehandle)\n",
    "    precision_scores_nb = data\n",
    "    \n",
    "with open(filePathRecall) as filehandle:\n",
    "    data = json.load(filehandle)\n",
    "    recall_scores_nb = data\n",
    "    \n",
    "with open(filePathF1) as filehandle:\n",
    "    data = json.load(filehandle)\n",
    "    f1_scores_nb = data"
   ]
  },
  {
   "cell_type": "code",
   "execution_count": 57,
   "id": "532de93c",
   "metadata": {},
   "outputs": [
    {
     "name": "stdout",
     "output_type": "stream",
     "text": [
      "NB K-fold Mean Accuracy: 0.733, with deviation of: 0.002\n",
      "NB K-fold Mean Precision: 0.852, with deviation of: 0.001\n",
      "NB K-fold Mean Recall: 0.733, with deviation of: 0.002\n",
      "NB K-fold Mean F1 Score: 0.738, with deviation of: 0.002\n"
     ]
    }
   ],
   "source": [
    "accuracy_scores_nb = np.asarray(accuracy_scores_nb)\n",
    "precision_scores_nb = np.asarray(precision_scores_nb)\n",
    "recall_scores_nb = np.asarray(recall_scores_nb)\n",
    "f1_scores_nb = np.asarray(f1_scores_nb)\n",
    "\n",
    "print(\"NB K-fold Mean Accuracy: %.3f, with deviation of: %.3f\" %(accuracy_scores_nb.mean(), \n",
    "                                                                 (accuracy_scores_nb.std())))\n",
    "\n",
    "print(\"NB K-fold Mean Precision: %.3f, with deviation of: %.3f\" %(precision_scores_nb.mean(), \n",
    "                                                                  precision_scores_nb.std()))\n",
    "\n",
    "print(\"NB K-fold Mean Recall: %.3f, with deviation of: %.3f\" %(recall_scores_nb.mean(), \n",
    "                                                               recall_scores_nb.std()))\n",
    "\n",
    "print(\"NB K-fold Mean F1 Score: %.3f, with deviation of: %.3f\" %(f1_scores_nb.mean(), \n",
    "                                                                 f1_scores_nb.std()))"
   ]
  },
  {
   "cell_type": "code",
   "execution_count": 160,
   "id": "4facbe0b",
   "metadata": {},
   "outputs": [
    {
     "data": {
      "image/png": "[encoded data removed]",
      "text/plain": [
       "<Figure size 396x324 with 1 Axes>"
      ]
     },
     "metadata": {
      "needs_background": "light"
     },
     "output_type": "display_data"
    }
   ],
   "source": [
    "nb_kfold_plot_data = pd.DataFrame({\n",
    "    'Recall': recall_scores_nb,\n",
    "    'Precision': precision_scores_nb,\n",
    "    'F1-score': f1_scores_nb\n",
    "})\n",
    "fig, ax1 = plt.subplots(figsize=(5.5, 4.5))\n",
    "lineplot = sns.lineplot(data=nb_kfold_plot_data, ax=ax1)\n",
    "ax1.set(xlim=(0, 9))\n",
    "ax1.set(ylim=(0.72, 0.86))\n",
    "ax1.set_xlabel(\"Iteration Number\", labelpad=10)\n",
    "ax1.set_ylabel(\"Evaluation Metrics\", labelpad=10)\n",
    "plt.legend(bbox_to_anchor=(1.05, 1), loc='upper left', borderaxespad=0)\n",
    "sns.despine(fig)"
   ]
  },
  {
   "cell_type": "markdown",
   "id": "50122354",
   "metadata": {},
   "source": [
    "### Naive Bayes - Train Test"
   ]
  },
  {
   "cell_type": "code",
   "execution_count": 53,
   "id": "c742a857",
   "metadata": {},
   "outputs": [],
   "source": [
    "accuracy_scores_tt_nb=[]\n",
    "precision_scores_tt_nb=[]\n",
    "recall_scores_tt_nb=[]\n",
    "f1_scores_tt_nb=[]"
   ]
  },
  {
   "cell_type": "code",
   "execution_count": 54,
   "id": "f77096dc",
   "metadata": {},
   "outputs": [
    {
     "name": "stdout",
     "output_type": "stream",
     "text": [
      "Train: 0.90 and Test: 0.10\n",
      "[7 2 4 3]\n",
      "Accuracy: 0.730\n",
      "Precision: 0.851\n",
      "Recall: 0.730\n",
      "F1 Score: 0.735\n",
      "-------------------------------------------------------------------------------------------------------------------\n",
      "Train: 0.80 and Test: 0.20\n",
      "[7 2 4 3]\n",
      "Accuracy: 0.733\n",
      "Precision: 0.852\n",
      "Recall: 0.733\n",
      "F1 Score: 0.738\n",
      "-------------------------------------------------------------------------------------------------------------------\n",
      "Train: 0.75 and Test: 0.25\n",
      "[7 2 4 3]\n",
      "Accuracy: 0.734\n",
      "Precision: 0.852\n",
      "Recall: 0.734\n",
      "F1 Score: 0.738\n",
      "-------------------------------------------------------------------------------------------------------------------\n",
      "Train: 0.60 and Test: 0.40\n",
      "[7 2 4 3]\n",
      "Accuracy: 0.734\n",
      "Precision: 0.852\n",
      "Recall: 0.734\n",
      "F1 Score: 0.739\n",
      "-------------------------------------------------------------------------------------------------------------------\n",
      "Train: 0.50 and Test: 0.50\n",
      "[7 2 4 3]\n",
      "Accuracy: 0.734\n",
      "Precision: 0.852\n",
      "Recall: 0.734\n",
      "F1 Score: 0.738\n",
      "-------------------------------------------------------------------------------------------------------------------\n"
     ]
    }
   ],
   "source": [
    "t0 = time()\n",
    "count = 0\n",
    "for ratio in [(0.9,0.1), (0.8,0.2), (0.75,0.25), (0.6,0.4), (0.5,0.5)]:\n",
    "    print(\"Train: %.2f and Test: %.2f\" %(ratio[0], ratio[1]))\n",
    "    \n",
    "    X_train_tt, X_test_tt, y_train_tt, y_test_tt = train_test_split(X_nb, y_nb, train_size=ratio[0], stratify=y_nb, random_state = 1)\n",
    "    \n",
    "    nb_random_tt = MixedNB(alpha=50, categorical_features=[0,1,2,3]).fit(X_train_tt, y_train_tt.values.flatten())\n",
    "    \n",
    "    filePath = \"%s/Naive Bayes Models/TT Models/tt_model_%s.sav\" %(path, count)\n",
    "    os.makedirs(os.path.dirname(filePath), exist_ok=True)\n",
    "    fileObj = open(filePath, 'wb')\n",
    "    pickle.dump(nb_random_tt, fileObj)\n",
    "    fileObj.close()\n",
    "    \n",
    "    ypred_nb_tt = nb_random_tt.predict(X_test_tt)\n",
    "    \n",
    "    accuracy_tt = accuracy_score(y_test_tt, ypred_nb_tt)\n",
    "    precision_tt = precision_score(y_test_tt, ypred_nb_tt, average='weighted')\n",
    "    recall_tt = recall_score(y_test_tt, ypred_nb_tt, average='weighted')\n",
    "    f1_score_tt = f1_score(y_test_tt, ypred_nb_tt, average='weighted')   \n",
    "    \n",
    "    print(\"Accuracy: %.3f\" %(accuracy_tt))\n",
    "    print(\"Precision: %.3f\" %(precision_tt))\n",
    "    print(\"Recall: %.3f\" %(recall_tt))\n",
    "    print(\"F1 Score: %.3f\" %(f1_score_tt))\n",
    "    \n",
    "    accuracy_scores_tt_nb.append(accuracy_tt)\n",
    "    precision_scores_tt_nb.append(precision_tt)\n",
    "    recall_scores_tt_nb.append(recall_tt)\n",
    "    f1_scores_tt_nb.append(f1_score_tt)\n",
    "    \n",
    "    count = count + 1\n",
    "    print(\"-------------------------------------------------------------------------------------------------------------------\")\n",
    "    \n",
    "train_test_time_nb = time() - t0"
   ]
  },
  {
   "cell_type": "code",
   "execution_count": 83,
   "id": "7df02317",
   "metadata": {},
   "outputs": [],
   "source": [
    "filePathAcc = \"%s/Naive Bayes Models/TT Models/tt_accuracy_scores.txt\" %(path)\n",
    "os.makedirs(os.path.dirname(filePathAcc), exist_ok=True)\n",
    "\n",
    "filePathPrec = \"%s/Naive Bayes Models/TT Models/tt_precision_scores.txt\" %(path)\n",
    "os.makedirs(os.path.dirname(filePathPrec), exist_ok=True)\n",
    "\n",
    "filePathRecall = \"%s/Naive Bayes Models/TT Models/tt_recall_scores.txt\" %(path)\n",
    "os.makedirs(os.path.dirname(filePathRecall), exist_ok=True)\n",
    "\n",
    "filePathF1 = \"%s/Naive Bayes Models/TT Models/tt_f1_scores.txt\" %(path)\n",
    "os.makedirs(os.path.dirname(filePathF1), exist_ok=True)\n",
    "\n",
    "with open(filePathAcc, 'w') as filehandle:\n",
    "    json.dump(accuracy_scores_tt_nb, filehandle)\n",
    "    \n",
    "with open(filePathPrec, 'w') as filehandle:\n",
    "    json.dump(precision_scores_tt_nb, filehandle)\n",
    "    \n",
    "with open(filePathRecall, 'w') as filehandle:\n",
    "    json.dump(recall_scores_tt_nb, filehandle)\n",
    "    \n",
    "with open(filePathF1, 'w') as filehandle:\n",
    "    json.dump(f1_scores_tt_nb, filehandle)"
   ]
  },
  {
   "cell_type": "code",
   "execution_count": 59,
   "id": "78bdd78c",
   "metadata": {},
   "outputs": [],
   "source": [
    "filePathAcc = \"%s/Naive Bayes Models/TT Models/tt_accuracy_scores.txt\" %(path)\n",
    "\n",
    "filePathPrec = \"%s/Naive Bayes Models/TT Models/tt_precision_scores.txt\" %(path)\n",
    "\n",
    "filePathRecall = \"%s/Naive Bayes Models/TT Models/tt_recall_scores.txt\" %(path)\n",
    "\n",
    "filePathF1 = \"%s/Naive Bayes Models/TT Models/tt_f1_scores.txt\" %(path)\n",
    "\n",
    "with open(filePathAcc) as filehandle:\n",
    "    data = json.load(filehandle)\n",
    "    accuracy_scores_tt_nb = data\n",
    "    \n",
    "with open(filePathPrec) as filehandle:\n",
    "    data = json.load(filehandle)\n",
    "    precision_scores_tt_nb = data\n",
    "    \n",
    "with open(filePathRecall) as filehandle:\n",
    "    data = json.load(filehandle)\n",
    "    recall_scores_tt_nb = data\n",
    "    \n",
    "with open(filePathF1) as filehandle:\n",
    "    data = json.load(filehandle)\n",
    "    f1_scores_tt_nb = data"
   ]
  },
  {
   "cell_type": "code",
   "execution_count": 60,
   "id": "c9a35ad4",
   "metadata": {},
   "outputs": [
    {
     "name": "stdout",
     "output_type": "stream",
     "text": [
      "NB TT Accuracy: 0.733, with deviation of: 0.001\n",
      "NB TT Precision: 0.852, with deviation of: 0.000\n",
      "NB TT Recall: 0.733, with deviation of: 0.001\n",
      "NB TT F1 Score: 0.738, with deviation of: 0.001\n"
     ]
    }
   ],
   "source": [
    "accuracy_scores_tt_nb = np.asarray(accuracy_scores_tt_nb)\n",
    "precision_scores_tt_nb = np.asarray(precision_scores_tt_nb)\n",
    "recall_scores_tt_nb = np.asarray(recall_scores_tt_nb)\n",
    "f1_scores_tt_nb = np.asarray(f1_scores_tt_nb)\n",
    "\n",
    "print(\"NB TT Accuracy: %.3f, with deviation of: %.3f\" %(accuracy_scores_tt_nb.mean(), \n",
    "                                                                 (accuracy_scores_tt_nb.std())))\n",
    "\n",
    "print(\"NB TT Precision: %.3f, with deviation of: %.3f\" %(precision_scores_tt_nb.mean(), \n",
    "                                                                  precision_scores_tt_nb.std()))\n",
    "\n",
    "print(\"NB TT Recall: %.3f, with deviation of: %.3f\" %(recall_scores_tt_nb.mean(), \n",
    "                                                               recall_scores_tt_nb.std()))\n",
    "\n",
    "print(\"NB TT F1 Score: %.3f, with deviation of: %.3f\" %(f1_scores_tt_nb.mean(), \n",
    "                                                                 f1_scores_tt_nb.std()))"
   ]
  },
  {
   "cell_type": "code",
   "execution_count": 161,
   "id": "c101e209",
   "metadata": {},
   "outputs": [
    {
     "name": "stderr",
     "output_type": "stream",
     "text": [
      "C:\\Users\\aakas\\AppData\\Local\\Temp\\ipykernel_7836\\538036879.py:10: UserWarning: FixedFormatter should only be used together with FixedLocator\n",
      "  nb_tt_lineplot.set_xticklabels([\"(0.9,0.1)\", \" \", \"(0.8,0.2)\", \" \", \"(0.75,0.25)\", \" \", \"(0.6,0.4)\", \" \", \"(0.5,0.5)\"])\n"
     ]
    },
    {
     "data": {
      "image/png": "[encoded data removed]",
      "text/plain": [
       "<Figure size 446.4x360 with 1 Axes>"
      ]
     },
     "metadata": {
      "needs_background": "light"
     },
     "output_type": "display_data"
    }
   ],
   "source": [
    "nb_train_test_plot_data = pd.DataFrame({\n",
    "    'Recall': recall_scores_tt_nb,\n",
    "    'Precision': precision_scores_tt_nb,\n",
    "    'F1-score': f1_scores_tt_nb\n",
    "})\n",
    "fig, ax1 = plt.subplots(figsize=(6.2, 5))\n",
    "nb_tt_lineplot = sns.lineplot(data=nb_train_test_plot_data, ax=ax1)\n",
    "ax1.set(xlim=(0, 4))\n",
    "ax1.set(ylim=(0.72, 0.86))\n",
    "nb_tt_lineplot.set_xticklabels([\"(0.9,0.1)\", \" \", \"(0.8,0.2)\", \" \", \"(0.75,0.25)\", \" \", \"(0.6,0.4)\", \" \", \"(0.5,0.5)\"])\n",
    "plt.legend(bbox_to_anchor=(1.05, 1), loc='upper left', borderaxespad=0)\n",
    "ax1.set_xlabel(\"Train/Test Ratio\", labelpad=10)\n",
    "ax1.set_ylabel(\"Evaluation Metrics\", labelpad=10)\n",
    "sns.despine(fig)"
   ]
  },
  {
   "cell_type": "markdown",
   "id": "56390a71",
   "metadata": {},
   "source": [
    "# Stage 2:"
   ]
  },
  {
   "cell_type": "markdown",
   "id": "6b9b50fa",
   "metadata": {},
   "source": [
    "## Supervised fault type prediction - Naive Model"
   ]
  },
  {
   "cell_type": "code",
   "execution_count": 68,
   "id": "119f5643",
   "metadata": {},
   "outputs": [],
   "source": [
    "naive_model_nop = pickle.load(open(\"%s/Naive Models/naive_model_nop.sav\" %(path), 'rb'))\n",
    "\n",
    "naive_model_flp = pickle.load(open(\"%s/Naive Models/naive_model_flp.sav\" %(path), 'rb'))\n",
    "\n",
    "naive_model_none = pickle.load(open(\"%s/Naive Models/naive_model_none.sav\" %(path), 'rb'))"
   ]
  },
  {
   "cell_type": "code",
   "execution_count": 69,
   "id": "5107abde",
   "metadata": {},
   "outputs": [],
   "source": [
    "t0 = time()\n",
    "y_pred_naive_nop = naive_model_nop.predict(X_test)\n",
    "naive_pred_time_nop = time() - t0"
   ]
  },
  {
   "cell_type": "code",
   "execution_count": 70,
   "id": "d1468c8d",
   "metadata": {},
   "outputs": [
    {
     "name": "stdout",
     "output_type": "stream",
     "text": [
      "Prediction time for 301025 samples: 0\n"
     ]
    }
   ],
   "source": [
    "print(\"Prediction time for %i samples: %d\" %(X_test.shape[0], naive_pred_time_nop))"
   ]
  },
  {
   "cell_type": "code",
   "execution_count": 71,
   "id": "01a65ef5",
   "metadata": {},
   "outputs": [
    {
     "name": "stdout",
     "output_type": "stream",
     "text": [
      "Naive Model NOP Accuracy: 0.3356099991695042\n"
     ]
    }
   ],
   "source": [
    "naive_nop_accuracy = accuracy_score(y_test, y_pred_naive_nop)\n",
    "print(\"Naive Model NOP Accuracy: %s\" %(naive_nop_accuracy))"
   ]
  },
  {
   "cell_type": "code",
   "execution_count": 72,
   "id": "080671f3",
   "metadata": {},
   "outputs": [
    {
     "name": "stdout",
     "output_type": "stream",
     "text": [
      "Naive Model NOP Recall: 0.3356099991695042\n"
     ]
    }
   ],
   "source": [
    "naive_nop_recall = recall_score(y_test, y_pred_naive_nop, average='weighted')\n",
    "print(\"Naive Model NOP Recall: %s\" %(naive_nop_recall))"
   ]
  },
  {
   "cell_type": "code",
   "execution_count": 73,
   "id": "bb40965d",
   "metadata": {},
   "outputs": [
    {
     "name": "stdout",
     "output_type": "stream",
     "text": [
      "Naive Model NOP Precision: 0.1126340715425546\n"
     ]
    },
    {
     "name": "stderr",
     "output_type": "stream",
     "text": [
      "C:\\Users\\aakas\\AppData\\Local\\Programs\\Python\\Python310\\lib\\site-packages\\sklearn\\metrics\\_classification.py:1318: UndefinedMetricWarning: Precision is ill-defined and being set to 0.0 in labels with no predicted samples. Use `zero_division` parameter to control this behavior.\n",
      "  _warn_prf(average, modifier, msg_start, len(result))\n"
     ]
    }
   ],
   "source": [
    "naive_nop_precision = precision_score(y_test, y_pred_naive_nop, average='weighted')\n",
    "print(\"Naive Model NOP Precision: %s\" %(naive_nop_precision))"
   ]
  },
  {
   "cell_type": "code",
   "execution_count": 74,
   "id": "827ec958",
   "metadata": {},
   "outputs": [
    {
     "name": "stdout",
     "output_type": "stream",
     "text": [
      "Naive Model NOP Weighted F1 score: 0.16866311514976917\n"
     ]
    }
   ],
   "source": [
    "naive_nop_f1 = f1_score(y_test, y_pred_naive_nop, average='weighted')\n",
    "print(\"Naive Model NOP Weighted F1 score: %s\" %(naive_nop_f1))"
   ]
  },
  {
   "cell_type": "code",
   "execution_count": 75,
   "id": "6591c577",
   "metadata": {},
   "outputs": [],
   "source": [
    "t0 = time()\n",
    "y_pred_naive_flp = naive_model_flp.predict(X_test)\n",
    "naive_pred_time_flp = time() - t0"
   ]
  },
  {
   "cell_type": "code",
   "execution_count": 76,
   "id": "4566741a",
   "metadata": {},
   "outputs": [
    {
     "name": "stdout",
     "output_type": "stream",
     "text": [
      "Prediction time for 301025 samples: 0\n"
     ]
    }
   ],
   "source": [
    "print(\"Prediction time for %i samples: %d\" %(X_test.shape[0], naive_pred_time_flp))"
   ]
  },
  {
   "cell_type": "code",
   "execution_count": 77,
   "id": "4e39c610",
   "metadata": {},
   "outputs": [
    {
     "name": "stdout",
     "output_type": "stream",
     "text": [
      "Naive Model FLP Accuracy: 0.3321916784320239\n"
     ]
    }
   ],
   "source": [
    "naive_flp_accuracy = accuracy_score(y_test, y_pred_naive_flp)\n",
    "print(\"Naive Model FLP Accuracy: %s\" %(naive_flp_accuracy))"
   ]
  },
  {
   "cell_type": "code",
   "execution_count": 78,
   "id": "103654ee",
   "metadata": {},
   "outputs": [
    {
     "name": "stdout",
     "output_type": "stream",
     "text": [
      "Naive Model FLP Recall: 0.3321916784320239\n"
     ]
    }
   ],
   "source": [
    "naive_flp_recall = recall_score(y_test, y_pred_naive_flp, average='weighted')\n",
    "print(\"Naive Model FLP Recall: %s\" %(naive_flp_recall))"
   ]
  },
  {
   "cell_type": "code",
   "execution_count": 79,
   "id": "af72fe0e",
   "metadata": {},
   "outputs": [
    {
     "name": "stdout",
     "output_type": "stream",
     "text": [
      "Naive Model FLP Precision: 0.11035131121948517\n"
     ]
    },
    {
     "name": "stderr",
     "output_type": "stream",
     "text": [
      "C:\\Users\\aakas\\AppData\\Local\\Programs\\Python\\Python310\\lib\\site-packages\\sklearn\\metrics\\_classification.py:1318: UndefinedMetricWarning: Precision is ill-defined and being set to 0.0 in labels with no predicted samples. Use `zero_division` parameter to control this behavior.\n",
      "  _warn_prf(average, modifier, msg_start, len(result))\n"
     ]
    }
   ],
   "source": [
    "naive_flp_precision = precision_score(y_test, y_pred_naive_flp, average='weighted')\n",
    "print(\"Naive Model FLP Precision: %s\" %(naive_flp_precision))"
   ]
  },
  {
   "cell_type": "code",
   "execution_count": 80,
   "id": "26608495",
   "metadata": {},
   "outputs": [
    {
     "name": "stdout",
     "output_type": "stream",
     "text": [
      "Naive Model FLP Weighted F1 score: 0.16566881929388352\n"
     ]
    }
   ],
   "source": [
    "naive_flp_f1 = f1_score(y_test, y_pred_naive_flp, average='weighted')\n",
    "print(\"Naive Model FLP Weighted F1 score: %s\" %(naive_flp_f1))"
   ]
  },
  {
   "cell_type": "code",
   "execution_count": 81,
   "id": "4be054fe",
   "metadata": {},
   "outputs": [],
   "source": [
    "t0 = time()\n",
    "y_pred_naive_none = naive_model_none.predict(X_test)\n",
    "naive_pred_time_none = time() - t0"
   ]
  },
  {
   "cell_type": "code",
   "execution_count": 82,
   "id": "187bc918",
   "metadata": {},
   "outputs": [
    {
     "name": "stdout",
     "output_type": "stream",
     "text": [
      "Prediction time for 301025 samples: 0\n"
     ]
    }
   ],
   "source": [
    "print(\"Prediction time for %i samples: %d\" %(X_test.shape[0], naive_pred_time_none))"
   ]
  },
  {
   "cell_type": "code",
   "execution_count": 83,
   "id": "093dd222",
   "metadata": {},
   "outputs": [
    {
     "name": "stdout",
     "output_type": "stream",
     "text": [
      "Naive Model NONE Accuracy: 0.3321983223984719\n"
     ]
    }
   ],
   "source": [
    "naive_none_accuracy = accuracy_score(y_test, y_pred_naive_none)\n",
    "print(\"Naive Model NONE Accuracy: %s\" %(naive_none_accuracy))"
   ]
  },
  {
   "cell_type": "code",
   "execution_count": 84,
   "id": "31f5029d",
   "metadata": {},
   "outputs": [
    {
     "name": "stdout",
     "output_type": "stream",
     "text": [
      "Naive Model NONE Recall: 0.3321983223984719\n"
     ]
    }
   ],
   "source": [
    "naive_none_recall = recall_score(y_test, y_pred_naive_none, average='weighted')\n",
    "print(\"Naive Model NONE Recall: %s\" %(naive_none_recall))"
   ]
  },
  {
   "cell_type": "code",
   "execution_count": 85,
   "id": "9c126054",
   "metadata": {},
   "outputs": [
    {
     "name": "stdout",
     "output_type": "stream",
     "text": [
      "Naive Model NONE Precision: 0.11035572540435909\n"
     ]
    },
    {
     "name": "stderr",
     "output_type": "stream",
     "text": [
      "C:\\Users\\aakas\\AppData\\Local\\Programs\\Python\\Python310\\lib\\site-packages\\sklearn\\metrics\\_classification.py:1318: UndefinedMetricWarning: Precision is ill-defined and being set to 0.0 in labels with no predicted samples. Use `zero_division` parameter to control this behavior.\n",
      "  _warn_prf(average, modifier, msg_start, len(result))\n"
     ]
    }
   ],
   "source": [
    "naive_none_precision = precision_score(y_test, y_pred_naive_none, average='weighted')\n",
    "print(\"Naive Model NONE Precision: %s\" %(naive_none_precision))"
   ]
  },
  {
   "cell_type": "code",
   "execution_count": 86,
   "id": "42f48510",
   "metadata": {},
   "outputs": [
    {
     "name": "stdout",
     "output_type": "stream",
     "text": [
      "Naive Model NONE Weighted F1 score: 0.16567461998552305\n"
     ]
    }
   ],
   "source": [
    "naive_none_f1 = f1_score(y_test, y_pred_naive_none, average='weighted')\n",
    "print(\"Naive Model NONE Weighted F1 score: %s\" %(naive_none_f1))"
   ]
  },
  {
   "cell_type": "code",
   "execution_count": 87,
   "id": "00a7cdf9",
   "metadata": {},
   "outputs": [],
   "source": [
    "naive_accuracy_scores = np.array([naive_nop_accuracy, naive_flp_accuracy, naive_none_accuracy])\n",
    "naive_recall_scores = np.array([naive_nop_recall, naive_flp_recall, naive_none_recall])\n",
    "naive_precision_scores = np.array([naive_nop_precision, naive_flp_precision, naive_none_precision])\n",
    "naive_f1_scores = np.array([naive_nop_f1, naive_flp_f1, naive_none_f1])"
   ]
  },
  {
   "cell_type": "code",
   "execution_count": 88,
   "id": "05c3d288",
   "metadata": {},
   "outputs": [
    {
     "name": "stdout",
     "output_type": "stream",
     "text": [
      "Naive Mean Accuracy: 0.333, with deviation of: 0.002\n",
      "Naive Mean Recall Score: 0.333, with deviation of: 0.002\n",
      "Naive Mean Precision Score: 0.111, with deviation of: 0.001\n",
      "Naive Mean F1 Score: 0.167, with deviation of: 0.001\n"
     ]
    }
   ],
   "source": [
    "print(\"Naive Mean Accuracy: %.3f, with deviation of: %.3f\" %(naive_accuracy_scores.mean(), \n",
    "                                                                 (naive_accuracy_scores.std())))\n",
    "\n",
    "print(\"Naive Mean Recall Score: %.3f, with deviation of: %.3f\" %(naive_recall_scores.mean(), \n",
    "                                                                 naive_recall_scores.std()))\n",
    "\n",
    "print(\"Naive Mean Precision Score: %.3f, with deviation of: %.3f\" %(naive_precision_scores.mean(), \n",
    "                                                                 naive_precision_scores.std()))\n",
    "\n",
    "print(\"Naive Mean F1 Score: %.3f, with deviation of: %.3f\" %(naive_f1_scores.mean(), \n",
    "                                                                 naive_f1_scores.std()))"
   ]
  },
  {
   "cell_type": "code",
   "execution_count": 165,
   "id": "d7c5ea95",
   "metadata": {},
   "outputs": [
    {
     "data": {
      "image/png": "[encoded data removed]",
      "text/plain": [
       "<Figure size 432x360 with 1 Axes>"
      ]
     },
     "metadata": {
      "needs_background": "light"
     },
     "output_type": "display_data"
    }
   ],
   "source": [
    "fig, ax1 = plt.subplots(figsize=(6, 5))\n",
    "\n",
    "values = [\n",
    "    round(np.mean([naive_nop_recall, naive_flp_recall, naive_none_recall]), 3),\n",
    "    round(np.mean([naive_nop_precision, naive_flp_precision, naive_none_precision]), 3),\n",
    "    round(np.mean([naive_nop_f1, naive_flp_f1, naive_none_f1]), 3)\n",
    "]\n",
    "\n",
    "ax1.bar(['Recall', 'Precision', 'F1-score'], values)\n",
    "\n",
    "for container in ax1.containers:\n",
    "    ax1.bar_label(container)\n",
    "    \n",
    "ax1.set_xlabel(\"Evaluation Metrics\", labelpad=10)\n",
    "ax1.set_ylabel(\"Evaluation Metric Values\", labelpad=10)\n",
    "\n",
    "plt.show()"
   ]
  },
  {
   "cell_type": "markdown",
   "id": "974764eb",
   "metadata": {},
   "source": [
    "## Supervised fault type prediction - Random Forest"
   ]
  },
  {
   "cell_type": "code",
   "execution_count": 120,
   "id": "c886a621",
   "metadata": {},
   "outputs": [],
   "source": [
    "t0 = time()\n",
    "y_pred_rf = rfc.predict(X_test)\n",
    "rf_pred_time = time() - t0"
   ]
  },
  {
   "cell_type": "code",
   "execution_count": 121,
   "id": "3d89f197",
   "metadata": {},
   "outputs": [
    {
     "name": "stdout",
     "output_type": "stream",
     "text": [
      "Prediction time for 301025 samples: 0\n"
     ]
    }
   ],
   "source": [
    "print(\"Prediction time for %i samples: %d\" %(X_test.shape[0], rf_pred_time))"
   ]
  },
  {
   "cell_type": "code",
   "execution_count": 122,
   "id": "e44c7020",
   "metadata": {},
   "outputs": [],
   "source": [
    "rf_cls_report = classification_report(y_test, \n",
    "                                      y_pred_rf,\n",
    "                                      output_dict=True)"
   ]
  },
  {
   "cell_type": "code",
   "execution_count": 166,
   "id": "ae257913",
   "metadata": {},
   "outputs": [
    {
     "data": {
      "image/png": "[encoded data removed]",
      "text/plain": [
       "<Figure size 504x360 with 2 Axes>"
      ]
     },
     "metadata": {
      "needs_background": "light"
     },
     "output_type": "display_data"
    }
   ],
   "source": [
    "fig, ax1 = plt.subplots(figsize=(7, 5))\n",
    "sns.heatmap(pd.DataFrame(rf_cls_report).iloc[:-1, :].T, annot=True)\n",
    "ax1.set_xlabel(\"Evaluation Metrics\", labelpad=10)\n",
    "ax1.set_ylabel(\"Target Labels\", labelpad=10)\n",
    "plt.show()"
   ]
  },
  {
   "cell_type": "code",
   "execution_count": 131,
   "id": "9bd3ef4b",
   "metadata": {},
   "outputs": [],
   "source": [
    "rfc_importance = rfc.feature_importances_"
   ]
  },
  {
   "cell_type": "code",
   "execution_count": 36,
   "id": "2bcc9420",
   "metadata": {},
   "outputs": [
    {
     "name": "stdout",
     "output_type": "stream",
     "text": [
      "Feature: 0, Score: 0.216\n",
      "Feature: 1, Score: 0.127\n",
      "Feature: 2, Score: 0.497\n",
      "Feature: 3, Score: 0.261\n"
     ]
    }
   ],
   "source": [
    "for i,v in enumerate(rfc_importance):\n",
    "    print('Feature: %0d, Score: %.3f' % (i,v))"
   ]
  },
  {
   "cell_type": "code",
   "execution_count": 167,
   "id": "ec07be87",
   "metadata": {},
   "outputs": [
    {
     "data": {
      "image/png": "[encoded data removed]",
      "text/plain": [
       "<Figure size 446.4x360 with 1 Axes>"
      ]
     },
     "metadata": {
      "needs_background": "light"
     },
     "output_type": "display_data"
    }
   ],
   "source": [
    "fig, ax1 = plt.subplots(figsize=(6.2, 5))\n",
    "plt.bar(['Exit_Code', 'Time_Out', 'Label_Log', 'Label_Error'], rfc_importance)\n",
    "ax1.set_xlabel(\"Features\", labelpad=10)\n",
    "ax1.set_ylabel(\"Feature Importance\", labelpad=10)\n",
    "plt.show()"
   ]
  },
  {
   "cell_type": "code",
   "execution_count": null,
   "id": "bd4cc40c",
   "metadata": {},
   "outputs": [],
   "source": [
    "rfc_predictions = X_test.copy()\n",
    "rfc_predictions['Predicted_Fault'] = y_pred_rf\n",
    "rfc_predictions['Actual_Fault'] = y_test\n",
    "rfc_predictions.to_csv('rfc_predictions.csv')"
   ]
  },
  {
   "cell_type": "markdown",
   "id": "67a9ba50",
   "metadata": {},
   "source": [
    "# Plots"
   ]
  },
  {
   "cell_type": "code",
   "execution_count": 170,
   "id": "a7a1539c",
   "metadata": {},
   "outputs": [
    {
     "data": {
      "image/png": "[encoded data removed]",
      "text/plain": [
       "<Figure size 612x432 with 1 Axes>"
      ]
     },
     "metadata": {
      "needs_background": "light"
     },
     "output_type": "display_data"
    }
   ],
   "source": [
    "df = pd.DataFrame({\n",
    "    'Models': ['Naive', 'K-NN', 'Random\\nForest', 'XGB', 'Naive\\nBayes'],\n",
    "#     'Accuracy': [round(naive_accuracy_scores.mean(),3), round(knn_accuracy,3), round(accuracy_scores.mean(),3), \n",
    "#                  round(nested_cv_xgb_accuracy,3)],\n",
    "    'Recall': [round(naive_recall_scores.mean(),3), \n",
    "               round(recall_scores_knn.mean(),3), \n",
    "               round(recall_scores.mean(),3),\n",
    "               round(recall_scores_nested_cv_xgb.mean(),3), \n",
    "               round(recall_scores_nb.mean(),3)],\n",
    "    'Precision': [round(naive_precision_scores.mean(),3), \n",
    "                  round(precision_scores_knn.mean(),3), \n",
    "                  round(precision_scores.mean(),3), \n",
    "                  round(precision_scores_nested_cv_xgb.mean(),3), \n",
    "                  round(precision_scores_nb.mean(),3)],\n",
    "    'F1-score': [round(naive_f1_scores.mean(),3), \n",
    "                 round(f1_scores_knn.mean(),3), \n",
    "                 round(f1_scores.mean(),3), \n",
    "                 round(f1_scores_nested_cv_xgb.mean(),3), \n",
    "                 round(f1_scores_nb.mean(),3)]\n",
    "})\n",
    "xlabel = 'Models'\n",
    "ylabel = 'Evaluation Metric Values'\n",
    "fig, ax1 = plt.subplots(figsize=(8.5, 6))\n",
    "tidy = df.melt(id_vars=xlabel).rename(columns=str.title)\n",
    "tidy = tidy.rename(columns={\"Value\": ylabel, \"Variable\": \"Metrics\"})\n",
    "sns.barplot(x=xlabel, y=ylabel, hue='Metrics', data=tidy, ax=ax1)\n",
    "ax1.set(ylim=(0.1, 1.1))\n",
    "\n",
    "for container in ax1.containers:\n",
    "    ax1.bar_label(container)\n",
    "    \n",
    "plt.legend(bbox_to_anchor=(1.05, 1), loc='upper left', borderaxespad=0)\n",
    "ax1.set_xlabel(xlabel, labelpad=10)\n",
    "ax1.set_ylabel(ylabel, labelpad=10)\n",
    "\n",
    "sns.despine(fig)"
   ]
  }
 ],
 "metadata": {
  "kernelspec": {
   "display_name": "Python 3 (ipykernel)",
   "language": "python",
   "name": "python3"
  },
  "language_info": {
   "codemirror_mode": {
    "name": "ipython",
    "version": 3
   },
   "file_extension": ".py",
   "mimetype": "text/x-python",
   "name": "python",
   "nbconvert_exporter": "python",
   "pygments_lexer": "ipython3",
   "version": "3.10.2"
  }
 },
 "nbformat": 4,
 "nbformat_minor": 5
}
